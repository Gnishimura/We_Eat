{
 "cells": [
  {
   "cell_type": "code",
   "execution_count": 94,
   "metadata": {},
   "outputs": [],
   "source": [
    "from build_database import (default_params, load_api_key, make_request,\n",
    "                            build_database, add_to_database_if_new, retrieve_database,\n",
    "                           )\n",
    "\n",
    "from clean_database import (clean_cats, separate_coords, change_price_nulls,\n",
    "                           dummify_price, drop_unnecessaries)\n",
    "\n",
    "from pymongo import MongoClient\n",
    "import pandas as pd\n",
    "from PIL import Image\n",
    "import urllib.request, io\n",
    "\n",
    "from IPython.display import Image, display\n",
    "from IPython.core.display import HTML \n",
    "\n",
    "import matplotlib.pyplot as plt\n",
    "%matplotlib inline"
   ]
  },
  {
   "cell_type": "code",
   "execution_count": 6,
   "metadata": {},
   "outputs": [],
   "source": [
    "# client = MongoClient()\n",
    "we_eat_client = MongoClient()\n",
    "\n",
    "# create Mongo database and collection\n",
    "we_eat_db = we_eat_client['we_eat']\n",
    "restaurant_collection = we_eat_db['restaurants']"
   ]
  },
  {
   "cell_type": "code",
   "execution_count": 15,
   "metadata": {},
   "outputs": [
    {
     "name": "stdout",
     "output_type": "stream",
     "text": [
      "1\n",
      "51\n",
      "101\n",
      "151\n",
      "201\n",
      "251\n",
      "301\n",
      "351\n",
      "401\n",
      "451\n",
      "501\n",
      "551\n",
      "601\n",
      "651\n",
      "701\n",
      "751\n",
      "801\n",
      "851\n",
      "901\n",
      "951\n",
      "No businesses returned\n"
     ]
    }
   ],
   "source": [
    "rest_db = build_database()\n",
    "mile_from_galvanize = retrieve_database()"
   ]
  },
  {
   "cell_type": "code",
   "execution_count": 8,
   "metadata": {},
   "outputs": [
    {
     "name": "stdout",
     "output_type": "stream",
     "text": [
      "<class 'pandas.core.frame.DataFrame'>\n",
      "RangeIndex: 1393 entries, 0 to 1392\n",
      "Data columns (total 17 columns):\n",
      "_id              1393 non-null object\n",
      "alias            1393 non-null object\n",
      "categories       1393 non-null object\n",
      "coordinates      1393 non-null object\n",
      "display_phone    1393 non-null object\n",
      "distance         1393 non-null float64\n",
      "id               1393 non-null object\n",
      "image_url        1393 non-null object\n",
      "is_closed        1393 non-null bool\n",
      "location         1393 non-null object\n",
      "name             1393 non-null object\n",
      "phone            1393 non-null object\n",
      "price            1234 non-null object\n",
      "rating           1393 non-null float64\n",
      "review_count     1393 non-null int64\n",
      "transactions     1393 non-null object\n",
      "url              1393 non-null object\n",
      "dtypes: bool(1), float64(2), int64(1), object(13)\n",
      "memory usage: 175.6+ KB\n"
     ]
    }
   ],
   "source": [
    "mile_from_galvanize.info()"
   ]
  },
  {
   "cell_type": "code",
   "execution_count": 21,
   "metadata": {},
   "outputs": [],
   "source": [
    "mile_from_galvanize['cats'] = mile_from_galvanize['categories'].apply(clean_cats)"
   ]
  },
  {
   "cell_type": "code",
   "execution_count": 17,
   "metadata": {},
   "outputs": [],
   "source": [
    "mile_from_galvanize['lats'], mile_from_galvanize['longs'] = separate_coords(mile_from_galvanize)"
   ]
  },
  {
   "cell_type": "code",
   "execution_count": 18,
   "metadata": {
    "collapsed": true
   },
   "outputs": [],
   "source": [
    "change_price_nulls(mile_from_galvanize)"
   ]
  },
  {
   "cell_type": "code",
   "execution_count": 34,
   "metadata": {
    "collapsed": true
   },
   "outputs": [],
   "source": [
    "dummify_price(mile_from_galvanize)"
   ]
  },
  {
   "cell_type": "code",
   "execution_count": 35,
   "metadata": {},
   "outputs": [
    {
     "name": "stdout",
     "output_type": "stream",
     "text": [
      "<class 'pandas.core.frame.DataFrame'>\n",
      "RangeIndex: 1393 entries, 0 to 1392\n",
      "Data columns (total 24 columns):\n",
      "_id              1393 non-null object\n",
      "alias            1393 non-null object\n",
      "categories       1393 non-null object\n",
      "coordinates      1393 non-null object\n",
      "display_phone    1393 non-null object\n",
      "distance         1393 non-null float64\n",
      "id               1393 non-null object\n",
      "image_url        1393 non-null object\n",
      "is_closed        1393 non-null bool\n",
      "location         1393 non-null object\n",
      "name             1393 non-null object\n",
      "phone            1393 non-null object\n",
      "price            1393 non-null object\n",
      "rating           1393 non-null float64\n",
      "review_count     1393 non-null int64\n",
      "transactions     1393 non-null object\n",
      "url              1393 non-null object\n",
      "lats             1393 non-null float64\n",
      "longs            1393 non-null float64\n",
      "cats             1393 non-null object\n",
      "$                1393 non-null int64\n",
      "$$               1393 non-null int64\n",
      "$$$              1393 non-null int64\n",
      "$$$$             1393 non-null int64\n",
      "dtypes: bool(1), float64(4), int64(5), object(14)\n",
      "memory usage: 251.7+ KB\n"
     ]
    }
   ],
   "source": [
    "mile_from_galvanize.info()"
   ]
  },
  {
   "cell_type": "code",
   "execution_count": 36,
   "metadata": {},
   "outputs": [
    {
     "name": "stderr",
     "output_type": "stream",
     "text": [
      "/Users/gnishimura/anaconda/lib/python3.6/site-packages/pandas/core/frame.py:3697: SettingWithCopyWarning: \n",
      "A value is trying to be set on a copy of a slice from a DataFrame\n",
      "\n",
      "See the caveats in the documentation: http://pandas.pydata.org/pandas-docs/stable/indexing.html#indexing-view-versus-copy\n",
      "  errors=errors)\n"
     ]
    }
   ],
   "source": [
    "mile_from_galvanize_copy = drop_unnecessaries(mile_from_galvanize)"
   ]
  },
  {
   "cell_type": "code",
   "execution_count": 43,
   "metadata": {},
   "outputs": [
    {
     "name": "stdout",
     "output_type": "stream",
     "text": [
      "<class 'pandas.core.frame.DataFrame'>\n",
      "Int64Index: 1392 entries, 0 to 1392\n",
      "Data columns (total 16 columns):\n",
      "alias           1392 non-null object\n",
      "distance        1392 non-null float64\n",
      "id              1392 non-null object\n",
      "image_url       1392 non-null object\n",
      "location        1392 non-null object\n",
      "rating          1392 non-null float64\n",
      "review_count    1392 non-null int64\n",
      "transactions    1392 non-null object\n",
      "url             1392 non-null object\n",
      "lats            1392 non-null float64\n",
      "longs           1392 non-null float64\n",
      "cats            1392 non-null object\n",
      "$               1392 non-null int64\n",
      "$$              1392 non-null int64\n",
      "$$$             1392 non-null int64\n",
      "$$$$            1392 non-null int64\n",
      "dtypes: float64(4), int64(5), object(7)\n",
      "memory usage: 224.9+ KB\n"
     ]
    }
   ],
   "source": [
    "mile_from_galvanize_copy.info()"
   ]
  },
  {
   "cell_type": "code",
   "execution_count": null,
   "metadata": {},
   "outputs": [],
   "source": []
  },
  {
   "cell_type": "code",
   "execution_count": 80,
   "metadata": {},
   "outputs": [
    {
     "data": {
      "text/html": [
       "<img src=\"https://s3-media2.fl.yelpcdn.com/bphoto/AWnFc14yCFfvfhBe634UuQ/o.jpg\" width=\"100\" height=\"100\"/>"
      ],
      "text/plain": [
       "<IPython.core.display.Image object>"
      ]
     },
     "execution_count": 80,
     "metadata": {},
     "output_type": "execute_result"
    }
   ],
   "source": [
    "URL = mile_from_galvanize_copy['image_url'][10]\n",
    "Image(url=URL, width=100, height=100)"
   ]
  },
  {
   "cell_type": "code",
   "execution_count": 98,
   "metadata": {},
   "outputs": [
    {
     "data": {
      "text/html": [
       "<img src=\"https://s3-media1.fl.yelpcdn.com/bphoto/fDQhxwNfEpcWOO_F811Lww/o.jpg\" width=\"100\" height=\"100\"/>"
      ],
      "text/plain": [
       "<IPython.core.display.Image object>"
      ]
     },
     "metadata": {},
     "output_type": "display_data"
    },
    {
     "data": {
      "text/html": [
       "<img src=\"https://s3-media1.fl.yelpcdn.com/bphoto/c_vzRF4h3ywnyeM116QFuA/o.jpg\" width=\"100\" height=\"100\"/>"
      ],
      "text/plain": [
       "<IPython.core.display.Image object>"
      ]
     },
     "metadata": {},
     "output_type": "display_data"
    },
    {
     "data": {
      "text/html": [
       "<img src=\"https://s3-media3.fl.yelpcdn.com/bphoto/LVSEXbNmlsi7s2az_3RKWg/o.jpg\" width=\"100\" height=\"100\"/>"
      ],
      "text/plain": [
       "<IPython.core.display.Image object>"
      ]
     },
     "metadata": {},
     "output_type": "display_data"
    },
    {
     "data": {
      "text/html": [
       "<img src=\"https://s3-media1.fl.yelpcdn.com/bphoto/1GpjX0chDFtVKWqYTxLzzQ/o.jpg\" width=\"100\" height=\"100\"/>"
      ],
      "text/plain": [
       "<IPython.core.display.Image object>"
      ]
     },
     "metadata": {},
     "output_type": "display_data"
    },
    {
     "data": {
      "text/html": [
       "<img src=\"https://s3-media3.fl.yelpcdn.com/bphoto/ijju-wYoRAxWjHPTCxyQGQ/o.jpg\" width=\"100\" height=\"100\"/>"
      ],
      "text/plain": [
       "<IPython.core.display.Image object>"
      ]
     },
     "metadata": {},
     "output_type": "display_data"
    },
    {
     "data": {
      "text/html": [
       "<img src=\"https://s3-media4.fl.yelpcdn.com/bphoto/WUnigNI9n5Gdpw4qdyOSyw/o.jpg\" width=\"100\" height=\"100\"/>"
      ],
      "text/plain": [
       "<IPython.core.display.Image object>"
      ]
     },
     "metadata": {},
     "output_type": "display_data"
    },
    {
     "data": {
      "text/html": [
       "<img src=\"https://s3-media1.fl.yelpcdn.com/bphoto/DqP1nz--zc8j4brCA_FeuQ/o.jpg\" width=\"100\" height=\"100\"/>"
      ],
      "text/plain": [
       "<IPython.core.display.Image object>"
      ]
     },
     "metadata": {},
     "output_type": "display_data"
    },
    {
     "data": {
      "text/html": [
       "<img src=\"https://s3-media3.fl.yelpcdn.com/bphoto/r6mFftGhUVvZjSu67PwSVg/o.jpg\" width=\"100\" height=\"100\"/>"
      ],
      "text/plain": [
       "<IPython.core.display.Image object>"
      ]
     },
     "metadata": {},
     "output_type": "display_data"
    },
    {
     "data": {
      "text/html": [
       "<img src=\"https://s3-media2.fl.yelpcdn.com/bphoto/he49IR0G1wrjO1WI-fxkAg/o.jpg\" width=\"100\" height=\"100\"/>"
      ],
      "text/plain": [
       "<IPython.core.display.Image object>"
      ]
     },
     "metadata": {},
     "output_type": "display_data"
    },
    {
     "data": {
      "text/html": [
       "<img src=\"https://s3-media3.fl.yelpcdn.com/bphoto/Am6AabmBhkHHqrGRSg2clQ/o.jpg\" width=\"100\" height=\"100\"/>"
      ],
      "text/plain": [
       "<IPython.core.display.Image object>"
      ]
     },
     "metadata": {},
     "output_type": "display_data"
    }
   ],
   "source": [
    "for row in mile_from_galvanize_copy['image_url'][:10]:\n",
    "    display(Image(url=row, width=100, height=100)) "
   ]
  },
  {
   "cell_type": "code",
   "execution_count": null,
   "metadata": {
    "collapsed": true
   },
   "outputs": [],
   "source": []
  },
  {
   "cell_type": "code",
   "execution_count": 103,
   "metadata": {},
   "outputs": [
    {
     "data": {
      "text/plain": [
       "['convenience', 'salad', 'sandwiches']"
      ]
     },
     "execution_count": 103,
     "metadata": {},
     "output_type": "execute_result"
    }
   ],
   "source": [
    "mile_from_galvanize_copy['cats'][0].split(',')"
   ]
  },
  {
   "cell_type": "code",
   "execution_count": 117,
   "metadata": {},
   "outputs": [],
   "source": [
    "from collections import Counter\n",
    "\n",
    "\n",
    "def cat_counts(categories):\n",
    "    cat_dict = Counter()\n",
    "    for row in categories:\n",
    "        temp = row.split(',')\n",
    "        for cat in temp:\n",
    "            cat_dict[cat] += 1\n",
    "    return cat_dict\n",
    "        \n",
    "    "
   ]
  },
  {
   "cell_type": "code",
   "execution_count": 119,
   "metadata": {},
   "outputs": [],
   "source": [
    "cat_counts = cat_counts(mile_from_galvanize_copy['cats'])"
   ]
  },
  {
   "cell_type": "code",
   "execution_count": 120,
   "metadata": {},
   "outputs": [
    {
     "data": {
      "text/plain": [
       "[('sandwiches', 187),\n",
       " ('newamerican', 142),\n",
       " ('breakfast_brunch', 140),\n",
       " ('bars', 109),\n",
       " ('seafood', 101),\n",
       " ('cafes', 98),\n",
       " ('tradamerican', 95),\n",
       " ('cocktailbars', 81),\n",
       " ('mexican', 72),\n",
       " ('hotdogs', 70),\n",
       " ('pizza', 69),\n",
       " ('salad', 66),\n",
       " ('coffee', 66),\n",
       " ('japanese', 62),\n",
       " ('foodtrucks', 62),\n",
       " ('italian', 61),\n",
       " ('delis', 60),\n",
       " ('noodles', 57),\n",
       " ('vietnamese', 56),\n",
       " ('asianfusion', 51),\n",
       " ('burgers', 50),\n",
       " ('sushi', 49),\n",
       " ('bakeries', 49),\n",
       " ('chinese', 48),\n",
       " ('thai', 46),\n",
       " ('korean', 44),\n",
       " ('foodstands', 40),\n",
       " ('mediterranean', 39),\n",
       " ('bbq', 37),\n",
       " ('tapasmallplates', 32),\n",
       " ('desserts', 29),\n",
       " ('wine_bars', 27),\n",
       " ('soup', 24),\n",
       " ('hotdog', 24),\n",
       " ('indpak', 23),\n",
       " ('hawaiian', 22),\n",
       " ('cantonese', 21),\n",
       " ('pubs', 21),\n",
       " ('steak', 20),\n",
       " ('poke', 19),\n",
       " ('french', 19),\n",
       " ('sportsbars', 18),\n",
       " ('dimsum', 17),\n",
       " ('lounges', 16),\n",
       " ('vegetarian', 16),\n",
       " ('juicebars', 15),\n",
       " ('vegan', 15),\n",
       " ('beerbar', 15),\n",
       " ('venues', 14),\n",
       " ('tacos', 14),\n",
       " ('diners', 14),\n",
       " ('chicken_wings', 13),\n",
       " ('chickenshop', 13),\n",
       " ('ethiopian', 13),\n",
       " ('catering', 13),\n",
       " ('buffets', 12),\n",
       " ('fishnchips', 12),\n",
       " ('gluten_free', 12),\n",
       " ('greek', 12),\n",
       " ('taiwanese', 12),\n",
       " ('ramen', 12),\n",
       " ('mideastern', 12),\n",
       " ('southern', 11),\n",
       " ('hotpot', 11),\n",
       " ('comfortfood', 10),\n",
       " ('gastropubs', 10),\n",
       " ('german', 10),\n",
       " ('izakaya', 10),\n",
       " ('tapas', 10),\n",
       " ('raw_food', 9),\n",
       " ('grocery', 9),\n",
       " ('halal', 9),\n",
       " ('spanish', 9),\n",
       " ('streetvendors', 9),\n",
       " ('latin', 8),\n",
       " ('turkish', 8),\n",
       " ('wraps', 8),\n",
       " ('caribbean', 8),\n",
       " ('cakeshop', 8),\n",
       " ('convenience', 7),\n",
       " ('hkcafe', 7),\n",
       " ('russian', 7),\n",
       " ('waffles', 7),\n",
       " ('szechuan', 7),\n",
       " ('breweries', 7),\n",
       " ('bagels', 7),\n",
       " ('beer_and_wine', 7),\n",
       " ('divebars', 7),\n",
       " ('meats', 6),\n",
       " ('food_court', 6),\n",
       " ('modern_european', 6),\n",
       " ('restaurants', 6),\n",
       " ('cheesesteaks', 5),\n",
       " ('irish_pubs', 5),\n",
       " ('filipino', 5),\n",
       " ('musicvenues', 5),\n",
       " ('donuts', 5),\n",
       " ('british', 5),\n",
       " ('icecream', 5),\n",
       " ('creperies', 5),\n",
       " ('tex-mex', 5),\n",
       " ('shanghainese', 4),\n",
       " ('lebanese', 4),\n",
       " ('cajun', 4),\n",
       " ('soulfood', 4),\n",
       " ('peruvian', 4),\n",
       " ('brewpubs', 4),\n",
       " ('persian', 3),\n",
       " ('argentine', 3),\n",
       " ('laotian', 3),\n",
       " ('cuban', 3),\n",
       " ('falafel', 3),\n",
       " ('panasian', 3),\n",
       " ('beergardens', 3),\n",
       " ('himalayan', 3),\n",
       " ('speakeasies', 3),\n",
       " ('empanadas', 3),\n",
       " ('newmexican', 3),\n",
       " ('moroccan', 3),\n",
       " ('pastashops', 3),\n",
       " ('cafeteria', 3),\n",
       " ('irish', 3),\n",
       " ('gourmet', 3),\n",
       " ('popuprestaurants', 3),\n",
       " ('gaybars', 3),\n",
       " ('malaysian', 2),\n",
       " ('teppanyaki', 2),\n",
       " ('bike_repair_maintenance', 2),\n",
       " ('basque', 2),\n",
       " ('polish', 2),\n",
       " ('bubbletea', 2),\n",
       " ('bikes', 2),\n",
       " ('australian', 2),\n",
       " ('themedcafes', 2),\n",
       " ('japacurry', 2),\n",
       " ('pakistani', 2),\n",
       " ('seafoodmarkets', 2),\n",
       " ('karaoke', 2),\n",
       " ('importedfood', 2),\n",
       " ('dinnertheater', 2),\n",
       " ('kebab', 2),\n",
       " ('healthmarkets', 2),\n",
       " ('danceclubs', 2),\n",
       " ('theater', 2),\n",
       " ('candy', 2),\n",
       " ('venezuelan', 2),\n",
       " ('trinidadian', 2),\n",
       " ('gelato', 2),\n",
       " ('african', 2),\n",
       " ('scandinavian', 2),\n",
       " ('florists', 1),\n",
       " ('dominican', 1),\n",
       " ('sports_clubs', 1),\n",
       " ('syrian', 1),\n",
       " ('observatories', 1),\n",
       " ('butcher', 1),\n",
       " ('mongolian', 1),\n",
       " ('cheese', 1),\n",
       " ('brazilian', 1),\n",
       " ('ukrainian', 1),\n",
       " ('artmuseums', 1),\n",
       " ('portuguese', 1),\n",
       " ('tea', 1),\n",
       " ('brasseries', 1),\n",
       " ('vinyl_records', 1),\n",
       " ('sicilian', 1),\n",
       " ('cabaret', 1),\n",
       " ('smokehouse', 1),\n",
       " ('culturalcenter', 1),\n",
       " ('acaibowls', 1),\n",
       " ('cideries', 1),\n",
       " ('macarons', 1),\n",
       " ('interiordesign', 1),\n",
       " ('scottish', 1),\n",
       " ('whiskeybars', 1),\n",
       " ('shopping', 1),\n",
       " ('propertymgmt', 1),\n",
       " ('coffeeroasteries', 1),\n",
       " ('outlet_stores', 1),\n",
       " ('healthtrainers', 1),\n",
       " ('indonesian', 1),\n",
       " ('winetasteclasses', 1),\n",
       " ('supperclubs', 1),\n",
       " ('galleries', 1),\n",
       " ('giftshops', 1),\n",
       " ('jazzandblues', 1),\n",
       " ('movietheaters', 1),\n",
       " ('conveyorsushi', 1),\n",
       " ('catalan', 1),\n",
       " ('southafrican', 1),\n",
       " ('hair', 1),\n",
       " ('communitycenters', 1),\n",
       " ('tuscan', 1),\n",
       " ('senegalese', 1),\n",
       " ('bookstores', 1),\n",
       " ('egyptian', 1),\n",
       " ('comedyclubs', 1),\n",
       " ('flowers', 1)]"
      ]
     },
     "execution_count": 120,
     "metadata": {},
     "output_type": "execute_result"
    }
   ],
   "source": [
    "cat_counts.most_common()"
   ]
  },
  {
   "cell_type": "code",
   "execution_count": 122,
   "metadata": {},
   "outputs": [
    {
     "data": {
      "text/html": [
       "<div>\n",
       "<style scoped>\n",
       "    .dataframe tbody tr th:only-of-type {\n",
       "        vertical-align: middle;\n",
       "    }\n",
       "\n",
       "    .dataframe tbody tr th {\n",
       "        vertical-align: top;\n",
       "    }\n",
       "\n",
       "    .dataframe thead th {\n",
       "        text-align: right;\n",
       "    }\n",
       "</style>\n",
       "<table border=\"1\" class=\"dataframe\">\n",
       "  <thead>\n",
       "    <tr style=\"text-align: right;\">\n",
       "      <th></th>\n",
       "      <th>alias</th>\n",
       "      <th>distance</th>\n",
       "      <th>id</th>\n",
       "      <th>image_url</th>\n",
       "      <th>location</th>\n",
       "      <th>rating</th>\n",
       "      <th>review_count</th>\n",
       "      <th>transactions</th>\n",
       "      <th>url</th>\n",
       "      <th>lats</th>\n",
       "      <th>longs</th>\n",
       "      <th>cats</th>\n",
       "      <th>$</th>\n",
       "      <th>$$</th>\n",
       "      <th>$$$</th>\n",
       "      <th>$$$$</th>\n",
       "    </tr>\n",
       "  </thead>\n",
       "  <tbody>\n",
       "    <tr>\n",
       "      <th>124</th>\n",
       "      <td>waz-seattle</td>\n",
       "      <td>2202.835120</td>\n",
       "      <td>E5rQ6F0Te5X6wahbmZYG-A</td>\n",
       "      <td>https://s3-media2.fl.yelpcdn.com/bphoto/JcD1R3...</td>\n",
       "      <td>{'address1': '411 Cedar St', 'address2': '', '...</td>\n",
       "      <td>4.5</td>\n",
       "      <td>38</td>\n",
       "      <td>[]</td>\n",
       "      <td>https://www.yelp.com/biz/waz-seattle?adjust_cr...</td>\n",
       "      <td>47.617950</td>\n",
       "      <td>-122.347410</td>\n",
       "      <td>japanese</td>\n",
       "      <td>0</td>\n",
       "      <td>0</td>\n",
       "      <td>0</td>\n",
       "      <td>1</td>\n",
       "    </tr>\n",
       "    <tr>\n",
       "      <th>413</th>\n",
       "      <td>yoshino-teriyaki-seattle</td>\n",
       "      <td>831.388238</td>\n",
       "      <td>1IMivcKgsN8xUL5dFKQK3w</td>\n",
       "      <td>https://s3-media2.fl.yelpcdn.com/bphoto/xIpZHN...</td>\n",
       "      <td>{'address1': '1010 Madison St', 'address2': ''...</td>\n",
       "      <td>3.5</td>\n",
       "      <td>98</td>\n",
       "      <td>[]</td>\n",
       "      <td>https://www.yelp.com/biz/yoshino-teriyaki-seat...</td>\n",
       "      <td>47.609120</td>\n",
       "      <td>-122.325980</td>\n",
       "      <td>japanese</td>\n",
       "      <td>1</td>\n",
       "      <td>0</td>\n",
       "      <td>0</td>\n",
       "      <td>0</td>\n",
       "    </tr>\n",
       "    <tr>\n",
       "      <th>430</th>\n",
       "      <td>moons-kitchen-seattle</td>\n",
       "      <td>1734.622633</td>\n",
       "      <td>V-9omrfHu047xTxGQdZjaA</td>\n",
       "      <td>https://s3-media4.fl.yelpcdn.com/bphoto/YbqJid...</td>\n",
       "      <td>{'address1': '2211 4th Ave', 'address2': None,...</td>\n",
       "      <td>4.0</td>\n",
       "      <td>122</td>\n",
       "      <td>[pickup, delivery]</td>\n",
       "      <td>https://www.yelp.com/biz/moons-kitchen-seattle...</td>\n",
       "      <td>47.614710</td>\n",
       "      <td>-122.343240</td>\n",
       "      <td>japanese</td>\n",
       "      <td>0</td>\n",
       "      <td>1</td>\n",
       "      <td>0</td>\n",
       "      <td>0</td>\n",
       "    </tr>\n",
       "    <tr>\n",
       "      <th>517</th>\n",
       "      <td>toshios-teriyaki-seattle</td>\n",
       "      <td>2393.798333</td>\n",
       "      <td>O0aWEb3FURE4tp_wTptl7A</td>\n",
       "      <td>https://s3-media3.fl.yelpcdn.com/bphoto/cvtCSq...</td>\n",
       "      <td>{'address1': '1706 Rainier Ave S', 'address2':...</td>\n",
       "      <td>3.5</td>\n",
       "      <td>235</td>\n",
       "      <td>[]</td>\n",
       "      <td>https://www.yelp.com/biz/toshios-teriyaki-seat...</td>\n",
       "      <td>47.588197</td>\n",
       "      <td>-122.305400</td>\n",
       "      <td>japanese</td>\n",
       "      <td>1</td>\n",
       "      <td>0</td>\n",
       "      <td>0</td>\n",
       "      <td>0</td>\n",
       "    </tr>\n",
       "    <tr>\n",
       "      <th>632</th>\n",
       "      <td>teriyaki-madness-seattle-2</td>\n",
       "      <td>2261.085847</td>\n",
       "      <td>D7WJbzrceBpp0Qryuj6R3g</td>\n",
       "      <td>https://s3-media4.fl.yelpcdn.com/bphoto/osE0dp...</td>\n",
       "      <td>{'address1': '111 15th Ave E', 'address2': '',...</td>\n",
       "      <td>3.5</td>\n",
       "      <td>97</td>\n",
       "      <td>[]</td>\n",
       "      <td>https://www.yelp.com/biz/teriyaki-madness-seat...</td>\n",
       "      <td>47.618870</td>\n",
       "      <td>-122.312870</td>\n",
       "      <td>japanese</td>\n",
       "      <td>1</td>\n",
       "      <td>0</td>\n",
       "      <td>0</td>\n",
       "      <td>0</td>\n",
       "    </tr>\n",
       "    <tr>\n",
       "      <th>937</th>\n",
       "      <td>happy-teriyaki-seattle-2</td>\n",
       "      <td>402.160617</td>\n",
       "      <td>pkvL5-UFixhWiEm8xdMJrA</td>\n",
       "      <td>https://s3-media1.fl.yelpcdn.com/bphoto/r9OjYw...</td>\n",
       "      <td>{'address1': '823 3rd Ave', 'address2': 'Ste 1...</td>\n",
       "      <td>2.5</td>\n",
       "      <td>44</td>\n",
       "      <td>[pickup, delivery]</td>\n",
       "      <td>https://www.yelp.com/biz/happy-teriyaki-seattl...</td>\n",
       "      <td>47.604591</td>\n",
       "      <td>-122.333366</td>\n",
       "      <td>japanese</td>\n",
       "      <td>1</td>\n",
       "      <td>0</td>\n",
       "      <td>0</td>\n",
       "      <td>0</td>\n",
       "    </tr>\n",
       "    <tr>\n",
       "      <th>1284</th>\n",
       "      <td>seattles-best-teriyaki-seattle-2</td>\n",
       "      <td>2097.202439</td>\n",
       "      <td>CBP2EQvP6RrPqYaUJG5bkw</td>\n",
       "      <td>https://s3-media2.fl.yelpcdn.com/bphoto/fRkKum...</td>\n",
       "      <td>{'address1': '2445 4th Ave S', 'address2': '',...</td>\n",
       "      <td>3.5</td>\n",
       "      <td>61</td>\n",
       "      <td>[pickup]</td>\n",
       "      <td>https://www.yelp.com/biz/seattles-best-teriyak...</td>\n",
       "      <td>47.580480</td>\n",
       "      <td>-122.329560</td>\n",
       "      <td>japanese</td>\n",
       "      <td>1</td>\n",
       "      <td>0</td>\n",
       "      <td>0</td>\n",
       "      <td>0</td>\n",
       "    </tr>\n",
       "  </tbody>\n",
       "</table>\n",
       "</div>"
      ],
      "text/plain": [
       "                                 alias     distance                      id  \\\n",
       "124                        waz-seattle  2202.835120  E5rQ6F0Te5X6wahbmZYG-A   \n",
       "413           yoshino-teriyaki-seattle   831.388238  1IMivcKgsN8xUL5dFKQK3w   \n",
       "430              moons-kitchen-seattle  1734.622633  V-9omrfHu047xTxGQdZjaA   \n",
       "517           toshios-teriyaki-seattle  2393.798333  O0aWEb3FURE4tp_wTptl7A   \n",
       "632         teriyaki-madness-seattle-2  2261.085847  D7WJbzrceBpp0Qryuj6R3g   \n",
       "937           happy-teriyaki-seattle-2   402.160617  pkvL5-UFixhWiEm8xdMJrA   \n",
       "1284  seattles-best-teriyaki-seattle-2  2097.202439  CBP2EQvP6RrPqYaUJG5bkw   \n",
       "\n",
       "                                              image_url  \\\n",
       "124   https://s3-media2.fl.yelpcdn.com/bphoto/JcD1R3...   \n",
       "413   https://s3-media2.fl.yelpcdn.com/bphoto/xIpZHN...   \n",
       "430   https://s3-media4.fl.yelpcdn.com/bphoto/YbqJid...   \n",
       "517   https://s3-media3.fl.yelpcdn.com/bphoto/cvtCSq...   \n",
       "632   https://s3-media4.fl.yelpcdn.com/bphoto/osE0dp...   \n",
       "937   https://s3-media1.fl.yelpcdn.com/bphoto/r9OjYw...   \n",
       "1284  https://s3-media2.fl.yelpcdn.com/bphoto/fRkKum...   \n",
       "\n",
       "                                               location  rating  review_count  \\\n",
       "124   {'address1': '411 Cedar St', 'address2': '', '...     4.5            38   \n",
       "413   {'address1': '1010 Madison St', 'address2': ''...     3.5            98   \n",
       "430   {'address1': '2211 4th Ave', 'address2': None,...     4.0           122   \n",
       "517   {'address1': '1706 Rainier Ave S', 'address2':...     3.5           235   \n",
       "632   {'address1': '111 15th Ave E', 'address2': '',...     3.5            97   \n",
       "937   {'address1': '823 3rd Ave', 'address2': 'Ste 1...     2.5            44   \n",
       "1284  {'address1': '2445 4th Ave S', 'address2': '',...     3.5            61   \n",
       "\n",
       "            transactions                                                url  \\\n",
       "124                   []  https://www.yelp.com/biz/waz-seattle?adjust_cr...   \n",
       "413                   []  https://www.yelp.com/biz/yoshino-teriyaki-seat...   \n",
       "430   [pickup, delivery]  https://www.yelp.com/biz/moons-kitchen-seattle...   \n",
       "517                   []  https://www.yelp.com/biz/toshios-teriyaki-seat...   \n",
       "632                   []  https://www.yelp.com/biz/teriyaki-madness-seat...   \n",
       "937   [pickup, delivery]  https://www.yelp.com/biz/happy-teriyaki-seattl...   \n",
       "1284            [pickup]  https://www.yelp.com/biz/seattles-best-teriyak...   \n",
       "\n",
       "           lats       longs      cats  $  $$  $$$  $$$$  \n",
       "124   47.617950 -122.347410  japanese  0   0    0     1  \n",
       "413   47.609120 -122.325980  japanese  1   0    0     0  \n",
       "430   47.614710 -122.343240  japanese  0   1    0     0  \n",
       "517   47.588197 -122.305400  japanese  1   0    0     0  \n",
       "632   47.618870 -122.312870  japanese  1   0    0     0  \n",
       "937   47.604591 -122.333366  japanese  1   0    0     0  \n",
       "1284  47.580480 -122.329560  japanese  1   0    0     0  "
      ]
     },
     "execution_count": 122,
     "metadata": {},
     "output_type": "execute_result"
    }
   ],
   "source": [
    "mile_from_galvanize_copy[mile_from_galvanize_copy['cats']=='japanese']"
   ]
  },
  {
   "cell_type": "code",
   "execution_count": null,
   "metadata": {
    "collapsed": true
   },
   "outputs": [],
   "source": []
  },
  {
   "cell_type": "code",
   "execution_count": 123,
   "metadata": {},
   "outputs": [
    {
     "ename": "ModuleNotFoundError",
     "evalue": "No module named 'geopy'",
     "output_type": "error",
     "traceback": [
      "\u001b[0;31m---------------------------------------------------------------------------\u001b[0m",
      "\u001b[0;31mModuleNotFoundError\u001b[0m                       Traceback (most recent call last)",
      "\u001b[0;32m<ipython-input-123-7756fb1c7fe7>\u001b[0m in \u001b[0;36m<module>\u001b[0;34m()\u001b[0m\n\u001b[0;32m----> 1\u001b[0;31m \u001b[0;32mimport\u001b[0m \u001b[0mgeopy\u001b[0m\u001b[0;34m.\u001b[0m\u001b[0mdistance\u001b[0m\u001b[0;34m\u001b[0m\u001b[0m\n\u001b[0m",
      "\u001b[0;31mModuleNotFoundError\u001b[0m: No module named 'geopy'"
     ]
    }
   ],
   "source": [
    "import geopy.distance"
   ]
  },
  {
   "cell_type": "code",
   "execution_count": null,
   "metadata": {
    "collapsed": true
   },
   "outputs": [],
   "source": []
  },
  {
   "cell_type": "code",
   "execution_count": null,
   "metadata": {
    "collapsed": true
   },
   "outputs": [],
   "source": []
  }
 ],
 "metadata": {
  "kernelspec": {
   "display_name": "Python 3",
   "language": "python",
   "name": "python3"
  },
  "language_info": {
   "codemirror_mode": {
    "name": "ipython",
    "version": 3
   },
   "file_extension": ".py",
   "mimetype": "text/x-python",
   "name": "python",
   "nbconvert_exporter": "python",
   "pygments_lexer": "ipython3",
   "version": "3.6.6"
  }
 },
 "nbformat": 4,
 "nbformat_minor": 2
}
