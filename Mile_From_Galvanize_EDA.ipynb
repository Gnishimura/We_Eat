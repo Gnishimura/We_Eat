{
 "cells": [
  {
   "cell_type": "code",
   "execution_count": 689,
   "metadata": {},
   "outputs": [],
   "source": [
    "from build_database import (default_params, load_api_key, make_request,\n",
    "                            build_database, add_to_database_if_new, retrieve_database,\n",
    "                           )\n",
    "\n",
    "from clean_database import (clean_cats, separate_coords, change_price_nulls,\n",
    "                           dummify_price, drop_unnecessaries)\n",
    "\n",
    "from pymongo import MongoClient\n",
    "import pandas as pd\n",
    "\n",
    "\n",
    "from IPython.display import Image, display\n",
    "from IPython.core.display import HTML \n",
    "\n",
    "import matplotlib.pyplot as plt\n",
    "%matplotlib inline"
   ]
  },
  {
   "cell_type": "code",
   "execution_count": 6,
   "metadata": {},
   "outputs": [],
   "source": [
    "# client = MongoClient()\n",
    "we_eat_client = MongoClient()\n",
    "\n",
    "# create Mongo database and collection\n",
    "we_eat_db = we_eat_client['we_eat']\n",
    "restaurant_collection = we_eat_db['restaurants']"
   ]
  },
  {
   "cell_type": "code",
   "execution_count": 15,
   "metadata": {},
   "outputs": [
    {
     "name": "stdout",
     "output_type": "stream",
     "text": [
      "1\n",
      "51\n",
      "101\n",
      "151\n",
      "201\n",
      "251\n",
      "301\n",
      "351\n",
      "401\n",
      "451\n",
      "501\n",
      "551\n",
      "601\n",
      "651\n",
      "701\n",
      "751\n",
      "801\n",
      "851\n",
      "901\n",
      "951\n",
      "No businesses returned\n"
     ]
    }
   ],
   "source": [
    "rest_db = build_database()\n",
    "mile_from_galvanize = retrieve_database()"
   ]
  },
  {
   "cell_type": "code",
   "execution_count": 8,
   "metadata": {},
   "outputs": [
    {
     "name": "stdout",
     "output_type": "stream",
     "text": [
      "<class 'pandas.core.frame.DataFrame'>\n",
      "RangeIndex: 1393 entries, 0 to 1392\n",
      "Data columns (total 17 columns):\n",
      "_id              1393 non-null object\n",
      "alias            1393 non-null object\n",
      "categories       1393 non-null object\n",
      "coordinates      1393 non-null object\n",
      "display_phone    1393 non-null object\n",
      "distance         1393 non-null float64\n",
      "id               1393 non-null object\n",
      "image_url        1393 non-null object\n",
      "is_closed        1393 non-null bool\n",
      "location         1393 non-null object\n",
      "name             1393 non-null object\n",
      "phone            1393 non-null object\n",
      "price            1234 non-null object\n",
      "rating           1393 non-null float64\n",
      "review_count     1393 non-null int64\n",
      "transactions     1393 non-null object\n",
      "url              1393 non-null object\n",
      "dtypes: bool(1), float64(2), int64(1), object(13)\n",
      "memory usage: 175.6+ KB\n"
     ]
    }
   ],
   "source": [
    "mile_from_galvanize.info()"
   ]
  },
  {
   "cell_type": "code",
   "execution_count": 21,
   "metadata": {},
   "outputs": [],
   "source": [
    "mile_from_galvanize['cats'] = mile_from_galvanize['categories'].apply(clean_cats)"
   ]
  },
  {
   "cell_type": "code",
   "execution_count": 17,
   "metadata": {},
   "outputs": [],
   "source": [
    "mile_from_galvanize['lats'], mile_from_galvanize['longs'] = separate_coords(mile_from_galvanize)"
   ]
  },
  {
   "cell_type": "code",
   "execution_count": 18,
   "metadata": {
    "collapsed": true
   },
   "outputs": [],
   "source": [
    "change_price_nulls(mile_from_galvanize)"
   ]
  },
  {
   "cell_type": "code",
   "execution_count": 34,
   "metadata": {
    "collapsed": true
   },
   "outputs": [],
   "source": [
    "dummify_price(mile_from_galvanize)"
   ]
  },
  {
   "cell_type": "code",
   "execution_count": 473,
   "metadata": {},
   "outputs": [
    {
     "data": {
      "text/html": [
       "<div>\n",
       "<style scoped>\n",
       "    .dataframe tbody tr th:only-of-type {\n",
       "        vertical-align: middle;\n",
       "    }\n",
       "\n",
       "    .dataframe tbody tr th {\n",
       "        vertical-align: top;\n",
       "    }\n",
       "\n",
       "    .dataframe thead th {\n",
       "        text-align: right;\n",
       "    }\n",
       "</style>\n",
       "<table border=\"1\" class=\"dataframe\">\n",
       "  <thead>\n",
       "    <tr style=\"text-align: right;\">\n",
       "      <th></th>\n",
       "      <th>_id</th>\n",
       "      <th>alias</th>\n",
       "      <th>categories</th>\n",
       "      <th>coordinates</th>\n",
       "      <th>display_phone</th>\n",
       "      <th>distance</th>\n",
       "      <th>id</th>\n",
       "      <th>image_url</th>\n",
       "      <th>is_closed</th>\n",
       "      <th>location</th>\n",
       "      <th>...</th>\n",
       "      <th>review_count</th>\n",
       "      <th>transactions</th>\n",
       "      <th>url</th>\n",
       "      <th>lats</th>\n",
       "      <th>longs</th>\n",
       "      <th>cats</th>\n",
       "      <th>$</th>\n",
       "      <th>$$</th>\n",
       "      <th>$$$</th>\n",
       "      <th>$$$$</th>\n",
       "    </tr>\n",
       "  </thead>\n",
       "  <tbody>\n",
       "    <tr>\n",
       "      <th>0</th>\n",
       "      <td>5bf5e06f91d56f59f158cfa4</td>\n",
       "      <td>amazon-go-seattle-5</td>\n",
       "      <td>[{'alias': 'convenience', 'title': 'Convenienc...</td>\n",
       "      <td>{'latitude': 47.60638, 'longitude': -122.33122}</td>\n",
       "      <td></td>\n",
       "      <td>493.410866</td>\n",
       "      <td>XDfmz7Woxx6NkZDGBtAVAQ</td>\n",
       "      <td>https://s3-media1.fl.yelpcdn.com/bphoto/fDQhxw...</td>\n",
       "      <td>False</td>\n",
       "      <td>{'address1': '920 5th Ave', 'address2': None, ...</td>\n",
       "      <td>...</td>\n",
       "      <td>7</td>\n",
       "      <td>[]</td>\n",
       "      <td>https://www.yelp.com/biz/amazon-go-seattle-5?a...</td>\n",
       "      <td>47.60638</td>\n",
       "      <td>-122.33122</td>\n",
       "      <td>convenience,salad,sandwiches</td>\n",
       "      <td>0</td>\n",
       "      <td>1</td>\n",
       "      <td>0</td>\n",
       "      <td>0</td>\n",
       "    </tr>\n",
       "    <tr>\n",
       "      <th>1</th>\n",
       "      <td>5bf5e06f91d56f59f158cfa5</td>\n",
       "      <td>the-pink-door-seattle-4</td>\n",
       "      <td>[{'alias': 'italian', 'title': 'Italian'}, {'a...</td>\n",
       "      <td>{'latitude': 47.61028, 'longitude': -122.3425}</td>\n",
       "      <td>(206) 443-3241</td>\n",
       "      <td>1327.897033</td>\n",
       "      <td>VOPdG8llLPaga9iJxXcMuQ</td>\n",
       "      <td>https://s3-media1.fl.yelpcdn.com/bphoto/c_vzRF...</td>\n",
       "      <td>False</td>\n",
       "      <td>{'address1': '1919 Post Alley', 'address2': ''...</td>\n",
       "      <td>...</td>\n",
       "      <td>4019</td>\n",
       "      <td>[]</td>\n",
       "      <td>https://www.yelp.com/biz/the-pink-door-seattle...</td>\n",
       "      <td>47.61028</td>\n",
       "      <td>-122.34250</td>\n",
       "      <td>italian,wine_bars,seafood</td>\n",
       "      <td>0</td>\n",
       "      <td>1</td>\n",
       "      <td>0</td>\n",
       "      <td>0</td>\n",
       "    </tr>\n",
       "    <tr>\n",
       "      <th>2</th>\n",
       "      <td>5bf5e06f91d56f59f158cfa6</td>\n",
       "      <td>nirmals-seattle</td>\n",
       "      <td>[{'alias': 'indpak', 'title': 'Indian'}]</td>\n",
       "      <td>{'latitude': 47.60147, 'longitude': -122.33262}</td>\n",
       "      <td>(206) 683-9701</td>\n",
       "      <td>228.364627</td>\n",
       "      <td>GXz21OgpWOtnCF0GDXHPhA</td>\n",
       "      <td>https://s3-media3.fl.yelpcdn.com/bphoto/LVSEXb...</td>\n",
       "      <td>False</td>\n",
       "      <td>{'address1': '106 Occidental Ave S', 'address2...</td>\n",
       "      <td>...</td>\n",
       "      <td>424</td>\n",
       "      <td>[restaurant_reservation, pickup]</td>\n",
       "      <td>https://www.yelp.com/biz/nirmals-seattle?adjus...</td>\n",
       "      <td>47.60147</td>\n",
       "      <td>-122.33262</td>\n",
       "      <td>indpak</td>\n",
       "      <td>0</td>\n",
       "      <td>1</td>\n",
       "      <td>0</td>\n",
       "      <td>0</td>\n",
       "    </tr>\n",
       "    <tr>\n",
       "      <th>3</th>\n",
       "      <td>5bf5e06f91d56f59f158cfa7</td>\n",
       "      <td>bad-bishop-seattle</td>\n",
       "      <td>[{'alias': 'cocktailbars', 'title': 'Cocktail ...</td>\n",
       "      <td>{'latitude': 47.60286, 'longitude': -122.33427}</td>\n",
       "      <td>(206) 623-3440</td>\n",
       "      <td>344.167932</td>\n",
       "      <td>KFMsgY5mV_wCYsa0XX_hEQ</td>\n",
       "      <td>https://s3-media1.fl.yelpcdn.com/bphoto/1GpjX0...</td>\n",
       "      <td>False</td>\n",
       "      <td>{'address1': '704 1st Ave', 'address2': None, ...</td>\n",
       "      <td>...</td>\n",
       "      <td>6</td>\n",
       "      <td>[]</td>\n",
       "      <td>https://www.yelp.com/biz/bad-bishop-seattle?ad...</td>\n",
       "      <td>47.60286</td>\n",
       "      <td>-122.33427</td>\n",
       "      <td>cocktailbars,comfortfood</td>\n",
       "      <td>0</td>\n",
       "      <td>1</td>\n",
       "      <td>0</td>\n",
       "      <td>0</td>\n",
       "    </tr>\n",
       "    <tr>\n",
       "      <th>4</th>\n",
       "      <td>5bf5e06f91d56f59f158cfa8</td>\n",
       "      <td>pike-place-chowder-seattle</td>\n",
       "      <td>[{'alias': 'seafood', 'title': 'Seafood'}, {'a...</td>\n",
       "      <td>{'latitude': 47.60939, 'longitude': -122.34112}</td>\n",
       "      <td>(206) 267-2537</td>\n",
       "      <td>1176.460907</td>\n",
       "      <td>6I28wDuMBR5WLMqfKxaoeg</td>\n",
       "      <td>https://s3-media3.fl.yelpcdn.com/bphoto/ijju-w...</td>\n",
       "      <td>False</td>\n",
       "      <td>{'address1': '1530 Post Aly', 'address2': 'Ste...</td>\n",
       "      <td>...</td>\n",
       "      <td>6317</td>\n",
       "      <td>[pickup]</td>\n",
       "      <td>https://www.yelp.com/biz/pike-place-chowder-se...</td>\n",
       "      <td>47.60939</td>\n",
       "      <td>-122.34112</td>\n",
       "      <td>seafood,soup</td>\n",
       "      <td>0</td>\n",
       "      <td>1</td>\n",
       "      <td>0</td>\n",
       "      <td>0</td>\n",
       "    </tr>\n",
       "  </tbody>\n",
       "</table>\n",
       "<p>5 rows × 24 columns</p>\n",
       "</div>"
      ],
      "text/plain": [
       "                        _id                       alias  \\\n",
       "0  5bf5e06f91d56f59f158cfa4         amazon-go-seattle-5   \n",
       "1  5bf5e06f91d56f59f158cfa5     the-pink-door-seattle-4   \n",
       "2  5bf5e06f91d56f59f158cfa6             nirmals-seattle   \n",
       "3  5bf5e06f91d56f59f158cfa7          bad-bishop-seattle   \n",
       "4  5bf5e06f91d56f59f158cfa8  pike-place-chowder-seattle   \n",
       "\n",
       "                                          categories  \\\n",
       "0  [{'alias': 'convenience', 'title': 'Convenienc...   \n",
       "1  [{'alias': 'italian', 'title': 'Italian'}, {'a...   \n",
       "2           [{'alias': 'indpak', 'title': 'Indian'}]   \n",
       "3  [{'alias': 'cocktailbars', 'title': 'Cocktail ...   \n",
       "4  [{'alias': 'seafood', 'title': 'Seafood'}, {'a...   \n",
       "\n",
       "                                       coordinates   display_phone  \\\n",
       "0  {'latitude': 47.60638, 'longitude': -122.33122}                   \n",
       "1   {'latitude': 47.61028, 'longitude': -122.3425}  (206) 443-3241   \n",
       "2  {'latitude': 47.60147, 'longitude': -122.33262}  (206) 683-9701   \n",
       "3  {'latitude': 47.60286, 'longitude': -122.33427}  (206) 623-3440   \n",
       "4  {'latitude': 47.60939, 'longitude': -122.34112}  (206) 267-2537   \n",
       "\n",
       "      distance                      id  \\\n",
       "0   493.410866  XDfmz7Woxx6NkZDGBtAVAQ   \n",
       "1  1327.897033  VOPdG8llLPaga9iJxXcMuQ   \n",
       "2   228.364627  GXz21OgpWOtnCF0GDXHPhA   \n",
       "3   344.167932  KFMsgY5mV_wCYsa0XX_hEQ   \n",
       "4  1176.460907  6I28wDuMBR5WLMqfKxaoeg   \n",
       "\n",
       "                                           image_url  is_closed  \\\n",
       "0  https://s3-media1.fl.yelpcdn.com/bphoto/fDQhxw...      False   \n",
       "1  https://s3-media1.fl.yelpcdn.com/bphoto/c_vzRF...      False   \n",
       "2  https://s3-media3.fl.yelpcdn.com/bphoto/LVSEXb...      False   \n",
       "3  https://s3-media1.fl.yelpcdn.com/bphoto/1GpjX0...      False   \n",
       "4  https://s3-media3.fl.yelpcdn.com/bphoto/ijju-w...      False   \n",
       "\n",
       "                                            location ...  review_count  \\\n",
       "0  {'address1': '920 5th Ave', 'address2': None, ... ...             7   \n",
       "1  {'address1': '1919 Post Alley', 'address2': ''... ...          4019   \n",
       "2  {'address1': '106 Occidental Ave S', 'address2... ...           424   \n",
       "3  {'address1': '704 1st Ave', 'address2': None, ... ...             6   \n",
       "4  {'address1': '1530 Post Aly', 'address2': 'Ste... ...          6317   \n",
       "\n",
       "                       transactions  \\\n",
       "0                                []   \n",
       "1                                []   \n",
       "2  [restaurant_reservation, pickup]   \n",
       "3                                []   \n",
       "4                          [pickup]   \n",
       "\n",
       "                                                 url      lats      longs  \\\n",
       "0  https://www.yelp.com/biz/amazon-go-seattle-5?a...  47.60638 -122.33122   \n",
       "1  https://www.yelp.com/biz/the-pink-door-seattle...  47.61028 -122.34250   \n",
       "2  https://www.yelp.com/biz/nirmals-seattle?adjus...  47.60147 -122.33262   \n",
       "3  https://www.yelp.com/biz/bad-bishop-seattle?ad...  47.60286 -122.33427   \n",
       "4  https://www.yelp.com/biz/pike-place-chowder-se...  47.60939 -122.34112   \n",
       "\n",
       "                           cats  $  $$  $$$ $$$$  \n",
       "0  convenience,salad,sandwiches  0   1    0    0  \n",
       "1     italian,wine_bars,seafood  0   1    0    0  \n",
       "2                        indpak  0   1    0    0  \n",
       "3      cocktailbars,comfortfood  0   1    0    0  \n",
       "4                  seafood,soup  0   1    0    0  \n",
       "\n",
       "[5 rows x 24 columns]"
      ]
     },
     "execution_count": 473,
     "metadata": {},
     "output_type": "execute_result"
    }
   ],
   "source": [
    "mile_from_galvanize.head()"
   ]
  },
  {
   "cell_type": "code",
   "execution_count": 36,
   "metadata": {},
   "outputs": [
    {
     "name": "stderr",
     "output_type": "stream",
     "text": [
      "/Users/gnishimura/anaconda/lib/python3.6/site-packages/pandas/core/frame.py:3697: SettingWithCopyWarning: \n",
      "A value is trying to be set on a copy of a slice from a DataFrame\n",
      "\n",
      "See the caveats in the documentation: http://pandas.pydata.org/pandas-docs/stable/indexing.html#indexing-view-versus-copy\n",
      "  errors=errors)\n"
     ]
    }
   ],
   "source": [
    "mile_from_galvanize_copy = drop_unnecessaries(mile_from_galvanize)"
   ]
  },
  {
   "cell_type": "code",
   "execution_count": 43,
   "metadata": {},
   "outputs": [
    {
     "name": "stdout",
     "output_type": "stream",
     "text": [
      "<class 'pandas.core.frame.DataFrame'>\n",
      "Int64Index: 1392 entries, 0 to 1392\n",
      "Data columns (total 16 columns):\n",
      "alias           1392 non-null object\n",
      "distance        1392 non-null float64\n",
      "id              1392 non-null object\n",
      "image_url       1392 non-null object\n",
      "location        1392 non-null object\n",
      "rating          1392 non-null float64\n",
      "review_count    1392 non-null int64\n",
      "transactions    1392 non-null object\n",
      "url             1392 non-null object\n",
      "lats            1392 non-null float64\n",
      "longs           1392 non-null float64\n",
      "cats            1392 non-null object\n",
      "$               1392 non-null int64\n",
      "$$              1392 non-null int64\n",
      "$$$             1392 non-null int64\n",
      "$$$$            1392 non-null int64\n",
      "dtypes: float64(4), int64(5), object(7)\n",
      "memory usage: 224.9+ KB\n"
     ]
    }
   ],
   "source": [
    "mile_from_galvanize_copy.info()"
   ]
  },
  {
   "cell_type": "code",
   "execution_count": null,
   "metadata": {},
   "outputs": [],
   "source": []
  },
  {
   "cell_type": "code",
   "execution_count": 80,
   "metadata": {},
   "outputs": [
    {
     "data": {
      "text/html": [
       "<img src=\"https://s3-media2.fl.yelpcdn.com/bphoto/AWnFc14yCFfvfhBe634UuQ/o.jpg\" width=\"100\" height=\"100\"/>"
      ],
      "text/plain": [
       "<IPython.core.display.Image object>"
      ]
     },
     "execution_count": 80,
     "metadata": {},
     "output_type": "execute_result"
    }
   ],
   "source": [
    "URL = mile_from_galvanize_copy['image_url'][10]\n",
    "Image(url=URL, width=100, height=100)"
   ]
  },
  {
   "cell_type": "code",
   "execution_count": 98,
   "metadata": {},
   "outputs": [
    {
     "data": {
      "text/html": [
       "<img src=\"https://s3-media1.fl.yelpcdn.com/bphoto/fDQhxwNfEpcWOO_F811Lww/o.jpg\" width=\"100\" height=\"100\"/>"
      ],
      "text/plain": [
       "<IPython.core.display.Image object>"
      ]
     },
     "metadata": {},
     "output_type": "display_data"
    },
    {
     "data": {
      "text/html": [
       "<img src=\"https://s3-media1.fl.yelpcdn.com/bphoto/c_vzRF4h3ywnyeM116QFuA/o.jpg\" width=\"100\" height=\"100\"/>"
      ],
      "text/plain": [
       "<IPython.core.display.Image object>"
      ]
     },
     "metadata": {},
     "output_type": "display_data"
    },
    {
     "data": {
      "text/html": [
       "<img src=\"https://s3-media3.fl.yelpcdn.com/bphoto/LVSEXbNmlsi7s2az_3RKWg/o.jpg\" width=\"100\" height=\"100\"/>"
      ],
      "text/plain": [
       "<IPython.core.display.Image object>"
      ]
     },
     "metadata": {},
     "output_type": "display_data"
    },
    {
     "data": {
      "text/html": [
       "<img src=\"https://s3-media1.fl.yelpcdn.com/bphoto/1GpjX0chDFtVKWqYTxLzzQ/o.jpg\" width=\"100\" height=\"100\"/>"
      ],
      "text/plain": [
       "<IPython.core.display.Image object>"
      ]
     },
     "metadata": {},
     "output_type": "display_data"
    },
    {
     "data": {
      "text/html": [
       "<img src=\"https://s3-media3.fl.yelpcdn.com/bphoto/ijju-wYoRAxWjHPTCxyQGQ/o.jpg\" width=\"100\" height=\"100\"/>"
      ],
      "text/plain": [
       "<IPython.core.display.Image object>"
      ]
     },
     "metadata": {},
     "output_type": "display_data"
    },
    {
     "data": {
      "text/html": [
       "<img src=\"https://s3-media4.fl.yelpcdn.com/bphoto/WUnigNI9n5Gdpw4qdyOSyw/o.jpg\" width=\"100\" height=\"100\"/>"
      ],
      "text/plain": [
       "<IPython.core.display.Image object>"
      ]
     },
     "metadata": {},
     "output_type": "display_data"
    },
    {
     "data": {
      "text/html": [
       "<img src=\"https://s3-media1.fl.yelpcdn.com/bphoto/DqP1nz--zc8j4brCA_FeuQ/o.jpg\" width=\"100\" height=\"100\"/>"
      ],
      "text/plain": [
       "<IPython.core.display.Image object>"
      ]
     },
     "metadata": {},
     "output_type": "display_data"
    },
    {
     "data": {
      "text/html": [
       "<img src=\"https://s3-media3.fl.yelpcdn.com/bphoto/r6mFftGhUVvZjSu67PwSVg/o.jpg\" width=\"100\" height=\"100\"/>"
      ],
      "text/plain": [
       "<IPython.core.display.Image object>"
      ]
     },
     "metadata": {},
     "output_type": "display_data"
    },
    {
     "data": {
      "text/html": [
       "<img src=\"https://s3-media2.fl.yelpcdn.com/bphoto/he49IR0G1wrjO1WI-fxkAg/o.jpg\" width=\"100\" height=\"100\"/>"
      ],
      "text/plain": [
       "<IPython.core.display.Image object>"
      ]
     },
     "metadata": {},
     "output_type": "display_data"
    },
    {
     "data": {
      "text/html": [
       "<img src=\"https://s3-media3.fl.yelpcdn.com/bphoto/Am6AabmBhkHHqrGRSg2clQ/o.jpg\" width=\"100\" height=\"100\"/>"
      ],
      "text/plain": [
       "<IPython.core.display.Image object>"
      ]
     },
     "metadata": {},
     "output_type": "display_data"
    }
   ],
   "source": [
    "for row in mile_from_galvanize_copy['image_url'][:10]:\n",
    "    display(Image(url=row, width=100, height=100)) "
   ]
  },
  {
   "cell_type": "code",
   "execution_count": null,
   "metadata": {
    "collapsed": true
   },
   "outputs": [],
   "source": []
  },
  {
   "cell_type": "code",
   "execution_count": 103,
   "metadata": {},
   "outputs": [
    {
     "data": {
      "text/plain": [
       "['convenience', 'salad', 'sandwiches']"
      ]
     },
     "execution_count": 103,
     "metadata": {},
     "output_type": "execute_result"
    }
   ],
   "source": [
    "mile_from_galvanize_copy['cats'][0].split(',')"
   ]
  },
  {
   "cell_type": "code",
   "execution_count": 117,
   "metadata": {},
   "outputs": [],
   "source": [
    "from collections import Counter\n",
    "\n",
    "\n",
    "def cat_counts(categories):\n",
    "    cat_dict = Counter()\n",
    "    for row in categories:\n",
    "        temp = row.split(',')\n",
    "        for cat in temp:\n",
    "            cat_dict[cat] += 1\n",
    "    return cat_dict\n",
    "        \n",
    "    "
   ]
  },
  {
   "cell_type": "code",
   "execution_count": 119,
   "metadata": {},
   "outputs": [],
   "source": [
    "cat_counts = cat_counts(mile_from_galvanize_copy['cats'])"
   ]
  },
  {
   "cell_type": "code",
   "execution_count": 120,
   "metadata": {},
   "outputs": [
    {
     "data": {
      "text/plain": [
       "[('sandwiches', 187),\n",
       " ('newamerican', 142),\n",
       " ('breakfast_brunch', 140),\n",
       " ('bars', 109),\n",
       " ('seafood', 101),\n",
       " ('cafes', 98),\n",
       " ('tradamerican', 95),\n",
       " ('cocktailbars', 81),\n",
       " ('mexican', 72),\n",
       " ('hotdogs', 70),\n",
       " ('pizza', 69),\n",
       " ('salad', 66),\n",
       " ('coffee', 66),\n",
       " ('japanese', 62),\n",
       " ('foodtrucks', 62),\n",
       " ('italian', 61),\n",
       " ('delis', 60),\n",
       " ('noodles', 57),\n",
       " ('vietnamese', 56),\n",
       " ('asianfusion', 51),\n",
       " ('burgers', 50),\n",
       " ('sushi', 49),\n",
       " ('bakeries', 49),\n",
       " ('chinese', 48),\n",
       " ('thai', 46),\n",
       " ('korean', 44),\n",
       " ('foodstands', 40),\n",
       " ('mediterranean', 39),\n",
       " ('bbq', 37),\n",
       " ('tapasmallplates', 32),\n",
       " ('desserts', 29),\n",
       " ('wine_bars', 27),\n",
       " ('soup', 24),\n",
       " ('hotdog', 24),\n",
       " ('indpak', 23),\n",
       " ('hawaiian', 22),\n",
       " ('cantonese', 21),\n",
       " ('pubs', 21),\n",
       " ('steak', 20),\n",
       " ('poke', 19),\n",
       " ('french', 19),\n",
       " ('sportsbars', 18),\n",
       " ('dimsum', 17),\n",
       " ('lounges', 16),\n",
       " ('vegetarian', 16),\n",
       " ('juicebars', 15),\n",
       " ('vegan', 15),\n",
       " ('beerbar', 15),\n",
       " ('venues', 14),\n",
       " ('tacos', 14),\n",
       " ('diners', 14),\n",
       " ('chicken_wings', 13),\n",
       " ('chickenshop', 13),\n",
       " ('ethiopian', 13),\n",
       " ('catering', 13),\n",
       " ('buffets', 12),\n",
       " ('fishnchips', 12),\n",
       " ('gluten_free', 12),\n",
       " ('greek', 12),\n",
       " ('taiwanese', 12),\n",
       " ('ramen', 12),\n",
       " ('mideastern', 12),\n",
       " ('southern', 11),\n",
       " ('hotpot', 11),\n",
       " ('comfortfood', 10),\n",
       " ('gastropubs', 10),\n",
       " ('german', 10),\n",
       " ('izakaya', 10),\n",
       " ('tapas', 10),\n",
       " ('raw_food', 9),\n",
       " ('grocery', 9),\n",
       " ('halal', 9),\n",
       " ('spanish', 9),\n",
       " ('streetvendors', 9),\n",
       " ('latin', 8),\n",
       " ('turkish', 8),\n",
       " ('wraps', 8),\n",
       " ('caribbean', 8),\n",
       " ('cakeshop', 8),\n",
       " ('convenience', 7),\n",
       " ('hkcafe', 7),\n",
       " ('russian', 7),\n",
       " ('waffles', 7),\n",
       " ('szechuan', 7),\n",
       " ('breweries', 7),\n",
       " ('bagels', 7),\n",
       " ('beer_and_wine', 7),\n",
       " ('divebars', 7),\n",
       " ('meats', 6),\n",
       " ('food_court', 6),\n",
       " ('modern_european', 6),\n",
       " ('restaurants', 6),\n",
       " ('cheesesteaks', 5),\n",
       " ('irish_pubs', 5),\n",
       " ('filipino', 5),\n",
       " ('musicvenues', 5),\n",
       " ('donuts', 5),\n",
       " ('british', 5),\n",
       " ('icecream', 5),\n",
       " ('creperies', 5),\n",
       " ('tex-mex', 5),\n",
       " ('shanghainese', 4),\n",
       " ('lebanese', 4),\n",
       " ('cajun', 4),\n",
       " ('soulfood', 4),\n",
       " ('peruvian', 4),\n",
       " ('brewpubs', 4),\n",
       " ('persian', 3),\n",
       " ('argentine', 3),\n",
       " ('laotian', 3),\n",
       " ('cuban', 3),\n",
       " ('falafel', 3),\n",
       " ('panasian', 3),\n",
       " ('beergardens', 3),\n",
       " ('himalayan', 3),\n",
       " ('speakeasies', 3),\n",
       " ('empanadas', 3),\n",
       " ('newmexican', 3),\n",
       " ('moroccan', 3),\n",
       " ('pastashops', 3),\n",
       " ('cafeteria', 3),\n",
       " ('irish', 3),\n",
       " ('gourmet', 3),\n",
       " ('popuprestaurants', 3),\n",
       " ('gaybars', 3),\n",
       " ('malaysian', 2),\n",
       " ('teppanyaki', 2),\n",
       " ('bike_repair_maintenance', 2),\n",
       " ('basque', 2),\n",
       " ('polish', 2),\n",
       " ('bubbletea', 2),\n",
       " ('bikes', 2),\n",
       " ('australian', 2),\n",
       " ('themedcafes', 2),\n",
       " ('japacurry', 2),\n",
       " ('pakistani', 2),\n",
       " ('seafoodmarkets', 2),\n",
       " ('karaoke', 2),\n",
       " ('importedfood', 2),\n",
       " ('dinnertheater', 2),\n",
       " ('kebab', 2),\n",
       " ('healthmarkets', 2),\n",
       " ('danceclubs', 2),\n",
       " ('theater', 2),\n",
       " ('candy', 2),\n",
       " ('venezuelan', 2),\n",
       " ('trinidadian', 2),\n",
       " ('gelato', 2),\n",
       " ('african', 2),\n",
       " ('scandinavian', 2),\n",
       " ('florists', 1),\n",
       " ('dominican', 1),\n",
       " ('sports_clubs', 1),\n",
       " ('syrian', 1),\n",
       " ('observatories', 1),\n",
       " ('butcher', 1),\n",
       " ('mongolian', 1),\n",
       " ('cheese', 1),\n",
       " ('brazilian', 1),\n",
       " ('ukrainian', 1),\n",
       " ('artmuseums', 1),\n",
       " ('portuguese', 1),\n",
       " ('tea', 1),\n",
       " ('brasseries', 1),\n",
       " ('vinyl_records', 1),\n",
       " ('sicilian', 1),\n",
       " ('cabaret', 1),\n",
       " ('smokehouse', 1),\n",
       " ('culturalcenter', 1),\n",
       " ('acaibowls', 1),\n",
       " ('cideries', 1),\n",
       " ('macarons', 1),\n",
       " ('interiordesign', 1),\n",
       " ('scottish', 1),\n",
       " ('whiskeybars', 1),\n",
       " ('shopping', 1),\n",
       " ('propertymgmt', 1),\n",
       " ('coffeeroasteries', 1),\n",
       " ('outlet_stores', 1),\n",
       " ('healthtrainers', 1),\n",
       " ('indonesian', 1),\n",
       " ('winetasteclasses', 1),\n",
       " ('supperclubs', 1),\n",
       " ('galleries', 1),\n",
       " ('giftshops', 1),\n",
       " ('jazzandblues', 1),\n",
       " ('movietheaters', 1),\n",
       " ('conveyorsushi', 1),\n",
       " ('catalan', 1),\n",
       " ('southafrican', 1),\n",
       " ('hair', 1),\n",
       " ('communitycenters', 1),\n",
       " ('tuscan', 1),\n",
       " ('senegalese', 1),\n",
       " ('bookstores', 1),\n",
       " ('egyptian', 1),\n",
       " ('comedyclubs', 1),\n",
       " ('flowers', 1)]"
      ]
     },
     "execution_count": 120,
     "metadata": {},
     "output_type": "execute_result"
    }
   ],
   "source": [
    "cat_counts.most_common()"
   ]
  },
  {
   "cell_type": "code",
   "execution_count": 193,
   "metadata": {},
   "outputs": [
    {
     "data": {
      "text/plain": [
       "0    convenience,salad,sandwiches\n",
       "1       italian,wine_bars,seafood\n",
       "2                          indpak\n",
       "3        cocktailbars,comfortfood\n",
       "4                    seafood,soup\n",
       "Name: cats, dtype: object"
      ]
     },
     "execution_count": 193,
     "metadata": {},
     "output_type": "execute_result"
    }
   ],
   "source": [
    "mile_from_galvanize_copy['cats'].head()"
   ]
  },
  {
   "cell_type": "code",
   "execution_count": 128,
   "metadata": {},
   "outputs": [
    {
     "data": {
      "text/plain": [
       "Index(['alias', 'distance', 'id', 'image_url', 'location', 'rating',\n",
       "       'review_count', 'transactions', 'url', 'lats', 'longs', 'cats', '$',\n",
       "       '$$', '$$$', '$$$$'],\n",
       "      dtype='object')"
      ]
     },
     "execution_count": 128,
     "metadata": {},
     "output_type": "execute_result"
    }
   ],
   "source": [
    "mile_from_galvanize_copy.columns"
   ]
  },
  {
   "cell_type": "code",
   "execution_count": 185,
   "metadata": {
    "collapsed": true
   },
   "outputs": [],
   "source": [
    "def dummy_cats(df, unique_cats):\n",
    "    dummy_df = pd.DataFrame(columns=unique_cats, index=df['id'])\n",
    "    for restaurant in df['cats']:\n",
    "        temp = row.split(',')\n",
    "        for category in temp:\n",
    "            dummy_df[category]\n",
    "    return dummy_df"
   ]
  },
  {
   "cell_type": "code",
   "execution_count": 197,
   "metadata": {},
   "outputs": [],
   "source": [
    "unique_cats = list(cat_counts.keys())"
   ]
  },
  {
   "cell_type": "code",
   "execution_count": 199,
   "metadata": {
    "scrolled": false
   },
   "outputs": [],
   "source": [
    "cats_series = pd.Series(unique_cats)"
   ]
  },
  {
   "cell_type": "code",
   "execution_count": 202,
   "metadata": {},
   "outputs": [],
   "source": [
    "cats_series.to_csv('categories.csv', index=False)"
   ]
  },
  {
   "cell_type": "code",
   "execution_count": 211,
   "metadata": {
    "collapsed": true
   },
   "outputs": [],
   "source": [
    "categories_col = mile_from_galvanize_copy['cats']"
   ]
  },
  {
   "cell_type": "code",
   "execution_count": 397,
   "metadata": {},
   "outputs": [],
   "source": [
    "#categories_col.str.split(',')"
   ]
  },
  {
   "cell_type": "code",
   "execution_count": 223,
   "metadata": {
    "collapsed": true
   },
   "outputs": [],
   "source": [
    "def load_categories():\n",
    "    with open('categories.csv') as f:\n",
    "        categories = [cat.strip() for cat in f.readlines()]\n",
    "    return categories\n",
    "\n",
    "categories = load_categories()\n",
    "\n",
    "def get_category_dummies(categories_col, categories=categories):\n",
    "    \"\"\"Return a DataFrame of dummy columns for the categories specified.\"\"\"\n",
    "    cat_list_col = categories_col.str.split(',')\n",
    "    df = pd.DataFrame(index=categories_col.index)\n",
    "    for cat in categories:\n",
    "        df['category_' + cat] = cat_list_col.apply(lambda cats: cat in cats).astype(int)\n",
    "    \n",
    "    return df\n",
    "\n",
    "        \n",
    "        "
   ]
  },
  {
   "cell_type": "code",
   "execution_count": 339,
   "metadata": {},
   "outputs": [],
   "source": [
    "def prune_rare_cats(df):\n",
    "    new_df = df.copy()\n",
    "    categories = []\n",
    "    [categories.append(item) for item in list(df.columns) if 'category_' in item]       \n",
    "   \n",
    "    [new_df.drop(columns=category, inplace=True) for category in categories if df[category].sum() < 5]\n",
    "    \n",
    "    return new_df"
   ]
  },
  {
   "cell_type": "code",
   "execution_count": 326,
   "metadata": {},
   "outputs": [
    {
     "name": "stdout",
     "output_type": "stream",
     "text": [
      "<class 'pandas.core.frame.DataFrame'>\n",
      "Int64Index: 1392 entries, 0 to 1392\n",
      "Columns: 198 entries, category_convenience to category_flowers\n",
      "dtypes: int64(198)\n",
      "memory usage: 2.2 MB\n"
     ]
    }
   ],
   "source": [
    "dummies_df.info()"
   ]
  },
  {
   "cell_type": "code",
   "execution_count": 275,
   "metadata": {},
   "outputs": [],
   "source": [
    "dummies_df = get_category_dummies(mile_from_galvanize_copy['cats'])"
   ]
  },
  {
   "cell_type": "code",
   "execution_count": 276,
   "metadata": {},
   "outputs": [],
   "source": [
    "dummies_df_pruned = prune_rare_cats(dummies_df)"
   ]
  },
  {
   "cell_type": "code",
   "execution_count": 277,
   "metadata": {},
   "outputs": [
    {
     "name": "stdout",
     "output_type": "stream",
     "text": [
      "<class 'pandas.core.frame.DataFrame'>\n",
      "Int64Index: 1392 entries, 0 to 1392\n",
      "Columns: 101 entries, category_convenience to category_tex-mex\n",
      "dtypes: int64(101)\n",
      "memory usage: 1.1 MB\n"
     ]
    }
   ],
   "source": [
    "dummies_df_pruned.info()"
   ]
  },
  {
   "cell_type": "code",
   "execution_count": 264,
   "metadata": {},
   "outputs": [],
   "source": [
    "full_restaurant_df = pd.concat([mile_from_galvanize_copy, dummies_df_pruned], axis=1)"
   ]
  },
  {
   "cell_type": "code",
   "execution_count": 265,
   "metadata": {},
   "outputs": [
    {
     "name": "stdout",
     "output_type": "stream",
     "text": [
      "<class 'pandas.core.frame.DataFrame'>\n",
      "Int64Index: 1392 entries, 0 to 1392\n",
      "Columns: 117 entries, alias to category_tex-mex\n",
      "dtypes: float64(4), int64(106), object(7)\n",
      "memory usage: 1.3+ MB\n"
     ]
    }
   ],
   "source": [
    "full_restaurant_df.info()"
   ]
  },
  {
   "cell_type": "code",
   "execution_count": null,
   "metadata": {
    "collapsed": true
   },
   "outputs": [],
   "source": []
  },
  {
   "cell_type": "code",
   "execution_count": 542,
   "metadata": {
    "collapsed": true
   },
   "outputs": [],
   "source": [
    "top_ten_cats = ['category_sandwiches',\n",
    "'category_newamerican',\n",
    "'category_asianfusion',\n",
    "'category_pizza',\n",
    "'category_seafood',\n",
    "'category_salad',\n",
    "'category_mexican',\n",
    "'category_noodles',\n",
    "'category_mediterranean',\n",
    "'category_vegan']\n"
   ]
  },
  {
   "cell_type": "code",
   "execution_count": 543,
   "metadata": {},
   "outputs": [],
   "source": [
    "top_ten_df = full_restaurant_df[(full_restaurant_df['category_sandwiches']==1) | \n",
    "                   (full_restaurant_df['category_newamerican']==1) |\n",
    "                   (full_restaurant_df['category_asianfusion']==1) |\n",
    "                   (full_restaurant_df['category_pizza']==1) |\n",
    "                   (full_restaurant_df['category_seafood']==1) |\n",
    "                   (full_restaurant_df['category_salad']==1) |\n",
    "                   (full_restaurant_df['category_mexican']==1) |\n",
    "                   (full_restaurant_df['category_noodles']==1) |\n",
    "                   (full_restaurant_df['category_mediterranean']==1) |\n",
    "                   (full_restaurant_df['category_vegan']==1) \n",
    "                  ]"
   ]
  },
  {
   "cell_type": "code",
   "execution_count": 544,
   "metadata": {},
   "outputs": [
    {
     "name": "stdout",
     "output_type": "stream",
     "text": [
      "<class 'pandas.core.frame.DataFrame'>\n",
      "Int64Index: 708 entries, 0 to 1392\n",
      "Columns: 117 entries, alias to category_tex-mex\n",
      "dtypes: float64(4), int64(106), object(7)\n",
      "memory usage: 652.7+ KB\n"
     ]
    }
   ],
   "source": [
    "top_ten_df.info()"
   ]
  },
  {
   "cell_type": "code",
   "execution_count": 545,
   "metadata": {},
   "outputs": [],
   "source": [
    "top_ten_df_pruned = prune_rare_cats(top_ten_df)"
   ]
  },
  {
   "cell_type": "code",
   "execution_count": 395,
   "metadata": {},
   "outputs": [],
   "source": [
    "#top_ten_df_pruned.info()"
   ]
  },
  {
   "cell_type": "code",
   "execution_count": 546,
   "metadata": {
    "collapsed": true
   },
   "outputs": [],
   "source": [
    "def add_popularity(df):\n",
    "    \"\"\"Make a popularity column based on average rating multiplied by number of reviews\"\"\"\n",
    "    df['popularity'] = df['rating'] * df['review_count']\n",
    "    "
   ]
  },
  {
   "cell_type": "code",
   "execution_count": 547,
   "metadata": {
    "collapsed": true
   },
   "outputs": [],
   "source": [
    "add_popularity(top_ten_df_pruned)"
   ]
  },
  {
   "cell_type": "code",
   "execution_count": 548,
   "metadata": {},
   "outputs": [],
   "source": [
    "#top_ten_df_pruned.head()"
   ]
  },
  {
   "cell_type": "code",
   "execution_count": 549,
   "metadata": {},
   "outputs": [],
   "source": [
    "def find_most_popular(df, categories):\n",
    "    most_popular = []\n",
    "    for category in categories:\n",
    "        temp_df = df[df[category]==1]\n",
    "        most_popular.append(df.loc[temp_df['popularity'].idxmax()]['alias'])\n",
    "        print(f\"{category}:\".format(), df.loc[temp_df['popularity'].idxmax()]['alias'])\n",
    "    \n",
    "    return most_popular\n",
    "        "
   ]
  },
  {
   "cell_type": "code",
   "execution_count": 550,
   "metadata": {},
   "outputs": [
    {
     "name": "stdout",
     "output_type": "stream",
     "text": [
      "category_sandwiches: paseo-caribbean-food-fremont-seattle-2\n",
      "category_newamerican: local-360-seattle-2\n",
      "category_asianfusion: palisade-seattle\n",
      "category_pizza: serious-pie-seattle\n",
      "category_seafood: pike-place-chowder-seattle\n",
      "category_salad: 8oz-burger-and-co-seattle\n",
      "category_mexican: tacos-chukis-seattle\n",
      "category_noodles: tamarind-tree-seattle\n",
      "category_mediterranean: lola-seattle\n",
      "category_vegan: plum-bistro-seattle-2\n"
     ]
    }
   ],
   "source": [
    "most_popular = find_most_popular(top_ten_df_pruned, top_ten_cats)"
   ]
  },
  {
   "cell_type": "code",
   "execution_count": 551,
   "metadata": {},
   "outputs": [],
   "source": [
    "import numpy as np\n",
    "\n",
    "def get_urls(restaurants_list, df):\n",
    "    restaurant_aliases = np.array(restaurants_list)\n",
    "    urls = df.loc[df['alias'].isin(restaurant_aliases), 'image_url']\n",
    "    names = df.loc[df['alias'].isin(restaurant_aliases), 'alias']\n",
    "    return urls, names\n",
    "\n",
    "def display_pics(restaurants_list, df):\n",
    "    urls, names = get_urls(restaurants_list, df)\n",
    "    restaurant_names = dict(zip(names, urls))\n",
    "    for key, value in restaurant_names.items():\n",
    "        print(key)\n",
    "        display(Image(url=value, width=200, height=200))"
   ]
  },
  {
   "cell_type": "code",
   "execution_count": 690,
   "metadata": {},
   "outputs": [
    {
     "name": "stdout",
     "output_type": "stream",
     "text": [
      "pike-place-chowder-seattle\n"
     ]
    },
    {
     "data": {
      "text/html": [
       "<img src=\"https://s3-media3.fl.yelpcdn.com/bphoto/ijju-wYoRAxWjHPTCxyQGQ/o.jpg\" width=\"200\" height=\"200\"/>"
      ],
      "text/plain": [
       "<IPython.core.display.Image object>"
      ]
     },
     "metadata": {},
     "output_type": "display_data"
    },
    {
     "name": "stdout",
     "output_type": "stream",
     "text": [
      "tamarind-tree-seattle\n"
     ]
    },
    {
     "data": {
      "text/html": [
       "<img src=\"https://s3-media1.fl.yelpcdn.com/bphoto/1b10PuHwil788-XO1wAAFA/o.jpg\" width=\"200\" height=\"200\"/>"
      ],
      "text/plain": [
       "<IPython.core.display.Image object>"
      ]
     },
     "metadata": {},
     "output_type": "display_data"
    },
    {
     "name": "stdout",
     "output_type": "stream",
     "text": [
      "lola-seattle\n"
     ]
    },
    {
     "data": {
      "text/html": [
       "<img src=\"https://s3-media3.fl.yelpcdn.com/bphoto/vtO-PdCHCH5W3sefJRpEmw/o.jpg\" width=\"200\" height=\"200\"/>"
      ],
      "text/plain": [
       "<IPython.core.display.Image object>"
      ]
     },
     "metadata": {},
     "output_type": "display_data"
    },
    {
     "name": "stdout",
     "output_type": "stream",
     "text": [
      "local-360-seattle-2\n"
     ]
    },
    {
     "data": {
      "text/html": [
       "<img src=\"https://s3-media4.fl.yelpcdn.com/bphoto/gJ1jxdhVk9XtO0DRWlht0Q/o.jpg\" width=\"200\" height=\"200\"/>"
      ],
      "text/plain": [
       "<IPython.core.display.Image object>"
      ]
     },
     "metadata": {},
     "output_type": "display_data"
    },
    {
     "name": "stdout",
     "output_type": "stream",
     "text": [
      "serious-pie-seattle\n"
     ]
    },
    {
     "data": {
      "text/html": [
       "<img src=\"https://s3-media3.fl.yelpcdn.com/bphoto/K5cPEhf5ZLkujN73bBNleQ/o.jpg\" width=\"200\" height=\"200\"/>"
      ],
      "text/plain": [
       "<IPython.core.display.Image object>"
      ]
     },
     "metadata": {},
     "output_type": "display_data"
    },
    {
     "name": "stdout",
     "output_type": "stream",
     "text": [
      "8oz-burger-and-co-seattle\n"
     ]
    },
    {
     "data": {
      "text/html": [
       "<img src=\"https://s3-media3.fl.yelpcdn.com/bphoto/LnggdyxSd-aVe41dWJF2-Q/o.jpg\" width=\"200\" height=\"200\"/>"
      ],
      "text/plain": [
       "<IPython.core.display.Image object>"
      ]
     },
     "metadata": {},
     "output_type": "display_data"
    },
    {
     "name": "stdout",
     "output_type": "stream",
     "text": [
      "plum-bistro-seattle-2\n"
     ]
    },
    {
     "data": {
      "text/html": [
       "<img src=\"https://s3-media2.fl.yelpcdn.com/bphoto/hK8Fe2jmnSVzUHRf_PQDNw/o.jpg\" width=\"200\" height=\"200\"/>"
      ],
      "text/plain": [
       "<IPython.core.display.Image object>"
      ]
     },
     "metadata": {},
     "output_type": "display_data"
    },
    {
     "name": "stdout",
     "output_type": "stream",
     "text": [
      "tacos-chukis-seattle\n"
     ]
    },
    {
     "data": {
      "text/html": [
       "<img src=\"https://s3-media1.fl.yelpcdn.com/bphoto/AU2LRinK4hKGU7nnCTq73Q/o.jpg\" width=\"200\" height=\"200\"/>"
      ],
      "text/plain": [
       "<IPython.core.display.Image object>"
      ]
     },
     "metadata": {},
     "output_type": "display_data"
    },
    {
     "name": "stdout",
     "output_type": "stream",
     "text": [
      "paseo-caribbean-food-fremont-seattle-2\n"
     ]
    },
    {
     "data": {
      "text/html": [
       "<img src=\"https://s3-media3.fl.yelpcdn.com/bphoto/o5csrmtkMORuMcVBW2dnYg/o.jpg\" width=\"200\" height=\"200\"/>"
      ],
      "text/plain": [
       "<IPython.core.display.Image object>"
      ]
     },
     "metadata": {},
     "output_type": "display_data"
    },
    {
     "name": "stdout",
     "output_type": "stream",
     "text": [
      "palisade-seattle\n"
     ]
    },
    {
     "data": {
      "text/html": [
       "<img src=\"https://s3-media4.fl.yelpcdn.com/bphoto/Ps8n_cRcoA7YPEh0i2TyPA/o.jpg\" width=\"200\" height=\"200\"/>"
      ],
      "text/plain": [
       "<IPython.core.display.Image object>"
      ]
     },
     "metadata": {},
     "output_type": "display_data"
    }
   ],
   "source": [
    "display_pics(most_popular, top_ten_df_pruned)"
   ]
  },
  {
   "cell_type": "code",
   "execution_count": 455,
   "metadata": {},
   "outputs": [],
   "source": [
    "url = display_pics(most_popular)"
   ]
  },
  {
   "cell_type": "code",
   "execution_count": 457,
   "metadata": {},
   "outputs": [
    {
     "data": {
      "text/plain": [
       "'https://s3-media3.fl.yelpcdn.com/bphoto/o5csrmtkMORuMcVBW2dnYg/o.jpg'"
      ]
     },
     "execution_count": 457,
     "metadata": {},
     "output_type": "execute_result"
    }
   ],
   "source": [
    "url.iloc[0]"
   ]
  },
  {
   "cell_type": "code",
   "execution_count": null,
   "metadata": {},
   "outputs": [],
   "source": []
  },
  {
   "cell_type": "code",
   "execution_count": null,
   "metadata": {
    "collapsed": true
   },
   "outputs": [],
   "source": []
  },
  {
   "cell_type": "code",
   "execution_count": null,
   "metadata": {
    "collapsed": true
   },
   "outputs": [],
   "source": []
  },
  {
   "cell_type": "code",
   "execution_count": null,
   "metadata": {
    "collapsed": true
   },
   "outputs": [],
   "source": []
  },
  {
   "cell_type": "code",
   "execution_count": null,
   "metadata": {},
   "outputs": [],
   "source": []
  },
  {
   "cell_type": "code",
   "execution_count": 533,
   "metadata": {},
   "outputs": [
    {
     "data": {
      "text/plain": [
       "969    breakfast_brunch,salad,sandwiches\n",
       "Name: cats, dtype: object"
      ]
     },
     "execution_count": 533,
     "metadata": {},
     "output_type": "execute_result"
    }
   ],
   "source": [
    "full_restaurant_df[full_restaurant_df['alias']=='b-side-seattle-2']['cats']"
   ]
  },
  {
   "cell_type": "code",
   "execution_count": null,
   "metadata": {},
   "outputs": [],
   "source": []
  },
  {
   "cell_type": "code",
   "execution_count": 695,
   "metadata": {},
   "outputs": [],
   "source": [
    "restaurant_list = list(full_restaurant_df[full_restaurant_df['category_tradamerican']==1]['alias'])"
   ]
  },
  {
   "cell_type": "code",
   "execution_count": 696,
   "metadata": {},
   "outputs": [
    {
     "name": "stdout",
     "output_type": "stream",
     "text": [
      "shake-shack-seattle-3\n"
     ]
    },
    {
     "data": {
      "text/html": [
       "<img src=\"https://s3-media3.fl.yelpcdn.com/bphoto/BuSeQjY_c6NeKWSRY-bD2A/o.jpg\" width=\"200\" height=\"200\"/>"
      ],
      "text/plain": [
       "<IPython.core.display.Image object>"
      ]
     },
     "metadata": {},
     "output_type": "display_data"
    },
    {
     "name": "stdout",
     "output_type": "stream",
     "text": [
      "shawn-o-donnells-american-grill-and-irish-pub-seattle-2\n"
     ]
    },
    {
     "data": {
      "text/html": [
       "<img src=\"https://s3-media3.fl.yelpcdn.com/bphoto/QLv4WbUe-jPBnUk65F0wxw/o.jpg\" width=\"200\" height=\"200\"/>"
      ],
      "text/plain": [
       "<IPython.core.display.Image object>"
      ]
     },
     "metadata": {},
     "output_type": "display_data"
    },
    {
     "name": "stdout",
     "output_type": "stream",
     "text": [
      "brgr-bar-seattle-seattle\n"
     ]
    },
    {
     "data": {
      "text/html": [
       "<img src=\"https://s3-media3.fl.yelpcdn.com/bphoto/Iaf9EoyvmkesKhgFlAwbIA/o.jpg\" width=\"200\" height=\"200\"/>"
      ],
      "text/plain": [
       "<IPython.core.display.Image object>"
      ]
     },
     "metadata": {},
     "output_type": "display_data"
    },
    {
     "name": "stdout",
     "output_type": "stream",
     "text": [
      "metropolitan-grill-seattle\n"
     ]
    },
    {
     "data": {
      "text/html": [
       "<img src=\"https://s3-media1.fl.yelpcdn.com/bphoto/2Jk8ycCKf7XaSrHdpWxEdw/o.jpg\" width=\"200\" height=\"200\"/>"
      ],
      "text/plain": [
       "<IPython.core.display.Image object>"
      ]
     },
     "metadata": {},
     "output_type": "display_data"
    },
    {
     "name": "stdout",
     "output_type": "stream",
     "text": [
      "mccoys-firehouse-seattle\n"
     ]
    },
    {
     "data": {
      "text/html": [
       "<img src=\"https://s3-media1.fl.yelpcdn.com/bphoto/vv2Vt9APpxo6ZhJxy-8CiA/o.jpg\" width=\"200\" height=\"200\"/>"
      ],
      "text/plain": [
       "<IPython.core.display.Image object>"
      ]
     },
     "metadata": {},
     "output_type": "display_data"
    },
    {
     "name": "stdout",
     "output_type": "stream",
     "text": [
      "ludis-seattle\n"
     ]
    },
    {
     "data": {
      "text/html": [
       "<img src=\"https://s3-media3.fl.yelpcdn.com/bphoto/XhR9i1rc2kp4dOUdcR9X-w/o.jpg\" width=\"200\" height=\"200\"/>"
      ],
      "text/plain": [
       "<IPython.core.display.Image object>"
      ]
     },
     "metadata": {},
     "output_type": "display_data"
    },
    {
     "name": "stdout",
     "output_type": "stream",
     "text": [
      "ivars-acres-of-clams-seattle-7\n"
     ]
    },
    {
     "data": {
      "text/html": [
       "<img src=\"https://s3-media3.fl.yelpcdn.com/bphoto/UCkjiV2SDxaKTJCh-RMNQQ/o.jpg\" width=\"200\" height=\"200\"/>"
      ],
      "text/plain": [
       "<IPython.core.display.Image object>"
      ]
     },
     "metadata": {},
     "output_type": "display_data"
    },
    {
     "name": "stdout",
     "output_type": "stream",
     "text": [
      "spin-seattle-seattle\n"
     ]
    },
    {
     "data": {
      "text/html": [
       "<img src=\"https://s3-media3.fl.yelpcdn.com/bphoto/cDcT2A_fTMeXvOBJLfI6Tw/o.jpg\" width=\"200\" height=\"200\"/>"
      ],
      "text/plain": [
       "<IPython.core.display.Image object>"
      ]
     },
     "metadata": {},
     "output_type": "display_data"
    },
    {
     "name": "stdout",
     "output_type": "stream",
     "text": [
      "pike-place-chowder-seattle-4\n"
     ]
    },
    {
     "data": {
      "text/html": [
       "<img src=\"https://s3-media1.fl.yelpcdn.com/bphoto/qKZhApTt6j7NXHts68tiPg/o.jpg\" width=\"200\" height=\"200\"/>"
      ],
      "text/plain": [
       "<IPython.core.display.Image object>"
      ]
     },
     "metadata": {},
     "output_type": "display_data"
    },
    {
     "name": "stdout",
     "output_type": "stream",
     "text": [
      "the-peoples-burger-seattle\n"
     ]
    },
    {
     "data": {
      "text/html": [
       "<img src=\"https://s3-media3.fl.yelpcdn.com/bphoto/9V0lGlHtq1Dl4F10mL4yHg/o.jpg\" width=\"200\" height=\"200\"/>"
      ],
      "text/plain": [
       "<IPython.core.display.Image object>"
      ]
     },
     "metadata": {},
     "output_type": "display_data"
    },
    {
     "name": "stdout",
     "output_type": "stream",
     "text": [
      "triangle-pub-seattle\n"
     ]
    },
    {
     "data": {
      "text/html": [
       "<img src=\"https://s3-media2.fl.yelpcdn.com/bphoto/MI09R38iMiatiJrp99NqYA/o.jpg\" width=\"200\" height=\"200\"/>"
      ],
      "text/plain": [
       "<IPython.core.display.Image object>"
      ]
     },
     "metadata": {},
     "output_type": "display_data"
    },
    {
     "name": "stdout",
     "output_type": "stream",
     "text": [
      "planet-java-diner-seattle-2\n"
     ]
    },
    {
     "data": {
      "text/html": [
       "<img src=\"https://s3-media1.fl.yelpcdn.com/bphoto/Lc1UHS_tbpUbDIB56WqWUw/o.jpg\" width=\"200\" height=\"200\"/>"
      ],
      "text/plain": [
       "<IPython.core.display.Image object>"
      ]
     },
     "metadata": {},
     "output_type": "display_data"
    },
    {
     "name": "stdout",
     "output_type": "stream",
     "text": [
      "quality-athletics-seattle\n"
     ]
    },
    {
     "data": {
      "text/html": [
       "<img src=\"https://s3-media1.fl.yelpcdn.com/bphoto/tkP531EFttn446C_fR20tg/o.jpg\" width=\"200\" height=\"200\"/>"
      ],
      "text/plain": [
       "<IPython.core.display.Image object>"
      ]
     },
     "metadata": {},
     "output_type": "display_data"
    },
    {
     "name": "stdout",
     "output_type": "stream",
     "text": [
      "the-rhododendron-cafe-seattle\n"
     ]
    },
    {
     "data": {
      "text/html": [
       "<img src=\"https://s3-media2.fl.yelpcdn.com/bphoto/2uyQQwvMsKH7OrfcuizsnA/o.jpg\" width=\"200\" height=\"200\"/>"
      ],
      "text/plain": [
       "<IPython.core.display.Image object>"
      ]
     },
     "metadata": {},
     "output_type": "display_data"
    },
    {
     "name": "stdout",
     "output_type": "stream",
     "text": [
      "13-coins-restaurant-seattle-3\n"
     ]
    },
    {
     "data": {
      "text/html": [
       "<img src=\"https://s3-media3.fl.yelpcdn.com/bphoto/qUaEObcr-gdU7_CbYFxxwA/o.jpg\" width=\"200\" height=\"200\"/>"
      ],
      "text/plain": [
       "<IPython.core.display.Image object>"
      ]
     },
     "metadata": {},
     "output_type": "display_data"
    },
    {
     "name": "stdout",
     "output_type": "stream",
     "text": [
      "pike-brewing-company-seattle\n"
     ]
    },
    {
     "data": {
      "text/html": [
       "<img src=\"https://s3-media4.fl.yelpcdn.com/bphoto/ki9Ah9qkv4NbqwXQK8-nRA/o.jpg\" width=\"200\" height=\"200\"/>"
      ],
      "text/plain": [
       "<IPython.core.display.Image object>"
      ]
     },
     "metadata": {},
     "output_type": "display_data"
    },
    {
     "name": "stdout",
     "output_type": "stream",
     "text": [
      "cutters-crabhouse-seattle\n"
     ]
    },
    {
     "data": {
      "text/html": [
       "<img src=\"https://s3-media2.fl.yelpcdn.com/bphoto/5Oi5SU0NhjK3ECqZZula1w/o.jpg\" width=\"200\" height=\"200\"/>"
      ],
      "text/plain": [
       "<IPython.core.display.Image object>"
      ]
     },
     "metadata": {},
     "output_type": "display_data"
    },
    {
     "name": "stdout",
     "output_type": "stream",
     "text": [
      "rider-seattle\n"
     ]
    },
    {
     "data": {
      "text/html": [
       "<img src=\"https://s3-media2.fl.yelpcdn.com/bphoto/Xj1kJA_WgjD4dzXVLwHp9Q/o.jpg\" width=\"200\" height=\"200\"/>"
      ],
      "text/plain": [
       "<IPython.core.display.Image object>"
      ]
     },
     "metadata": {},
     "output_type": "display_data"
    },
    {
     "name": "stdout",
     "output_type": "stream",
     "text": [
      "henrys-tavern-seattle-seattle\n"
     ]
    },
    {
     "data": {
      "text/html": [
       "<img src=\"https://s3-media1.fl.yelpcdn.com/bphoto/tJXJcv38ySFbKkaYbEwf3g/o.jpg\" width=\"200\" height=\"200\"/>"
      ],
      "text/plain": [
       "<IPython.core.display.Image object>"
      ]
     },
     "metadata": {},
     "output_type": "display_data"
    },
    {
     "name": "stdout",
     "output_type": "stream",
     "text": [
      "cocoa-banana-seattle\n"
     ]
    },
    {
     "data": {
      "text/html": [
       "<img src=\"https://s3-media3.fl.yelpcdn.com/bphoto/b8NTCVSR6WvZ-annOmttHg/o.jpg\" width=\"200\" height=\"200\"/>"
      ],
      "text/plain": [
       "<IPython.core.display.Image object>"
      ]
     },
     "metadata": {},
     "output_type": "display_data"
    },
    {
     "name": "stdout",
     "output_type": "stream",
     "text": [
      "wakefield-bar-seattle\n"
     ]
    },
    {
     "data": {
      "text/html": [
       "<img src=\"https://s3-media1.fl.yelpcdn.com/bphoto/Nbj5b58IAKS4_HheLYPKAw/o.jpg\" width=\"200\" height=\"200\"/>"
      ],
      "text/plain": [
       "<IPython.core.display.Image object>"
      ]
     },
     "metadata": {},
     "output_type": "display_data"
    },
    {
     "name": "stdout",
     "output_type": "stream",
     "text": [
      "the-taproom-at-pike-place-seattle\n"
     ]
    },
    {
     "data": {
      "text/html": [
       "<img src=\"https://s3-media4.fl.yelpcdn.com/bphoto/JUziyAgb9bg2NAkCqtGf2g/o.jpg\" width=\"200\" height=\"200\"/>"
      ],
      "text/plain": [
       "<IPython.core.display.Image object>"
      ]
     },
     "metadata": {},
     "output_type": "display_data"
    },
    {
     "name": "stdout",
     "output_type": "stream",
     "text": [
      "tap-house-grill-seattle-3\n"
     ]
    },
    {
     "data": {
      "text/html": [
       "<img src=\"https://s3-media1.fl.yelpcdn.com/bphoto/7y_P-jXb6hBxOtf2h4Ps6g/o.jpg\" width=\"200\" height=\"200\"/>"
      ],
      "text/plain": [
       "<IPython.core.display.Image object>"
      ]
     },
     "metadata": {},
     "output_type": "display_data"
    },
    {
     "name": "stdout",
     "output_type": "stream",
     "text": [
      "grilled-cheese-experience-seattle\n"
     ]
    },
    {
     "data": {
      "text/html": [
       "<img src=\"https://s3-media3.fl.yelpcdn.com/bphoto/XP2bsE1ZmfQ6LrMtC5HA8g/o.jpg\" width=\"200\" height=\"200\"/>"
      ],
      "text/plain": [
       "<IPython.core.display.Image object>"
      ]
     },
     "metadata": {},
     "output_type": "display_data"
    },
    {
     "name": "stdout",
     "output_type": "stream",
     "text": [
      "collins-pub-seattle\n"
     ]
    },
    {
     "data": {
      "text/html": [
       "<img src=\"https://s3-media2.fl.yelpcdn.com/bphoto/G2_RoKLIkNbaRjZG6j5Zdw/o.jpg\" width=\"200\" height=\"200\"/>"
      ],
      "text/plain": [
       "<IPython.core.display.Image object>"
      ]
     },
     "metadata": {},
     "output_type": "display_data"
    },
    {
     "name": "stdout",
     "output_type": "stream",
     "text": [
      "garden-grille-and-bar-seattle\n"
     ]
    },
    {
     "data": {
      "text/html": [
       "<img src=\"https://s3-media3.fl.yelpcdn.com/bphoto/h-RriQqP5fTPvkO1vavm0Q/o.jpg\" width=\"200\" height=\"200\"/>"
      ],
      "text/plain": [
       "<IPython.core.display.Image object>"
      ]
     },
     "metadata": {},
     "output_type": "display_data"
    },
    {
     "name": "stdout",
     "output_type": "stream",
     "text": [
      "steak-n-shake-seattle\n"
     ]
    },
    {
     "data": {
      "text/html": [
       "<img src=\"https://s3-media3.fl.yelpcdn.com/bphoto/pb51atpLDW1GwirxCEBQzw/o.jpg\" width=\"200\" height=\"200\"/>"
      ],
      "text/plain": [
       "<IPython.core.display.Image object>"
      ]
     },
     "metadata": {},
     "output_type": "display_data"
    },
    {
     "name": "stdout",
     "output_type": "stream",
     "text": [
      "lowells-restaurant-seattle\n"
     ]
    },
    {
     "data": {
      "text/html": [
       "<img src=\"https://s3-media3.fl.yelpcdn.com/bphoto/MI1RzkllfgX4z77FbckdRg/o.jpg\" width=\"200\" height=\"200\"/>"
      ],
      "text/plain": [
       "<IPython.core.display.Image object>"
      ]
     },
     "metadata": {},
     "output_type": "display_data"
    },
    {
     "name": "stdout",
     "output_type": "stream",
     "text": [
      "hooverville-bar-seattle\n"
     ]
    },
    {
     "data": {
      "text/html": [
       "<img src=\"https://s3-media2.fl.yelpcdn.com/bphoto/pBfVb8kaqvjXbGweiqnwjA/o.jpg\" width=\"200\" height=\"200\"/>"
      ],
      "text/plain": [
       "<IPython.core.display.Image object>"
      ]
     },
     "metadata": {},
     "output_type": "display_data"
    },
    {
     "name": "stdout",
     "output_type": "stream",
     "text": [
      "steelhead-diner-seattle\n"
     ]
    },
    {
     "data": {
      "text/html": [
       "<img src=\"https://s3-media4.fl.yelpcdn.com/bphoto/2XxCFJG69iJekgaCVIgnCw/o.jpg\" width=\"200\" height=\"200\"/>"
      ],
      "text/plain": [
       "<IPython.core.display.Image object>"
      ]
     },
     "metadata": {},
     "output_type": "display_data"
    },
    {
     "name": "stdout",
     "output_type": "stream",
     "text": [
      "queen-city-seattle\n"
     ]
    },
    {
     "data": {
      "text/html": [
       "<img src=\"https://s3-media2.fl.yelpcdn.com/bphoto/8YWER6zwxCcA4Esa5FLzOw/o.jpg\" width=\"200\" height=\"200\"/>"
      ],
      "text/plain": [
       "<IPython.core.display.Image object>"
      ]
     },
     "metadata": {},
     "output_type": "display_data"
    },
    {
     "name": "stdout",
     "output_type": "stream",
     "text": [
      "sluggers-seattle-seattle\n"
     ]
    },
    {
     "data": {
      "text/html": [
       "<img src=\"https://s3-media3.fl.yelpcdn.com/bphoto/LU3PIYyK6HQK7Yh4wUkYLw/o.jpg\" width=\"200\" height=\"200\"/>"
      ],
      "text/plain": [
       "<IPython.core.display.Image object>"
      ]
     },
     "metadata": {},
     "output_type": "display_data"
    },
    {
     "name": "stdout",
     "output_type": "stream",
     "text": [
      "sarajevo-restaurant-and-lounge-seattle\n"
     ]
    },
    {
     "data": {
      "text/html": [
       "<img src=\"https://s3-media2.fl.yelpcdn.com/bphoto/t3TxyfCJsguIArVZZrFeaA/o.jpg\" width=\"200\" height=\"200\"/>"
      ],
      "text/plain": [
       "<IPython.core.display.Image object>"
      ]
     },
     "metadata": {},
     "output_type": "display_data"
    },
    {
     "name": "stdout",
     "output_type": "stream",
     "text": [
      "olivers-lounge-seattle\n"
     ]
    },
    {
     "data": {
      "text/html": [
       "<img src=\"https://s3-media2.fl.yelpcdn.com/bphoto/hBViLVKR0Tbmn6t_rR_A5A/o.jpg\" width=\"200\" height=\"200\"/>"
      ],
      "text/plain": [
       "<IPython.core.display.Image object>"
      ]
     },
     "metadata": {},
     "output_type": "display_data"
    },
    {
     "name": "stdout",
     "output_type": "stream",
     "text": [
      "hawks-nest-seattle\n"
     ]
    },
    {
     "data": {
      "text/html": [
       "<img src=\"https://s3-media4.fl.yelpcdn.com/bphoto/61D0JSTWBZ7CiD34bOiO_Q/o.jpg\" width=\"200\" height=\"200\"/>"
      ],
      "text/plain": [
       "<IPython.core.display.Image object>"
      ]
     },
     "metadata": {},
     "output_type": "display_data"
    },
    {
     "name": "stdout",
     "output_type": "stream",
     "text": [
      "frolik-kitchen-cocktails-seattle-2\n"
     ]
    },
    {
     "data": {
      "text/html": [
       "<img src=\"https://s3-media3.fl.yelpcdn.com/bphoto/xs0zYZtVjTjfBixc4kYdkQ/o.jpg\" width=\"200\" height=\"200\"/>"
      ],
      "text/plain": [
       "<IPython.core.display.Image object>"
      ]
     },
     "metadata": {},
     "output_type": "display_data"
    },
    {
     "name": "stdout",
     "output_type": "stream",
     "text": [
      "elysian-brewing-capitol-hill-seattle\n"
     ]
    },
    {
     "data": {
      "text/html": [
       "<img src=\"https://s3-media4.fl.yelpcdn.com/bphoto/029CiXvBGD-JOfp-cxlwaA/o.jpg\" width=\"200\" height=\"200\"/>"
      ],
      "text/plain": [
       "<IPython.core.display.Image object>"
      ]
     },
     "metadata": {},
     "output_type": "display_data"
    },
    {
     "name": "stdout",
     "output_type": "stream",
     "text": [
      "cheese-wizards-food-truck-seattle\n"
     ]
    },
    {
     "data": {
      "text/html": [
       "<img src=\"https://s3-media2.fl.yelpcdn.com/bphoto/WJ1ioRYUmAwo-PPKL9QreQ/o.jpg\" width=\"200\" height=\"200\"/>"
      ],
      "text/plain": [
       "<IPython.core.display.Image object>"
      ]
     },
     "metadata": {},
     "output_type": "display_data"
    },
    {
     "name": "stdout",
     "output_type": "stream",
     "text": [
      "red-robin-gourmet-burgers-seattle-7\n"
     ]
    },
    {
     "data": {
      "text/html": [
       "<img src=\"https://s3-media2.fl.yelpcdn.com/bphoto/bcN0Jrfkc51RcO7SFpZTMg/o.jpg\" width=\"200\" height=\"200\"/>"
      ],
      "text/plain": [
       "<IPython.core.display.Image object>"
      ]
     },
     "metadata": {},
     "output_type": "display_data"
    },
    {
     "name": "stdout",
     "output_type": "stream",
     "text": [
      "ruths-chris-steak-house-seattle\n"
     ]
    },
    {
     "data": {
      "text/html": [
       "<img src=\"https://s3-media3.fl.yelpcdn.com/bphoto/4pnpF41XbaGgaFy0XArbGQ/o.jpg\" width=\"200\" height=\"200\"/>"
      ],
      "text/plain": [
       "<IPython.core.display.Image object>"
      ]
     },
     "metadata": {},
     "output_type": "display_data"
    },
    {
     "name": "stdout",
     "output_type": "stream",
     "text": [
      "cjs-eatery-seattle\n"
     ]
    },
    {
     "data": {
      "text/html": [
       "<img src=\"https://s3-media4.fl.yelpcdn.com/bphoto/a04_87AhuaufzpuU_gnuvA/o.jpg\" width=\"200\" height=\"200\"/>"
      ],
      "text/plain": [
       "<IPython.core.display.Image object>"
      ]
     },
     "metadata": {},
     "output_type": "display_data"
    },
    {
     "name": "stdout",
     "output_type": "stream",
     "text": [
      "six-arms-seattle\n"
     ]
    },
    {
     "data": {
      "text/html": [
       "<img src=\"https://s3-media1.fl.yelpcdn.com/bphoto/mY7DlBCFOicNsAqH7VUoqg/o.jpg\" width=\"200\" height=\"200\"/>"
      ],
      "text/plain": [
       "<IPython.core.display.Image object>"
      ]
     },
     "metadata": {},
     "output_type": "display_data"
    },
    {
     "name": "stdout",
     "output_type": "stream",
     "text": [
      "regatta-bar-and-grille-seattle\n"
     ]
    },
    {
     "data": {
      "text/html": [
       "<img src=\"https://s3-media2.fl.yelpcdn.com/bphoto/IV21W7BZHOGjiSsFLD_fqg/o.jpg\" width=\"200\" height=\"200\"/>"
      ],
      "text/plain": [
       "<IPython.core.display.Image object>"
      ]
     },
     "metadata": {},
     "output_type": "display_data"
    },
    {
     "name": "stdout",
     "output_type": "stream",
     "text": [
      "buckleys-in-belltown-seattle-3\n"
     ]
    },
    {
     "data": {
      "text/html": [
       "<img src=\"https://s3-media2.fl.yelpcdn.com/bphoto/j81DZTztM08g0TxlZQ_04A/o.jpg\" width=\"200\" height=\"200\"/>"
      ],
      "text/plain": [
       "<IPython.core.display.Image object>"
      ]
     },
     "metadata": {},
     "output_type": "display_data"
    },
    {
     "name": "stdout",
     "output_type": "stream",
     "text": [
      "box-house-seattle-3\n"
     ]
    },
    {
     "data": {
      "text/html": [
       "<img src=\"https://s3-media2.fl.yelpcdn.com/bphoto/FMbYsfbssqiZoDY1_glkCg/o.jpg\" width=\"200\" height=\"200\"/>"
      ],
      "text/plain": [
       "<IPython.core.display.Image object>"
      ]
     },
     "metadata": {},
     "output_type": "display_data"
    },
    {
     "name": "stdout",
     "output_type": "stream",
     "text": [
      "the-515-seattle-3\n"
     ]
    },
    {
     "data": {
      "text/html": [
       "<img src=\"https://s3-media2.fl.yelpcdn.com/bphoto/KAyIHrSw-VMpMJ1l7ZEKdQ/o.jpg\" width=\"200\" height=\"200\"/>"
      ],
      "text/plain": [
       "<IPython.core.display.Image object>"
      ]
     },
     "metadata": {},
     "output_type": "display_data"
    },
    {
     "name": "stdout",
     "output_type": "stream",
     "text": [
      "buffalo-wild-wings-seattle-2\n"
     ]
    },
    {
     "data": {
      "text/html": [
       "<img src=\"https://s3-media1.fl.yelpcdn.com/bphoto/s4r1vcExQg0Kzw8Tq5Wrig/o.jpg\" width=\"200\" height=\"200\"/>"
      ],
      "text/plain": [
       "<IPython.core.display.Image object>"
      ]
     },
     "metadata": {},
     "output_type": "display_data"
    },
    {
     "name": "stdout",
     "output_type": "stream",
     "text": [
      "ihop-seattle-4\n"
     ]
    },
    {
     "data": {
      "text/html": [
       "<img src=\"https://s3-media4.fl.yelpcdn.com/bphoto/KGPYHN7EyAKHS7LBiMHVyw/o.jpg\" width=\"200\" height=\"200\"/>"
      ],
      "text/plain": [
       "<IPython.core.display.Image object>"
      ]
     },
     "metadata": {},
     "output_type": "display_data"
    },
    {
     "name": "stdout",
     "output_type": "stream",
     "text": [
      "king-street-bar-and-oven-seattle\n"
     ]
    },
    {
     "data": {
      "text/html": [
       "<img src=\"https://s3-media1.fl.yelpcdn.com/bphoto/isiOo5KUps0NB7vCiEY-jQ/o.jpg\" width=\"200\" height=\"200\"/>"
      ],
      "text/plain": [
       "<IPython.core.display.Image object>"
      ]
     },
     "metadata": {},
     "output_type": "display_data"
    },
    {
     "name": "stdout",
     "output_type": "stream",
     "text": [
      "doc-maynards-public-house-seattle\n"
     ]
    },
    {
     "data": {
      "text/html": [
       "<img src=\"https://s3-media1.fl.yelpcdn.com/bphoto/CnQo11Wn7xdzl-PjHTMQCQ/o.jpg\" width=\"200\" height=\"200\"/>"
      ],
      "text/plain": [
       "<IPython.core.display.Image object>"
      ]
     },
     "metadata": {},
     "output_type": "display_data"
    },
    {
     "name": "stdout",
     "output_type": "stream",
     "text": [
      "grounders-world-famous-garlic-fries-seattle\n"
     ]
    },
    {
     "data": {
      "text/html": [
       "<img src=\"https://s3-media1.fl.yelpcdn.com/bphoto/TCKzeOH9wJgGInQ5p5e8LA/o.jpg\" width=\"200\" height=\"200\"/>"
      ],
      "text/plain": [
       "<IPython.core.display.Image object>"
      ]
     },
     "metadata": {},
     "output_type": "display_data"
    },
    {
     "name": "stdout",
     "output_type": "stream",
     "text": [
      "lindas-tavern-seattle\n"
     ]
    },
    {
     "data": {
      "text/html": [
       "<img src=\"https://s3-media2.fl.yelpcdn.com/bphoto/72mgx-IVt57lis1C1B319Q/o.jpg\" width=\"200\" height=\"200\"/>"
      ],
      "text/plain": [
       "<IPython.core.display.Image object>"
      ]
     },
     "metadata": {},
     "output_type": "display_data"
    },
    {
     "name": "stdout",
     "output_type": "stream",
     "text": [
      "r-place-bar-and-grill-seattle\n"
     ]
    },
    {
     "data": {
      "text/html": [
       "<img src=\"https://s3-media3.fl.yelpcdn.com/bphoto/88JiXE-nnOj1N1Mhzk7WBQ/o.jpg\" width=\"200\" height=\"200\"/>"
      ],
      "text/plain": [
       "<IPython.core.display.Image object>"
      ]
     },
     "metadata": {},
     "output_type": "display_data"
    },
    {
     "name": "stdout",
     "output_type": "stream",
     "text": [
      "market-diner-seattle\n"
     ]
    },
    {
     "data": {
      "text/html": [
       "<img src=\"https://s3-media1.fl.yelpcdn.com/bphoto/z2Vf6ZSwVKjKRrVmcpTZMw/o.jpg\" width=\"200\" height=\"200\"/>"
      ],
      "text/plain": [
       "<IPython.core.display.Image object>"
      ]
     },
     "metadata": {},
     "output_type": "display_data"
    },
    {
     "name": "stdout",
     "output_type": "stream",
     "text": [
      "davids-and-co-seattle\n"
     ]
    },
    {
     "data": {
      "text/html": [
       "<img src=\"https://s3-media1.fl.yelpcdn.com/bphoto/oILMzflcOo-9x0OlVfSnAw/o.jpg\" width=\"200\" height=\"200\"/>"
      ],
      "text/plain": [
       "<IPython.core.display.Image object>"
      ]
     },
     "metadata": {},
     "output_type": "display_data"
    },
    {
     "name": "stdout",
     "output_type": "stream",
     "text": [
      "torchys-restaurant-bar-and-den-seattle\n"
     ]
    },
    {
     "data": {
      "text/html": [
       "<img src=\"https://s3-media1.fl.yelpcdn.com/bphoto/chH_ApykZ3j1mF_JarZ87g/o.jpg\" width=\"200\" height=\"200\"/>"
      ],
      "text/plain": [
       "<IPython.core.display.Image object>"
      ]
     },
     "metadata": {},
     "output_type": "display_data"
    },
    {
     "name": "stdout",
     "output_type": "stream",
     "text": [
      "sonyas-bar-and-grill-and-event-space-seattle\n"
     ]
    },
    {
     "data": {
      "text/html": [
       "<img src=\"https://s3-media4.fl.yelpcdn.com/bphoto/TTWUvr0I4h_HznOqnmIcew/o.jpg\" width=\"200\" height=\"200\"/>"
      ],
      "text/plain": [
       "<IPython.core.display.Image object>"
      ]
     },
     "metadata": {},
     "output_type": "display_data"
    },
    {
     "name": "stdout",
     "output_type": "stream",
     "text": [
      "redtrees-restaurant-bar-seattle\n"
     ]
    },
    {
     "data": {
      "text/html": [
       "<img src=\"https://s3-media1.fl.yelpcdn.com/bphoto/ekN9Wr0B6LgwCxB7Ug7Tug/o.jpg\" width=\"200\" height=\"200\"/>"
      ],
      "text/plain": [
       "<IPython.core.display.Image object>"
      ]
     },
     "metadata": {},
     "output_type": "display_data"
    },
    {
     "name": "stdout",
     "output_type": "stream",
     "text": [
      "daily-grill-seattle\n"
     ]
    },
    {
     "data": {
      "text/html": [
       "<img src=\"https://s3-media2.fl.yelpcdn.com/bphoto/8mI01KVgolui5FJGW5C2VA/o.jpg\" width=\"200\" height=\"200\"/>"
      ],
      "text/plain": [
       "<IPython.core.display.Image object>"
      ]
     },
     "metadata": {},
     "output_type": "display_data"
    },
    {
     "name": "stdout",
     "output_type": "stream",
     "text": [
      "belltown-pub-seattle-2\n"
     ]
    },
    {
     "data": {
      "text/html": [
       "<img src=\"https://s3-media2.fl.yelpcdn.com/bphoto/3Jy7O4KzHuNkQxLf3Phjvw/o.jpg\" width=\"200\" height=\"200\"/>"
      ],
      "text/plain": [
       "<IPython.core.display.Image object>"
      ]
     },
     "metadata": {},
     "output_type": "display_data"
    },
    {
     "name": "stdout",
     "output_type": "stream",
     "text": [
      "mad-dawgs-hot-dogs-seattle-2\n"
     ]
    },
    {
     "data": {
      "text/html": [
       "<img src=\"https://s3-media2.fl.yelpcdn.com/bphoto/2_-Tz11iDRWNDUHlSIgbbg/o.jpg\" width=\"200\" height=\"200\"/>"
      ],
      "text/plain": [
       "<IPython.core.display.Image object>"
      ]
     },
     "metadata": {},
     "output_type": "display_data"
    },
    {
     "name": "stdout",
     "output_type": "stream",
     "text": [
      "swannies-seattle\n"
     ]
    },
    {
     "data": {
      "text/html": [
       "<img src=\"https://s3-media3.fl.yelpcdn.com/bphoto/o1m2_qwOKNFsu7TFYZtlLQ/o.jpg\" width=\"200\" height=\"200\"/>"
      ],
      "text/plain": [
       "<IPython.core.display.Image object>"
      ]
     },
     "metadata": {},
     "output_type": "display_data"
    },
    {
     "name": "stdout",
     "output_type": "stream",
     "text": [
      "the-chieftain-seattle\n"
     ]
    },
    {
     "data": {
      "text/html": [
       "<img src=\"https://s3-media2.fl.yelpcdn.com/bphoto/vcPBU40H9M6w-Zs4UXZcvQ/o.jpg\" width=\"200\" height=\"200\"/>"
      ],
      "text/plain": [
       "<IPython.core.display.Image object>"
      ]
     },
     "metadata": {},
     "output_type": "display_data"
    },
    {
     "name": "stdout",
     "output_type": "stream",
     "text": [
      "pike-place-bar-and-grill-seattle\n"
     ]
    },
    {
     "data": {
      "text/html": [
       "<img src=\"https://s3-media2.fl.yelpcdn.com/bphoto/TXJl_6vzqBOx2_z02J1NeA/o.jpg\" width=\"200\" height=\"200\"/>"
      ],
      "text/plain": [
       "<IPython.core.display.Image object>"
      ]
     },
     "metadata": {},
     "output_type": "display_data"
    },
    {
     "name": "stdout",
     "output_type": "stream",
     "text": [
      "justus-cafe-seattle\n"
     ]
    },
    {
     "data": {
      "text/html": [
       "<img src=\"https://s3-media1.fl.yelpcdn.com/bphoto/eWyX9l8An8TjvM2HI65WBQ/o.jpg\" width=\"200\" height=\"200\"/>"
      ],
      "text/plain": [
       "<IPython.core.display.Image object>"
      ]
     },
     "metadata": {},
     "output_type": "display_data"
    },
    {
     "name": "stdout",
     "output_type": "stream",
     "text": [
      "cask-and-trotter-seattle-2\n"
     ]
    },
    {
     "data": {
      "text/html": [
       "<img src=\"https://s3-media2.fl.yelpcdn.com/bphoto/iEvZd58p7zIGnU2n33UE7Q/o.jpg\" width=\"200\" height=\"200\"/>"
      ],
      "text/plain": [
       "<IPython.core.display.Image object>"
      ]
     },
     "metadata": {},
     "output_type": "display_data"
    },
    {
     "name": "stdout",
     "output_type": "stream",
     "text": [
      "dexter-brewhouse-seattle-2\n"
     ]
    },
    {
     "data": {
      "text/html": [
       "<img src=\"https://s3-media1.fl.yelpcdn.com/bphoto/WOF4gXuZruf8KSOwL3HuWQ/o.jpg\" width=\"200\" height=\"200\"/>"
      ],
      "text/plain": [
       "<IPython.core.display.Image object>"
      ]
     },
     "metadata": {},
     "output_type": "display_data"
    },
    {
     "name": "stdout",
     "output_type": "stream",
     "text": [
      "nollies-cafe-seattle\n"
     ]
    },
    {
     "data": {
      "text/html": [
       "<img src=\"https://s3-media3.fl.yelpcdn.com/bphoto/a5l3ZQX4cFaaCD_gMHVGlA/o.jpg\" width=\"200\" height=\"200\"/>"
      ],
      "text/plain": [
       "<IPython.core.display.Image object>"
      ]
     },
     "metadata": {},
     "output_type": "display_data"
    },
    {
     "name": "stdout",
     "output_type": "stream",
     "text": [
      "dads-diner-seattle\n"
     ]
    },
    {
     "data": {
      "text/html": [
       "<img src=\"https://s3-media1.fl.yelpcdn.com/bphoto/AOSNxW9OAxEVfI0MH14veQ/o.jpg\" width=\"200\" height=\"200\"/>"
      ],
      "text/plain": [
       "<IPython.core.display.Image object>"
      ]
     },
     "metadata": {},
     "output_type": "display_data"
    },
    {
     "name": "stdout",
     "output_type": "stream",
     "text": [
      "the-grilled-cheese-experience-seattle\n"
     ]
    },
    {
     "data": {
      "text/html": [
       "<img src=\"https://s3-media2.fl.yelpcdn.com/bphoto/DhDJFi3ERqwIGEo0ZgfEBQ/o.jpg\" width=\"200\" height=\"200\"/>"
      ],
      "text/plain": [
       "<IPython.core.display.Image object>"
      ]
     },
     "metadata": {},
     "output_type": "display_data"
    },
    {
     "name": "stdout",
     "output_type": "stream",
     "text": [
      "twilight-rainier-seattle\n"
     ]
    },
    {
     "data": {
      "text/html": [
       "<img src=\"https://s3-media1.fl.yelpcdn.com/bphoto/R_3KvrOGfNw7i99jm14dAw/o.jpg\" width=\"200\" height=\"200\"/>"
      ],
      "text/plain": [
       "<IPython.core.display.Image object>"
      ]
     },
     "metadata": {},
     "output_type": "display_data"
    },
    {
     "name": "stdout",
     "output_type": "stream",
     "text": [
      "corvus-and-company-seattle\n"
     ]
    },
    {
     "data": {
      "text/html": [
       "<img src=\"https://s3-media2.fl.yelpcdn.com/bphoto/syQs3Jz7OcfiKYZY2x9XOA/o.jpg\" width=\"200\" height=\"200\"/>"
      ],
      "text/plain": [
       "<IPython.core.display.Image object>"
      ]
     },
     "metadata": {},
     "output_type": "display_data"
    },
    {
     "name": "stdout",
     "output_type": "stream",
     "text": [
      "bait-shop-seattle\n"
     ]
    },
    {
     "data": {
      "text/html": [
       "<img src=\"https://s3-media1.fl.yelpcdn.com/bphoto/hyS6MJTe7OjjOm1qYEHT8g/o.jpg\" width=\"200\" height=\"200\"/>"
      ],
      "text/plain": [
       "<IPython.core.display.Image object>"
      ]
     },
     "metadata": {},
     "output_type": "display_data"
    },
    {
     "name": "stdout",
     "output_type": "stream",
     "text": [
      "5-spot-seattle\n"
     ]
    },
    {
     "data": {
      "text/html": [
       "<img src=\"https://s3-media4.fl.yelpcdn.com/bphoto/tQts4C7ABWEuInPWqqk8cw/o.jpg\" width=\"200\" height=\"200\"/>"
      ],
      "text/plain": [
       "<IPython.core.display.Image object>"
      ]
     },
     "metadata": {},
     "output_type": "display_data"
    },
    {
     "name": "stdout",
     "output_type": "stream",
     "text": [
      "the-twilight-exit-seattle-2\n"
     ]
    },
    {
     "data": {
      "text/html": [
       "<img src=\"https://s3-media1.fl.yelpcdn.com/bphoto/KZ8sWdGnNEOFcnUfF4iYnA/o.jpg\" width=\"200\" height=\"200\"/>"
      ],
      "text/plain": [
       "<IPython.core.display.Image object>"
      ]
     },
     "metadata": {},
     "output_type": "display_data"
    },
    {
     "name": "stdout",
     "output_type": "stream",
     "text": [
      "the-swinery-seattle\n"
     ]
    },
    {
     "data": {
      "text/html": [
       "<img src=\"https://s3-media2.fl.yelpcdn.com/bphoto/K7FEwMqkf11DbWaJ566q5w/o.jpg\" width=\"200\" height=\"200\"/>"
      ],
      "text/plain": [
       "<IPython.core.display.Image object>"
      ]
     },
     "metadata": {},
     "output_type": "display_data"
    },
    {
     "name": "stdout",
     "output_type": "stream",
     "text": [
      "thackeray-seattle-2\n"
     ]
    },
    {
     "data": {
      "text/html": [
       "<img src=\"https://s3-media2.fl.yelpcdn.com/bphoto/jy4NRS84-5hYsEPMMo4Cvw/o.jpg\" width=\"200\" height=\"200\"/>"
      ],
      "text/plain": [
       "<IPython.core.display.Image object>"
      ]
     },
     "metadata": {},
     "output_type": "display_data"
    },
    {
     "name": "stdout",
     "output_type": "stream",
     "text": [
      "mcmenamins-queen-anne-seattle\n"
     ]
    },
    {
     "data": {
      "text/html": [
       "<img src=\"https://s3-media2.fl.yelpcdn.com/bphoto/ANPGEDkGk9Qt2lNwlrTmUA/o.jpg\" width=\"200\" height=\"200\"/>"
      ],
      "text/plain": [
       "<IPython.core.display.Image object>"
      ]
     },
     "metadata": {},
     "output_type": "display_data"
    },
    {
     "name": "stdout",
     "output_type": "stream",
     "text": [
      "bluwater-bistro-seattle-4\n"
     ]
    },
    {
     "data": {
      "text/html": [
       "<img src=\"https://s3-media2.fl.yelpcdn.com/bphoto/DeBiYtDzmtlAuArWvT7V1Q/o.jpg\" width=\"200\" height=\"200\"/>"
      ],
      "text/plain": [
       "<IPython.core.display.Image object>"
      ]
     },
     "metadata": {},
     "output_type": "display_data"
    },
    {
     "name": "stdout",
     "output_type": "stream",
     "text": [
      "brave-horse-tavern-seattle\n"
     ]
    },
    {
     "data": {
      "text/html": [
       "<img src=\"https://s3-media2.fl.yelpcdn.com/bphoto/woL6V4_Oyt48a3DReI3AXQ/o.jpg\" width=\"200\" height=\"200\"/>"
      ],
      "text/plain": [
       "<IPython.core.display.Image object>"
      ]
     },
     "metadata": {},
     "output_type": "display_data"
    },
    {
     "name": "stdout",
     "output_type": "stream",
     "text": [
      "luc-seattle\n"
     ]
    },
    {
     "data": {
      "text/html": [
       "<img src=\"https://s3-media1.fl.yelpcdn.com/bphoto/PCSmJZCVYJiVI353W3IV1g/o.jpg\" width=\"200\" height=\"200\"/>"
      ],
      "text/plain": [
       "<IPython.core.display.Image object>"
      ]
     },
     "metadata": {},
     "output_type": "display_data"
    },
    {
     "name": "stdout",
     "output_type": "stream",
     "text": [
      "bings-seattle\n"
     ]
    },
    {
     "data": {
      "text/html": [
       "<img src=\"https://s3-media2.fl.yelpcdn.com/bphoto/T3y8tBzgeRmn8cGiib0QwQ/o.jpg\" width=\"200\" height=\"200\"/>"
      ],
      "text/plain": [
       "<IPython.core.display.Image object>"
      ]
     },
     "metadata": {},
     "output_type": "display_data"
    },
    {
     "name": "stdout",
     "output_type": "stream",
     "text": [
      "fireside-cafe-seattle\n"
     ]
    },
    {
     "data": {
      "text/html": [
       "<img src=\"\" width=\"200\" height=\"200\"/>"
      ],
      "text/plain": [
       "<IPython.core.display.Image object>"
      ]
     },
     "metadata": {},
     "output_type": "display_data"
    },
    {
     "name": "stdout",
     "output_type": "stream",
     "text": [
      "coastal-kitchen-seattle\n"
     ]
    },
    {
     "data": {
      "text/html": [
       "<img src=\"https://s3-media1.fl.yelpcdn.com/bphoto/0FojVUz8kknNz0-jxYbb6g/o.jpg\" width=\"200\" height=\"200\"/>"
      ],
      "text/plain": [
       "<IPython.core.display.Image object>"
      ]
     },
     "metadata": {},
     "output_type": "display_data"
    },
    {
     "name": "stdout",
     "output_type": "stream",
     "text": [
      "harrys-chicken-joint-seattle\n"
     ]
    },
    {
     "data": {
      "text/html": [
       "<img src=\"https://s3-media2.fl.yelpcdn.com/bphoto/fNiJIYW6xuHGJVvAiH28-g/o.jpg\" width=\"200\" height=\"200\"/>"
      ],
      "text/plain": [
       "<IPython.core.display.Image object>"
      ]
     },
     "metadata": {},
     "output_type": "display_data"
    },
    {
     "name": "stdout",
     "output_type": "stream",
     "text": [
      "cheese-wizards-seattle-2\n"
     ]
    },
    {
     "data": {
      "text/html": [
       "<img src=\"https://s3-media2.fl.yelpcdn.com/bphoto/KLz9p1OMscdWsI7fWigbEw/o.jpg\" width=\"200\" height=\"200\"/>"
      ],
      "text/plain": [
       "<IPython.core.display.Image object>"
      ]
     },
     "metadata": {},
     "output_type": "display_data"
    },
    {
     "name": "stdout",
     "output_type": "stream",
     "text": [
      "hit-it-here-cafe-and-bar-seattle\n"
     ]
    },
    {
     "data": {
      "text/html": [
       "<img src=\"https://s3-media4.fl.yelpcdn.com/bphoto/iRo0mpxSC7U9PXjnp-PGtw/o.jpg\" width=\"200\" height=\"200\"/>"
      ],
      "text/plain": [
       "<IPython.core.display.Image object>"
      ]
     },
     "metadata": {},
     "output_type": "display_data"
    },
    {
     "name": "stdout",
     "output_type": "stream",
     "text": [
      "chop-suey-seattle-2\n"
     ]
    },
    {
     "data": {
      "text/html": [
       "<img src=\"https://s3-media2.fl.yelpcdn.com/bphoto/ZJrwZJDnEohQ25UpuNOK2g/o.jpg\" width=\"200\" height=\"200\"/>"
      ],
      "text/plain": [
       "<IPython.core.display.Image object>"
      ]
     },
     "metadata": {},
     "output_type": "display_data"
    },
    {
     "name": "stdout",
     "output_type": "stream",
     "text": [
      "the-comet-tavern-seattle-2\n"
     ]
    },
    {
     "data": {
      "text/html": [
       "<img src=\"https://s3-media2.fl.yelpcdn.com/bphoto/X6wqqo9WBVQbkOLZGz24cw/o.jpg\" width=\"200\" height=\"200\"/>"
      ],
      "text/plain": [
       "<IPython.core.display.Image object>"
      ]
     },
     "metadata": {},
     "output_type": "display_data"
    },
    {
     "name": "stdout",
     "output_type": "stream",
     "text": [
      "h-bar-seattle-2\n"
     ]
    },
    {
     "data": {
      "text/html": [
       "<img src=\"https://s3-media1.fl.yelpcdn.com/bphoto/PJhvIUD97cB-o0Cv0f2k8Q/o.jpg\" width=\"200\" height=\"200\"/>"
      ],
      "text/plain": [
       "<IPython.core.display.Image object>"
      ]
     },
     "metadata": {},
     "output_type": "display_data"
    },
    {
     "name": "stdout",
     "output_type": "stream",
     "text": [
      "dennys-seattle\n"
     ]
    },
    {
     "data": {
      "text/html": [
       "<img src=\"https://s3-media4.fl.yelpcdn.com/bphoto/o3YzGXDVV6CC_HbjYo8lOA/o.jpg\" width=\"200\" height=\"200\"/>"
      ],
      "text/plain": [
       "<IPython.core.display.Image object>"
      ]
     },
     "metadata": {},
     "output_type": "display_data"
    },
    {
     "name": "stdout",
     "output_type": "stream",
     "text": [
      "brellas-seattle-2\n"
     ]
    },
    {
     "data": {
      "text/html": [
       "<img src=\"https://s3-media1.fl.yelpcdn.com/bphoto/Rn6AQekcFeErtz7CKA-8Xw/o.jpg\" width=\"200\" height=\"200\"/>"
      ],
      "text/plain": [
       "<IPython.core.display.Image object>"
      ]
     },
     "metadata": {},
     "output_type": "display_data"
    },
    {
     "name": "stdout",
     "output_type": "stream",
     "text": [
      "deli-seoul-seattle\n"
     ]
    },
    {
     "data": {
      "text/html": [
       "<img src=\"https://s3-media3.fl.yelpcdn.com/bphoto/p3A_vq8AQGZsQCxhSBjP9Q/o.jpg\" width=\"200\" height=\"200\"/>"
      ],
      "text/plain": [
       "<IPython.core.display.Image object>"
      ]
     },
     "metadata": {},
     "output_type": "display_data"
    },
    {
     "name": "stdout",
     "output_type": "stream",
     "text": [
      "the-grubstake-seattle\n"
     ]
    },
    {
     "data": {
      "text/html": [
       "<img src=\"https://s3-media2.fl.yelpcdn.com/bphoto/xOQTIKKeahN83ldKuqv9uQ/o.jpg\" width=\"200\" height=\"200\"/>"
      ],
      "text/plain": [
       "<IPython.core.display.Image object>"
      ]
     },
     "metadata": {},
     "output_type": "display_data"
    },
    {
     "name": "stdout",
     "output_type": "stream",
     "text": [
      "kidd-valley-seattle-7\n"
     ]
    },
    {
     "data": {
      "text/html": [
       "<img src=\"\" width=\"200\" height=\"200\"/>"
      ],
      "text/plain": [
       "<IPython.core.display.Image object>"
      ]
     },
     "metadata": {},
     "output_type": "display_data"
    }
   ],
   "source": [
    "display_pics(restaurant_list, full_restaurant_df)"
   ]
  },
  {
   "cell_type": "markdown",
   "metadata": {},
   "source": [
    "### Choose ten pics to use in survey"
   ]
  },
  {
   "cell_type": "code",
   "execution_count": 693,
   "metadata": {},
   "outputs": [],
   "source": [
    "top_ten_pics = {'category_sandwiches': ['katys-corner-cafe-seattle','seattle-deli-seattle'],\n",
    "               'category_newamerican': ['the-pine-box', 'skillet-regrade-seattle-3'],\n",
    "                'category_asianfusion': ['monsoon-seattle-seattle-4', 'momiji-seattle'],\n",
    "                'category_pizza': ['serious-pie-seattle', 'a-pizza-mart-seattle-11'],\n",
    "                'category_seafood': ['sansei-seafood-restaurant-and-sushi-bar-seattle-3', 'blueacre-seafood-seattle'],\n",
    "                'category_salad': ['homegrown-seattle-4', 'b-side-seattle-2'],\n",
    "                'category_mexican': ['el-grito-taqueria-seattle', 'chipotle-mexican-grill-seattle-7'],\n",
    "                'category_noodles': ['ferry-noodle-house-seattle-3', 'ooink-seattle'],\n",
    "                'category_mediterranean': ['cedars-restaurant-capitol-hill-seattle', 'shawarma-king-seattle-7'],\n",
    "                'category_tradamerican': ['plum-bistro-seattle-2', 'kati-vegan-thai-seattle']\n",
    "               }\n",
    "                "
   ]
  },
  {
   "cell_type": "code",
   "execution_count": 694,
   "metadata": {},
   "outputs": [
    {
     "name": "stdout",
     "output_type": "stream",
     "text": [
      "plum-bistro-seattle-2\n"
     ]
    },
    {
     "data": {
      "text/html": [
       "<img src=\"https://s3-media2.fl.yelpcdn.com/bphoto/hK8Fe2jmnSVzUHRf_PQDNw/o.jpg\" width=\"200\" height=\"200\"/>"
      ],
      "text/plain": [
       "<IPython.core.display.Image object>"
      ]
     },
     "metadata": {},
     "output_type": "display_data"
    },
    {
     "name": "stdout",
     "output_type": "stream",
     "text": [
      "kati-vegan-thai-seattle\n"
     ]
    },
    {
     "data": {
      "text/html": [
       "<img src=\"https://s3-media4.fl.yelpcdn.com/bphoto/o-vpZfMIB_cy-PRnytegxA/o.jpg\" width=\"200\" height=\"200\"/>"
      ],
      "text/plain": [
       "<IPython.core.display.Image object>"
      ]
     },
     "metadata": {},
     "output_type": "display_data"
    }
   ],
   "source": [
    "display_pics(top_ten_pics['category_tradamerican'], full_restaurant_df)"
   ]
  },
  {
   "cell_type": "code",
   "execution_count": null,
   "metadata": {
    "collapsed": true
   },
   "outputs": [],
   "source": [
    "user_data = pd.DataFrame()"
   ]
  },
  {
   "cell_type": "code",
   "execution_count": 572,
   "metadata": {},
   "outputs": [
    {
     "data": {
      "text/html": [
       "<div>\n",
       "<style scoped>\n",
       "    .dataframe tbody tr th:only-of-type {\n",
       "        vertical-align: middle;\n",
       "    }\n",
       "\n",
       "    .dataframe tbody tr th {\n",
       "        vertical-align: top;\n",
       "    }\n",
       "\n",
       "    .dataframe thead th {\n",
       "        text-align: right;\n",
       "    }\n",
       "</style>\n",
       "<table border=\"1\" class=\"dataframe\">\n",
       "  <thead>\n",
       "    <tr style=\"text-align: right;\">\n",
       "      <th></th>\n",
       "      <th>alias</th>\n",
       "      <th>distance</th>\n",
       "      <th>id</th>\n",
       "      <th>image_url</th>\n",
       "      <th>location</th>\n",
       "      <th>rating</th>\n",
       "      <th>review_count</th>\n",
       "      <th>transactions</th>\n",
       "      <th>url</th>\n",
       "      <th>lats</th>\n",
       "      <th>...</th>\n",
       "      <th>category_ethiopian</th>\n",
       "      <th>category_beer_and_wine</th>\n",
       "      <th>category_icecream</th>\n",
       "      <th>category_hotdog</th>\n",
       "      <th>category_catering</th>\n",
       "      <th>category_creperies</th>\n",
       "      <th>category_modern_european</th>\n",
       "      <th>category_divebars</th>\n",
       "      <th>category_restaurants</th>\n",
       "      <th>category_tex-mex</th>\n",
       "    </tr>\n",
       "  </thead>\n",
       "  <tbody>\n",
       "    <tr>\n",
       "      <th>0</th>\n",
       "      <td>amazon-go-seattle-5</td>\n",
       "      <td>493.410866</td>\n",
       "      <td>XDfmz7Woxx6NkZDGBtAVAQ</td>\n",
       "      <td>https://s3-media1.fl.yelpcdn.com/bphoto/fDQhxw...</td>\n",
       "      <td>{'address1': '920 5th Ave', 'address2': None, ...</td>\n",
       "      <td>5.0</td>\n",
       "      <td>7</td>\n",
       "      <td>[]</td>\n",
       "      <td>https://www.yelp.com/biz/amazon-go-seattle-5?a...</td>\n",
       "      <td>47.60638</td>\n",
       "      <td>...</td>\n",
       "      <td>0</td>\n",
       "      <td>0</td>\n",
       "      <td>0</td>\n",
       "      <td>0</td>\n",
       "      <td>0</td>\n",
       "      <td>0</td>\n",
       "      <td>0</td>\n",
       "      <td>0</td>\n",
       "      <td>0</td>\n",
       "      <td>0</td>\n",
       "    </tr>\n",
       "    <tr>\n",
       "      <th>1</th>\n",
       "      <td>the-pink-door-seattle-4</td>\n",
       "      <td>1327.897033</td>\n",
       "      <td>VOPdG8llLPaga9iJxXcMuQ</td>\n",
       "      <td>https://s3-media1.fl.yelpcdn.com/bphoto/c_vzRF...</td>\n",
       "      <td>{'address1': '1919 Post Alley', 'address2': ''...</td>\n",
       "      <td>4.5</td>\n",
       "      <td>4019</td>\n",
       "      <td>[]</td>\n",
       "      <td>https://www.yelp.com/biz/the-pink-door-seattle...</td>\n",
       "      <td>47.61028</td>\n",
       "      <td>...</td>\n",
       "      <td>0</td>\n",
       "      <td>0</td>\n",
       "      <td>0</td>\n",
       "      <td>0</td>\n",
       "      <td>0</td>\n",
       "      <td>0</td>\n",
       "      <td>0</td>\n",
       "      <td>0</td>\n",
       "      <td>0</td>\n",
       "      <td>0</td>\n",
       "    </tr>\n",
       "    <tr>\n",
       "      <th>2</th>\n",
       "      <td>nirmals-seattle</td>\n",
       "      <td>228.364627</td>\n",
       "      <td>GXz21OgpWOtnCF0GDXHPhA</td>\n",
       "      <td>https://s3-media3.fl.yelpcdn.com/bphoto/LVSEXb...</td>\n",
       "      <td>{'address1': '106 Occidental Ave S', 'address2...</td>\n",
       "      <td>4.0</td>\n",
       "      <td>424</td>\n",
       "      <td>[restaurant_reservation, pickup]</td>\n",
       "      <td>https://www.yelp.com/biz/nirmals-seattle?adjus...</td>\n",
       "      <td>47.60147</td>\n",
       "      <td>...</td>\n",
       "      <td>0</td>\n",
       "      <td>0</td>\n",
       "      <td>0</td>\n",
       "      <td>0</td>\n",
       "      <td>0</td>\n",
       "      <td>0</td>\n",
       "      <td>0</td>\n",
       "      <td>0</td>\n",
       "      <td>0</td>\n",
       "      <td>0</td>\n",
       "    </tr>\n",
       "    <tr>\n",
       "      <th>3</th>\n",
       "      <td>bad-bishop-seattle</td>\n",
       "      <td>344.167932</td>\n",
       "      <td>KFMsgY5mV_wCYsa0XX_hEQ</td>\n",
       "      <td>https://s3-media1.fl.yelpcdn.com/bphoto/1GpjX0...</td>\n",
       "      <td>{'address1': '704 1st Ave', 'address2': None, ...</td>\n",
       "      <td>4.5</td>\n",
       "      <td>6</td>\n",
       "      <td>[]</td>\n",
       "      <td>https://www.yelp.com/biz/bad-bishop-seattle?ad...</td>\n",
       "      <td>47.60286</td>\n",
       "      <td>...</td>\n",
       "      <td>0</td>\n",
       "      <td>0</td>\n",
       "      <td>0</td>\n",
       "      <td>0</td>\n",
       "      <td>0</td>\n",
       "      <td>0</td>\n",
       "      <td>0</td>\n",
       "      <td>0</td>\n",
       "      <td>0</td>\n",
       "      <td>0</td>\n",
       "    </tr>\n",
       "    <tr>\n",
       "      <th>4</th>\n",
       "      <td>pike-place-chowder-seattle</td>\n",
       "      <td>1176.460907</td>\n",
       "      <td>6I28wDuMBR5WLMqfKxaoeg</td>\n",
       "      <td>https://s3-media3.fl.yelpcdn.com/bphoto/ijju-w...</td>\n",
       "      <td>{'address1': '1530 Post Aly', 'address2': 'Ste...</td>\n",
       "      <td>4.5</td>\n",
       "      <td>6317</td>\n",
       "      <td>[pickup]</td>\n",
       "      <td>https://www.yelp.com/biz/pike-place-chowder-se...</td>\n",
       "      <td>47.60939</td>\n",
       "      <td>...</td>\n",
       "      <td>0</td>\n",
       "      <td>0</td>\n",
       "      <td>0</td>\n",
       "      <td>0</td>\n",
       "      <td>0</td>\n",
       "      <td>0</td>\n",
       "      <td>0</td>\n",
       "      <td>0</td>\n",
       "      <td>0</td>\n",
       "      <td>0</td>\n",
       "    </tr>\n",
       "  </tbody>\n",
       "</table>\n",
       "<p>5 rows × 117 columns</p>\n",
       "</div>"
      ],
      "text/plain": [
       "                        alias     distance                      id  \\\n",
       "0         amazon-go-seattle-5   493.410866  XDfmz7Woxx6NkZDGBtAVAQ   \n",
       "1     the-pink-door-seattle-4  1327.897033  VOPdG8llLPaga9iJxXcMuQ   \n",
       "2             nirmals-seattle   228.364627  GXz21OgpWOtnCF0GDXHPhA   \n",
       "3          bad-bishop-seattle   344.167932  KFMsgY5mV_wCYsa0XX_hEQ   \n",
       "4  pike-place-chowder-seattle  1176.460907  6I28wDuMBR5WLMqfKxaoeg   \n",
       "\n",
       "                                           image_url  \\\n",
       "0  https://s3-media1.fl.yelpcdn.com/bphoto/fDQhxw...   \n",
       "1  https://s3-media1.fl.yelpcdn.com/bphoto/c_vzRF...   \n",
       "2  https://s3-media3.fl.yelpcdn.com/bphoto/LVSEXb...   \n",
       "3  https://s3-media1.fl.yelpcdn.com/bphoto/1GpjX0...   \n",
       "4  https://s3-media3.fl.yelpcdn.com/bphoto/ijju-w...   \n",
       "\n",
       "                                            location  rating  review_count  \\\n",
       "0  {'address1': '920 5th Ave', 'address2': None, ...     5.0             7   \n",
       "1  {'address1': '1919 Post Alley', 'address2': ''...     4.5          4019   \n",
       "2  {'address1': '106 Occidental Ave S', 'address2...     4.0           424   \n",
       "3  {'address1': '704 1st Ave', 'address2': None, ...     4.5             6   \n",
       "4  {'address1': '1530 Post Aly', 'address2': 'Ste...     4.5          6317   \n",
       "\n",
       "                       transactions  \\\n",
       "0                                []   \n",
       "1                                []   \n",
       "2  [restaurant_reservation, pickup]   \n",
       "3                                []   \n",
       "4                          [pickup]   \n",
       "\n",
       "                                                 url      lats  \\\n",
       "0  https://www.yelp.com/biz/amazon-go-seattle-5?a...  47.60638   \n",
       "1  https://www.yelp.com/biz/the-pink-door-seattle...  47.61028   \n",
       "2  https://www.yelp.com/biz/nirmals-seattle?adjus...  47.60147   \n",
       "3  https://www.yelp.com/biz/bad-bishop-seattle?ad...  47.60286   \n",
       "4  https://www.yelp.com/biz/pike-place-chowder-se...  47.60939   \n",
       "\n",
       "         ...         category_ethiopian category_beer_and_wine  \\\n",
       "0        ...                          0                      0   \n",
       "1        ...                          0                      0   \n",
       "2        ...                          0                      0   \n",
       "3        ...                          0                      0   \n",
       "4        ...                          0                      0   \n",
       "\n",
       "   category_icecream  category_hotdog  category_catering  category_creperies  \\\n",
       "0                  0                0                  0                   0   \n",
       "1                  0                0                  0                   0   \n",
       "2                  0                0                  0                   0   \n",
       "3                  0                0                  0                   0   \n",
       "4                  0                0                  0                   0   \n",
       "\n",
       "   category_modern_european  category_divebars  category_restaurants  \\\n",
       "0                         0                  0                     0   \n",
       "1                         0                  0                     0   \n",
       "2                         0                  0                     0   \n",
       "3                         0                  0                     0   \n",
       "4                         0                  0                     0   \n",
       "\n",
       "   category_tex-mex  \n",
       "0                 0  \n",
       "1                 0  \n",
       "2                 0  \n",
       "3                 0  \n",
       "4                 0  \n",
       "\n",
       "[5 rows x 117 columns]"
      ]
     },
     "execution_count": 572,
     "metadata": {},
     "output_type": "execute_result"
    }
   ],
   "source": [
    "full_restaurant_df.head()"
   ]
  },
  {
   "cell_type": "code",
   "execution_count": 574,
   "metadata": {
    "collapsed": true
   },
   "outputs": [],
   "source": [
    "import geopy.distance"
   ]
  },
  {
   "cell_type": "code",
   "execution_count": 578,
   "metadata": {},
   "outputs": [],
   "source": [
    "rest_coords = (full_restaurant_df['lats'][0], full_restaurant_df['longs'][0])"
   ]
  },
  {
   "cell_type": "code",
   "execution_count": 579,
   "metadata": {
    "collapsed": true
   },
   "outputs": [],
   "source": [
    "galvanize_coords = (47.5990148, -122.3338371)"
   ]
  },
  {
   "cell_type": "code",
   "execution_count": 583,
   "metadata": {},
   "outputs": [
    {
     "data": {
      "text/plain": [
       "0.5233173002821455"
      ]
     },
     "execution_count": 583,
     "metadata": {},
     "output_type": "execute_result"
    }
   ],
   "source": [
    "geopy.distance.distance(galvanize_coords, rest_coords).miles"
   ]
  },
  {
   "cell_type": "code",
   "execution_count": 668,
   "metadata": {},
   "outputs": [],
   "source": [
    "full_restaurant_df.reset_index(drop=True, inplace=True)"
   ]
  },
  {
   "cell_type": "code",
   "execution_count": 674,
   "metadata": {},
   "outputs": [
    {
     "data": {
      "text/plain": [
       "(1392, 117)"
      ]
     },
     "execution_count": 674,
     "metadata": {},
     "output_type": "execute_result"
    }
   ],
   "source": [
    "full_restaurant_df.shape"
   ]
  },
  {
   "cell_type": "code",
   "execution_count": 670,
   "metadata": {},
   "outputs": [],
   "source": [
    "rest_coords = [(full_restaurant_df['lats'][row], full_restaurant_df['longs'][row]) \n",
    "               for row in range(len(full_restaurant_df))] "
   ]
  },
  {
   "cell_type": "code",
   "execution_count": null,
   "metadata": {},
   "outputs": [],
   "source": []
  },
  {
   "cell_type": "code",
   "execution_count": 688,
   "metadata": {},
   "outputs": [],
   "source": [
    "def distance_from_galvanize_feature(df):\n",
    "    \"\"\"Calculates the distance from Galvanize to the restaurant in miles and \n",
    "    makes that a new column in the df\"\"\"\n",
    "    \n",
    "    galvanize_coords = (47.5990148, -122.3338371)\n",
    "    df['dist_from_galvanize'] = [geopy.distance.distance((df['lats'][i],df['longs'][i]), galvanize_coords).miles\n",
    "                                 for i in range(len(full_restaurant_df))]"
   ]
  },
  {
   "cell_type": "code",
   "execution_count": 681,
   "metadata": {},
   "outputs": [],
   "source": [
    "distance_from_galvanize_feature(full_restaurant_df)"
   ]
  },
  {
   "cell_type": "code",
   "execution_count": 684,
   "metadata": {},
   "outputs": [
    {
     "data": {
      "text/html": [
       "<div>\n",
       "<style scoped>\n",
       "    .dataframe tbody tr th:only-of-type {\n",
       "        vertical-align: middle;\n",
       "    }\n",
       "\n",
       "    .dataframe tbody tr th {\n",
       "        vertical-align: top;\n",
       "    }\n",
       "\n",
       "    .dataframe thead th {\n",
       "        text-align: right;\n",
       "    }\n",
       "</style>\n",
       "<table border=\"1\" class=\"dataframe\">\n",
       "  <thead>\n",
       "    <tr style=\"text-align: right;\">\n",
       "      <th></th>\n",
       "      <th>alias</th>\n",
       "      <th>distance</th>\n",
       "      <th>id</th>\n",
       "      <th>image_url</th>\n",
       "      <th>location</th>\n",
       "      <th>rating</th>\n",
       "      <th>review_count</th>\n",
       "      <th>transactions</th>\n",
       "      <th>url</th>\n",
       "      <th>lats</th>\n",
       "      <th>...</th>\n",
       "      <th>category_beer_and_wine</th>\n",
       "      <th>category_icecream</th>\n",
       "      <th>category_hotdog</th>\n",
       "      <th>category_catering</th>\n",
       "      <th>category_creperies</th>\n",
       "      <th>category_modern_european</th>\n",
       "      <th>category_divebars</th>\n",
       "      <th>category_restaurants</th>\n",
       "      <th>category_tex-mex</th>\n",
       "      <th>dist_from_galvanize</th>\n",
       "    </tr>\n",
       "  </thead>\n",
       "  <tbody>\n",
       "    <tr>\n",
       "      <th>372</th>\n",
       "      <td>genis-ethiopian-corner-seattle-2</td>\n",
       "      <td>3205.016760</td>\n",
       "      <td>ld22_roaEZ7lw4tifTu4dQ</td>\n",
       "      <td>https://s3-media4.fl.yelpcdn.com/bphoto/NxReL2...</td>\n",
       "      <td>{'address1': '', 'address2': '', 'address3': N...</td>\n",
       "      <td>5.0</td>\n",
       "      <td>18</td>\n",
       "      <td>[]</td>\n",
       "      <td>https://www.yelp.com/biz/genis-ethiopian-corne...</td>\n",
       "      <td>47.631890</td>\n",
       "      <td>...</td>\n",
       "      <td>0</td>\n",
       "      <td>0</td>\n",
       "      <td>0</td>\n",
       "      <td>0</td>\n",
       "      <td>0</td>\n",
       "      <td>0</td>\n",
       "      <td>0</td>\n",
       "      <td>0</td>\n",
       "      <td>0</td>\n",
       "      <td>2.350068</td>\n",
       "    </tr>\n",
       "    <tr>\n",
       "      <th>458</th>\n",
       "      <td>its-bao-time-seattle</td>\n",
       "      <td>3205.016760</td>\n",
       "      <td>X5wTk2yfDEgP1uqLVh3ilQ</td>\n",
       "      <td>https://s3-media4.fl.yelpcdn.com/bphoto/_9jk2-...</td>\n",
       "      <td>{'address1': None, 'address2': None, 'address3...</td>\n",
       "      <td>4.0</td>\n",
       "      <td>64</td>\n",
       "      <td>[]</td>\n",
       "      <td>https://www.yelp.com/biz/its-bao-time-seattle?...</td>\n",
       "      <td>47.632150</td>\n",
       "      <td>...</td>\n",
       "      <td>0</td>\n",
       "      <td>0</td>\n",
       "      <td>0</td>\n",
       "      <td>0</td>\n",
       "      <td>0</td>\n",
       "      <td>0</td>\n",
       "      <td>0</td>\n",
       "      <td>0</td>\n",
       "      <td>0</td>\n",
       "      <td>2.364480</td>\n",
       "    </tr>\n",
       "    <tr>\n",
       "      <th>492</th>\n",
       "      <td>the-halal-guys-seattl</td>\n",
       "      <td>306.489172</td>\n",
       "      <td>4jhTZLukWoSybju7-3kFtQ</td>\n",
       "      <td>https://s3-media1.fl.yelpcdn.com/bphoto/qQHWuf...</td>\n",
       "      <td>{'address1': '101 Yesler Way', 'address2': '',...</td>\n",
       "      <td>3.0</td>\n",
       "      <td>222</td>\n",
       "      <td>[pickup, delivery]</td>\n",
       "      <td>https://www.yelp.com/biz/the-halal-guys-seattl...</td>\n",
       "      <td>26.205170</td>\n",
       "      <td>...</td>\n",
       "      <td>0</td>\n",
       "      <td>0</td>\n",
       "      <td>0</td>\n",
       "      <td>0</td>\n",
       "      <td>0</td>\n",
       "      <td>0</td>\n",
       "      <td>0</td>\n",
       "      <td>0</td>\n",
       "      <td>0</td>\n",
       "      <td>1972.727788</td>\n",
       "    </tr>\n",
       "    <tr>\n",
       "      <th>557</th>\n",
       "      <td>cheese-wizards-food-truck-seattle</td>\n",
       "      <td>3205.016760</td>\n",
       "      <td>ahV_HqhSEMFeqv_HkESYag</td>\n",
       "      <td>https://s3-media2.fl.yelpcdn.com/bphoto/WJ1ioR...</td>\n",
       "      <td>{'address1': '', 'address2': '', 'address3': '...</td>\n",
       "      <td>5.0</td>\n",
       "      <td>122</td>\n",
       "      <td>[]</td>\n",
       "      <td>https://www.yelp.com/biz/cheese-wizards-food-t...</td>\n",
       "      <td>47.632150</td>\n",
       "      <td>...</td>\n",
       "      <td>0</td>\n",
       "      <td>0</td>\n",
       "      <td>0</td>\n",
       "      <td>0</td>\n",
       "      <td>0</td>\n",
       "      <td>0</td>\n",
       "      <td>0</td>\n",
       "      <td>0</td>\n",
       "      <td>0</td>\n",
       "      <td>2.364480</td>\n",
       "    </tr>\n",
       "    <tr>\n",
       "      <th>691</th>\n",
       "      <td>bumbu-truck-seattle-3</td>\n",
       "      <td>6508.921853</td>\n",
       "      <td>FNm_q6kdtkMgf47mCTt6Jw</td>\n",
       "      <td>https://s3-media3.fl.yelpcdn.com/bphoto/Wn14R1...</td>\n",
       "      <td>{'address1': '', 'address2': '', 'address3': '...</td>\n",
       "      <td>4.5</td>\n",
       "      <td>43</td>\n",
       "      <td>[]</td>\n",
       "      <td>https://www.yelp.com/biz/bumbu-truck-seattle-3...</td>\n",
       "      <td>47.657181</td>\n",
       "      <td>...</td>\n",
       "      <td>0</td>\n",
       "      <td>0</td>\n",
       "      <td>0</td>\n",
       "      <td>0</td>\n",
       "      <td>0</td>\n",
       "      <td>0</td>\n",
       "      <td>0</td>\n",
       "      <td>0</td>\n",
       "      <td>0</td>\n",
       "      <td>4.079808</td>\n",
       "    </tr>\n",
       "    <tr>\n",
       "      <th>778</th>\n",
       "      <td>the-fork-and-fin-seattle</td>\n",
       "      <td>8191.052875</td>\n",
       "      <td>lgWYufb-KZLExNQYcFuhBA</td>\n",
       "      <td>https://s3-media4.fl.yelpcdn.com/bphoto/NDNwfo...</td>\n",
       "      <td>{'address1': '5303 Shilshole Ave NW', 'address...</td>\n",
       "      <td>4.5</td>\n",
       "      <td>10</td>\n",
       "      <td>[]</td>\n",
       "      <td>https://www.yelp.com/biz/the-fork-and-fin-seat...</td>\n",
       "      <td>47.665876</td>\n",
       "      <td>...</td>\n",
       "      <td>0</td>\n",
       "      <td>0</td>\n",
       "      <td>0</td>\n",
       "      <td>0</td>\n",
       "      <td>0</td>\n",
       "      <td>0</td>\n",
       "      <td>0</td>\n",
       "      <td>0</td>\n",
       "      <td>0</td>\n",
       "      <td>5.189710</td>\n",
       "    </tr>\n",
       "    <tr>\n",
       "      <th>801</th>\n",
       "      <td>mediterranean-mixta-seattle</td>\n",
       "      <td>4313.256495</td>\n",
       "      <td>Mi6yMrO1fXfcgmFfrnnJNA</td>\n",
       "      <td>https://s3-media4.fl.yelpcdn.com/bphoto/cZUCje...</td>\n",
       "      <td>{'address1': '1110 Elliott Ave W', 'address2':...</td>\n",
       "      <td>5.0</td>\n",
       "      <td>3</td>\n",
       "      <td>[pickup, delivery]</td>\n",
       "      <td>https://www.yelp.com/biz/mediterranean-mixta-s...</td>\n",
       "      <td>47.629045</td>\n",
       "      <td>...</td>\n",
       "      <td>0</td>\n",
       "      <td>0</td>\n",
       "      <td>0</td>\n",
       "      <td>0</td>\n",
       "      <td>0</td>\n",
       "      <td>0</td>\n",
       "      <td>0</td>\n",
       "      <td>0</td>\n",
       "      <td>0</td>\n",
       "      <td>2.710320</td>\n",
       "    </tr>\n",
       "    <tr>\n",
       "      <th>832</th>\n",
       "      <td>thai-u-up-seattle-5</td>\n",
       "      <td>7210.235468</td>\n",
       "      <td>M8IfeiWxUWeprhaAF8WqPA</td>\n",
       "      <td>https://s3-media3.fl.yelpcdn.com/bphoto/RXq3SD...</td>\n",
       "      <td>{'address1': '6335 35th Ave SW', 'address2': N...</td>\n",
       "      <td>4.0</td>\n",
       "      <td>85</td>\n",
       "      <td>[pickup, delivery]</td>\n",
       "      <td>https://www.yelp.com/biz/thai-u-up-seattle-5?a...</td>\n",
       "      <td>47.545560</td>\n",
       "      <td>...</td>\n",
       "      <td>0</td>\n",
       "      <td>0</td>\n",
       "      <td>0</td>\n",
       "      <td>0</td>\n",
       "      <td>0</td>\n",
       "      <td>0</td>\n",
       "      <td>0</td>\n",
       "      <td>0</td>\n",
       "      <td>0</td>\n",
       "      <td>4.203565</td>\n",
       "    </tr>\n",
       "    <tr>\n",
       "      <th>851</th>\n",
       "      <td>paparepas-food-truck-bellevue</td>\n",
       "      <td>9725.702432</td>\n",
       "      <td>LGRWf1gAu1kd8MJUhF4zNQ</td>\n",
       "      <td>https://s3-media3.fl.yelpcdn.com/bphoto/99Bshy...</td>\n",
       "      <td>{'address1': '', 'address2': None, 'address3':...</td>\n",
       "      <td>5.0</td>\n",
       "      <td>63</td>\n",
       "      <td>[]</td>\n",
       "      <td>https://www.yelp.com/biz/paparepas-food-truck-...</td>\n",
       "      <td>47.615850</td>\n",
       "      <td>...</td>\n",
       "      <td>0</td>\n",
       "      <td>0</td>\n",
       "      <td>0</td>\n",
       "      <td>0</td>\n",
       "      <td>0</td>\n",
       "      <td>0</td>\n",
       "      <td>0</td>\n",
       "      <td>0</td>\n",
       "      <td>0</td>\n",
       "      <td>6.503580</td>\n",
       "    </tr>\n",
       "    <tr>\n",
       "      <th>867</th>\n",
       "      <td>the-botanist-reading</td>\n",
       "      <td>414.066209</td>\n",
       "      <td>wrhCRrowDuSMcbGBabncUQ</td>\n",
       "      <td>https://s3-media3.fl.yelpcdn.com/bphoto/S54uXa...</td>\n",
       "      <td>{'address1': '1-5 KING STREET', 'address2': ''...</td>\n",
       "      <td>3.0</td>\n",
       "      <td>2</td>\n",
       "      <td>[]</td>\n",
       "      <td>https://www.yelp.com/biz/the-botanist-reading?...</td>\n",
       "      <td>51.455098</td>\n",
       "      <td>...</td>\n",
       "      <td>0</td>\n",
       "      <td>0</td>\n",
       "      <td>0</td>\n",
       "      <td>0</td>\n",
       "      <td>0</td>\n",
       "      <td>0</td>\n",
       "      <td>0</td>\n",
       "      <td>0</td>\n",
       "      <td>0</td>\n",
       "      <td>4779.700868</td>\n",
       "    </tr>\n",
       "    <tr>\n",
       "      <th>890</th>\n",
       "      <td>don-luchos-sandwiches-seattle</td>\n",
       "      <td>10676.877339</td>\n",
       "      <td>wsYDBIQxnq7RtSlfa6xqBQ</td>\n",
       "      <td>https://s3-media2.fl.yelpcdn.com/bphoto/ZIcxtb...</td>\n",
       "      <td>{'address1': '', 'address2': None, 'address3':...</td>\n",
       "      <td>4.5</td>\n",
       "      <td>51</td>\n",
       "      <td>[]</td>\n",
       "      <td>https://www.yelp.com/biz/don-luchos-sandwiches...</td>\n",
       "      <td>47.688961</td>\n",
       "      <td>...</td>\n",
       "      <td>0</td>\n",
       "      <td>0</td>\n",
       "      <td>0</td>\n",
       "      <td>0</td>\n",
       "      <td>0</td>\n",
       "      <td>0</td>\n",
       "      <td>0</td>\n",
       "      <td>0</td>\n",
       "      <td>0</td>\n",
       "      <td>6.474967</td>\n",
       "    </tr>\n",
       "    <tr>\n",
       "      <th>910</th>\n",
       "      <td>momma-bears-fry-bread-seattle-5</td>\n",
       "      <td>10217.417914</td>\n",
       "      <td>tKE_8YYGn7oDsNdCPSHGbQ</td>\n",
       "      <td>https://s3-media3.fl.yelpcdn.com/bphoto/2vuU73...</td>\n",
       "      <td>{'address1': '10057 17th Ave SW', 'address2': ...</td>\n",
       "      <td>5.0</td>\n",
       "      <td>5</td>\n",
       "      <td>[]</td>\n",
       "      <td>https://www.yelp.com/biz/momma-bears-fry-bread...</td>\n",
       "      <td>47.512013</td>\n",
       "      <td>...</td>\n",
       "      <td>0</td>\n",
       "      <td>0</td>\n",
       "      <td>0</td>\n",
       "      <td>0</td>\n",
       "      <td>0</td>\n",
       "      <td>0</td>\n",
       "      <td>0</td>\n",
       "      <td>0</td>\n",
       "      <td>0</td>\n",
       "      <td>6.103248</td>\n",
       "    </tr>\n",
       "    <tr>\n",
       "      <th>939</th>\n",
       "      <td>taqueria-la-original-seattle</td>\n",
       "      <td>6405.423047</td>\n",
       "      <td>i9DLpS-vVmFF1MKB2exHlg</td>\n",
       "      <td>https://s3-media1.fl.yelpcdn.com/bphoto/BVlY_S...</td>\n",
       "      <td>{'address1': '', 'address2': '', 'address3': N...</td>\n",
       "      <td>4.5</td>\n",
       "      <td>23</td>\n",
       "      <td>[]</td>\n",
       "      <td>https://www.yelp.com/biz/taqueria-la-original-...</td>\n",
       "      <td>47.564613</td>\n",
       "      <td>...</td>\n",
       "      <td>0</td>\n",
       "      <td>0</td>\n",
       "      <td>0</td>\n",
       "      <td>0</td>\n",
       "      <td>0</td>\n",
       "      <td>0</td>\n",
       "      <td>0</td>\n",
       "      <td>0</td>\n",
       "      <td>0</td>\n",
       "      <td>3.470696</td>\n",
       "    </tr>\n",
       "    <tr>\n",
       "      <th>950</th>\n",
       "      <td>dandylion-seattle-2</td>\n",
       "      <td>2711.355838</td>\n",
       "      <td>HFzeL2OHIpTHE46eAA98yQ</td>\n",
       "      <td>https://s3-media3.fl.yelpcdn.com/bphoto/bsS5Qy...</td>\n",
       "      <td>{'address1': '532 Queen Anne Ave N', 'address2...</td>\n",
       "      <td>4.0</td>\n",
       "      <td>46</td>\n",
       "      <td>[]</td>\n",
       "      <td>https://www.yelp.com/biz/dandylion-seattle-2?a...</td>\n",
       "      <td>47.624257</td>\n",
       "      <td>...</td>\n",
       "      <td>0</td>\n",
       "      <td>0</td>\n",
       "      <td>0</td>\n",
       "      <td>0</td>\n",
       "      <td>0</td>\n",
       "      <td>0</td>\n",
       "      <td>0</td>\n",
       "      <td>0</td>\n",
       "      <td>0</td>\n",
       "      <td>2.041364</td>\n",
       "    </tr>\n",
       "    <tr>\n",
       "      <th>951</th>\n",
       "      <td>koku-cafe-market-seattle</td>\n",
       "      <td>3448.533639</td>\n",
       "      <td>tS8twhq6IBIq0zGvBg8SLg</td>\n",
       "      <td>https://s3-media2.fl.yelpcdn.com/bphoto/fMC6QD...</td>\n",
       "      <td>{'address1': '1417 Queen Anne Ave N', 'address...</td>\n",
       "      <td>5.0</td>\n",
       "      <td>17</td>\n",
       "      <td>[pickup, delivery]</td>\n",
       "      <td>https://www.yelp.com/biz/koku-cafe-market-seat...</td>\n",
       "      <td>47.632030</td>\n",
       "      <td>...</td>\n",
       "      <td>0</td>\n",
       "      <td>0</td>\n",
       "      <td>0</td>\n",
       "      <td>0</td>\n",
       "      <td>0</td>\n",
       "      <td>0</td>\n",
       "      <td>0</td>\n",
       "      <td>0</td>\n",
       "      <td>0</td>\n",
       "      <td>2.525119</td>\n",
       "    </tr>\n",
       "    <tr>\n",
       "      <th>958</th>\n",
       "      <td>toulouse-petit-kitchen-and-lounge-seattle</td>\n",
       "      <td>2790.064468</td>\n",
       "      <td>r2qcG59sAqqptnwL4aJGhg</td>\n",
       "      <td>https://s3-media1.fl.yelpcdn.com/bphoto/UmEDw1...</td>\n",
       "      <td>{'address1': '601 Queen Anne Ave N', 'address2...</td>\n",
       "      <td>4.0</td>\n",
       "      <td>3618</td>\n",
       "      <td>[]</td>\n",
       "      <td>https://www.yelp.com/biz/toulouse-petit-kitche...</td>\n",
       "      <td>47.624851</td>\n",
       "      <td>...</td>\n",
       "      <td>0</td>\n",
       "      <td>0</td>\n",
       "      <td>0</td>\n",
       "      <td>0</td>\n",
       "      <td>0</td>\n",
       "      <td>0</td>\n",
       "      <td>0</td>\n",
       "      <td>0</td>\n",
       "      <td>0</td>\n",
       "      <td>2.090388</td>\n",
       "    </tr>\n",
       "    <tr>\n",
       "      <th>963</th>\n",
       "      <td>dukes-seafood-and-chowder-seattle-3</td>\n",
       "      <td>2587.713196</td>\n",
       "      <td>n6hB6mIctJQDn-DAH7MpGg</td>\n",
       "      <td>https://s3-media4.fl.yelpcdn.com/bphoto/I7S3x9...</td>\n",
       "      <td>{'address1': '901 Fairview Ave N', 'address2':...</td>\n",
       "      <td>4.0</td>\n",
       "      <td>714</td>\n",
       "      <td>[]</td>\n",
       "      <td>https://www.yelp.com/biz/dukes-seafood-and-cho...</td>\n",
       "      <td>47.628026</td>\n",
       "      <td>...</td>\n",
       "      <td>0</td>\n",
       "      <td>0</td>\n",
       "      <td>0</td>\n",
       "      <td>0</td>\n",
       "      <td>0</td>\n",
       "      <td>0</td>\n",
       "      <td>0</td>\n",
       "      <td>0</td>\n",
       "      <td>0</td>\n",
       "      <td>2.004268</td>\n",
       "    </tr>\n",
       "    <tr>\n",
       "      <th>967</th>\n",
       "      <td>jacks-bbq-seattle-9</td>\n",
       "      <td>4164.566466</td>\n",
       "      <td>6_zxj1HKD8mSNI8Rh2cxog</td>\n",
       "      <td>https://s3-media3.fl.yelpcdn.com/bphoto/V0oivf...</td>\n",
       "      <td>{'address1': '3924 Airport Way S', 'address2':...</td>\n",
       "      <td>4.0</td>\n",
       "      <td>590</td>\n",
       "      <td>[pickup, delivery, restaurant_reservation]</td>\n",
       "      <td>https://www.yelp.com/biz/jacks-bbq-seattle-9?a...</td>\n",
       "      <td>47.568253</td>\n",
       "      <td>...</td>\n",
       "      <td>0</td>\n",
       "      <td>0</td>\n",
       "      <td>0</td>\n",
       "      <td>0</td>\n",
       "      <td>0</td>\n",
       "      <td>0</td>\n",
       "      <td>0</td>\n",
       "      <td>0</td>\n",
       "      <td>0</td>\n",
       "      <td>2.190947</td>\n",
       "    </tr>\n",
       "    <tr>\n",
       "      <th>972</th>\n",
       "      <td>marination-ma-kai-seattle</td>\n",
       "      <td>3834.383906</td>\n",
       "      <td>IsvlaFF0EPEhh3ahTuC4xg</td>\n",
       "      <td>https://s3-media1.fl.yelpcdn.com/bphoto/r19fwm...</td>\n",
       "      <td>{'address1': '1660 Harbor Ave SW', 'address2':...</td>\n",
       "      <td>4.0</td>\n",
       "      <td>897</td>\n",
       "      <td>[]</td>\n",
       "      <td>https://www.yelp.com/biz/marination-ma-kai-sea...</td>\n",
       "      <td>47.589555</td>\n",
       "      <td>...</td>\n",
       "      <td>0</td>\n",
       "      <td>0</td>\n",
       "      <td>0</td>\n",
       "      <td>0</td>\n",
       "      <td>0</td>\n",
       "      <td>0</td>\n",
       "      <td>0</td>\n",
       "      <td>0</td>\n",
       "      <td>0</td>\n",
       "      <td>2.286292</td>\n",
       "    </tr>\n",
       "    <tr>\n",
       "      <th>978</th>\n",
       "      <td>the-white-swan-public-house-seattle-2</td>\n",
       "      <td>2714.457265</td>\n",
       "      <td>CycF-FKea-x1jGukd4khyg</td>\n",
       "      <td>https://s3-media2.fl.yelpcdn.com/bphoto/vqFX1i...</td>\n",
       "      <td>{'address1': '1001 Fairview Ave N', 'address2'...</td>\n",
       "      <td>4.0</td>\n",
       "      <td>167</td>\n",
       "      <td>[pickup]</td>\n",
       "      <td>https://www.yelp.com/biz/the-white-swan-public...</td>\n",
       "      <td>47.628819</td>\n",
       "      <td>...</td>\n",
       "      <td>0</td>\n",
       "      <td>0</td>\n",
       "      <td>0</td>\n",
       "      <td>0</td>\n",
       "      <td>0</td>\n",
       "      <td>0</td>\n",
       "      <td>0</td>\n",
       "      <td>0</td>\n",
       "      <td>0</td>\n",
       "      <td>2.061322</td>\n",
       "    </tr>\n",
       "    <tr>\n",
       "      <th>992</th>\n",
       "      <td>hanok-seattle-2</td>\n",
       "      <td>5212.197879</td>\n",
       "      <td>ZHMHUTDxXhufLU-iFSNntg</td>\n",
       "      <td>https://s3-media3.fl.yelpcdn.com/bphoto/S7NwaA...</td>\n",
       "      <td>{'address1': '4021 E Madison St', 'address2': ...</td>\n",
       "      <td>4.5</td>\n",
       "      <td>23</td>\n",
       "      <td>[]</td>\n",
       "      <td>https://www.yelp.com/biz/hanok-seattle-2?adjus...</td>\n",
       "      <td>47.633830</td>\n",
       "      <td>...</td>\n",
       "      <td>0</td>\n",
       "      <td>0</td>\n",
       "      <td>0</td>\n",
       "      <td>0</td>\n",
       "      <td>0</td>\n",
       "      <td>0</td>\n",
       "      <td>0</td>\n",
       "      <td>0</td>\n",
       "      <td>0</td>\n",
       "      <td>3.470469</td>\n",
       "    </tr>\n",
       "    <tr>\n",
       "      <th>993</th>\n",
       "      <td>saltys-on-alki-seattle-3</td>\n",
       "      <td>3714.847496</td>\n",
       "      <td>Y5r2AvXmSc-YA6MGXjK6Ow</td>\n",
       "      <td>https://s3-media2.fl.yelpcdn.com/bphoto/A0k3mQ...</td>\n",
       "      <td>{'address1': '1936 Harbor Ave SW', 'address2':...</td>\n",
       "      <td>3.5</td>\n",
       "      <td>1678</td>\n",
       "      <td>[]</td>\n",
       "      <td>https://www.yelp.com/biz/saltys-on-alki-seattl...</td>\n",
       "      <td>47.586590</td>\n",
       "      <td>...</td>\n",
       "      <td>0</td>\n",
       "      <td>0</td>\n",
       "      <td>0</td>\n",
       "      <td>0</td>\n",
       "      <td>0</td>\n",
       "      <td>0</td>\n",
       "      <td>0</td>\n",
       "      <td>0</td>\n",
       "      <td>0</td>\n",
       "      <td>2.177592</td>\n",
       "    </tr>\n",
       "    <tr>\n",
       "      <th>995</th>\n",
       "      <td>kin-dee-seattle-4</td>\n",
       "      <td>2925.535056</td>\n",
       "      <td>mO-OPKmvA4VtpZHoAlvFxA</td>\n",
       "      <td>https://s3-media1.fl.yelpcdn.com/bphoto/vcG5ND...</td>\n",
       "      <td>{'address1': '2301 E Madison St', 'address2': ...</td>\n",
       "      <td>4.0</td>\n",
       "      <td>49</td>\n",
       "      <td>[]</td>\n",
       "      <td>https://www.yelp.com/biz/kin-dee-seattle-4?adj...</td>\n",
       "      <td>47.619170</td>\n",
       "      <td>...</td>\n",
       "      <td>0</td>\n",
       "      <td>0</td>\n",
       "      <td>0</td>\n",
       "      <td>0</td>\n",
       "      <td>0</td>\n",
       "      <td>0</td>\n",
       "      <td>0</td>\n",
       "      <td>0</td>\n",
       "      <td>0</td>\n",
       "      <td>2.031672</td>\n",
       "    </tr>\n",
       "    <tr>\n",
       "      <th>996</th>\n",
       "      <td>birch-seattle</td>\n",
       "      <td>2714.457265</td>\n",
       "      <td>NLof45wsjUdoZRgHFGe1xA</td>\n",
       "      <td>https://s3-media2.fl.yelpcdn.com/bphoto/HcEVOU...</td>\n",
       "      <td>{'address1': '1001 Fairview Ave N', 'address2'...</td>\n",
       "      <td>4.5</td>\n",
       "      <td>19</td>\n",
       "      <td>[]</td>\n",
       "      <td>https://www.yelp.com/biz/birch-seattle?adjust_...</td>\n",
       "      <td>47.628810</td>\n",
       "      <td>...</td>\n",
       "      <td>0</td>\n",
       "      <td>0</td>\n",
       "      <td>0</td>\n",
       "      <td>0</td>\n",
       "      <td>0</td>\n",
       "      <td>0</td>\n",
       "      <td>0</td>\n",
       "      <td>0</td>\n",
       "      <td>0</td>\n",
       "      <td>2.060733</td>\n",
       "    </tr>\n",
       "    <tr>\n",
       "      <th>1001</th>\n",
       "      <td>crow-seattle</td>\n",
       "      <td>2660.960228</td>\n",
       "      <td>EjVi5qvVN-DC27ocfUhj0w</td>\n",
       "      <td>https://s3-media1.fl.yelpcdn.com/bphoto/woD4Gz...</td>\n",
       "      <td>{'address1': '823 5th Ave N', 'address2': None...</td>\n",
       "      <td>4.0</td>\n",
       "      <td>562</td>\n",
       "      <td>[]</td>\n",
       "      <td>https://www.yelp.com/biz/crow-seattle?adjust_c...</td>\n",
       "      <td>47.627020</td>\n",
       "      <td>...</td>\n",
       "      <td>0</td>\n",
       "      <td>0</td>\n",
       "      <td>0</td>\n",
       "      <td>0</td>\n",
       "      <td>0</td>\n",
       "      <td>0</td>\n",
       "      <td>0</td>\n",
       "      <td>0</td>\n",
       "      <td>0</td>\n",
       "      <td>2.042207</td>\n",
       "    </tr>\n",
       "    <tr>\n",
       "      <th>1003</th>\n",
       "      <td>kauai-family-restaurant-seattle</td>\n",
       "      <td>6622.569280</td>\n",
       "      <td>ZePNj2ZqimO9D2WcKZRRwg</td>\n",
       "      <td>https://s3-media4.fl.yelpcdn.com/bphoto/Vkwhml...</td>\n",
       "      <td>{'address1': '6324 6th Ave S', 'address2': '',...</td>\n",
       "      <td>4.5</td>\n",
       "      <td>491</td>\n",
       "      <td>[pickup]</td>\n",
       "      <td>https://www.yelp.com/biz/kauai-family-restaura...</td>\n",
       "      <td>47.545530</td>\n",
       "      <td>...</td>\n",
       "      <td>0</td>\n",
       "      <td>0</td>\n",
       "      <td>0</td>\n",
       "      <td>0</td>\n",
       "      <td>0</td>\n",
       "      <td>0</td>\n",
       "      <td>0</td>\n",
       "      <td>0</td>\n",
       "      <td>0</td>\n",
       "      <td>3.713833</td>\n",
       "    </tr>\n",
       "    <tr>\n",
       "      <th>1008</th>\n",
       "      <td>kamonegi-seattle</td>\n",
       "      <td>5528.323653</td>\n",
       "      <td>tC9DRmULoje1qk0dB3EDAQ</td>\n",
       "      <td>https://s3-media4.fl.yelpcdn.com/bphoto/WbCfD8...</td>\n",
       "      <td>{'address1': '1054 N 39th St', 'address2': Non...</td>\n",
       "      <td>4.0</td>\n",
       "      <td>137</td>\n",
       "      <td>[]</td>\n",
       "      <td>https://www.yelp.com/biz/kamonegi-seattle?adju...</td>\n",
       "      <td>47.654075</td>\n",
       "      <td>...</td>\n",
       "      <td>0</td>\n",
       "      <td>0</td>\n",
       "      <td>0</td>\n",
       "      <td>0</td>\n",
       "      <td>0</td>\n",
       "      <td>0</td>\n",
       "      <td>0</td>\n",
       "      <td>0</td>\n",
       "      <td>0</td>\n",
       "      <td>3.834683</td>\n",
       "    </tr>\n",
       "    <tr>\n",
       "      <th>1009</th>\n",
       "      <td>poke-to-the-max-seattle-seattle</td>\n",
       "      <td>6969.197611</td>\n",
       "      <td>5JRxGetpcPIqsfVUTmyUSg</td>\n",
       "      <td>https://s3-media1.fl.yelpcdn.com/bphoto/CMXH0V...</td>\n",
       "      <td>{'address1': '5300 Rainier Ave S', 'address2':...</td>\n",
       "      <td>4.0</td>\n",
       "      <td>222</td>\n",
       "      <td>[]</td>\n",
       "      <td>https://www.yelp.com/biz/poke-to-the-max-seatt...</td>\n",
       "      <td>47.554010</td>\n",
       "      <td>...</td>\n",
       "      <td>0</td>\n",
       "      <td>0</td>\n",
       "      <td>0</td>\n",
       "      <td>0</td>\n",
       "      <td>0</td>\n",
       "      <td>0</td>\n",
       "      <td>0</td>\n",
       "      <td>0</td>\n",
       "      <td>0</td>\n",
       "      <td>3.990753</td>\n",
       "    </tr>\n",
       "    <tr>\n",
       "      <th>1010</th>\n",
       "      <td>windy-city-pie-seattle</td>\n",
       "      <td>4129.743930</td>\n",
       "      <td>GRTqcXMTXK2byoW0aiKX2g</td>\n",
       "      <td>https://s3-media4.fl.yelpcdn.com/bphoto/L6bKEG...</td>\n",
       "      <td>{'address1': '1417 Elliott Ave W', 'address2':...</td>\n",
       "      <td>4.5</td>\n",
       "      <td>336</td>\n",
       "      <td>[pickup]</td>\n",
       "      <td>https://www.yelp.com/biz/windy-city-pie-seattl...</td>\n",
       "      <td>47.630695</td>\n",
       "      <td>...</td>\n",
       "      <td>0</td>\n",
       "      <td>0</td>\n",
       "      <td>0</td>\n",
       "      <td>0</td>\n",
       "      <td>0</td>\n",
       "      <td>0</td>\n",
       "      <td>0</td>\n",
       "      <td>0</td>\n",
       "      <td>0</td>\n",
       "      <td>2.890846</td>\n",
       "    </tr>\n",
       "    <tr>\n",
       "      <th>1011</th>\n",
       "      <td>dads-diner-seattle</td>\n",
       "      <td>3906.968801</td>\n",
       "      <td>Sj51Q61sN-ijdNonuLwJtg</td>\n",
       "      <td>https://s3-media1.fl.yelpcdn.com/bphoto/AOSNxW...</td>\n",
       "      <td>{'address1': '2236 Eastlake Ave E', 'address2'...</td>\n",
       "      <td>4.5</td>\n",
       "      <td>46</td>\n",
       "      <td>[]</td>\n",
       "      <td>https://www.yelp.com/biz/dads-diner-seattle?ad...</td>\n",
       "      <td>47.639370</td>\n",
       "      <td>...</td>\n",
       "      <td>0</td>\n",
       "      <td>0</td>\n",
       "      <td>0</td>\n",
       "      <td>0</td>\n",
       "      <td>0</td>\n",
       "      <td>0</td>\n",
       "      <td>0</td>\n",
       "      <td>0</td>\n",
       "      <td>0</td>\n",
       "      <td>2.814976</td>\n",
       "    </tr>\n",
       "    <tr>\n",
       "      <th>...</th>\n",
       "      <td>...</td>\n",
       "      <td>...</td>\n",
       "      <td>...</td>\n",
       "      <td>...</td>\n",
       "      <td>...</td>\n",
       "      <td>...</td>\n",
       "      <td>...</td>\n",
       "      <td>...</td>\n",
       "      <td>...</td>\n",
       "      <td>...</td>\n",
       "      <td>...</td>\n",
       "      <td>...</td>\n",
       "      <td>...</td>\n",
       "      <td>...</td>\n",
       "      <td>...</td>\n",
       "      <td>...</td>\n",
       "      <td>...</td>\n",
       "      <td>...</td>\n",
       "      <td>...</td>\n",
       "      <td>...</td>\n",
       "      <td>...</td>\n",
       "    </tr>\n",
       "    <tr>\n",
       "      <th>1197</th>\n",
       "      <td>nishino-seattle</td>\n",
       "      <td>4054.379322</td>\n",
       "      <td>rDtJGrHmFv5V4pxtuSj4XQ</td>\n",
       "      <td>https://s3-media3.fl.yelpcdn.com/bphoto/Mx-M9D...</td>\n",
       "      <td>{'address1': '3130 E Madison St', 'address2': ...</td>\n",
       "      <td>4.5</td>\n",
       "      <td>632</td>\n",
       "      <td>[]</td>\n",
       "      <td>https://www.yelp.com/biz/nishino-seattle?adjus...</td>\n",
       "      <td>47.626866</td>\n",
       "      <td>...</td>\n",
       "      <td>0</td>\n",
       "      <td>0</td>\n",
       "      <td>0</td>\n",
       "      <td>0</td>\n",
       "      <td>0</td>\n",
       "      <td>0</td>\n",
       "      <td>0</td>\n",
       "      <td>0</td>\n",
       "      <td>0</td>\n",
       "      <td>2.749138</td>\n",
       "    </tr>\n",
       "    <tr>\n",
       "      <th>1205</th>\n",
       "      <td>tallulahs-seattle</td>\n",
       "      <td>2995.213753</td>\n",
       "      <td>DD-qG0ObNL4qG082WQCAIg</td>\n",
       "      <td>https://s3-media1.fl.yelpcdn.com/bphoto/VdSUju...</td>\n",
       "      <td>{'address1': '550 19th Ave E', 'address2': '',...</td>\n",
       "      <td>3.5</td>\n",
       "      <td>380</td>\n",
       "      <td>[]</td>\n",
       "      <td>https://www.yelp.com/biz/tallulahs-seattle?adj...</td>\n",
       "      <td>47.624287</td>\n",
       "      <td>...</td>\n",
       "      <td>0</td>\n",
       "      <td>0</td>\n",
       "      <td>0</td>\n",
       "      <td>0</td>\n",
       "      <td>0</td>\n",
       "      <td>0</td>\n",
       "      <td>0</td>\n",
       "      <td>0</td>\n",
       "      <td>0</td>\n",
       "      <td>2.141467</td>\n",
       "    </tr>\n",
       "    <tr>\n",
       "      <th>1206</th>\n",
       "      <td>potbelly-sandwich-shop-seattle-11</td>\n",
       "      <td>2759.689886</td>\n",
       "      <td>l5jMS-YK98yYfZft3aEGbg</td>\n",
       "      <td>https://s3-media4.fl.yelpcdn.com/bphoto/0JgGIK...</td>\n",
       "      <td>{'address1': '1101 Dexter Ave N', 'address2': ...</td>\n",
       "      <td>4.5</td>\n",
       "      <td>10</td>\n",
       "      <td>[pickup]</td>\n",
       "      <td>https://www.yelp.com/biz/potbelly-sandwich-sho...</td>\n",
       "      <td>47.629033</td>\n",
       "      <td>...</td>\n",
       "      <td>0</td>\n",
       "      <td>0</td>\n",
       "      <td>0</td>\n",
       "      <td>0</td>\n",
       "      <td>0</td>\n",
       "      <td>0</td>\n",
       "      <td>0</td>\n",
       "      <td>0</td>\n",
       "      <td>0</td>\n",
       "      <td>2.113118</td>\n",
       "    </tr>\n",
       "    <tr>\n",
       "      <th>1209</th>\n",
       "      <td>calozzis-cheesesteaks-seattle-3</td>\n",
       "      <td>7229.642734</td>\n",
       "      <td>DULfZDXKWLmX7MIH0J04yg</td>\n",
       "      <td>https://s3-media2.fl.yelpcdn.com/bphoto/innQo5...</td>\n",
       "      <td>{'address1': '7016 E Marginal Way S', 'address...</td>\n",
       "      <td>4.5</td>\n",
       "      <td>228</td>\n",
       "      <td>[]</td>\n",
       "      <td>https://www.yelp.com/biz/calozzis-cheesesteaks...</td>\n",
       "      <td>47.540249</td>\n",
       "      <td>...</td>\n",
       "      <td>0</td>\n",
       "      <td>0</td>\n",
       "      <td>0</td>\n",
       "      <td>0</td>\n",
       "      <td>0</td>\n",
       "      <td>0</td>\n",
       "      <td>0</td>\n",
       "      <td>0</td>\n",
       "      <td>0</td>\n",
       "      <td>4.092247</td>\n",
       "    </tr>\n",
       "    <tr>\n",
       "      <th>1211</th>\n",
       "      <td>din-tai-fung-seattle</td>\n",
       "      <td>6853.474679</td>\n",
       "      <td>ud5NuBZka9lVZdRlhQDrjQ</td>\n",
       "      <td>https://s3-media2.fl.yelpcdn.com/bphoto/wqaerj...</td>\n",
       "      <td>{'address1': '2621 NE 46th St', 'address2': ''...</td>\n",
       "      <td>4.0</td>\n",
       "      <td>1899</td>\n",
       "      <td>[]</td>\n",
       "      <td>https://www.yelp.com/biz/din-tai-fung-seattle?...</td>\n",
       "      <td>47.661640</td>\n",
       "      <td>...</td>\n",
       "      <td>0</td>\n",
       "      <td>0</td>\n",
       "      <td>0</td>\n",
       "      <td>0</td>\n",
       "      <td>0</td>\n",
       "      <td>0</td>\n",
       "      <td>0</td>\n",
       "      <td>0</td>\n",
       "      <td>0</td>\n",
       "      <td>4.618854</td>\n",
       "    </tr>\n",
       "    <tr>\n",
       "      <th>1212</th>\n",
       "      <td>blue-water-taco-grill-seattle-7</td>\n",
       "      <td>2691.672967</td>\n",
       "      <td>qLdb6V3umTfpsuZz2uD9eQ</td>\n",
       "      <td>https://s3-media1.fl.yelpcdn.com/bphoto/TLok95...</td>\n",
       "      <td>{'address1': '515 Queen Anne Ave N', 'address2...</td>\n",
       "      <td>4.0</td>\n",
       "      <td>252</td>\n",
       "      <td>[]</td>\n",
       "      <td>https://www.yelp.com/biz/blue-water-taco-grill...</td>\n",
       "      <td>47.623790</td>\n",
       "      <td>...</td>\n",
       "      <td>0</td>\n",
       "      <td>0</td>\n",
       "      <td>0</td>\n",
       "      <td>0</td>\n",
       "      <td>0</td>\n",
       "      <td>0</td>\n",
       "      <td>0</td>\n",
       "      <td>0</td>\n",
       "      <td>0</td>\n",
       "      <td>2.021997</td>\n",
       "    </tr>\n",
       "    <tr>\n",
       "      <th>1213</th>\n",
       "      <td>harvest-beat-seattle</td>\n",
       "      <td>6273.625631</td>\n",
       "      <td>mOybprI4rEcRQUxBqAhupw</td>\n",
       "      <td>https://s3-media4.fl.yelpcdn.com/bphoto/-kmJvE...</td>\n",
       "      <td>{'address1': '1711 N 45th St', 'address2': '',...</td>\n",
       "      <td>4.5</td>\n",
       "      <td>135</td>\n",
       "      <td>[]</td>\n",
       "      <td>https://www.yelp.com/biz/harvest-beat-seattle?...</td>\n",
       "      <td>47.661150</td>\n",
       "      <td>...</td>\n",
       "      <td>0</td>\n",
       "      <td>0</td>\n",
       "      <td>0</td>\n",
       "      <td>0</td>\n",
       "      <td>0</td>\n",
       "      <td>0</td>\n",
       "      <td>0</td>\n",
       "      <td>0</td>\n",
       "      <td>0</td>\n",
       "      <td>4.294871</td>\n",
       "    </tr>\n",
       "    <tr>\n",
       "      <th>1216</th>\n",
       "      <td>pomerol-seattle-2</td>\n",
       "      <td>5552.760390</td>\n",
       "      <td>ZULAGXaQta12BWWOMnm3DQ</td>\n",
       "      <td>https://s3-media3.fl.yelpcdn.com/bphoto/lCbpCs...</td>\n",
       "      <td>{'address1': '127 N 36th St', 'address2': '', ...</td>\n",
       "      <td>4.5</td>\n",
       "      <td>205</td>\n",
       "      <td>[]</td>\n",
       "      <td>https://www.yelp.com/biz/pomerol-seattle-2?adj...</td>\n",
       "      <td>47.652517</td>\n",
       "      <td>...</td>\n",
       "      <td>0</td>\n",
       "      <td>0</td>\n",
       "      <td>0</td>\n",
       "      <td>0</td>\n",
       "      <td>0</td>\n",
       "      <td>0</td>\n",
       "      <td>0</td>\n",
       "      <td>0</td>\n",
       "      <td>0</td>\n",
       "      <td>3.844710</td>\n",
       "    </tr>\n",
       "    <tr>\n",
       "      <th>1217</th>\n",
       "      <td>five-hooks-fish-grill-seattle</td>\n",
       "      <td>4184.954983</td>\n",
       "      <td>Qf6p4ryrO7EU30dWTa2-Dg</td>\n",
       "      <td>https://s3-media3.fl.yelpcdn.com/bphoto/FCx4ME...</td>\n",
       "      <td>{'address1': '2232 Queen Anne Ave N', 'address...</td>\n",
       "      <td>4.0</td>\n",
       "      <td>339</td>\n",
       "      <td>[]</td>\n",
       "      <td>https://www.yelp.com/biz/five-hooks-fish-grill...</td>\n",
       "      <td>47.639418</td>\n",
       "      <td>...</td>\n",
       "      <td>0</td>\n",
       "      <td>0</td>\n",
       "      <td>0</td>\n",
       "      <td>0</td>\n",
       "      <td>0</td>\n",
       "      <td>0</td>\n",
       "      <td>0</td>\n",
       "      <td>0</td>\n",
       "      <td>0</td>\n",
       "      <td>2.986992</td>\n",
       "    </tr>\n",
       "    <tr>\n",
       "      <th>1218</th>\n",
       "      <td>maono-fried-chicken-seattle</td>\n",
       "      <td>6941.190908</td>\n",
       "      <td>0gWFjjSxi9hdAhA7UqSf5w</td>\n",
       "      <td>https://s3-media4.fl.yelpcdn.com/bphoto/MKTDSl...</td>\n",
       "      <td>{'address1': '4626 26th Ave NE', 'address2': '...</td>\n",
       "      <td>4.0</td>\n",
       "      <td>174</td>\n",
       "      <td>[]</td>\n",
       "      <td>https://www.yelp.com/biz/maono-fried-chicken-s...</td>\n",
       "      <td>47.662510</td>\n",
       "      <td>...</td>\n",
       "      <td>0</td>\n",
       "      <td>0</td>\n",
       "      <td>0</td>\n",
       "      <td>0</td>\n",
       "      <td>0</td>\n",
       "      <td>0</td>\n",
       "      <td>0</td>\n",
       "      <td>0</td>\n",
       "      <td>0</td>\n",
       "      <td>4.667492</td>\n",
       "    </tr>\n",
       "    <tr>\n",
       "      <th>1219</th>\n",
       "      <td>phoenecia-seattle</td>\n",
       "      <td>6330.159076</td>\n",
       "      <td>yMLSALRbwRNG9JsqRUAPGw</td>\n",
       "      <td>https://s3-media3.fl.yelpcdn.com/bphoto/OmdaP7...</td>\n",
       "      <td>{'address1': '2716 Alki Ave SW', 'address2': N...</td>\n",
       "      <td>4.5</td>\n",
       "      <td>370</td>\n",
       "      <td>[restaurant_reservation]</td>\n",
       "      <td>https://www.yelp.com/biz/phoenecia-seattle?adj...</td>\n",
       "      <td>47.579010</td>\n",
       "      <td>...</td>\n",
       "      <td>0</td>\n",
       "      <td>0</td>\n",
       "      <td>0</td>\n",
       "      <td>0</td>\n",
       "      <td>0</td>\n",
       "      <td>0</td>\n",
       "      <td>0</td>\n",
       "      <td>0</td>\n",
       "      <td>0</td>\n",
       "      <td>3.823306</td>\n",
       "    </tr>\n",
       "    <tr>\n",
       "      <th>1220</th>\n",
       "      <td>uneeda-burger-seattle</td>\n",
       "      <td>6183.386673</td>\n",
       "      <td>xcZZ0Gm81bl8xQfvws231A</td>\n",
       "      <td>https://s3-media2.fl.yelpcdn.com/bphoto/31_2wp...</td>\n",
       "      <td>{'address1': '4302 Fremont Ave N', 'address2':...</td>\n",
       "      <td>4.0</td>\n",
       "      <td>1127</td>\n",
       "      <td>[]</td>\n",
       "      <td>https://www.yelp.com/biz/uneeda-burger-seattle...</td>\n",
       "      <td>47.659520</td>\n",
       "      <td>...</td>\n",
       "      <td>0</td>\n",
       "      <td>0</td>\n",
       "      <td>0</td>\n",
       "      <td>0</td>\n",
       "      <td>0</td>\n",
       "      <td>0</td>\n",
       "      <td>0</td>\n",
       "      <td>0</td>\n",
       "      <td>0</td>\n",
       "      <td>4.245690</td>\n",
       "    </tr>\n",
       "    <tr>\n",
       "      <th>1222</th>\n",
       "      <td>roro-bbq-and-grill-seattle-6</td>\n",
       "      <td>5181.003993</td>\n",
       "      <td>ziIcBDdIjKi8gShBrseCjA</td>\n",
       "      <td>https://s3-media1.fl.yelpcdn.com/bphoto/UtnALg...</td>\n",
       "      <td>{'address1': '3620 Stone Way N', 'address2': N...</td>\n",
       "      <td>4.0</td>\n",
       "      <td>547</td>\n",
       "      <td>[]</td>\n",
       "      <td>https://www.yelp.com/biz/roro-bbq-and-grill-se...</td>\n",
       "      <td>47.651090</td>\n",
       "      <td>...</td>\n",
       "      <td>0</td>\n",
       "      <td>0</td>\n",
       "      <td>0</td>\n",
       "      <td>0</td>\n",
       "      <td>0</td>\n",
       "      <td>0</td>\n",
       "      <td>0</td>\n",
       "      <td>0</td>\n",
       "      <td>0</td>\n",
       "      <td>3.618847</td>\n",
       "    </tr>\n",
       "    <tr>\n",
       "      <th>1223</th>\n",
       "      <td>the-backdoor-seattle</td>\n",
       "      <td>5434.261480</td>\n",
       "      <td>phbhMeEye0H2I009xbID2w</td>\n",
       "      <td>https://s3-media1.fl.yelpcdn.com/bphoto/Z6Dd2M...</td>\n",
       "      <td>{'address1': '462 N 36th St', 'address2': '', ...</td>\n",
       "      <td>4.0</td>\n",
       "      <td>246</td>\n",
       "      <td>[]</td>\n",
       "      <td>https://www.yelp.com/biz/the-backdoor-seattle?...</td>\n",
       "      <td>47.652190</td>\n",
       "      <td>...</td>\n",
       "      <td>0</td>\n",
       "      <td>0</td>\n",
       "      <td>0</td>\n",
       "      <td>0</td>\n",
       "      <td>0</td>\n",
       "      <td>0</td>\n",
       "      <td>0</td>\n",
       "      <td>0</td>\n",
       "      <td>0</td>\n",
       "      <td>3.777490</td>\n",
       "    </tr>\n",
       "    <tr>\n",
       "      <th>1224</th>\n",
       "      <td>harrys-chicken-joint-seattle</td>\n",
       "      <td>7470.340152</td>\n",
       "      <td>PKl4sjmvwxtamvFhCRvPog</td>\n",
       "      <td>https://s3-media2.fl.yelpcdn.com/bphoto/fNiJIY...</td>\n",
       "      <td>{'address1': '6032 California Ave SW', 'addres...</td>\n",
       "      <td>4.5</td>\n",
       "      <td>159</td>\n",
       "      <td>[pickup]</td>\n",
       "      <td>https://www.yelp.com/biz/harrys-chicken-joint-...</td>\n",
       "      <td>47.547520</td>\n",
       "      <td>...</td>\n",
       "      <td>0</td>\n",
       "      <td>0</td>\n",
       "      <td>0</td>\n",
       "      <td>0</td>\n",
       "      <td>0</td>\n",
       "      <td>0</td>\n",
       "      <td>0</td>\n",
       "      <td>0</td>\n",
       "      <td>0</td>\n",
       "      <td>4.338942</td>\n",
       "    </tr>\n",
       "    <tr>\n",
       "      <th>1225</th>\n",
       "      <td>stampede-cocktail-club-seattle</td>\n",
       "      <td>5556.764614</td>\n",
       "      <td>8OIlXWthCaMyh_OCEMkJPQ</td>\n",
       "      <td>https://s3-media2.fl.yelpcdn.com/bphoto/EkbeVY...</td>\n",
       "      <td>{'address1': '119 N 36th St', 'address2': '', ...</td>\n",
       "      <td>4.5</td>\n",
       "      <td>34</td>\n",
       "      <td>[]</td>\n",
       "      <td>https://www.yelp.com/biz/stampede-cocktail-clu...</td>\n",
       "      <td>47.652510</td>\n",
       "      <td>...</td>\n",
       "      <td>0</td>\n",
       "      <td>0</td>\n",
       "      <td>0</td>\n",
       "      <td>0</td>\n",
       "      <td>0</td>\n",
       "      <td>0</td>\n",
       "      <td>0</td>\n",
       "      <td>0</td>\n",
       "      <td>0</td>\n",
       "      <td>3.847840</td>\n",
       "    </tr>\n",
       "    <tr>\n",
       "      <th>1226</th>\n",
       "      <td>huong-duong-seattle</td>\n",
       "      <td>8469.543480</td>\n",
       "      <td>npuNF0vaDznmCaim4IBVMg</td>\n",
       "      <td>https://s3-media1.fl.yelpcdn.com/bphoto/PlmtKn...</td>\n",
       "      <td>{'address1': '7136 Martin Luther King Jr Way S...</td>\n",
       "      <td>4.5</td>\n",
       "      <td>230</td>\n",
       "      <td>[]</td>\n",
       "      <td>https://www.yelp.com/biz/huong-duong-seattle?a...</td>\n",
       "      <td>47.537775</td>\n",
       "      <td>...</td>\n",
       "      <td>0</td>\n",
       "      <td>0</td>\n",
       "      <td>0</td>\n",
       "      <td>0</td>\n",
       "      <td>0</td>\n",
       "      <td>0</td>\n",
       "      <td>0</td>\n",
       "      <td>0</td>\n",
       "      <td>0</td>\n",
       "      <td>4.897125</td>\n",
       "    </tr>\n",
       "    <tr>\n",
       "      <th>1228</th>\n",
       "      <td>taste-of-xian-seattle</td>\n",
       "      <td>6561.332330</td>\n",
       "      <td>jzZatlgnWJfdTT_hY7NHLw</td>\n",
       "      <td>https://s3-media4.fl.yelpcdn.com/bphoto/G0ak7f...</td>\n",
       "      <td>{'address1': '4523 University Way NE', 'addres...</td>\n",
       "      <td>4.0</td>\n",
       "      <td>239</td>\n",
       "      <td>[pickup, delivery]</td>\n",
       "      <td>https://www.yelp.com/biz/taste-of-xian-seattle...</td>\n",
       "      <td>47.661960</td>\n",
       "      <td>...</td>\n",
       "      <td>0</td>\n",
       "      <td>0</td>\n",
       "      <td>0</td>\n",
       "      <td>0</td>\n",
       "      <td>0</td>\n",
       "      <td>0</td>\n",
       "      <td>0</td>\n",
       "      <td>0</td>\n",
       "      <td>0</td>\n",
       "      <td>4.451635</td>\n",
       "    </tr>\n",
       "    <tr>\n",
       "      <th>1231</th>\n",
       "      <td>cheese-wizards-seattle-2</td>\n",
       "      <td>5783.871579</td>\n",
       "      <td>N0ZZXqIoOb2OHUkxQ_XVkw</td>\n",
       "      <td>https://s3-media2.fl.yelpcdn.com/bphoto/KLz9p1...</td>\n",
       "      <td>{'address1': '3204 15th Ave W', 'address2': No...</td>\n",
       "      <td>4.0</td>\n",
       "      <td>48</td>\n",
       "      <td>[pickup, delivery]</td>\n",
       "      <td>https://www.yelp.com/biz/cheese-wizards-seattl...</td>\n",
       "      <td>47.648660</td>\n",
       "      <td>...</td>\n",
       "      <td>0</td>\n",
       "      <td>0</td>\n",
       "      <td>0</td>\n",
       "      <td>0</td>\n",
       "      <td>0</td>\n",
       "      <td>0</td>\n",
       "      <td>0</td>\n",
       "      <td>0</td>\n",
       "      <td>0</td>\n",
       "      <td>3.954227</td>\n",
       "    </tr>\n",
       "    <tr>\n",
       "      <th>1232</th>\n",
       "      <td>kokkaku-seattle</td>\n",
       "      <td>6311.159203</td>\n",
       "      <td>44OpjjkNgtgbYR92p3xNBQ</td>\n",
       "      <td>https://s3-media2.fl.yelpcdn.com/bphoto/Wn6Mod...</td>\n",
       "      <td>{'address1': '2208 N 45th St', 'address2': '',...</td>\n",
       "      <td>4.0</td>\n",
       "      <td>55</td>\n",
       "      <td>[restaurant_reservation]</td>\n",
       "      <td>https://www.yelp.com/biz/kokkaku-seattle?adjus...</td>\n",
       "      <td>47.661630</td>\n",
       "      <td>...</td>\n",
       "      <td>0</td>\n",
       "      <td>0</td>\n",
       "      <td>0</td>\n",
       "      <td>0</td>\n",
       "      <td>0</td>\n",
       "      <td>0</td>\n",
       "      <td>0</td>\n",
       "      <td>0</td>\n",
       "      <td>0</td>\n",
       "      <td>4.326665</td>\n",
       "    </tr>\n",
       "    <tr>\n",
       "      <th>1233</th>\n",
       "      <td>koibito-sushi-and-teriyaki-seattle</td>\n",
       "      <td>2848.866367</td>\n",
       "      <td>B_M9HFYQhaicWX6qCwNpvw</td>\n",
       "      <td>https://s3-media3.fl.yelpcdn.com/bphoto/nYlFk-...</td>\n",
       "      <td>{'address1': '1201 Dexter Ave N', 'address2': ...</td>\n",
       "      <td>3.5</td>\n",
       "      <td>31</td>\n",
       "      <td>[]</td>\n",
       "      <td>https://www.yelp.com/biz/koibito-sushi-and-ter...</td>\n",
       "      <td>47.629841</td>\n",
       "      <td>...</td>\n",
       "      <td>0</td>\n",
       "      <td>0</td>\n",
       "      <td>0</td>\n",
       "      <td>0</td>\n",
       "      <td>0</td>\n",
       "      <td>0</td>\n",
       "      <td>0</td>\n",
       "      <td>0</td>\n",
       "      <td>0</td>\n",
       "      <td>2.168211</td>\n",
       "    </tr>\n",
       "    <tr>\n",
       "      <th>1234</th>\n",
       "      <td>two-doors-down-seattle</td>\n",
       "      <td>3021.678284</td>\n",
       "      <td>EEhJ94TPnCqp1yJDuuqOsw</td>\n",
       "      <td>https://s3-media3.fl.yelpcdn.com/bphoto/u_7Ybz...</td>\n",
       "      <td>{'address1': '2332 E Madison St', 'address2': ...</td>\n",
       "      <td>4.0</td>\n",
       "      <td>136</td>\n",
       "      <td>[]</td>\n",
       "      <td>https://www.yelp.com/biz/two-doors-down-seattl...</td>\n",
       "      <td>47.620060</td>\n",
       "      <td>...</td>\n",
       "      <td>0</td>\n",
       "      <td>0</td>\n",
       "      <td>0</td>\n",
       "      <td>0</td>\n",
       "      <td>0</td>\n",
       "      <td>0</td>\n",
       "      <td>0</td>\n",
       "      <td>0</td>\n",
       "      <td>0</td>\n",
       "      <td>2.097064</td>\n",
       "    </tr>\n",
       "    <tr>\n",
       "      <th>1236</th>\n",
       "      <td>eve-fremont-seattle</td>\n",
       "      <td>5109.457264</td>\n",
       "      <td>gB4EYJyfojVme3sle9xz-Q</td>\n",
       "      <td>https://s3-media2.fl.yelpcdn.com/bphoto/vwG89v...</td>\n",
       "      <td>{'address1': '704 N 34th St', 'address2': '', ...</td>\n",
       "      <td>4.0</td>\n",
       "      <td>210</td>\n",
       "      <td>[]</td>\n",
       "      <td>https://www.yelp.com/biz/eve-fremont-seattle?a...</td>\n",
       "      <td>47.649720</td>\n",
       "      <td>...</td>\n",
       "      <td>0</td>\n",
       "      <td>0</td>\n",
       "      <td>0</td>\n",
       "      <td>0</td>\n",
       "      <td>0</td>\n",
       "      <td>0</td>\n",
       "      <td>0</td>\n",
       "      <td>0</td>\n",
       "      <td>0</td>\n",
       "      <td>3.573423</td>\n",
       "    </tr>\n",
       "    <tr>\n",
       "      <th>1237</th>\n",
       "      <td>seattle-fish-company-seattle</td>\n",
       "      <td>6012.973750</td>\n",
       "      <td>YfPrEl86xGoGVltE8QgRGg</td>\n",
       "      <td>https://s3-media4.fl.yelpcdn.com/bphoto/Iw2q6w...</td>\n",
       "      <td>{'address1': '4435 California Ave SW', 'addres...</td>\n",
       "      <td>4.0</td>\n",
       "      <td>372</td>\n",
       "      <td>[pickup]</td>\n",
       "      <td>https://www.yelp.com/biz/seattle-fish-company-...</td>\n",
       "      <td>47.563665</td>\n",
       "      <td>...</td>\n",
       "      <td>0</td>\n",
       "      <td>0</td>\n",
       "      <td>0</td>\n",
       "      <td>0</td>\n",
       "      <td>0</td>\n",
       "      <td>0</td>\n",
       "      <td>0</td>\n",
       "      <td>0</td>\n",
       "      <td>0</td>\n",
       "      <td>3.481819</td>\n",
       "    </tr>\n",
       "    <tr>\n",
       "      <th>1256</th>\n",
       "      <td>skillet-street-food-seattle-5</td>\n",
       "      <td>7106.601693</td>\n",
       "      <td>ScP_Wpfg9-QEE6BoE4CeDw</td>\n",
       "      <td>https://s3-media2.fl.yelpcdn.com/bphoto/m6yash...</td>\n",
       "      <td>{'address1': '', 'address2': '', 'address3': '...</td>\n",
       "      <td>4.0</td>\n",
       "      <td>361</td>\n",
       "      <td>[]</td>\n",
       "      <td>https://www.yelp.com/biz/skillet-street-food-s...</td>\n",
       "      <td>47.547810</td>\n",
       "      <td>...</td>\n",
       "      <td>0</td>\n",
       "      <td>0</td>\n",
       "      <td>0</td>\n",
       "      <td>0</td>\n",
       "      <td>0</td>\n",
       "      <td>0</td>\n",
       "      <td>0</td>\n",
       "      <td>0</td>\n",
       "      <td>0</td>\n",
       "      <td>3.573068</td>\n",
       "    </tr>\n",
       "    <tr>\n",
       "      <th>1330</th>\n",
       "      <td>puft-bubble-waffles-tukwila</td>\n",
       "      <td>17402.771333</td>\n",
       "      <td>Gb-L6f6jeIPC_jHUzCYT1A</td>\n",
       "      <td>https://s3-media2.fl.yelpcdn.com/bphoto/rL7nV5...</td>\n",
       "      <td>{'address1': '360 Corporate Dr', 'address2': '...</td>\n",
       "      <td>4.0</td>\n",
       "      <td>1</td>\n",
       "      <td>[]</td>\n",
       "      <td>https://www.yelp.com/biz/puft-bubble-waffles-t...</td>\n",
       "      <td>47.451466</td>\n",
       "      <td>...</td>\n",
       "      <td>0</td>\n",
       "      <td>0</td>\n",
       "      <td>0</td>\n",
       "      <td>0</td>\n",
       "      <td>0</td>\n",
       "      <td>0</td>\n",
       "      <td>0</td>\n",
       "      <td>0</td>\n",
       "      <td>0</td>\n",
       "      <td>10.815946</td>\n",
       "    </tr>\n",
       "    <tr>\n",
       "      <th>1345</th>\n",
       "      <td>low-on-the-hog-seattle-2</td>\n",
       "      <td>6867.037785</td>\n",
       "      <td>WCjwaVo5aMyPb6t8p9ioyA</td>\n",
       "      <td>https://s3-media4.fl.yelpcdn.com/bphoto/_eRIT3...</td>\n",
       "      <td>{'address1': '', 'address2': None, 'address3':...</td>\n",
       "      <td>3.0</td>\n",
       "      <td>5</td>\n",
       "      <td>[]</td>\n",
       "      <td>https://www.yelp.com/biz/low-on-the-hog-seattl...</td>\n",
       "      <td>47.547810</td>\n",
       "      <td>...</td>\n",
       "      <td>0</td>\n",
       "      <td>0</td>\n",
       "      <td>0</td>\n",
       "      <td>0</td>\n",
       "      <td>0</td>\n",
       "      <td>0</td>\n",
       "      <td>0</td>\n",
       "      <td>0</td>\n",
       "      <td>0</td>\n",
       "      <td>3.573068</td>\n",
       "    </tr>\n",
       "    <tr>\n",
       "      <th>1354</th>\n",
       "      <td>wich-wagon-seattle</td>\n",
       "      <td>9193.257388</td>\n",
       "      <td>_8yVZkwiks4lOdf9M1P5WA</td>\n",
       "      <td>https://s3-media2.fl.yelpcdn.com/bphoto/uAzRST...</td>\n",
       "      <td>{'address1': '', 'address2': '', 'address3': '...</td>\n",
       "      <td>5.0</td>\n",
       "      <td>33</td>\n",
       "      <td>[]</td>\n",
       "      <td>https://www.yelp.com/biz/wich-wagon-seattle?ad...</td>\n",
       "      <td>47.679401</td>\n",
       "      <td>...</td>\n",
       "      <td>0</td>\n",
       "      <td>0</td>\n",
       "      <td>0</td>\n",
       "      <td>1</td>\n",
       "      <td>0</td>\n",
       "      <td>0</td>\n",
       "      <td>0</td>\n",
       "      <td>0</td>\n",
       "      <td>0</td>\n",
       "      <td>5.712791</td>\n",
       "    </tr>\n",
       "    <tr>\n",
       "      <th>1358</th>\n",
       "      <td>charlies-buns-n-stuff-normandy-park</td>\n",
       "      <td>17385.072403</td>\n",
       "      <td>6LOMiC7DdNVGlm_RW2mY2w</td>\n",
       "      <td>https://s3-media3.fl.yelpcdn.com/bphoto/u7IxGt...</td>\n",
       "      <td>{'address1': '17825 1st Ave S', 'address2': ''...</td>\n",
       "      <td>3.0</td>\n",
       "      <td>63</td>\n",
       "      <td>[delivery, pickup]</td>\n",
       "      <td>https://www.yelp.com/biz/charlies-buns-n-stuff...</td>\n",
       "      <td>47.442730</td>\n",
       "      <td>...</td>\n",
       "      <td>0</td>\n",
       "      <td>0</td>\n",
       "      <td>0</td>\n",
       "      <td>0</td>\n",
       "      <td>0</td>\n",
       "      <td>0</td>\n",
       "      <td>0</td>\n",
       "      <td>0</td>\n",
       "      <td>0</td>\n",
       "      <td>10.796968</td>\n",
       "    </tr>\n",
       "    <tr>\n",
       "      <th>1380</th>\n",
       "      <td>hps-smokehouse-bbq-kirkland-2</td>\n",
       "      <td>16426.029861</td>\n",
       "      <td>E1tPkV_RZyn-ELH8_pVebg</td>\n",
       "      <td>https://s3-media3.fl.yelpcdn.com/bphoto/_jC6pB...</td>\n",
       "      <td>{'address1': '11410 NE 122nd Way', 'address2':...</td>\n",
       "      <td>3.5</td>\n",
       "      <td>31</td>\n",
       "      <td>[]</td>\n",
       "      <td>https://www.yelp.com/biz/hps-smokehouse-bbq-ki...</td>\n",
       "      <td>47.709462</td>\n",
       "      <td>...</td>\n",
       "      <td>0</td>\n",
       "      <td>0</td>\n",
       "      <td>0</td>\n",
       "      <td>1</td>\n",
       "      <td>0</td>\n",
       "      <td>0</td>\n",
       "      <td>0</td>\n",
       "      <td>0</td>\n",
       "      <td>0</td>\n",
       "      <td>10.219408</td>\n",
       "    </tr>\n",
       "  </tbody>\n",
       "</table>\n",
       "<p>165 rows × 118 columns</p>\n",
       "</div>"
      ],
      "text/plain": [
       "                                          alias      distance  \\\n",
       "372            genis-ethiopian-corner-seattle-2   3205.016760   \n",
       "458                        its-bao-time-seattle   3205.016760   \n",
       "492                       the-halal-guys-seattl    306.489172   \n",
       "557           cheese-wizards-food-truck-seattle   3205.016760   \n",
       "691                       bumbu-truck-seattle-3   6508.921853   \n",
       "778                    the-fork-and-fin-seattle   8191.052875   \n",
       "801                 mediterranean-mixta-seattle   4313.256495   \n",
       "832                         thai-u-up-seattle-5   7210.235468   \n",
       "851               paparepas-food-truck-bellevue   9725.702432   \n",
       "867                        the-botanist-reading    414.066209   \n",
       "890               don-luchos-sandwiches-seattle  10676.877339   \n",
       "910             momma-bears-fry-bread-seattle-5  10217.417914   \n",
       "939                taqueria-la-original-seattle   6405.423047   \n",
       "950                         dandylion-seattle-2   2711.355838   \n",
       "951                    koku-cafe-market-seattle   3448.533639   \n",
       "958   toulouse-petit-kitchen-and-lounge-seattle   2790.064468   \n",
       "963         dukes-seafood-and-chowder-seattle-3   2587.713196   \n",
       "967                         jacks-bbq-seattle-9   4164.566466   \n",
       "972                   marination-ma-kai-seattle   3834.383906   \n",
       "978       the-white-swan-public-house-seattle-2   2714.457265   \n",
       "992                             hanok-seattle-2   5212.197879   \n",
       "993                    saltys-on-alki-seattle-3   3714.847496   \n",
       "995                           kin-dee-seattle-4   2925.535056   \n",
       "996                               birch-seattle   2714.457265   \n",
       "1001                               crow-seattle   2660.960228   \n",
       "1003            kauai-family-restaurant-seattle   6622.569280   \n",
       "1008                           kamonegi-seattle   5528.323653   \n",
       "1009            poke-to-the-max-seattle-seattle   6969.197611   \n",
       "1010                     windy-city-pie-seattle   4129.743930   \n",
       "1011                         dads-diner-seattle   3906.968801   \n",
       "...                                         ...           ...   \n",
       "1197                            nishino-seattle   4054.379322   \n",
       "1205                          tallulahs-seattle   2995.213753   \n",
       "1206          potbelly-sandwich-shop-seattle-11   2759.689886   \n",
       "1209            calozzis-cheesesteaks-seattle-3   7229.642734   \n",
       "1211                       din-tai-fung-seattle   6853.474679   \n",
       "1212            blue-water-taco-grill-seattle-7   2691.672967   \n",
       "1213                       harvest-beat-seattle   6273.625631   \n",
       "1216                          pomerol-seattle-2   5552.760390   \n",
       "1217              five-hooks-fish-grill-seattle   4184.954983   \n",
       "1218                maono-fried-chicken-seattle   6941.190908   \n",
       "1219                          phoenecia-seattle   6330.159076   \n",
       "1220                      uneeda-burger-seattle   6183.386673   \n",
       "1222               roro-bbq-and-grill-seattle-6   5181.003993   \n",
       "1223                       the-backdoor-seattle   5434.261480   \n",
       "1224               harrys-chicken-joint-seattle   7470.340152   \n",
       "1225             stampede-cocktail-club-seattle   5556.764614   \n",
       "1226                        huong-duong-seattle   8469.543480   \n",
       "1228                      taste-of-xian-seattle   6561.332330   \n",
       "1231                   cheese-wizards-seattle-2   5783.871579   \n",
       "1232                            kokkaku-seattle   6311.159203   \n",
       "1233         koibito-sushi-and-teriyaki-seattle   2848.866367   \n",
       "1234                     two-doors-down-seattle   3021.678284   \n",
       "1236                        eve-fremont-seattle   5109.457264   \n",
       "1237               seattle-fish-company-seattle   6012.973750   \n",
       "1256              skillet-street-food-seattle-5   7106.601693   \n",
       "1330                puft-bubble-waffles-tukwila  17402.771333   \n",
       "1345                   low-on-the-hog-seattle-2   6867.037785   \n",
       "1354                         wich-wagon-seattle   9193.257388   \n",
       "1358        charlies-buns-n-stuff-normandy-park  17385.072403   \n",
       "1380              hps-smokehouse-bbq-kirkland-2  16426.029861   \n",
       "\n",
       "                          id  \\\n",
       "372   ld22_roaEZ7lw4tifTu4dQ   \n",
       "458   X5wTk2yfDEgP1uqLVh3ilQ   \n",
       "492   4jhTZLukWoSybju7-3kFtQ   \n",
       "557   ahV_HqhSEMFeqv_HkESYag   \n",
       "691   FNm_q6kdtkMgf47mCTt6Jw   \n",
       "778   lgWYufb-KZLExNQYcFuhBA   \n",
       "801   Mi6yMrO1fXfcgmFfrnnJNA   \n",
       "832   M8IfeiWxUWeprhaAF8WqPA   \n",
       "851   LGRWf1gAu1kd8MJUhF4zNQ   \n",
       "867   wrhCRrowDuSMcbGBabncUQ   \n",
       "890   wsYDBIQxnq7RtSlfa6xqBQ   \n",
       "910   tKE_8YYGn7oDsNdCPSHGbQ   \n",
       "939   i9DLpS-vVmFF1MKB2exHlg   \n",
       "950   HFzeL2OHIpTHE46eAA98yQ   \n",
       "951   tS8twhq6IBIq0zGvBg8SLg   \n",
       "958   r2qcG59sAqqptnwL4aJGhg   \n",
       "963   n6hB6mIctJQDn-DAH7MpGg   \n",
       "967   6_zxj1HKD8mSNI8Rh2cxog   \n",
       "972   IsvlaFF0EPEhh3ahTuC4xg   \n",
       "978   CycF-FKea-x1jGukd4khyg   \n",
       "992   ZHMHUTDxXhufLU-iFSNntg   \n",
       "993   Y5r2AvXmSc-YA6MGXjK6Ow   \n",
       "995   mO-OPKmvA4VtpZHoAlvFxA   \n",
       "996   NLof45wsjUdoZRgHFGe1xA   \n",
       "1001  EjVi5qvVN-DC27ocfUhj0w   \n",
       "1003  ZePNj2ZqimO9D2WcKZRRwg   \n",
       "1008  tC9DRmULoje1qk0dB3EDAQ   \n",
       "1009  5JRxGetpcPIqsfVUTmyUSg   \n",
       "1010  GRTqcXMTXK2byoW0aiKX2g   \n",
       "1011  Sj51Q61sN-ijdNonuLwJtg   \n",
       "...                      ...   \n",
       "1197  rDtJGrHmFv5V4pxtuSj4XQ   \n",
       "1205  DD-qG0ObNL4qG082WQCAIg   \n",
       "1206  l5jMS-YK98yYfZft3aEGbg   \n",
       "1209  DULfZDXKWLmX7MIH0J04yg   \n",
       "1211  ud5NuBZka9lVZdRlhQDrjQ   \n",
       "1212  qLdb6V3umTfpsuZz2uD9eQ   \n",
       "1213  mOybprI4rEcRQUxBqAhupw   \n",
       "1216  ZULAGXaQta12BWWOMnm3DQ   \n",
       "1217  Qf6p4ryrO7EU30dWTa2-Dg   \n",
       "1218  0gWFjjSxi9hdAhA7UqSf5w   \n",
       "1219  yMLSALRbwRNG9JsqRUAPGw   \n",
       "1220  xcZZ0Gm81bl8xQfvws231A   \n",
       "1222  ziIcBDdIjKi8gShBrseCjA   \n",
       "1223  phbhMeEye0H2I009xbID2w   \n",
       "1224  PKl4sjmvwxtamvFhCRvPog   \n",
       "1225  8OIlXWthCaMyh_OCEMkJPQ   \n",
       "1226  npuNF0vaDznmCaim4IBVMg   \n",
       "1228  jzZatlgnWJfdTT_hY7NHLw   \n",
       "1231  N0ZZXqIoOb2OHUkxQ_XVkw   \n",
       "1232  44OpjjkNgtgbYR92p3xNBQ   \n",
       "1233  B_M9HFYQhaicWX6qCwNpvw   \n",
       "1234  EEhJ94TPnCqp1yJDuuqOsw   \n",
       "1236  gB4EYJyfojVme3sle9xz-Q   \n",
       "1237  YfPrEl86xGoGVltE8QgRGg   \n",
       "1256  ScP_Wpfg9-QEE6BoE4CeDw   \n",
       "1330  Gb-L6f6jeIPC_jHUzCYT1A   \n",
       "1345  WCjwaVo5aMyPb6t8p9ioyA   \n",
       "1354  _8yVZkwiks4lOdf9M1P5WA   \n",
       "1358  6LOMiC7DdNVGlm_RW2mY2w   \n",
       "1380  E1tPkV_RZyn-ELH8_pVebg   \n",
       "\n",
       "                                              image_url  \\\n",
       "372   https://s3-media4.fl.yelpcdn.com/bphoto/NxReL2...   \n",
       "458   https://s3-media4.fl.yelpcdn.com/bphoto/_9jk2-...   \n",
       "492   https://s3-media1.fl.yelpcdn.com/bphoto/qQHWuf...   \n",
       "557   https://s3-media2.fl.yelpcdn.com/bphoto/WJ1ioR...   \n",
       "691   https://s3-media3.fl.yelpcdn.com/bphoto/Wn14R1...   \n",
       "778   https://s3-media4.fl.yelpcdn.com/bphoto/NDNwfo...   \n",
       "801   https://s3-media4.fl.yelpcdn.com/bphoto/cZUCje...   \n",
       "832   https://s3-media3.fl.yelpcdn.com/bphoto/RXq3SD...   \n",
       "851   https://s3-media3.fl.yelpcdn.com/bphoto/99Bshy...   \n",
       "867   https://s3-media3.fl.yelpcdn.com/bphoto/S54uXa...   \n",
       "890   https://s3-media2.fl.yelpcdn.com/bphoto/ZIcxtb...   \n",
       "910   https://s3-media3.fl.yelpcdn.com/bphoto/2vuU73...   \n",
       "939   https://s3-media1.fl.yelpcdn.com/bphoto/BVlY_S...   \n",
       "950   https://s3-media3.fl.yelpcdn.com/bphoto/bsS5Qy...   \n",
       "951   https://s3-media2.fl.yelpcdn.com/bphoto/fMC6QD...   \n",
       "958   https://s3-media1.fl.yelpcdn.com/bphoto/UmEDw1...   \n",
       "963   https://s3-media4.fl.yelpcdn.com/bphoto/I7S3x9...   \n",
       "967   https://s3-media3.fl.yelpcdn.com/bphoto/V0oivf...   \n",
       "972   https://s3-media1.fl.yelpcdn.com/bphoto/r19fwm...   \n",
       "978   https://s3-media2.fl.yelpcdn.com/bphoto/vqFX1i...   \n",
       "992   https://s3-media3.fl.yelpcdn.com/bphoto/S7NwaA...   \n",
       "993   https://s3-media2.fl.yelpcdn.com/bphoto/A0k3mQ...   \n",
       "995   https://s3-media1.fl.yelpcdn.com/bphoto/vcG5ND...   \n",
       "996   https://s3-media2.fl.yelpcdn.com/bphoto/HcEVOU...   \n",
       "1001  https://s3-media1.fl.yelpcdn.com/bphoto/woD4Gz...   \n",
       "1003  https://s3-media4.fl.yelpcdn.com/bphoto/Vkwhml...   \n",
       "1008  https://s3-media4.fl.yelpcdn.com/bphoto/WbCfD8...   \n",
       "1009  https://s3-media1.fl.yelpcdn.com/bphoto/CMXH0V...   \n",
       "1010  https://s3-media4.fl.yelpcdn.com/bphoto/L6bKEG...   \n",
       "1011  https://s3-media1.fl.yelpcdn.com/bphoto/AOSNxW...   \n",
       "...                                                 ...   \n",
       "1197  https://s3-media3.fl.yelpcdn.com/bphoto/Mx-M9D...   \n",
       "1205  https://s3-media1.fl.yelpcdn.com/bphoto/VdSUju...   \n",
       "1206  https://s3-media4.fl.yelpcdn.com/bphoto/0JgGIK...   \n",
       "1209  https://s3-media2.fl.yelpcdn.com/bphoto/innQo5...   \n",
       "1211  https://s3-media2.fl.yelpcdn.com/bphoto/wqaerj...   \n",
       "1212  https://s3-media1.fl.yelpcdn.com/bphoto/TLok95...   \n",
       "1213  https://s3-media4.fl.yelpcdn.com/bphoto/-kmJvE...   \n",
       "1216  https://s3-media3.fl.yelpcdn.com/bphoto/lCbpCs...   \n",
       "1217  https://s3-media3.fl.yelpcdn.com/bphoto/FCx4ME...   \n",
       "1218  https://s3-media4.fl.yelpcdn.com/bphoto/MKTDSl...   \n",
       "1219  https://s3-media3.fl.yelpcdn.com/bphoto/OmdaP7...   \n",
       "1220  https://s3-media2.fl.yelpcdn.com/bphoto/31_2wp...   \n",
       "1222  https://s3-media1.fl.yelpcdn.com/bphoto/UtnALg...   \n",
       "1223  https://s3-media1.fl.yelpcdn.com/bphoto/Z6Dd2M...   \n",
       "1224  https://s3-media2.fl.yelpcdn.com/bphoto/fNiJIY...   \n",
       "1225  https://s3-media2.fl.yelpcdn.com/bphoto/EkbeVY...   \n",
       "1226  https://s3-media1.fl.yelpcdn.com/bphoto/PlmtKn...   \n",
       "1228  https://s3-media4.fl.yelpcdn.com/bphoto/G0ak7f...   \n",
       "1231  https://s3-media2.fl.yelpcdn.com/bphoto/KLz9p1...   \n",
       "1232  https://s3-media2.fl.yelpcdn.com/bphoto/Wn6Mod...   \n",
       "1233  https://s3-media3.fl.yelpcdn.com/bphoto/nYlFk-...   \n",
       "1234  https://s3-media3.fl.yelpcdn.com/bphoto/u_7Ybz...   \n",
       "1236  https://s3-media2.fl.yelpcdn.com/bphoto/vwG89v...   \n",
       "1237  https://s3-media4.fl.yelpcdn.com/bphoto/Iw2q6w...   \n",
       "1256  https://s3-media2.fl.yelpcdn.com/bphoto/m6yash...   \n",
       "1330  https://s3-media2.fl.yelpcdn.com/bphoto/rL7nV5...   \n",
       "1345  https://s3-media4.fl.yelpcdn.com/bphoto/_eRIT3...   \n",
       "1354  https://s3-media2.fl.yelpcdn.com/bphoto/uAzRST...   \n",
       "1358  https://s3-media3.fl.yelpcdn.com/bphoto/u7IxGt...   \n",
       "1380  https://s3-media3.fl.yelpcdn.com/bphoto/_jC6pB...   \n",
       "\n",
       "                                               location  rating  review_count  \\\n",
       "372   {'address1': '', 'address2': '', 'address3': N...     5.0            18   \n",
       "458   {'address1': None, 'address2': None, 'address3...     4.0            64   \n",
       "492   {'address1': '101 Yesler Way', 'address2': '',...     3.0           222   \n",
       "557   {'address1': '', 'address2': '', 'address3': '...     5.0           122   \n",
       "691   {'address1': '', 'address2': '', 'address3': '...     4.5            43   \n",
       "778   {'address1': '5303 Shilshole Ave NW', 'address...     4.5            10   \n",
       "801   {'address1': '1110 Elliott Ave W', 'address2':...     5.0             3   \n",
       "832   {'address1': '6335 35th Ave SW', 'address2': N...     4.0            85   \n",
       "851   {'address1': '', 'address2': None, 'address3':...     5.0            63   \n",
       "867   {'address1': '1-5 KING STREET', 'address2': ''...     3.0             2   \n",
       "890   {'address1': '', 'address2': None, 'address3':...     4.5            51   \n",
       "910   {'address1': '10057 17th Ave SW', 'address2': ...     5.0             5   \n",
       "939   {'address1': '', 'address2': '', 'address3': N...     4.5            23   \n",
       "950   {'address1': '532 Queen Anne Ave N', 'address2...     4.0            46   \n",
       "951   {'address1': '1417 Queen Anne Ave N', 'address...     5.0            17   \n",
       "958   {'address1': '601 Queen Anne Ave N', 'address2...     4.0          3618   \n",
       "963   {'address1': '901 Fairview Ave N', 'address2':...     4.0           714   \n",
       "967   {'address1': '3924 Airport Way S', 'address2':...     4.0           590   \n",
       "972   {'address1': '1660 Harbor Ave SW', 'address2':...     4.0           897   \n",
       "978   {'address1': '1001 Fairview Ave N', 'address2'...     4.0           167   \n",
       "992   {'address1': '4021 E Madison St', 'address2': ...     4.5            23   \n",
       "993   {'address1': '1936 Harbor Ave SW', 'address2':...     3.5          1678   \n",
       "995   {'address1': '2301 E Madison St', 'address2': ...     4.0            49   \n",
       "996   {'address1': '1001 Fairview Ave N', 'address2'...     4.5            19   \n",
       "1001  {'address1': '823 5th Ave N', 'address2': None...     4.0           562   \n",
       "1003  {'address1': '6324 6th Ave S', 'address2': '',...     4.5           491   \n",
       "1008  {'address1': '1054 N 39th St', 'address2': Non...     4.0           137   \n",
       "1009  {'address1': '5300 Rainier Ave S', 'address2':...     4.0           222   \n",
       "1010  {'address1': '1417 Elliott Ave W', 'address2':...     4.5           336   \n",
       "1011  {'address1': '2236 Eastlake Ave E', 'address2'...     4.5            46   \n",
       "...                                                 ...     ...           ...   \n",
       "1197  {'address1': '3130 E Madison St', 'address2': ...     4.5           632   \n",
       "1205  {'address1': '550 19th Ave E', 'address2': '',...     3.5           380   \n",
       "1206  {'address1': '1101 Dexter Ave N', 'address2': ...     4.5            10   \n",
       "1209  {'address1': '7016 E Marginal Way S', 'address...     4.5           228   \n",
       "1211  {'address1': '2621 NE 46th St', 'address2': ''...     4.0          1899   \n",
       "1212  {'address1': '515 Queen Anne Ave N', 'address2...     4.0           252   \n",
       "1213  {'address1': '1711 N 45th St', 'address2': '',...     4.5           135   \n",
       "1216  {'address1': '127 N 36th St', 'address2': '', ...     4.5           205   \n",
       "1217  {'address1': '2232 Queen Anne Ave N', 'address...     4.0           339   \n",
       "1218  {'address1': '4626 26th Ave NE', 'address2': '...     4.0           174   \n",
       "1219  {'address1': '2716 Alki Ave SW', 'address2': N...     4.5           370   \n",
       "1220  {'address1': '4302 Fremont Ave N', 'address2':...     4.0          1127   \n",
       "1222  {'address1': '3620 Stone Way N', 'address2': N...     4.0           547   \n",
       "1223  {'address1': '462 N 36th St', 'address2': '', ...     4.0           246   \n",
       "1224  {'address1': '6032 California Ave SW', 'addres...     4.5           159   \n",
       "1225  {'address1': '119 N 36th St', 'address2': '', ...     4.5            34   \n",
       "1226  {'address1': '7136 Martin Luther King Jr Way S...     4.5           230   \n",
       "1228  {'address1': '4523 University Way NE', 'addres...     4.0           239   \n",
       "1231  {'address1': '3204 15th Ave W', 'address2': No...     4.0            48   \n",
       "1232  {'address1': '2208 N 45th St', 'address2': '',...     4.0            55   \n",
       "1233  {'address1': '1201 Dexter Ave N', 'address2': ...     3.5            31   \n",
       "1234  {'address1': '2332 E Madison St', 'address2': ...     4.0           136   \n",
       "1236  {'address1': '704 N 34th St', 'address2': '', ...     4.0           210   \n",
       "1237  {'address1': '4435 California Ave SW', 'addres...     4.0           372   \n",
       "1256  {'address1': '', 'address2': '', 'address3': '...     4.0           361   \n",
       "1330  {'address1': '360 Corporate Dr', 'address2': '...     4.0             1   \n",
       "1345  {'address1': '', 'address2': None, 'address3':...     3.0             5   \n",
       "1354  {'address1': '', 'address2': '', 'address3': '...     5.0            33   \n",
       "1358  {'address1': '17825 1st Ave S', 'address2': ''...     3.0            63   \n",
       "1380  {'address1': '11410 NE 122nd Way', 'address2':...     3.5            31   \n",
       "\n",
       "                                    transactions  \\\n",
       "372                                           []   \n",
       "458                                           []   \n",
       "492                           [pickup, delivery]   \n",
       "557                                           []   \n",
       "691                                           []   \n",
       "778                                           []   \n",
       "801                           [pickup, delivery]   \n",
       "832                           [pickup, delivery]   \n",
       "851                                           []   \n",
       "867                                           []   \n",
       "890                                           []   \n",
       "910                                           []   \n",
       "939                                           []   \n",
       "950                                           []   \n",
       "951                           [pickup, delivery]   \n",
       "958                                           []   \n",
       "963                                           []   \n",
       "967   [pickup, delivery, restaurant_reservation]   \n",
       "972                                           []   \n",
       "978                                     [pickup]   \n",
       "992                                           []   \n",
       "993                                           []   \n",
       "995                                           []   \n",
       "996                                           []   \n",
       "1001                                          []   \n",
       "1003                                    [pickup]   \n",
       "1008                                          []   \n",
       "1009                                          []   \n",
       "1010                                    [pickup]   \n",
       "1011                                          []   \n",
       "...                                          ...   \n",
       "1197                                          []   \n",
       "1205                                          []   \n",
       "1206                                    [pickup]   \n",
       "1209                                          []   \n",
       "1211                                          []   \n",
       "1212                                          []   \n",
       "1213                                          []   \n",
       "1216                                          []   \n",
       "1217                                          []   \n",
       "1218                                          []   \n",
       "1219                    [restaurant_reservation]   \n",
       "1220                                          []   \n",
       "1222                                          []   \n",
       "1223                                          []   \n",
       "1224                                    [pickup]   \n",
       "1225                                          []   \n",
       "1226                                          []   \n",
       "1228                          [pickup, delivery]   \n",
       "1231                          [pickup, delivery]   \n",
       "1232                    [restaurant_reservation]   \n",
       "1233                                          []   \n",
       "1234                                          []   \n",
       "1236                                          []   \n",
       "1237                                    [pickup]   \n",
       "1256                                          []   \n",
       "1330                                          []   \n",
       "1345                                          []   \n",
       "1354                                          []   \n",
       "1358                          [delivery, pickup]   \n",
       "1380                                          []   \n",
       "\n",
       "                                                    url       lats  \\\n",
       "372   https://www.yelp.com/biz/genis-ethiopian-corne...  47.631890   \n",
       "458   https://www.yelp.com/biz/its-bao-time-seattle?...  47.632150   \n",
       "492   https://www.yelp.com/biz/the-halal-guys-seattl...  26.205170   \n",
       "557   https://www.yelp.com/biz/cheese-wizards-food-t...  47.632150   \n",
       "691   https://www.yelp.com/biz/bumbu-truck-seattle-3...  47.657181   \n",
       "778   https://www.yelp.com/biz/the-fork-and-fin-seat...  47.665876   \n",
       "801   https://www.yelp.com/biz/mediterranean-mixta-s...  47.629045   \n",
       "832   https://www.yelp.com/biz/thai-u-up-seattle-5?a...  47.545560   \n",
       "851   https://www.yelp.com/biz/paparepas-food-truck-...  47.615850   \n",
       "867   https://www.yelp.com/biz/the-botanist-reading?...  51.455098   \n",
       "890   https://www.yelp.com/biz/don-luchos-sandwiches...  47.688961   \n",
       "910   https://www.yelp.com/biz/momma-bears-fry-bread...  47.512013   \n",
       "939   https://www.yelp.com/biz/taqueria-la-original-...  47.564613   \n",
       "950   https://www.yelp.com/biz/dandylion-seattle-2?a...  47.624257   \n",
       "951   https://www.yelp.com/biz/koku-cafe-market-seat...  47.632030   \n",
       "958   https://www.yelp.com/biz/toulouse-petit-kitche...  47.624851   \n",
       "963   https://www.yelp.com/biz/dukes-seafood-and-cho...  47.628026   \n",
       "967   https://www.yelp.com/biz/jacks-bbq-seattle-9?a...  47.568253   \n",
       "972   https://www.yelp.com/biz/marination-ma-kai-sea...  47.589555   \n",
       "978   https://www.yelp.com/biz/the-white-swan-public...  47.628819   \n",
       "992   https://www.yelp.com/biz/hanok-seattle-2?adjus...  47.633830   \n",
       "993   https://www.yelp.com/biz/saltys-on-alki-seattl...  47.586590   \n",
       "995   https://www.yelp.com/biz/kin-dee-seattle-4?adj...  47.619170   \n",
       "996   https://www.yelp.com/biz/birch-seattle?adjust_...  47.628810   \n",
       "1001  https://www.yelp.com/biz/crow-seattle?adjust_c...  47.627020   \n",
       "1003  https://www.yelp.com/biz/kauai-family-restaura...  47.545530   \n",
       "1008  https://www.yelp.com/biz/kamonegi-seattle?adju...  47.654075   \n",
       "1009  https://www.yelp.com/biz/poke-to-the-max-seatt...  47.554010   \n",
       "1010  https://www.yelp.com/biz/windy-city-pie-seattl...  47.630695   \n",
       "1011  https://www.yelp.com/biz/dads-diner-seattle?ad...  47.639370   \n",
       "...                                                 ...        ...   \n",
       "1197  https://www.yelp.com/biz/nishino-seattle?adjus...  47.626866   \n",
       "1205  https://www.yelp.com/biz/tallulahs-seattle?adj...  47.624287   \n",
       "1206  https://www.yelp.com/biz/potbelly-sandwich-sho...  47.629033   \n",
       "1209  https://www.yelp.com/biz/calozzis-cheesesteaks...  47.540249   \n",
       "1211  https://www.yelp.com/biz/din-tai-fung-seattle?...  47.661640   \n",
       "1212  https://www.yelp.com/biz/blue-water-taco-grill...  47.623790   \n",
       "1213  https://www.yelp.com/biz/harvest-beat-seattle?...  47.661150   \n",
       "1216  https://www.yelp.com/biz/pomerol-seattle-2?adj...  47.652517   \n",
       "1217  https://www.yelp.com/biz/five-hooks-fish-grill...  47.639418   \n",
       "1218  https://www.yelp.com/biz/maono-fried-chicken-s...  47.662510   \n",
       "1219  https://www.yelp.com/biz/phoenecia-seattle?adj...  47.579010   \n",
       "1220  https://www.yelp.com/biz/uneeda-burger-seattle...  47.659520   \n",
       "1222  https://www.yelp.com/biz/roro-bbq-and-grill-se...  47.651090   \n",
       "1223  https://www.yelp.com/biz/the-backdoor-seattle?...  47.652190   \n",
       "1224  https://www.yelp.com/biz/harrys-chicken-joint-...  47.547520   \n",
       "1225  https://www.yelp.com/biz/stampede-cocktail-clu...  47.652510   \n",
       "1226  https://www.yelp.com/biz/huong-duong-seattle?a...  47.537775   \n",
       "1228  https://www.yelp.com/biz/taste-of-xian-seattle...  47.661960   \n",
       "1231  https://www.yelp.com/biz/cheese-wizards-seattl...  47.648660   \n",
       "1232  https://www.yelp.com/biz/kokkaku-seattle?adjus...  47.661630   \n",
       "1233  https://www.yelp.com/biz/koibito-sushi-and-ter...  47.629841   \n",
       "1234  https://www.yelp.com/biz/two-doors-down-seattl...  47.620060   \n",
       "1236  https://www.yelp.com/biz/eve-fremont-seattle?a...  47.649720   \n",
       "1237  https://www.yelp.com/biz/seattle-fish-company-...  47.563665   \n",
       "1256  https://www.yelp.com/biz/skillet-street-food-s...  47.547810   \n",
       "1330  https://www.yelp.com/biz/puft-bubble-waffles-t...  47.451466   \n",
       "1345  https://www.yelp.com/biz/low-on-the-hog-seattl...  47.547810   \n",
       "1354  https://www.yelp.com/biz/wich-wagon-seattle?ad...  47.679401   \n",
       "1358  https://www.yelp.com/biz/charlies-buns-n-stuff...  47.442730   \n",
       "1380  https://www.yelp.com/biz/hps-smokehouse-bbq-ki...  47.709462   \n",
       "\n",
       "             ...           category_beer_and_wine category_icecream  \\\n",
       "372          ...                                0                 0   \n",
       "458          ...                                0                 0   \n",
       "492          ...                                0                 0   \n",
       "557          ...                                0                 0   \n",
       "691          ...                                0                 0   \n",
       "778          ...                                0                 0   \n",
       "801          ...                                0                 0   \n",
       "832          ...                                0                 0   \n",
       "851          ...                                0                 0   \n",
       "867          ...                                0                 0   \n",
       "890          ...                                0                 0   \n",
       "910          ...                                0                 0   \n",
       "939          ...                                0                 0   \n",
       "950          ...                                0                 0   \n",
       "951          ...                                0                 0   \n",
       "958          ...                                0                 0   \n",
       "963          ...                                0                 0   \n",
       "967          ...                                0                 0   \n",
       "972          ...                                0                 0   \n",
       "978          ...                                0                 0   \n",
       "992          ...                                0                 0   \n",
       "993          ...                                0                 0   \n",
       "995          ...                                0                 0   \n",
       "996          ...                                0                 0   \n",
       "1001         ...                                0                 0   \n",
       "1003         ...                                0                 0   \n",
       "1008         ...                                0                 0   \n",
       "1009         ...                                0                 0   \n",
       "1010         ...                                0                 0   \n",
       "1011         ...                                0                 0   \n",
       "...          ...                              ...               ...   \n",
       "1197         ...                                0                 0   \n",
       "1205         ...                                0                 0   \n",
       "1206         ...                                0                 0   \n",
       "1209         ...                                0                 0   \n",
       "1211         ...                                0                 0   \n",
       "1212         ...                                0                 0   \n",
       "1213         ...                                0                 0   \n",
       "1216         ...                                0                 0   \n",
       "1217         ...                                0                 0   \n",
       "1218         ...                                0                 0   \n",
       "1219         ...                                0                 0   \n",
       "1220         ...                                0                 0   \n",
       "1222         ...                                0                 0   \n",
       "1223         ...                                0                 0   \n",
       "1224         ...                                0                 0   \n",
       "1225         ...                                0                 0   \n",
       "1226         ...                                0                 0   \n",
       "1228         ...                                0                 0   \n",
       "1231         ...                                0                 0   \n",
       "1232         ...                                0                 0   \n",
       "1233         ...                                0                 0   \n",
       "1234         ...                                0                 0   \n",
       "1236         ...                                0                 0   \n",
       "1237         ...                                0                 0   \n",
       "1256         ...                                0                 0   \n",
       "1330         ...                                0                 0   \n",
       "1345         ...                                0                 0   \n",
       "1354         ...                                0                 0   \n",
       "1358         ...                                0                 0   \n",
       "1380         ...                                0                 0   \n",
       "\n",
       "      category_hotdog  category_catering  category_creperies  \\\n",
       "372                 0                  0                   0   \n",
       "458                 0                  0                   0   \n",
       "492                 0                  0                   0   \n",
       "557                 0                  0                   0   \n",
       "691                 0                  0                   0   \n",
       "778                 0                  0                   0   \n",
       "801                 0                  0                   0   \n",
       "832                 0                  0                   0   \n",
       "851                 0                  0                   0   \n",
       "867                 0                  0                   0   \n",
       "890                 0                  0                   0   \n",
       "910                 0                  0                   0   \n",
       "939                 0                  0                   0   \n",
       "950                 0                  0                   0   \n",
       "951                 0                  0                   0   \n",
       "958                 0                  0                   0   \n",
       "963                 0                  0                   0   \n",
       "967                 0                  0                   0   \n",
       "972                 0                  0                   0   \n",
       "978                 0                  0                   0   \n",
       "992                 0                  0                   0   \n",
       "993                 0                  0                   0   \n",
       "995                 0                  0                   0   \n",
       "996                 0                  0                   0   \n",
       "1001                0                  0                   0   \n",
       "1003                0                  0                   0   \n",
       "1008                0                  0                   0   \n",
       "1009                0                  0                   0   \n",
       "1010                0                  0                   0   \n",
       "1011                0                  0                   0   \n",
       "...               ...                ...                 ...   \n",
       "1197                0                  0                   0   \n",
       "1205                0                  0                   0   \n",
       "1206                0                  0                   0   \n",
       "1209                0                  0                   0   \n",
       "1211                0                  0                   0   \n",
       "1212                0                  0                   0   \n",
       "1213                0                  0                   0   \n",
       "1216                0                  0                   0   \n",
       "1217                0                  0                   0   \n",
       "1218                0                  0                   0   \n",
       "1219                0                  0                   0   \n",
       "1220                0                  0                   0   \n",
       "1222                0                  0                   0   \n",
       "1223                0                  0                   0   \n",
       "1224                0                  0                   0   \n",
       "1225                0                  0                   0   \n",
       "1226                0                  0                   0   \n",
       "1228                0                  0                   0   \n",
       "1231                0                  0                   0   \n",
       "1232                0                  0                   0   \n",
       "1233                0                  0                   0   \n",
       "1234                0                  0                   0   \n",
       "1236                0                  0                   0   \n",
       "1237                0                  0                   0   \n",
       "1256                0                  0                   0   \n",
       "1330                0                  0                   0   \n",
       "1345                0                  0                   0   \n",
       "1354                0                  1                   0   \n",
       "1358                0                  0                   0   \n",
       "1380                0                  1                   0   \n",
       "\n",
       "      category_modern_european  category_divebars  category_restaurants  \\\n",
       "372                          0                  0                     0   \n",
       "458                          0                  0                     0   \n",
       "492                          0                  0                     0   \n",
       "557                          0                  0                     0   \n",
       "691                          0                  0                     0   \n",
       "778                          0                  0                     0   \n",
       "801                          0                  0                     0   \n",
       "832                          0                  0                     0   \n",
       "851                          0                  0                     0   \n",
       "867                          0                  0                     0   \n",
       "890                          0                  0                     0   \n",
       "910                          0                  0                     0   \n",
       "939                          0                  0                     0   \n",
       "950                          0                  0                     0   \n",
       "951                          0                  0                     0   \n",
       "958                          0                  0                     0   \n",
       "963                          0                  0                     0   \n",
       "967                          0                  0                     0   \n",
       "972                          0                  0                     0   \n",
       "978                          0                  0                     0   \n",
       "992                          0                  0                     0   \n",
       "993                          0                  0                     0   \n",
       "995                          0                  0                     0   \n",
       "996                          0                  0                     0   \n",
       "1001                         0                  0                     0   \n",
       "1003                         0                  0                     0   \n",
       "1008                         0                  0                     0   \n",
       "1009                         0                  0                     0   \n",
       "1010                         0                  0                     0   \n",
       "1011                         0                  0                     0   \n",
       "...                        ...                ...                   ...   \n",
       "1197                         0                  0                     0   \n",
       "1205                         0                  0                     0   \n",
       "1206                         0                  0                     0   \n",
       "1209                         0                  0                     0   \n",
       "1211                         0                  0                     0   \n",
       "1212                         0                  0                     0   \n",
       "1213                         0                  0                     0   \n",
       "1216                         0                  0                     0   \n",
       "1217                         0                  0                     0   \n",
       "1218                         0                  0                     0   \n",
       "1219                         0                  0                     0   \n",
       "1220                         0                  0                     0   \n",
       "1222                         0                  0                     0   \n",
       "1223                         0                  0                     0   \n",
       "1224                         0                  0                     0   \n",
       "1225                         0                  0                     0   \n",
       "1226                         0                  0                     0   \n",
       "1228                         0                  0                     0   \n",
       "1231                         0                  0                     0   \n",
       "1232                         0                  0                     0   \n",
       "1233                         0                  0                     0   \n",
       "1234                         0                  0                     0   \n",
       "1236                         0                  0                     0   \n",
       "1237                         0                  0                     0   \n",
       "1256                         0                  0                     0   \n",
       "1330                         0                  0                     0   \n",
       "1345                         0                  0                     0   \n",
       "1354                         0                  0                     0   \n",
       "1358                         0                  0                     0   \n",
       "1380                         0                  0                     0   \n",
       "\n",
       "      category_tex-mex  dist_from_galvanize  \n",
       "372                  0             2.350068  \n",
       "458                  0             2.364480  \n",
       "492                  0          1972.727788  \n",
       "557                  0             2.364480  \n",
       "691                  0             4.079808  \n",
       "778                  0             5.189710  \n",
       "801                  0             2.710320  \n",
       "832                  0             4.203565  \n",
       "851                  0             6.503580  \n",
       "867                  0          4779.700868  \n",
       "890                  0             6.474967  \n",
       "910                  0             6.103248  \n",
       "939                  0             3.470696  \n",
       "950                  0             2.041364  \n",
       "951                  0             2.525119  \n",
       "958                  0             2.090388  \n",
       "963                  0             2.004268  \n",
       "967                  0             2.190947  \n",
       "972                  0             2.286292  \n",
       "978                  0             2.061322  \n",
       "992                  0             3.470469  \n",
       "993                  0             2.177592  \n",
       "995                  0             2.031672  \n",
       "996                  0             2.060733  \n",
       "1001                 0             2.042207  \n",
       "1003                 0             3.713833  \n",
       "1008                 0             3.834683  \n",
       "1009                 0             3.990753  \n",
       "1010                 0             2.890846  \n",
       "1011                 0             2.814976  \n",
       "...                ...                  ...  \n",
       "1197                 0             2.749138  \n",
       "1205                 0             2.141467  \n",
       "1206                 0             2.113118  \n",
       "1209                 0             4.092247  \n",
       "1211                 0             4.618854  \n",
       "1212                 0             2.021997  \n",
       "1213                 0             4.294871  \n",
       "1216                 0             3.844710  \n",
       "1217                 0             2.986992  \n",
       "1218                 0             4.667492  \n",
       "1219                 0             3.823306  \n",
       "1220                 0             4.245690  \n",
       "1222                 0             3.618847  \n",
       "1223                 0             3.777490  \n",
       "1224                 0             4.338942  \n",
       "1225                 0             3.847840  \n",
       "1226                 0             4.897125  \n",
       "1228                 0             4.451635  \n",
       "1231                 0             3.954227  \n",
       "1232                 0             4.326665  \n",
       "1233                 0             2.168211  \n",
       "1234                 0             2.097064  \n",
       "1236                 0             3.573423  \n",
       "1237                 0             3.481819  \n",
       "1256                 0             3.573068  \n",
       "1330                 0            10.815946  \n",
       "1345                 0             3.573068  \n",
       "1354                 0             5.712791  \n",
       "1358                 0            10.796968  \n",
       "1380                 0            10.219408  \n",
       "\n",
       "[165 rows x 118 columns]"
      ]
     },
     "execution_count": 684,
     "metadata": {},
     "output_type": "execute_result"
    }
   ],
   "source": [
    "full_restaurant_df[full_restaurant_df['dist_from_galvanize'] > 2]"
   ]
  },
  {
   "cell_type": "code",
   "execution_count": null,
   "metadata": {
    "collapsed": true
   },
   "outputs": [],
   "source": []
  }
 ],
 "metadata": {
  "kernelspec": {
   "display_name": "Python 3",
   "language": "python",
   "name": "python3"
  },
  "language_info": {
   "codemirror_mode": {
    "name": "ipython",
    "version": 3
   },
   "file_extension": ".py",
   "mimetype": "text/x-python",
   "name": "python",
   "nbconvert_exporter": "python",
   "pygments_lexer": "ipython3",
   "version": "3.6.6"
  }
 },
 "nbformat": 4,
 "nbformat_minor": 2
}
