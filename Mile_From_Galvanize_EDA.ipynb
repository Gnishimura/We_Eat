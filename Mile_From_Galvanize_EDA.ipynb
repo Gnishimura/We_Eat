{
 "cells": [
  {
   "cell_type": "code",
   "execution_count": 94,
   "metadata": {},
   "outputs": [],
   "source": [
    "from build_database import (default_params, load_api_key, make_request,\n",
    "                            build_database, add_to_database_if_new, retrieve_database,\n",
    "                           )\n",
    "\n",
    "from clean_database import (clean_cats, separate_coords, change_price_nulls,\n",
    "                           dummify_price, drop_unnecessaries)\n",
    "\n",
    "from pymongo import MongoClient\n",
    "import pandas as pd\n",
    "from PIL import Image\n",
    "import urllib.request, io\n",
    "\n",
    "from IPython.display import Image, display\n",
    "from IPython.core.display import HTML \n",
    "\n",
    "import matplotlib.pyplot as plt\n",
    "%matplotlib inline"
   ]
  },
  {
   "cell_type": "code",
   "execution_count": 6,
   "metadata": {},
   "outputs": [],
   "source": [
    "# client = MongoClient()\n",
    "we_eat_client = MongoClient()\n",
    "\n",
    "# create Mongo database and collection\n",
    "we_eat_db = we_eat_client['we_eat']\n",
    "restaurant_collection = we_eat_db['restaurants']"
   ]
  },
  {
   "cell_type": "code",
   "execution_count": 15,
   "metadata": {},
   "outputs": [
    {
     "name": "stdout",
     "output_type": "stream",
     "text": [
      "1\n",
      "51\n",
      "101\n",
      "151\n",
      "201\n",
      "251\n",
      "301\n",
      "351\n",
      "401\n",
      "451\n",
      "501\n",
      "551\n",
      "601\n",
      "651\n",
      "701\n",
      "751\n",
      "801\n",
      "851\n",
      "901\n",
      "951\n",
      "No businesses returned\n"
     ]
    }
   ],
   "source": [
    "rest_db = build_database()\n",
    "mile_from_galvanize = retrieve_database()"
   ]
  },
  {
   "cell_type": "code",
   "execution_count": 8,
   "metadata": {},
   "outputs": [
    {
     "name": "stdout",
     "output_type": "stream",
     "text": [
      "<class 'pandas.core.frame.DataFrame'>\n",
      "RangeIndex: 1393 entries, 0 to 1392\n",
      "Data columns (total 17 columns):\n",
      "_id              1393 non-null object\n",
      "alias            1393 non-null object\n",
      "categories       1393 non-null object\n",
      "coordinates      1393 non-null object\n",
      "display_phone    1393 non-null object\n",
      "distance         1393 non-null float64\n",
      "id               1393 non-null object\n",
      "image_url        1393 non-null object\n",
      "is_closed        1393 non-null bool\n",
      "location         1393 non-null object\n",
      "name             1393 non-null object\n",
      "phone            1393 non-null object\n",
      "price            1234 non-null object\n",
      "rating           1393 non-null float64\n",
      "review_count     1393 non-null int64\n",
      "transactions     1393 non-null object\n",
      "url              1393 non-null object\n",
      "dtypes: bool(1), float64(2), int64(1), object(13)\n",
      "memory usage: 175.6+ KB\n"
     ]
    }
   ],
   "source": [
    "mile_from_galvanize.info()"
   ]
  },
  {
   "cell_type": "code",
   "execution_count": 21,
   "metadata": {},
   "outputs": [],
   "source": [
    "mile_from_galvanize['cats'] = mile_from_galvanize['categories'].apply(clean_cats)"
   ]
  },
  {
   "cell_type": "code",
   "execution_count": 17,
   "metadata": {},
   "outputs": [],
   "source": [
    "mile_from_galvanize['lats'], mile_from_galvanize['longs'] = separate_coords(mile_from_galvanize)"
   ]
  },
  {
   "cell_type": "code",
   "execution_count": 18,
   "metadata": {
    "collapsed": true
   },
   "outputs": [],
   "source": [
    "change_price_nulls(mile_from_galvanize)"
   ]
  },
  {
   "cell_type": "code",
   "execution_count": 34,
   "metadata": {
    "collapsed": true
   },
   "outputs": [],
   "source": [
    "dummify_price(mile_from_galvanize)"
   ]
  },
  {
   "cell_type": "code",
   "execution_count": 473,
   "metadata": {},
   "outputs": [
    {
     "data": {
      "text/html": [
       "<div>\n",
       "<style scoped>\n",
       "    .dataframe tbody tr th:only-of-type {\n",
       "        vertical-align: middle;\n",
       "    }\n",
       "\n",
       "    .dataframe tbody tr th {\n",
       "        vertical-align: top;\n",
       "    }\n",
       "\n",
       "    .dataframe thead th {\n",
       "        text-align: right;\n",
       "    }\n",
       "</style>\n",
       "<table border=\"1\" class=\"dataframe\">\n",
       "  <thead>\n",
       "    <tr style=\"text-align: right;\">\n",
       "      <th></th>\n",
       "      <th>_id</th>\n",
       "      <th>alias</th>\n",
       "      <th>categories</th>\n",
       "      <th>coordinates</th>\n",
       "      <th>display_phone</th>\n",
       "      <th>distance</th>\n",
       "      <th>id</th>\n",
       "      <th>image_url</th>\n",
       "      <th>is_closed</th>\n",
       "      <th>location</th>\n",
       "      <th>...</th>\n",
       "      <th>review_count</th>\n",
       "      <th>transactions</th>\n",
       "      <th>url</th>\n",
       "      <th>lats</th>\n",
       "      <th>longs</th>\n",
       "      <th>cats</th>\n",
       "      <th>$</th>\n",
       "      <th>$$</th>\n",
       "      <th>$$$</th>\n",
       "      <th>$$$$</th>\n",
       "    </tr>\n",
       "  </thead>\n",
       "  <tbody>\n",
       "    <tr>\n",
       "      <th>0</th>\n",
       "      <td>5bf5e06f91d56f59f158cfa4</td>\n",
       "      <td>amazon-go-seattle-5</td>\n",
       "      <td>[{'alias': 'convenience', 'title': 'Convenienc...</td>\n",
       "      <td>{'latitude': 47.60638, 'longitude': -122.33122}</td>\n",
       "      <td></td>\n",
       "      <td>493.410866</td>\n",
       "      <td>XDfmz7Woxx6NkZDGBtAVAQ</td>\n",
       "      <td>https://s3-media1.fl.yelpcdn.com/bphoto/fDQhxw...</td>\n",
       "      <td>False</td>\n",
       "      <td>{'address1': '920 5th Ave', 'address2': None, ...</td>\n",
       "      <td>...</td>\n",
       "      <td>7</td>\n",
       "      <td>[]</td>\n",
       "      <td>https://www.yelp.com/biz/amazon-go-seattle-5?a...</td>\n",
       "      <td>47.60638</td>\n",
       "      <td>-122.33122</td>\n",
       "      <td>convenience,salad,sandwiches</td>\n",
       "      <td>0</td>\n",
       "      <td>1</td>\n",
       "      <td>0</td>\n",
       "      <td>0</td>\n",
       "    </tr>\n",
       "    <tr>\n",
       "      <th>1</th>\n",
       "      <td>5bf5e06f91d56f59f158cfa5</td>\n",
       "      <td>the-pink-door-seattle-4</td>\n",
       "      <td>[{'alias': 'italian', 'title': 'Italian'}, {'a...</td>\n",
       "      <td>{'latitude': 47.61028, 'longitude': -122.3425}</td>\n",
       "      <td>(206) 443-3241</td>\n",
       "      <td>1327.897033</td>\n",
       "      <td>VOPdG8llLPaga9iJxXcMuQ</td>\n",
       "      <td>https://s3-media1.fl.yelpcdn.com/bphoto/c_vzRF...</td>\n",
       "      <td>False</td>\n",
       "      <td>{'address1': '1919 Post Alley', 'address2': ''...</td>\n",
       "      <td>...</td>\n",
       "      <td>4019</td>\n",
       "      <td>[]</td>\n",
       "      <td>https://www.yelp.com/biz/the-pink-door-seattle...</td>\n",
       "      <td>47.61028</td>\n",
       "      <td>-122.34250</td>\n",
       "      <td>italian,wine_bars,seafood</td>\n",
       "      <td>0</td>\n",
       "      <td>1</td>\n",
       "      <td>0</td>\n",
       "      <td>0</td>\n",
       "    </tr>\n",
       "    <tr>\n",
       "      <th>2</th>\n",
       "      <td>5bf5e06f91d56f59f158cfa6</td>\n",
       "      <td>nirmals-seattle</td>\n",
       "      <td>[{'alias': 'indpak', 'title': 'Indian'}]</td>\n",
       "      <td>{'latitude': 47.60147, 'longitude': -122.33262}</td>\n",
       "      <td>(206) 683-9701</td>\n",
       "      <td>228.364627</td>\n",
       "      <td>GXz21OgpWOtnCF0GDXHPhA</td>\n",
       "      <td>https://s3-media3.fl.yelpcdn.com/bphoto/LVSEXb...</td>\n",
       "      <td>False</td>\n",
       "      <td>{'address1': '106 Occidental Ave S', 'address2...</td>\n",
       "      <td>...</td>\n",
       "      <td>424</td>\n",
       "      <td>[restaurant_reservation, pickup]</td>\n",
       "      <td>https://www.yelp.com/biz/nirmals-seattle?adjus...</td>\n",
       "      <td>47.60147</td>\n",
       "      <td>-122.33262</td>\n",
       "      <td>indpak</td>\n",
       "      <td>0</td>\n",
       "      <td>1</td>\n",
       "      <td>0</td>\n",
       "      <td>0</td>\n",
       "    </tr>\n",
       "    <tr>\n",
       "      <th>3</th>\n",
       "      <td>5bf5e06f91d56f59f158cfa7</td>\n",
       "      <td>bad-bishop-seattle</td>\n",
       "      <td>[{'alias': 'cocktailbars', 'title': 'Cocktail ...</td>\n",
       "      <td>{'latitude': 47.60286, 'longitude': -122.33427}</td>\n",
       "      <td>(206) 623-3440</td>\n",
       "      <td>344.167932</td>\n",
       "      <td>KFMsgY5mV_wCYsa0XX_hEQ</td>\n",
       "      <td>https://s3-media1.fl.yelpcdn.com/bphoto/1GpjX0...</td>\n",
       "      <td>False</td>\n",
       "      <td>{'address1': '704 1st Ave', 'address2': None, ...</td>\n",
       "      <td>...</td>\n",
       "      <td>6</td>\n",
       "      <td>[]</td>\n",
       "      <td>https://www.yelp.com/biz/bad-bishop-seattle?ad...</td>\n",
       "      <td>47.60286</td>\n",
       "      <td>-122.33427</td>\n",
       "      <td>cocktailbars,comfortfood</td>\n",
       "      <td>0</td>\n",
       "      <td>1</td>\n",
       "      <td>0</td>\n",
       "      <td>0</td>\n",
       "    </tr>\n",
       "    <tr>\n",
       "      <th>4</th>\n",
       "      <td>5bf5e06f91d56f59f158cfa8</td>\n",
       "      <td>pike-place-chowder-seattle</td>\n",
       "      <td>[{'alias': 'seafood', 'title': 'Seafood'}, {'a...</td>\n",
       "      <td>{'latitude': 47.60939, 'longitude': -122.34112}</td>\n",
       "      <td>(206) 267-2537</td>\n",
       "      <td>1176.460907</td>\n",
       "      <td>6I28wDuMBR5WLMqfKxaoeg</td>\n",
       "      <td>https://s3-media3.fl.yelpcdn.com/bphoto/ijju-w...</td>\n",
       "      <td>False</td>\n",
       "      <td>{'address1': '1530 Post Aly', 'address2': 'Ste...</td>\n",
       "      <td>...</td>\n",
       "      <td>6317</td>\n",
       "      <td>[pickup]</td>\n",
       "      <td>https://www.yelp.com/biz/pike-place-chowder-se...</td>\n",
       "      <td>47.60939</td>\n",
       "      <td>-122.34112</td>\n",
       "      <td>seafood,soup</td>\n",
       "      <td>0</td>\n",
       "      <td>1</td>\n",
       "      <td>0</td>\n",
       "      <td>0</td>\n",
       "    </tr>\n",
       "  </tbody>\n",
       "</table>\n",
       "<p>5 rows × 24 columns</p>\n",
       "</div>"
      ],
      "text/plain": [
       "                        _id                       alias  \\\n",
       "0  5bf5e06f91d56f59f158cfa4         amazon-go-seattle-5   \n",
       "1  5bf5e06f91d56f59f158cfa5     the-pink-door-seattle-4   \n",
       "2  5bf5e06f91d56f59f158cfa6             nirmals-seattle   \n",
       "3  5bf5e06f91d56f59f158cfa7          bad-bishop-seattle   \n",
       "4  5bf5e06f91d56f59f158cfa8  pike-place-chowder-seattle   \n",
       "\n",
       "                                          categories  \\\n",
       "0  [{'alias': 'convenience', 'title': 'Convenienc...   \n",
       "1  [{'alias': 'italian', 'title': 'Italian'}, {'a...   \n",
       "2           [{'alias': 'indpak', 'title': 'Indian'}]   \n",
       "3  [{'alias': 'cocktailbars', 'title': 'Cocktail ...   \n",
       "4  [{'alias': 'seafood', 'title': 'Seafood'}, {'a...   \n",
       "\n",
       "                                       coordinates   display_phone  \\\n",
       "0  {'latitude': 47.60638, 'longitude': -122.33122}                   \n",
       "1   {'latitude': 47.61028, 'longitude': -122.3425}  (206) 443-3241   \n",
       "2  {'latitude': 47.60147, 'longitude': -122.33262}  (206) 683-9701   \n",
       "3  {'latitude': 47.60286, 'longitude': -122.33427}  (206) 623-3440   \n",
       "4  {'latitude': 47.60939, 'longitude': -122.34112}  (206) 267-2537   \n",
       "\n",
       "      distance                      id  \\\n",
       "0   493.410866  XDfmz7Woxx6NkZDGBtAVAQ   \n",
       "1  1327.897033  VOPdG8llLPaga9iJxXcMuQ   \n",
       "2   228.364627  GXz21OgpWOtnCF0GDXHPhA   \n",
       "3   344.167932  KFMsgY5mV_wCYsa0XX_hEQ   \n",
       "4  1176.460907  6I28wDuMBR5WLMqfKxaoeg   \n",
       "\n",
       "                                           image_url  is_closed  \\\n",
       "0  https://s3-media1.fl.yelpcdn.com/bphoto/fDQhxw...      False   \n",
       "1  https://s3-media1.fl.yelpcdn.com/bphoto/c_vzRF...      False   \n",
       "2  https://s3-media3.fl.yelpcdn.com/bphoto/LVSEXb...      False   \n",
       "3  https://s3-media1.fl.yelpcdn.com/bphoto/1GpjX0...      False   \n",
       "4  https://s3-media3.fl.yelpcdn.com/bphoto/ijju-w...      False   \n",
       "\n",
       "                                            location ...  review_count  \\\n",
       "0  {'address1': '920 5th Ave', 'address2': None, ... ...             7   \n",
       "1  {'address1': '1919 Post Alley', 'address2': ''... ...          4019   \n",
       "2  {'address1': '106 Occidental Ave S', 'address2... ...           424   \n",
       "3  {'address1': '704 1st Ave', 'address2': None, ... ...             6   \n",
       "4  {'address1': '1530 Post Aly', 'address2': 'Ste... ...          6317   \n",
       "\n",
       "                       transactions  \\\n",
       "0                                []   \n",
       "1                                []   \n",
       "2  [restaurant_reservation, pickup]   \n",
       "3                                []   \n",
       "4                          [pickup]   \n",
       "\n",
       "                                                 url      lats      longs  \\\n",
       "0  https://www.yelp.com/biz/amazon-go-seattle-5?a...  47.60638 -122.33122   \n",
       "1  https://www.yelp.com/biz/the-pink-door-seattle...  47.61028 -122.34250   \n",
       "2  https://www.yelp.com/biz/nirmals-seattle?adjus...  47.60147 -122.33262   \n",
       "3  https://www.yelp.com/biz/bad-bishop-seattle?ad...  47.60286 -122.33427   \n",
       "4  https://www.yelp.com/biz/pike-place-chowder-se...  47.60939 -122.34112   \n",
       "\n",
       "                           cats  $  $$  $$$ $$$$  \n",
       "0  convenience,salad,sandwiches  0   1    0    0  \n",
       "1     italian,wine_bars,seafood  0   1    0    0  \n",
       "2                        indpak  0   1    0    0  \n",
       "3      cocktailbars,comfortfood  0   1    0    0  \n",
       "4                  seafood,soup  0   1    0    0  \n",
       "\n",
       "[5 rows x 24 columns]"
      ]
     },
     "execution_count": 473,
     "metadata": {},
     "output_type": "execute_result"
    }
   ],
   "source": [
    "mile_from_galvanize.head()"
   ]
  },
  {
   "cell_type": "code",
   "execution_count": 36,
   "metadata": {},
   "outputs": [
    {
     "name": "stderr",
     "output_type": "stream",
     "text": [
      "/Users/gnishimura/anaconda/lib/python3.6/site-packages/pandas/core/frame.py:3697: SettingWithCopyWarning: \n",
      "A value is trying to be set on a copy of a slice from a DataFrame\n",
      "\n",
      "See the caveats in the documentation: http://pandas.pydata.org/pandas-docs/stable/indexing.html#indexing-view-versus-copy\n",
      "  errors=errors)\n"
     ]
    }
   ],
   "source": [
    "mile_from_galvanize_copy = drop_unnecessaries(mile_from_galvanize)"
   ]
  },
  {
   "cell_type": "code",
   "execution_count": 43,
   "metadata": {},
   "outputs": [
    {
     "name": "stdout",
     "output_type": "stream",
     "text": [
      "<class 'pandas.core.frame.DataFrame'>\n",
      "Int64Index: 1392 entries, 0 to 1392\n",
      "Data columns (total 16 columns):\n",
      "alias           1392 non-null object\n",
      "distance        1392 non-null float64\n",
      "id              1392 non-null object\n",
      "image_url       1392 non-null object\n",
      "location        1392 non-null object\n",
      "rating          1392 non-null float64\n",
      "review_count    1392 non-null int64\n",
      "transactions    1392 non-null object\n",
      "url             1392 non-null object\n",
      "lats            1392 non-null float64\n",
      "longs           1392 non-null float64\n",
      "cats            1392 non-null object\n",
      "$               1392 non-null int64\n",
      "$$              1392 non-null int64\n",
      "$$$             1392 non-null int64\n",
      "$$$$            1392 non-null int64\n",
      "dtypes: float64(4), int64(5), object(7)\n",
      "memory usage: 224.9+ KB\n"
     ]
    }
   ],
   "source": [
    "mile_from_galvanize_copy.info()"
   ]
  },
  {
   "cell_type": "code",
   "execution_count": null,
   "metadata": {},
   "outputs": [],
   "source": []
  },
  {
   "cell_type": "code",
   "execution_count": 80,
   "metadata": {},
   "outputs": [
    {
     "data": {
      "text/html": [
       "<img src=\"https://s3-media2.fl.yelpcdn.com/bphoto/AWnFc14yCFfvfhBe634UuQ/o.jpg\" width=\"100\" height=\"100\"/>"
      ],
      "text/plain": [
       "<IPython.core.display.Image object>"
      ]
     },
     "execution_count": 80,
     "metadata": {},
     "output_type": "execute_result"
    }
   ],
   "source": [
    "URL = mile_from_galvanize_copy['image_url'][10]\n",
    "Image(url=URL, width=100, height=100)"
   ]
  },
  {
   "cell_type": "code",
   "execution_count": 98,
   "metadata": {},
   "outputs": [
    {
     "data": {
      "text/html": [
       "<img src=\"https://s3-media1.fl.yelpcdn.com/bphoto/fDQhxwNfEpcWOO_F811Lww/o.jpg\" width=\"100\" height=\"100\"/>"
      ],
      "text/plain": [
       "<IPython.core.display.Image object>"
      ]
     },
     "metadata": {},
     "output_type": "display_data"
    },
    {
     "data": {
      "text/html": [
       "<img src=\"https://s3-media1.fl.yelpcdn.com/bphoto/c_vzRF4h3ywnyeM116QFuA/o.jpg\" width=\"100\" height=\"100\"/>"
      ],
      "text/plain": [
       "<IPython.core.display.Image object>"
      ]
     },
     "metadata": {},
     "output_type": "display_data"
    },
    {
     "data": {
      "text/html": [
       "<img src=\"https://s3-media3.fl.yelpcdn.com/bphoto/LVSEXbNmlsi7s2az_3RKWg/o.jpg\" width=\"100\" height=\"100\"/>"
      ],
      "text/plain": [
       "<IPython.core.display.Image object>"
      ]
     },
     "metadata": {},
     "output_type": "display_data"
    },
    {
     "data": {
      "text/html": [
       "<img src=\"https://s3-media1.fl.yelpcdn.com/bphoto/1GpjX0chDFtVKWqYTxLzzQ/o.jpg\" width=\"100\" height=\"100\"/>"
      ],
      "text/plain": [
       "<IPython.core.display.Image object>"
      ]
     },
     "metadata": {},
     "output_type": "display_data"
    },
    {
     "data": {
      "text/html": [
       "<img src=\"https://s3-media3.fl.yelpcdn.com/bphoto/ijju-wYoRAxWjHPTCxyQGQ/o.jpg\" width=\"100\" height=\"100\"/>"
      ],
      "text/plain": [
       "<IPython.core.display.Image object>"
      ]
     },
     "metadata": {},
     "output_type": "display_data"
    },
    {
     "data": {
      "text/html": [
       "<img src=\"https://s3-media4.fl.yelpcdn.com/bphoto/WUnigNI9n5Gdpw4qdyOSyw/o.jpg\" width=\"100\" height=\"100\"/>"
      ],
      "text/plain": [
       "<IPython.core.display.Image object>"
      ]
     },
     "metadata": {},
     "output_type": "display_data"
    },
    {
     "data": {
      "text/html": [
       "<img src=\"https://s3-media1.fl.yelpcdn.com/bphoto/DqP1nz--zc8j4brCA_FeuQ/o.jpg\" width=\"100\" height=\"100\"/>"
      ],
      "text/plain": [
       "<IPython.core.display.Image object>"
      ]
     },
     "metadata": {},
     "output_type": "display_data"
    },
    {
     "data": {
      "text/html": [
       "<img src=\"https://s3-media3.fl.yelpcdn.com/bphoto/r6mFftGhUVvZjSu67PwSVg/o.jpg\" width=\"100\" height=\"100\"/>"
      ],
      "text/plain": [
       "<IPython.core.display.Image object>"
      ]
     },
     "metadata": {},
     "output_type": "display_data"
    },
    {
     "data": {
      "text/html": [
       "<img src=\"https://s3-media2.fl.yelpcdn.com/bphoto/he49IR0G1wrjO1WI-fxkAg/o.jpg\" width=\"100\" height=\"100\"/>"
      ],
      "text/plain": [
       "<IPython.core.display.Image object>"
      ]
     },
     "metadata": {},
     "output_type": "display_data"
    },
    {
     "data": {
      "text/html": [
       "<img src=\"https://s3-media3.fl.yelpcdn.com/bphoto/Am6AabmBhkHHqrGRSg2clQ/o.jpg\" width=\"100\" height=\"100\"/>"
      ],
      "text/plain": [
       "<IPython.core.display.Image object>"
      ]
     },
     "metadata": {},
     "output_type": "display_data"
    }
   ],
   "source": [
    "for row in mile_from_galvanize_copy['image_url'][:10]:\n",
    "    display(Image(url=row, width=100, height=100)) "
   ]
  },
  {
   "cell_type": "code",
   "execution_count": null,
   "metadata": {
    "collapsed": true
   },
   "outputs": [],
   "source": []
  },
  {
   "cell_type": "code",
   "execution_count": 103,
   "metadata": {},
   "outputs": [
    {
     "data": {
      "text/plain": [
       "['convenience', 'salad', 'sandwiches']"
      ]
     },
     "execution_count": 103,
     "metadata": {},
     "output_type": "execute_result"
    }
   ],
   "source": [
    "mile_from_galvanize_copy['cats'][0].split(',')"
   ]
  },
  {
   "cell_type": "code",
   "execution_count": 117,
   "metadata": {},
   "outputs": [],
   "source": [
    "from collections import Counter\n",
    "\n",
    "\n",
    "def cat_counts(categories):\n",
    "    cat_dict = Counter()\n",
    "    for row in categories:\n",
    "        temp = row.split(',')\n",
    "        for cat in temp:\n",
    "            cat_dict[cat] += 1\n",
    "    return cat_dict\n",
    "        \n",
    "    "
   ]
  },
  {
   "cell_type": "code",
   "execution_count": 119,
   "metadata": {},
   "outputs": [],
   "source": [
    "cat_counts = cat_counts(mile_from_galvanize_copy['cats'])"
   ]
  },
  {
   "cell_type": "code",
   "execution_count": 120,
   "metadata": {},
   "outputs": [
    {
     "data": {
      "text/plain": [
       "[('sandwiches', 187),\n",
       " ('newamerican', 142),\n",
       " ('breakfast_brunch', 140),\n",
       " ('bars', 109),\n",
       " ('seafood', 101),\n",
       " ('cafes', 98),\n",
       " ('tradamerican', 95),\n",
       " ('cocktailbars', 81),\n",
       " ('mexican', 72),\n",
       " ('hotdogs', 70),\n",
       " ('pizza', 69),\n",
       " ('salad', 66),\n",
       " ('coffee', 66),\n",
       " ('japanese', 62),\n",
       " ('foodtrucks', 62),\n",
       " ('italian', 61),\n",
       " ('delis', 60),\n",
       " ('noodles', 57),\n",
       " ('vietnamese', 56),\n",
       " ('asianfusion', 51),\n",
       " ('burgers', 50),\n",
       " ('sushi', 49),\n",
       " ('bakeries', 49),\n",
       " ('chinese', 48),\n",
       " ('thai', 46),\n",
       " ('korean', 44),\n",
       " ('foodstands', 40),\n",
       " ('mediterranean', 39),\n",
       " ('bbq', 37),\n",
       " ('tapasmallplates', 32),\n",
       " ('desserts', 29),\n",
       " ('wine_bars', 27),\n",
       " ('soup', 24),\n",
       " ('hotdog', 24),\n",
       " ('indpak', 23),\n",
       " ('hawaiian', 22),\n",
       " ('cantonese', 21),\n",
       " ('pubs', 21),\n",
       " ('steak', 20),\n",
       " ('poke', 19),\n",
       " ('french', 19),\n",
       " ('sportsbars', 18),\n",
       " ('dimsum', 17),\n",
       " ('lounges', 16),\n",
       " ('vegetarian', 16),\n",
       " ('juicebars', 15),\n",
       " ('vegan', 15),\n",
       " ('beerbar', 15),\n",
       " ('venues', 14),\n",
       " ('tacos', 14),\n",
       " ('diners', 14),\n",
       " ('chicken_wings', 13),\n",
       " ('chickenshop', 13),\n",
       " ('ethiopian', 13),\n",
       " ('catering', 13),\n",
       " ('buffets', 12),\n",
       " ('fishnchips', 12),\n",
       " ('gluten_free', 12),\n",
       " ('greek', 12),\n",
       " ('taiwanese', 12),\n",
       " ('ramen', 12),\n",
       " ('mideastern', 12),\n",
       " ('southern', 11),\n",
       " ('hotpot', 11),\n",
       " ('comfortfood', 10),\n",
       " ('gastropubs', 10),\n",
       " ('german', 10),\n",
       " ('izakaya', 10),\n",
       " ('tapas', 10),\n",
       " ('raw_food', 9),\n",
       " ('grocery', 9),\n",
       " ('halal', 9),\n",
       " ('spanish', 9),\n",
       " ('streetvendors', 9),\n",
       " ('latin', 8),\n",
       " ('turkish', 8),\n",
       " ('wraps', 8),\n",
       " ('caribbean', 8),\n",
       " ('cakeshop', 8),\n",
       " ('convenience', 7),\n",
       " ('hkcafe', 7),\n",
       " ('russian', 7),\n",
       " ('waffles', 7),\n",
       " ('szechuan', 7),\n",
       " ('breweries', 7),\n",
       " ('bagels', 7),\n",
       " ('beer_and_wine', 7),\n",
       " ('divebars', 7),\n",
       " ('meats', 6),\n",
       " ('food_court', 6),\n",
       " ('modern_european', 6),\n",
       " ('restaurants', 6),\n",
       " ('cheesesteaks', 5),\n",
       " ('irish_pubs', 5),\n",
       " ('filipino', 5),\n",
       " ('musicvenues', 5),\n",
       " ('donuts', 5),\n",
       " ('british', 5),\n",
       " ('icecream', 5),\n",
       " ('creperies', 5),\n",
       " ('tex-mex', 5),\n",
       " ('shanghainese', 4),\n",
       " ('lebanese', 4),\n",
       " ('cajun', 4),\n",
       " ('soulfood', 4),\n",
       " ('peruvian', 4),\n",
       " ('brewpubs', 4),\n",
       " ('persian', 3),\n",
       " ('argentine', 3),\n",
       " ('laotian', 3),\n",
       " ('cuban', 3),\n",
       " ('falafel', 3),\n",
       " ('panasian', 3),\n",
       " ('beergardens', 3),\n",
       " ('himalayan', 3),\n",
       " ('speakeasies', 3),\n",
       " ('empanadas', 3),\n",
       " ('newmexican', 3),\n",
       " ('moroccan', 3),\n",
       " ('pastashops', 3),\n",
       " ('cafeteria', 3),\n",
       " ('irish', 3),\n",
       " ('gourmet', 3),\n",
       " ('popuprestaurants', 3),\n",
       " ('gaybars', 3),\n",
       " ('malaysian', 2),\n",
       " ('teppanyaki', 2),\n",
       " ('bike_repair_maintenance', 2),\n",
       " ('basque', 2),\n",
       " ('polish', 2),\n",
       " ('bubbletea', 2),\n",
       " ('bikes', 2),\n",
       " ('australian', 2),\n",
       " ('themedcafes', 2),\n",
       " ('japacurry', 2),\n",
       " ('pakistani', 2),\n",
       " ('seafoodmarkets', 2),\n",
       " ('karaoke', 2),\n",
       " ('importedfood', 2),\n",
       " ('dinnertheater', 2),\n",
       " ('kebab', 2),\n",
       " ('healthmarkets', 2),\n",
       " ('danceclubs', 2),\n",
       " ('theater', 2),\n",
       " ('candy', 2),\n",
       " ('venezuelan', 2),\n",
       " ('trinidadian', 2),\n",
       " ('gelato', 2),\n",
       " ('african', 2),\n",
       " ('scandinavian', 2),\n",
       " ('florists', 1),\n",
       " ('dominican', 1),\n",
       " ('sports_clubs', 1),\n",
       " ('syrian', 1),\n",
       " ('observatories', 1),\n",
       " ('butcher', 1),\n",
       " ('mongolian', 1),\n",
       " ('cheese', 1),\n",
       " ('brazilian', 1),\n",
       " ('ukrainian', 1),\n",
       " ('artmuseums', 1),\n",
       " ('portuguese', 1),\n",
       " ('tea', 1),\n",
       " ('brasseries', 1),\n",
       " ('vinyl_records', 1),\n",
       " ('sicilian', 1),\n",
       " ('cabaret', 1),\n",
       " ('smokehouse', 1),\n",
       " ('culturalcenter', 1),\n",
       " ('acaibowls', 1),\n",
       " ('cideries', 1),\n",
       " ('macarons', 1),\n",
       " ('interiordesign', 1),\n",
       " ('scottish', 1),\n",
       " ('whiskeybars', 1),\n",
       " ('shopping', 1),\n",
       " ('propertymgmt', 1),\n",
       " ('coffeeroasteries', 1),\n",
       " ('outlet_stores', 1),\n",
       " ('healthtrainers', 1),\n",
       " ('indonesian', 1),\n",
       " ('winetasteclasses', 1),\n",
       " ('supperclubs', 1),\n",
       " ('galleries', 1),\n",
       " ('giftshops', 1),\n",
       " ('jazzandblues', 1),\n",
       " ('movietheaters', 1),\n",
       " ('conveyorsushi', 1),\n",
       " ('catalan', 1),\n",
       " ('southafrican', 1),\n",
       " ('hair', 1),\n",
       " ('communitycenters', 1),\n",
       " ('tuscan', 1),\n",
       " ('senegalese', 1),\n",
       " ('bookstores', 1),\n",
       " ('egyptian', 1),\n",
       " ('comedyclubs', 1),\n",
       " ('flowers', 1)]"
      ]
     },
     "execution_count": 120,
     "metadata": {},
     "output_type": "execute_result"
    }
   ],
   "source": [
    "cat_counts.most_common()"
   ]
  },
  {
   "cell_type": "code",
   "execution_count": 122,
   "metadata": {},
   "outputs": [
    {
     "data": {
      "text/html": [
       "<div>\n",
       "<style scoped>\n",
       "    .dataframe tbody tr th:only-of-type {\n",
       "        vertical-align: middle;\n",
       "    }\n",
       "\n",
       "    .dataframe tbody tr th {\n",
       "        vertical-align: top;\n",
       "    }\n",
       "\n",
       "    .dataframe thead th {\n",
       "        text-align: right;\n",
       "    }\n",
       "</style>\n",
       "<table border=\"1\" class=\"dataframe\">\n",
       "  <thead>\n",
       "    <tr style=\"text-align: right;\">\n",
       "      <th></th>\n",
       "      <th>alias</th>\n",
       "      <th>distance</th>\n",
       "      <th>id</th>\n",
       "      <th>image_url</th>\n",
       "      <th>location</th>\n",
       "      <th>rating</th>\n",
       "      <th>review_count</th>\n",
       "      <th>transactions</th>\n",
       "      <th>url</th>\n",
       "      <th>lats</th>\n",
       "      <th>longs</th>\n",
       "      <th>cats</th>\n",
       "      <th>$</th>\n",
       "      <th>$$</th>\n",
       "      <th>$$$</th>\n",
       "      <th>$$$$</th>\n",
       "    </tr>\n",
       "  </thead>\n",
       "  <tbody>\n",
       "    <tr>\n",
       "      <th>124</th>\n",
       "      <td>waz-seattle</td>\n",
       "      <td>2202.835120</td>\n",
       "      <td>E5rQ6F0Te5X6wahbmZYG-A</td>\n",
       "      <td>https://s3-media2.fl.yelpcdn.com/bphoto/JcD1R3...</td>\n",
       "      <td>{'address1': '411 Cedar St', 'address2': '', '...</td>\n",
       "      <td>4.5</td>\n",
       "      <td>38</td>\n",
       "      <td>[]</td>\n",
       "      <td>https://www.yelp.com/biz/waz-seattle?adjust_cr...</td>\n",
       "      <td>47.617950</td>\n",
       "      <td>-122.347410</td>\n",
       "      <td>japanese</td>\n",
       "      <td>0</td>\n",
       "      <td>0</td>\n",
       "      <td>0</td>\n",
       "      <td>1</td>\n",
       "    </tr>\n",
       "    <tr>\n",
       "      <th>413</th>\n",
       "      <td>yoshino-teriyaki-seattle</td>\n",
       "      <td>831.388238</td>\n",
       "      <td>1IMivcKgsN8xUL5dFKQK3w</td>\n",
       "      <td>https://s3-media2.fl.yelpcdn.com/bphoto/xIpZHN...</td>\n",
       "      <td>{'address1': '1010 Madison St', 'address2': ''...</td>\n",
       "      <td>3.5</td>\n",
       "      <td>98</td>\n",
       "      <td>[]</td>\n",
       "      <td>https://www.yelp.com/biz/yoshino-teriyaki-seat...</td>\n",
       "      <td>47.609120</td>\n",
       "      <td>-122.325980</td>\n",
       "      <td>japanese</td>\n",
       "      <td>1</td>\n",
       "      <td>0</td>\n",
       "      <td>0</td>\n",
       "      <td>0</td>\n",
       "    </tr>\n",
       "    <tr>\n",
       "      <th>430</th>\n",
       "      <td>moons-kitchen-seattle</td>\n",
       "      <td>1734.622633</td>\n",
       "      <td>V-9omrfHu047xTxGQdZjaA</td>\n",
       "      <td>https://s3-media4.fl.yelpcdn.com/bphoto/YbqJid...</td>\n",
       "      <td>{'address1': '2211 4th Ave', 'address2': None,...</td>\n",
       "      <td>4.0</td>\n",
       "      <td>122</td>\n",
       "      <td>[pickup, delivery]</td>\n",
       "      <td>https://www.yelp.com/biz/moons-kitchen-seattle...</td>\n",
       "      <td>47.614710</td>\n",
       "      <td>-122.343240</td>\n",
       "      <td>japanese</td>\n",
       "      <td>0</td>\n",
       "      <td>1</td>\n",
       "      <td>0</td>\n",
       "      <td>0</td>\n",
       "    </tr>\n",
       "    <tr>\n",
       "      <th>517</th>\n",
       "      <td>toshios-teriyaki-seattle</td>\n",
       "      <td>2393.798333</td>\n",
       "      <td>O0aWEb3FURE4tp_wTptl7A</td>\n",
       "      <td>https://s3-media3.fl.yelpcdn.com/bphoto/cvtCSq...</td>\n",
       "      <td>{'address1': '1706 Rainier Ave S', 'address2':...</td>\n",
       "      <td>3.5</td>\n",
       "      <td>235</td>\n",
       "      <td>[]</td>\n",
       "      <td>https://www.yelp.com/biz/toshios-teriyaki-seat...</td>\n",
       "      <td>47.588197</td>\n",
       "      <td>-122.305400</td>\n",
       "      <td>japanese</td>\n",
       "      <td>1</td>\n",
       "      <td>0</td>\n",
       "      <td>0</td>\n",
       "      <td>0</td>\n",
       "    </tr>\n",
       "    <tr>\n",
       "      <th>632</th>\n",
       "      <td>teriyaki-madness-seattle-2</td>\n",
       "      <td>2261.085847</td>\n",
       "      <td>D7WJbzrceBpp0Qryuj6R3g</td>\n",
       "      <td>https://s3-media4.fl.yelpcdn.com/bphoto/osE0dp...</td>\n",
       "      <td>{'address1': '111 15th Ave E', 'address2': '',...</td>\n",
       "      <td>3.5</td>\n",
       "      <td>97</td>\n",
       "      <td>[]</td>\n",
       "      <td>https://www.yelp.com/biz/teriyaki-madness-seat...</td>\n",
       "      <td>47.618870</td>\n",
       "      <td>-122.312870</td>\n",
       "      <td>japanese</td>\n",
       "      <td>1</td>\n",
       "      <td>0</td>\n",
       "      <td>0</td>\n",
       "      <td>0</td>\n",
       "    </tr>\n",
       "    <tr>\n",
       "      <th>937</th>\n",
       "      <td>happy-teriyaki-seattle-2</td>\n",
       "      <td>402.160617</td>\n",
       "      <td>pkvL5-UFixhWiEm8xdMJrA</td>\n",
       "      <td>https://s3-media1.fl.yelpcdn.com/bphoto/r9OjYw...</td>\n",
       "      <td>{'address1': '823 3rd Ave', 'address2': 'Ste 1...</td>\n",
       "      <td>2.5</td>\n",
       "      <td>44</td>\n",
       "      <td>[pickup, delivery]</td>\n",
       "      <td>https://www.yelp.com/biz/happy-teriyaki-seattl...</td>\n",
       "      <td>47.604591</td>\n",
       "      <td>-122.333366</td>\n",
       "      <td>japanese</td>\n",
       "      <td>1</td>\n",
       "      <td>0</td>\n",
       "      <td>0</td>\n",
       "      <td>0</td>\n",
       "    </tr>\n",
       "    <tr>\n",
       "      <th>1284</th>\n",
       "      <td>seattles-best-teriyaki-seattle-2</td>\n",
       "      <td>2097.202439</td>\n",
       "      <td>CBP2EQvP6RrPqYaUJG5bkw</td>\n",
       "      <td>https://s3-media2.fl.yelpcdn.com/bphoto/fRkKum...</td>\n",
       "      <td>{'address1': '2445 4th Ave S', 'address2': '',...</td>\n",
       "      <td>3.5</td>\n",
       "      <td>61</td>\n",
       "      <td>[pickup]</td>\n",
       "      <td>https://www.yelp.com/biz/seattles-best-teriyak...</td>\n",
       "      <td>47.580480</td>\n",
       "      <td>-122.329560</td>\n",
       "      <td>japanese</td>\n",
       "      <td>1</td>\n",
       "      <td>0</td>\n",
       "      <td>0</td>\n",
       "      <td>0</td>\n",
       "    </tr>\n",
       "  </tbody>\n",
       "</table>\n",
       "</div>"
      ],
      "text/plain": [
       "                                 alias     distance                      id  \\\n",
       "124                        waz-seattle  2202.835120  E5rQ6F0Te5X6wahbmZYG-A   \n",
       "413           yoshino-teriyaki-seattle   831.388238  1IMivcKgsN8xUL5dFKQK3w   \n",
       "430              moons-kitchen-seattle  1734.622633  V-9omrfHu047xTxGQdZjaA   \n",
       "517           toshios-teriyaki-seattle  2393.798333  O0aWEb3FURE4tp_wTptl7A   \n",
       "632         teriyaki-madness-seattle-2  2261.085847  D7WJbzrceBpp0Qryuj6R3g   \n",
       "937           happy-teriyaki-seattle-2   402.160617  pkvL5-UFixhWiEm8xdMJrA   \n",
       "1284  seattles-best-teriyaki-seattle-2  2097.202439  CBP2EQvP6RrPqYaUJG5bkw   \n",
       "\n",
       "                                              image_url  \\\n",
       "124   https://s3-media2.fl.yelpcdn.com/bphoto/JcD1R3...   \n",
       "413   https://s3-media2.fl.yelpcdn.com/bphoto/xIpZHN...   \n",
       "430   https://s3-media4.fl.yelpcdn.com/bphoto/YbqJid...   \n",
       "517   https://s3-media3.fl.yelpcdn.com/bphoto/cvtCSq...   \n",
       "632   https://s3-media4.fl.yelpcdn.com/bphoto/osE0dp...   \n",
       "937   https://s3-media1.fl.yelpcdn.com/bphoto/r9OjYw...   \n",
       "1284  https://s3-media2.fl.yelpcdn.com/bphoto/fRkKum...   \n",
       "\n",
       "                                               location  rating  review_count  \\\n",
       "124   {'address1': '411 Cedar St', 'address2': '', '...     4.5            38   \n",
       "413   {'address1': '1010 Madison St', 'address2': ''...     3.5            98   \n",
       "430   {'address1': '2211 4th Ave', 'address2': None,...     4.0           122   \n",
       "517   {'address1': '1706 Rainier Ave S', 'address2':...     3.5           235   \n",
       "632   {'address1': '111 15th Ave E', 'address2': '',...     3.5            97   \n",
       "937   {'address1': '823 3rd Ave', 'address2': 'Ste 1...     2.5            44   \n",
       "1284  {'address1': '2445 4th Ave S', 'address2': '',...     3.5            61   \n",
       "\n",
       "            transactions                                                url  \\\n",
       "124                   []  https://www.yelp.com/biz/waz-seattle?adjust_cr...   \n",
       "413                   []  https://www.yelp.com/biz/yoshino-teriyaki-seat...   \n",
       "430   [pickup, delivery]  https://www.yelp.com/biz/moons-kitchen-seattle...   \n",
       "517                   []  https://www.yelp.com/biz/toshios-teriyaki-seat...   \n",
       "632                   []  https://www.yelp.com/biz/teriyaki-madness-seat...   \n",
       "937   [pickup, delivery]  https://www.yelp.com/biz/happy-teriyaki-seattl...   \n",
       "1284            [pickup]  https://www.yelp.com/biz/seattles-best-teriyak...   \n",
       "\n",
       "           lats       longs      cats  $  $$  $$$  $$$$  \n",
       "124   47.617950 -122.347410  japanese  0   0    0     1  \n",
       "413   47.609120 -122.325980  japanese  1   0    0     0  \n",
       "430   47.614710 -122.343240  japanese  0   1    0     0  \n",
       "517   47.588197 -122.305400  japanese  1   0    0     0  \n",
       "632   47.618870 -122.312870  japanese  1   0    0     0  \n",
       "937   47.604591 -122.333366  japanese  1   0    0     0  \n",
       "1284  47.580480 -122.329560  japanese  1   0    0     0  "
      ]
     },
     "execution_count": 122,
     "metadata": {},
     "output_type": "execute_result"
    }
   ],
   "source": [
    "mile_from_galvanize_copy[mile_from_galvanize_copy['cats']=='japanese']"
   ]
  },
  {
   "cell_type": "code",
   "execution_count": 193,
   "metadata": {},
   "outputs": [
    {
     "data": {
      "text/plain": [
       "0    convenience,salad,sandwiches\n",
       "1       italian,wine_bars,seafood\n",
       "2                          indpak\n",
       "3        cocktailbars,comfortfood\n",
       "4                    seafood,soup\n",
       "Name: cats, dtype: object"
      ]
     },
     "execution_count": 193,
     "metadata": {},
     "output_type": "execute_result"
    }
   ],
   "source": [
    "mile_from_galvanize_copy['cats'].head()"
   ]
  },
  {
   "cell_type": "code",
   "execution_count": 124,
   "metadata": {},
   "outputs": [],
   "source": []
  },
  {
   "cell_type": "code",
   "execution_count": 128,
   "metadata": {},
   "outputs": [
    {
     "data": {
      "text/plain": [
       "Index(['alias', 'distance', 'id', 'image_url', 'location', 'rating',\n",
       "       'review_count', 'transactions', 'url', 'lats', 'longs', 'cats', '$',\n",
       "       '$$', '$$$', '$$$$'],\n",
       "      dtype='object')"
      ]
     },
     "execution_count": 128,
     "metadata": {},
     "output_type": "execute_result"
    }
   ],
   "source": [
    "mile_from_galvanize_copy.columns"
   ]
  },
  {
   "cell_type": "code",
   "execution_count": 185,
   "metadata": {
    "collapsed": true
   },
   "outputs": [],
   "source": [
    "def dummy_cats(df, unique_cats):\n",
    "    dummy_df = pd.DataFrame(columns=unique_cats, index=df['id'])\n",
    "    for restaurant in df['cats']:\n",
    "        temp = row.split(',')\n",
    "        for category in temp:\n",
    "            dummy_df[category]\n",
    "    return dummy_df"
   ]
  },
  {
   "cell_type": "code",
   "execution_count": 197,
   "metadata": {},
   "outputs": [],
   "source": [
    "unique_cats = list(cat_counts.keys())"
   ]
  },
  {
   "cell_type": "code",
   "execution_count": 199,
   "metadata": {
    "scrolled": false
   },
   "outputs": [],
   "source": [
    "cats_series = pd.Series(unique_cats)"
   ]
  },
  {
   "cell_type": "code",
   "execution_count": 202,
   "metadata": {},
   "outputs": [],
   "source": [
    "cats_series.to_csv('categories.csv', index=False)"
   ]
  },
  {
   "cell_type": "code",
   "execution_count": 208,
   "metadata": {},
   "outputs": [],
   "source": []
  },
  {
   "cell_type": "code",
   "execution_count": 211,
   "metadata": {
    "collapsed": true
   },
   "outputs": [],
   "source": [
    "categories_col = mile_from_galvanize_copy['cats']"
   ]
  },
  {
   "cell_type": "code",
   "execution_count": 397,
   "metadata": {},
   "outputs": [],
   "source": [
    "#categories_col.str.split(',')"
   ]
  },
  {
   "cell_type": "code",
   "execution_count": null,
   "metadata": {
    "collapsed": true
   },
   "outputs": [],
   "source": []
  },
  {
   "cell_type": "code",
   "execution_count": null,
   "metadata": {
    "collapsed": true
   },
   "outputs": [],
   "source": []
  },
  {
   "cell_type": "code",
   "execution_count": 223,
   "metadata": {
    "collapsed": true
   },
   "outputs": [],
   "source": [
    "def load_categories():\n",
    "    with open('categories.csv') as f:\n",
    "        categories = [cat.strip() for cat in f.readlines()]\n",
    "    return categories\n",
    "\n",
    "categories = load_categories()\n",
    "\n",
    "def get_category_dummies(categories_col, categories=categories):\n",
    "    \"\"\"Return a DataFrame of dummy columns for the categories specified.\"\"\"\n",
    "    cat_list_col = categories_col.str.split(',')\n",
    "    df = pd.DataFrame(index=categories_col.index)\n",
    "    for cat in categories:\n",
    "        df['category_' + cat] = cat_list_col.apply(lambda cats: cat in cats).astype(int)\n",
    "    \n",
    "    return df\n",
    "\n",
    "        \n",
    "        "
   ]
  },
  {
   "cell_type": "code",
   "execution_count": 339,
   "metadata": {},
   "outputs": [],
   "source": [
    "def prune_rare_cats(df):\n",
    "    new_df = df.copy()\n",
    "    categories = []\n",
    "    [categories.append(item) for item in list(df.columns) if 'category_' in item]       \n",
    "   \n",
    "    [new_df.drop(columns=category, inplace=True) for category in categories if df[category].sum() < 5]\n",
    "    \n",
    "    return new_df"
   ]
  },
  {
   "cell_type": "code",
   "execution_count": 326,
   "metadata": {},
   "outputs": [
    {
     "name": "stdout",
     "output_type": "stream",
     "text": [
      "<class 'pandas.core.frame.DataFrame'>\n",
      "Int64Index: 1392 entries, 0 to 1392\n",
      "Columns: 198 entries, category_convenience to category_flowers\n",
      "dtypes: int64(198)\n",
      "memory usage: 2.2 MB\n"
     ]
    }
   ],
   "source": [
    "dummies_df.info()"
   ]
  },
  {
   "cell_type": "code",
   "execution_count": 275,
   "metadata": {},
   "outputs": [],
   "source": [
    "dummies_df = get_category_dummies(mile_from_galvanize_copy['cats'])"
   ]
  },
  {
   "cell_type": "code",
   "execution_count": 276,
   "metadata": {},
   "outputs": [],
   "source": [
    "dummies_df_pruned = prune_rare_cats(dummies_df)"
   ]
  },
  {
   "cell_type": "code",
   "execution_count": 277,
   "metadata": {},
   "outputs": [
    {
     "name": "stdout",
     "output_type": "stream",
     "text": [
      "<class 'pandas.core.frame.DataFrame'>\n",
      "Int64Index: 1392 entries, 0 to 1392\n",
      "Columns: 101 entries, category_convenience to category_tex-mex\n",
      "dtypes: int64(101)\n",
      "memory usage: 1.1 MB\n"
     ]
    }
   ],
   "source": [
    "dummies_df_pruned.info()"
   ]
  },
  {
   "cell_type": "code",
   "execution_count": 264,
   "metadata": {},
   "outputs": [],
   "source": [
    "full_restaurant_df = pd.concat([mile_from_galvanize_copy, dummies_df_pruned], axis=1)"
   ]
  },
  {
   "cell_type": "code",
   "execution_count": 265,
   "metadata": {},
   "outputs": [
    {
     "name": "stdout",
     "output_type": "stream",
     "text": [
      "<class 'pandas.core.frame.DataFrame'>\n",
      "Int64Index: 1392 entries, 0 to 1392\n",
      "Columns: 117 entries, alias to category_tex-mex\n",
      "dtypes: float64(4), int64(106), object(7)\n",
      "memory usage: 1.3+ MB\n"
     ]
    }
   ],
   "source": [
    "full_restaurant_df.info()"
   ]
  },
  {
   "cell_type": "code",
   "execution_count": null,
   "metadata": {
    "collapsed": true
   },
   "outputs": [],
   "source": []
  },
  {
   "cell_type": "code",
   "execution_count": 399,
   "metadata": {
    "collapsed": true
   },
   "outputs": [],
   "source": [
    "top_ten_cats = ['category_sandwiches',\n",
    "'category_newamerican',\n",
    "'category_bars',\n",
    "'category_pizza',\n",
    "'category_seafood',\n",
    "'category_salad',\n",
    "'category_mexican',\n",
    "'category_noodles',\n",
    "'category_cafes',\n",
    "'category_vegan']\n"
   ]
  },
  {
   "cell_type": "code",
   "execution_count": 400,
   "metadata": {},
   "outputs": [],
   "source": [
    "top_ten_df = full_restaurant_df[(full_restaurant_df['category_sandwiches']==1) | \n",
    "                   (full_restaurant_df['category_newamerican']==1) |\n",
    "                   (full_restaurant_df['category_bars']==1) |\n",
    "                   (full_restaurant_df['category_pizza']==1) |\n",
    "                   (full_restaurant_df['category_seafood']==1) |\n",
    "                   (full_restaurant_df['category_salad']==1) |\n",
    "                   (full_restaurant_df['category_mexican']==1) |\n",
    "                   (full_restaurant_df['category_noodles']==1) |\n",
    "                   (full_restaurant_df['category_cafes']==1) |\n",
    "                   (full_restaurant_df['category_vegan']==1) \n",
    "                  ]"
   ]
  },
  {
   "cell_type": "code",
   "execution_count": 401,
   "metadata": {},
   "outputs": [
    {
     "name": "stdout",
     "output_type": "stream",
     "text": [
      "<class 'pandas.core.frame.DataFrame'>\n",
      "Int64Index: 757 entries, 0 to 1392\n",
      "Columns: 117 entries, alias to category_tex-mex\n",
      "dtypes: float64(4), int64(106), object(7)\n",
      "memory usage: 697.9+ KB\n"
     ]
    }
   ],
   "source": [
    "top_ten_df.info()"
   ]
  },
  {
   "cell_type": "code",
   "execution_count": 402,
   "metadata": {},
   "outputs": [],
   "source": [
    "top_ten_df_pruned = prune_rare_cats(top_ten_df)"
   ]
  },
  {
   "cell_type": "code",
   "execution_count": 395,
   "metadata": {},
   "outputs": [],
   "source": [
    "#top_ten_df_pruned.info()"
   ]
  },
  {
   "cell_type": "code",
   "execution_count": 345,
   "metadata": {
    "collapsed": true
   },
   "outputs": [],
   "source": [
    "def add_popularity(df):\n",
    "    \"\"\"Make a popularity column based on average rating multiplied by number of reviews\"\"\"\n",
    "    df['popularity'] = df['rating'] * df['review_count']\n",
    "    "
   ]
  },
  {
   "cell_type": "code",
   "execution_count": 403,
   "metadata": {
    "collapsed": true
   },
   "outputs": [],
   "source": [
    "add_popularity(top_ten_df_pruned)"
   ]
  },
  {
   "cell_type": "code",
   "execution_count": 396,
   "metadata": {},
   "outputs": [],
   "source": [
    "#top_ten_df_pruned.head()"
   ]
  },
  {
   "cell_type": "code",
   "execution_count": 438,
   "metadata": {},
   "outputs": [],
   "source": [
    "def find_most_popular(df, categories):\n",
    "    most_popular = []\n",
    "    for category in categories:\n",
    "        temp_df = df[df[category]==1]\n",
    "        most_popular.append(df.loc[temp_df['popularity'].idxmax()]['alias'])\n",
    "        print(f\"{category}:\".format(), df.loc[temp_df['popularity'].idxmax()]['alias'])\n",
    "    \n",
    "    return most_popular\n",
    "        "
   ]
  },
  {
   "cell_type": "code",
   "execution_count": 439,
   "metadata": {},
   "outputs": [
    {
     "name": "stdout",
     "output_type": "stream",
     "text": [
      "category_sandwiches: paseo-caribbean-food-fremont-seattle-2\n",
      "category_newamerican: local-360-seattle-2\n",
      "category_bars: toulouse-petit-kitchen-and-lounge-seattle\n",
      "category_pizza: serious-pie-seattle\n",
      "category_seafood: pike-place-chowder-seattle\n",
      "category_salad: 8oz-burger-and-co-seattle\n",
      "category_mexican: tacos-chukis-seattle\n",
      "category_noodles: tamarind-tree-seattle\n",
      "category_cafes: portage-bay-cafe-roosevelt-seattle\n",
      "category_vegan: plum-bistro-seattle-2\n"
     ]
    }
   ],
   "source": [
    "most_popular = find_most_popular(top_ten_df_pruned, top_ten_cats)"
   ]
  },
  {
   "cell_type": "code",
   "execution_count": 471,
   "metadata": {},
   "outputs": [],
   "source": [
    "import numpy as np\n",
    "\n",
    "def get_top_urls(restaurants_list, df):\n",
    "    restaurant_aliases = np.array(restaurants_list)\n",
    "    top_urls = df.loc[df['alias'].isin(restaurant_aliases), 'image_url']\n",
    "    print(top_urls)\n",
    "    return top_urls\n",
    "\n",
    "def display_pics(restaurants_list, df):\n",
    "    top_urls = get_top_urls(restaurants_list, df)\n",
    "    for url in top_urls.tolist():\n",
    "        display(Image(url=url, width=200, height=200))"
   ]
  },
  {
   "cell_type": "code",
   "execution_count": 472,
   "metadata": {},
   "outputs": [
    {
     "name": "stdout",
     "output_type": "stream",
     "text": [
      "4       https://s3-media3.fl.yelpcdn.com/bphoto/ijju-w...\n",
      "39      https://s3-media1.fl.yelpcdn.com/bphoto/1b10Pu...\n",
      "107     https://s3-media4.fl.yelpcdn.com/bphoto/gJ1jxd...\n",
      "111     https://s3-media3.fl.yelpcdn.com/bphoto/K5cPEh...\n",
      "168     https://s3-media3.fl.yelpcdn.com/bphoto/Lnggdy...\n",
      "316     https://s3-media2.fl.yelpcdn.com/bphoto/hK8Fe2...\n",
      "959     https://s3-media1.fl.yelpcdn.com/bphoto/UmEDw1...\n",
      "961     https://s3-media1.fl.yelpcdn.com/bphoto/AU2LRi...\n",
      "1015    https://s3-media3.fl.yelpcdn.com/bphoto/o5csrm...\n",
      "1150    https://s3-media1.fl.yelpcdn.com/bphoto/D1oi0e...\n",
      "Name: image_url, dtype: object\n"
     ]
    },
    {
     "data": {
      "text/html": [
       "<img src=\"https://s3-media3.fl.yelpcdn.com/bphoto/ijju-wYoRAxWjHPTCxyQGQ/o.jpg\" width=\"200\" height=\"200\"/>"
      ],
      "text/plain": [
       "<IPython.core.display.Image object>"
      ]
     },
     "metadata": {},
     "output_type": "display_data"
    },
    {
     "data": {
      "text/html": [
       "<img src=\"https://s3-media1.fl.yelpcdn.com/bphoto/1b10PuHwil788-XO1wAAFA/o.jpg\" width=\"200\" height=\"200\"/>"
      ],
      "text/plain": [
       "<IPython.core.display.Image object>"
      ]
     },
     "metadata": {},
     "output_type": "display_data"
    },
    {
     "data": {
      "text/html": [
       "<img src=\"https://s3-media4.fl.yelpcdn.com/bphoto/gJ1jxdhVk9XtO0DRWlht0Q/o.jpg\" width=\"200\" height=\"200\"/>"
      ],
      "text/plain": [
       "<IPython.core.display.Image object>"
      ]
     },
     "metadata": {},
     "output_type": "display_data"
    },
    {
     "data": {
      "text/html": [
       "<img src=\"https://s3-media3.fl.yelpcdn.com/bphoto/K5cPEhf5ZLkujN73bBNleQ/o.jpg\" width=\"200\" height=\"200\"/>"
      ],
      "text/plain": [
       "<IPython.core.display.Image object>"
      ]
     },
     "metadata": {},
     "output_type": "display_data"
    },
    {
     "data": {
      "text/html": [
       "<img src=\"https://s3-media3.fl.yelpcdn.com/bphoto/LnggdyxSd-aVe41dWJF2-Q/o.jpg\" width=\"200\" height=\"200\"/>"
      ],
      "text/plain": [
       "<IPython.core.display.Image object>"
      ]
     },
     "metadata": {},
     "output_type": "display_data"
    },
    {
     "data": {
      "text/html": [
       "<img src=\"https://s3-media2.fl.yelpcdn.com/bphoto/hK8Fe2jmnSVzUHRf_PQDNw/o.jpg\" width=\"200\" height=\"200\"/>"
      ],
      "text/plain": [
       "<IPython.core.display.Image object>"
      ]
     },
     "metadata": {},
     "output_type": "display_data"
    },
    {
     "data": {
      "text/html": [
       "<img src=\"https://s3-media1.fl.yelpcdn.com/bphoto/UmEDw1vIvHMNagxlZspJ9A/o.jpg\" width=\"200\" height=\"200\"/>"
      ],
      "text/plain": [
       "<IPython.core.display.Image object>"
      ]
     },
     "metadata": {},
     "output_type": "display_data"
    },
    {
     "data": {
      "text/html": [
       "<img src=\"https://s3-media1.fl.yelpcdn.com/bphoto/AU2LRinK4hKGU7nnCTq73Q/o.jpg\" width=\"200\" height=\"200\"/>"
      ],
      "text/plain": [
       "<IPython.core.display.Image object>"
      ]
     },
     "metadata": {},
     "output_type": "display_data"
    },
    {
     "data": {
      "text/html": [
       "<img src=\"https://s3-media3.fl.yelpcdn.com/bphoto/o5csrmtkMORuMcVBW2dnYg/o.jpg\" width=\"200\" height=\"200\"/>"
      ],
      "text/plain": [
       "<IPython.core.display.Image object>"
      ]
     },
     "metadata": {},
     "output_type": "display_data"
    },
    {
     "data": {
      "text/html": [
       "<img src=\"https://s3-media1.fl.yelpcdn.com/bphoto/D1oi0eKTBuRlZiWe_Peejg/o.jpg\" width=\"200\" height=\"200\"/>"
      ],
      "text/plain": [
       "<IPython.core.display.Image object>"
      ]
     },
     "metadata": {},
     "output_type": "display_data"
    }
   ],
   "source": [
    "display_pics(most_popular, top_ten_df_pruned)"
   ]
  },
  {
   "cell_type": "code",
   "execution_count": 455,
   "metadata": {},
   "outputs": [],
   "source": [
    "url = display_pics(most_popular)"
   ]
  },
  {
   "cell_type": "code",
   "execution_count": 457,
   "metadata": {},
   "outputs": [
    {
     "data": {
      "text/plain": [
       "'https://s3-media3.fl.yelpcdn.com/bphoto/o5csrmtkMORuMcVBW2dnYg/o.jpg'"
      ]
     },
     "execution_count": 457,
     "metadata": {},
     "output_type": "execute_result"
    }
   ],
   "source": [
    "url.iloc[0]"
   ]
  },
  {
   "cell_type": "code",
   "execution_count": null,
   "metadata": {},
   "outputs": [],
   "source": []
  },
  {
   "cell_type": "code",
   "execution_count": null,
   "metadata": {
    "collapsed": true
   },
   "outputs": [],
   "source": [
    "\n",
    "        \n",
    "    "
   ]
  },
  {
   "cell_type": "code",
   "execution_count": null,
   "metadata": {
    "collapsed": true
   },
   "outputs": [],
   "source": []
  },
  {
   "cell_type": "code",
   "execution_count": null,
   "metadata": {
    "collapsed": true
   },
   "outputs": [],
   "source": []
  },
  {
   "cell_type": "code",
   "execution_count": 440,
   "metadata": {},
   "outputs": [
    {
     "data": {
      "text/html": [
       "<img src=\"https://s3-media1.fl.yelpcdn.com/bphoto/fDQhxwNfEpcWOO_F811Lww/o.jpg\" width=\"100\" height=\"100\"/>"
      ],
      "text/plain": [
       "<IPython.core.display.Image object>"
      ]
     },
     "metadata": {},
     "output_type": "display_data"
    },
    {
     "data": {
      "text/html": [
       "<img src=\"https://s3-media1.fl.yelpcdn.com/bphoto/c_vzRF4h3ywnyeM116QFuA/o.jpg\" width=\"100\" height=\"100\"/>"
      ],
      "text/plain": [
       "<IPython.core.display.Image object>"
      ]
     },
     "metadata": {},
     "output_type": "display_data"
    },
    {
     "data": {
      "text/html": [
       "<img src=\"https://s3-media3.fl.yelpcdn.com/bphoto/LVSEXbNmlsi7s2az_3RKWg/o.jpg\" width=\"100\" height=\"100\"/>"
      ],
      "text/plain": [
       "<IPython.core.display.Image object>"
      ]
     },
     "metadata": {},
     "output_type": "display_data"
    },
    {
     "data": {
      "text/html": [
       "<img src=\"https://s3-media1.fl.yelpcdn.com/bphoto/1GpjX0chDFtVKWqYTxLzzQ/o.jpg\" width=\"100\" height=\"100\"/>"
      ],
      "text/plain": [
       "<IPython.core.display.Image object>"
      ]
     },
     "metadata": {},
     "output_type": "display_data"
    },
    {
     "data": {
      "text/html": [
       "<img src=\"https://s3-media3.fl.yelpcdn.com/bphoto/ijju-wYoRAxWjHPTCxyQGQ/o.jpg\" width=\"100\" height=\"100\"/>"
      ],
      "text/plain": [
       "<IPython.core.display.Image object>"
      ]
     },
     "metadata": {},
     "output_type": "display_data"
    },
    {
     "data": {
      "text/html": [
       "<img src=\"https://s3-media4.fl.yelpcdn.com/bphoto/WUnigNI9n5Gdpw4qdyOSyw/o.jpg\" width=\"100\" height=\"100\"/>"
      ],
      "text/plain": [
       "<IPython.core.display.Image object>"
      ]
     },
     "metadata": {},
     "output_type": "display_data"
    },
    {
     "data": {
      "text/html": [
       "<img src=\"https://s3-media1.fl.yelpcdn.com/bphoto/DqP1nz--zc8j4brCA_FeuQ/o.jpg\" width=\"100\" height=\"100\"/>"
      ],
      "text/plain": [
       "<IPython.core.display.Image object>"
      ]
     },
     "metadata": {},
     "output_type": "display_data"
    },
    {
     "data": {
      "text/html": [
       "<img src=\"https://s3-media3.fl.yelpcdn.com/bphoto/r6mFftGhUVvZjSu67PwSVg/o.jpg\" width=\"100\" height=\"100\"/>"
      ],
      "text/plain": [
       "<IPython.core.display.Image object>"
      ]
     },
     "metadata": {},
     "output_type": "display_data"
    },
    {
     "data": {
      "text/html": [
       "<img src=\"https://s3-media2.fl.yelpcdn.com/bphoto/he49IR0G1wrjO1WI-fxkAg/o.jpg\" width=\"100\" height=\"100\"/>"
      ],
      "text/plain": [
       "<IPython.core.display.Image object>"
      ]
     },
     "metadata": {},
     "output_type": "display_data"
    },
    {
     "data": {
      "text/html": [
       "<img src=\"https://s3-media3.fl.yelpcdn.com/bphoto/Am6AabmBhkHHqrGRSg2clQ/o.jpg\" width=\"100\" height=\"100\"/>"
      ],
      "text/plain": [
       "<IPython.core.display.Image object>"
      ]
     },
     "metadata": {},
     "output_type": "display_data"
    }
   ],
   "source": [
    "for row in mile_from_galvanize_copy['image_url'][:10]:\n",
    "    display(Image(url=row, width=100, height=100)) "
   ]
  },
  {
   "cell_type": "code",
   "execution_count": null,
   "metadata": {},
   "outputs": [],
   "source": []
  },
  {
   "cell_type": "code",
   "execution_count": null,
   "metadata": {},
   "outputs": [],
   "source": []
  },
  {
   "cell_type": "code",
   "execution_count": null,
   "metadata": {},
   "outputs": [],
   "source": []
  },
  {
   "cell_type": "code",
   "execution_count": null,
   "metadata": {
    "collapsed": true
   },
   "outputs": [],
   "source": [
    "    "
   ]
  }
 ],
 "metadata": {
  "kernelspec": {
   "display_name": "Python 3",
   "language": "python",
   "name": "python3"
  },
  "language_info": {
   "codemirror_mode": {
    "name": "ipython",
    "version": 3
   },
   "file_extension": ".py",
   "mimetype": "text/x-python",
   "name": "python",
   "nbconvert_exporter": "python",
   "pygments_lexer": "ipython3",
   "version": "3.6.6"
  }
 },
 "nbformat": 4,
 "nbformat_minor": 2
}
