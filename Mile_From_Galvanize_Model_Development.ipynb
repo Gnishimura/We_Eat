{
 "cells": [
  {
   "cell_type": "code",
   "execution_count": 16,
   "metadata": {
    "collapsed": true
   },
   "outputs": [],
   "source": [
    "import pandas as pd\n",
    "import numpy as np\n",
    "from build_database import (default_params, load_api_key, \n",
    "                          make_request, build_database,\n",
    "                          add_to_database_if_new, retrieve_database\n",
    "                         )\n",
    "from clean_database import clean_it_all, cat_counts\n",
    "from pymongo import MongoClient\n",
    "import time\n",
    "import yaml\n",
    "import requests\n"
   ]
  },
  {
   "cell_type": "code",
   "execution_count": 2,
   "metadata": {
    "collapsed": true
   },
   "outputs": [],
   "source": [
    "we_eat_client = MongoClient()"
   ]
  },
  {
   "cell_type": "code",
   "execution_count": 3,
   "metadata": {
    "collapsed": true
   },
   "outputs": [],
   "source": [
    "we_eat_database = we_eat_client['we_eat']\n",
    "restaurant_collection = we_eat_database['restaurants']"
   ]
  },
  {
   "cell_type": "code",
   "execution_count": 4,
   "metadata": {},
   "outputs": [
    {
     "name": "stdout",
     "output_type": "stream",
     "text": [
      "0\n",
      "50\n",
      "100\n",
      "150\n",
      "200\n",
      "250\n",
      "300\n",
      "350\n",
      "400\n",
      "450\n",
      "500\n",
      "550\n",
      "600\n",
      "650\n",
      "700\n",
      "750\n",
      "800\n",
      "850\n",
      "900\n",
      "950\n"
     ]
    }
   ],
   "source": [
    "build_database()"
   ]
  },
  {
   "cell_type": "code",
   "execution_count": 5,
   "metadata": {
    "collapsed": true
   },
   "outputs": [],
   "source": [
    "mile_from_galvanize = retrieve_database()"
   ]
  },
  {
   "cell_type": "code",
   "execution_count": 9,
   "metadata": {},
   "outputs": [
    {
     "data": {
      "text/plain": [
       "(1403, 17)"
      ]
     },
     "execution_count": 9,
     "metadata": {},
     "output_type": "execute_result"
    }
   ],
   "source": [
    "mile_from_galvanize.shape"
   ]
  },
  {
   "cell_type": "code",
   "execution_count": 15,
   "metadata": {},
   "outputs": [
    {
     "name": "stderr",
     "output_type": "stream",
     "text": [
      "/Users/gnishimura/anaconda/lib/python3.6/site-packages/pandas/core/frame.py:3697: SettingWithCopyWarning: \n",
      "A value is trying to be set on a copy of a slice from a DataFrame\n",
      "\n",
      "See the caveats in the documentation: http://pandas.pydata.org/pandas-docs/stable/indexing.html#indexing-view-versus-copy\n",
      "  errors=errors)\n"
     ]
    }
   ],
   "source": [
    "cleaned_df = clean_it_all(mile_from_galvanize)"
   ]
  },
  {
   "cell_type": "code",
   "execution_count": 20,
   "metadata": {},
   "outputs": [],
   "source": [
    "sorted_cat_list = cat_counts(cleaned_df).most_common()\n"
   ]
  },
  {
   "cell_type": "code",
   "execution_count": 51,
   "metadata": {},
   "outputs": [],
   "source": [
    "from get_pics import PictureSurvey"
   ]
  },
  {
   "cell_type": "code",
   "execution_count": 46,
   "metadata": {},
   "outputs": [],
   "source": [
    "ps = PictureSurvey(cleaned_df)    "
   ]
  },
  {
   "cell_type": "code",
   "execution_count": 47,
   "metadata": {},
   "outputs": [],
   "source": [
    "twenty_cats = ps.top_twenty()"
   ]
  },
  {
   "cell_type": "code",
   "execution_count": 49,
   "metadata": {},
   "outputs": [
    {
     "ename": "AttributeError",
     "evalue": "'PictureSurvey' object has no attribute 'find_highest_rated'",
     "output_type": "error",
     "traceback": [
      "\u001b[0;31m---------------------------------------------------------------------------\u001b[0m",
      "\u001b[0;31mAttributeError\u001b[0m                            Traceback (most recent call last)",
      "\u001b[0;32m<ipython-input-49-c31c55e836d2>\u001b[0m in \u001b[0;36m<module>\u001b[0;34m()\u001b[0m\n\u001b[0;32m----> 1\u001b[0;31m \u001b[0mhighest_rated\u001b[0m \u001b[0;34m=\u001b[0m \u001b[0mps\u001b[0m\u001b[0;34m.\u001b[0m\u001b[0mfind_highest_rated\u001b[0m\u001b[0;34m(\u001b[0m\u001b[0;34m)\u001b[0m\u001b[0;34m\u001b[0m\u001b[0m\n\u001b[0m",
      "\u001b[0;31mAttributeError\u001b[0m: 'PictureSurvey' object has no attribute 'find_highest_rated'"
     ]
    }
   ],
   "source": [
    "highest_rated = ps.find_highest_rated()"
   ]
  },
  {
   "cell_type": "code",
   "execution_count": 94,
   "metadata": {
    "collapsed": true
   },
   "outputs": [],
   "source": [
    "galvanize_restaurants_df = mile_from_galvanize[mile_from_galvanize['dist_from_galvanize']<1]"
   ]
  },
  {
   "cell_type": "code",
   "execution_count": 95,
   "metadata": {},
   "outputs": [
    {
     "name": "stdout",
     "output_type": "stream",
     "text": [
      "<class 'pandas.core.frame.DataFrame'>\n",
      "Int64Index: 658 entries, 0 to 1400\n",
      "Data columns (total 20 columns):\n",
      "_id                    658 non-null object\n",
      "alias                  658 non-null object\n",
      "categories             658 non-null object\n",
      "coordinates            658 non-null object\n",
      "display_phone          658 non-null object\n",
      "distance               658 non-null float64\n",
      "id                     658 non-null object\n",
      "image_url              658 non-null object\n",
      "is_closed              658 non-null bool\n",
      "location               658 non-null object\n",
      "name                   658 non-null object\n",
      "phone                  658 non-null object\n",
      "price                  597 non-null object\n",
      "rating                 658 non-null float64\n",
      "review_count           658 non-null int64\n",
      "transactions           658 non-null object\n",
      "url                    658 non-null object\n",
      "lats                   658 non-null float64\n",
      "longs                  658 non-null float64\n",
      "dist_from_galvanize    658 non-null float64\n",
      "dtypes: bool(1), float64(5), int64(1), object(13)\n",
      "memory usage: 103.5+ KB\n"
     ]
    }
   ],
   "source": [
    "galvanize_restaurants_df.info()"
   ]
  },
  {
   "cell_type": "code",
   "execution_count": 96,
   "metadata": {},
   "outputs": [
    {
     "name": "stderr",
     "output_type": "stream",
     "text": [
      "/Users/gnishimura/galvanize/We_Eat/clean_database.py:12: SettingWithCopyWarning: \n",
      "A value is trying to be set on a copy of a slice from a DataFrame.\n",
      "Try using .loc[row_indexer,col_indexer] = value instead\n",
      "\n",
      "See the caveats in the documentation: http://pandas.pydata.org/pandas-docs/stable/indexing.html#indexing-view-versus-copy\n",
      "  df['cats'] = df['categories'].apply(clean_cats)\n"
     ]
    }
   ],
   "source": [
    "add_clean_cats(galvanize_restaurants_df)"
   ]
  },
  {
   "cell_type": "code",
   "execution_count": 14,
   "metadata": {},
   "outputs": [
    {
     "ename": "NameError",
     "evalue": "name 'cat_counts' is not defined",
     "output_type": "error",
     "traceback": [
      "\u001b[0;31m---------------------------------------------------------------------------\u001b[0m",
      "\u001b[0;31mNameError\u001b[0m                                 Traceback (most recent call last)",
      "\u001b[0;32m<ipython-input-14-9e9e70342acd>\u001b[0m in \u001b[0;36m<module>\u001b[0;34m()\u001b[0m\n\u001b[0;32m----> 1\u001b[0;31m \u001b[0mcat_dict\u001b[0m \u001b[0;34m=\u001b[0m \u001b[0mcat_counts\u001b[0m\u001b[0;34m(\u001b[0m\u001b[0mgalvanize_restaurants_df\u001b[0m\u001b[0;34m)\u001b[0m\u001b[0;34m.\u001b[0m\u001b[0mmost_common\u001b[0m\u001b[0;34m(\u001b[0m\u001b[0;34m)\u001b[0m\u001b[0;34m\u001b[0m\u001b[0m\n\u001b[0m",
      "\u001b[0;31mNameError\u001b[0m: name 'cat_counts' is not defined"
     ]
    }
   ],
   "source": [
    "cat_dict = cat_counts(galvanize_restaurants_df).most_common()"
   ]
  },
  {
   "cell_type": "code",
   "execution_count": null,
   "metadata": {
    "collapsed": true
   },
   "outputs": [],
   "source": []
  },
  {
   "cell_type": "code",
   "execution_count": 99,
   "metadata": {
    "collapsed": true
   },
   "outputs": [],
   "source": [
    "make_cats_csv(galvanize_restaurants_df)"
   ]
  },
  {
   "cell_type": "code",
   "execution_count": 100,
   "metadata": {
    "collapsed": true
   },
   "outputs": [],
   "source": [
    "categories = load_categories()\n"
   ]
  },
  {
   "cell_type": "code",
   "execution_count": 101,
   "metadata": {
    "collapsed": true
   },
   "outputs": [],
   "source": [
    "dummy_cats_df = get_category_dummies(galvanize_restaurants_df['cats'])"
   ]
  },
  {
   "cell_type": "code",
   "execution_count": 102,
   "metadata": {
    "collapsed": true
   },
   "outputs": [],
   "source": [
    "dummified_restaurant_df = pd.concat([galvanize_restaurants_df, dummy_cats_df], axis=1)"
   ]
  },
  {
   "cell_type": "code",
   "execution_count": 103,
   "metadata": {
    "collapsed": true
   },
   "outputs": [],
   "source": [
    "add_popularity(dummified_restaurant_df)"
   ]
  },
  {
   "cell_type": "code",
   "execution_count": 104,
   "metadata": {
    "collapsed": true
   },
   "outputs": [],
   "source": [
    "change_price_nulls(dummified_restaurant_df)"
   ]
  },
  {
   "cell_type": "code",
   "execution_count": 105,
   "metadata": {
    "collapsed": true
   },
   "outputs": [],
   "source": [
    "dummify_price(dummified_restaurant_df)"
   ]
  },
  {
   "cell_type": "code",
   "execution_count": null,
   "metadata": {
    "collapsed": true
   },
   "outputs": [],
   "source": []
  },
  {
   "cell_type": "code",
   "execution_count": 110,
   "metadata": {},
   "outputs": [
    {
     "name": "stderr",
     "output_type": "stream",
     "text": [
      "/Users/gnishimura/anaconda/lib/python3.6/site-packages/pandas/core/frame.py:3697: SettingWithCopyWarning: \n",
      "A value is trying to be set on a copy of a slice from a DataFrame\n",
      "\n",
      "See the caveats in the documentation: http://pandas.pydata.org/pandas-docs/stable/indexing.html#indexing-view-versus-copy\n",
      "  errors=errors)\n"
     ]
    }
   ],
   "source": [
    "cleaned_df = drop_unnecessaries(dummified_restaurant_df)"
   ]
  },
  {
   "cell_type": "code",
   "execution_count": 639,
   "metadata": {},
   "outputs": [
    {
     "data": {
      "text/plain": [
       "(657, 179)"
      ]
     },
     "execution_count": 639,
     "metadata": {},
     "output_type": "execute_result"
    }
   ],
   "source": [
    "cleaned_df.shape"
   ]
  },
  {
   "cell_type": "markdown",
   "metadata": {},
   "source": [
    "## Pictures!"
   ]
  },
  {
   "cell_type": "code",
   "execution_count": 288,
   "metadata": {
    "collapsed": true
   },
   "outputs": [],
   "source": [
    "from get_pics import get_urls, display_pics, find_most_popular"
   ]
  },
  {
   "cell_type": "code",
   "execution_count": 137,
   "metadata": {
    "collapsed": true
   },
   "outputs": [],
   "source": [
    "def top_twenty_cats(df):\n",
    "    temp_list = cat_counts(df).most_common()[:19]\n",
    "    top_twenty_cats = []\n",
    "    for item in temp_list:\n",
    "        top_twenty_cats.append('category_'+item[0])\n",
    "    return top_twenty_cats"
   ]
  },
  {
   "cell_type": "code",
   "execution_count": 138,
   "metadata": {},
   "outputs": [
    {
     "data": {
      "text/plain": [
       "['category_sandwiches',\n",
       " 'category_newamerican',\n",
       " 'category_seafood',\n",
       " 'category_breakfast_brunch',\n",
       " 'category_tradamerican',\n",
       " 'category_cafes',\n",
       " 'category_hotdogs',\n",
       " 'category_delis',\n",
       " 'category_bars',\n",
       " 'category_chinese',\n",
       " 'category_salad',\n",
       " 'category_vietnamese',\n",
       " 'category_japanese',\n",
       " 'category_noodles',\n",
       " 'category_coffee',\n",
       " 'category_bakeries',\n",
       " 'category_mexican',\n",
       " 'category_asianfusion',\n",
       " 'category_foodtrucks']"
      ]
     },
     "execution_count": 138,
     "metadata": {},
     "output_type": "execute_result"
    }
   ],
   "source": [
    "top_twenty = top_twenty_cats(cleaned_df)\n",
    "top_twenty"
   ]
  },
  {
   "cell_type": "code",
   "execution_count": 150,
   "metadata": {
    "collapsed": true
   },
   "outputs": [],
   "source": [
    "hand_selected_top_twenty = ['category_newamerican',\n",
    "                        'category_tradamerican',\n",
    "                        'category_hotdogs',\n",
    "                        'category_chinese',\n",
    "                        'category_salad',\n",
    "                        'category_vietnamese',\n",
    "                        'category_japanese',\n",
    "                        'category_mexican',\n",
    "                        'category_asianfusion',\n",
    "                        'category_pizza',\n",
    "                        'category_burgers',\n",
    "                        'category_italian',\n",
    "                        'category_cantonese',\n",
    "                        'category_bbq',\n",
    "                        'category_korean',\n",
    "                        'category_thai',\n",
    "                        'category_mediterranean',\n",
    "                        'category_indpak',\n",
    "                        'category_poke',\n",
    "                        'category_french']"
   ]
  },
  {
   "cell_type": "code",
   "execution_count": null,
   "metadata": {
    "collapsed": true
   },
   "outputs": [],
   "source": []
  },
  {
   "cell_type": "code",
   "execution_count": 151,
   "metadata": {},
   "outputs": [
    {
     "name": "stdout",
     "output_type": "stream",
     "text": [
      "category_newamerican: purple-café-and-wine-bar-seattle-3\n",
      "category_tradamerican: metropolitan-grill-seattle\n",
      "category_hotdogs: mod-pizza-seattle-7\n",
      "category_chinese: mikes-noodle-house-seattle\n",
      "category_salad: specialtys-café-and-bakery-seattle-34\n",
      "category_vietnamese: tamarind-tree-seattle\n",
      "category_japanese: japonessa-sushi-cocina-seattle\n",
      "category_mexican: el-borracho-seattle\n",
      "category_asianfusion: chan-seattle-seattle-2\n",
      "category_pizza: vons-1000-spirits-seattle-4\n",
      "category_burgers: red-robin-gourmet-burgers-seattle-7\n",
      "category_italian: the-pink-door-seattle-4\n",
      "category_cantonese: harbor-city-restaurant-seattle\n",
      "category_bbq: harbor-city-restaurant-seattle\n",
      "category_korean: chan-seattle-seattle-2\n",
      "category_thai: wild-ginger-seattle\n",
      "category_mediterranean: zig-zag-cafe-seattle-2\n",
      "category_indpak: daawat-grill-seattle-2\n",
      "category_poke: gopoké-seattle-5\n",
      "category_french: café-campagne-seattle-3\n"
     ]
    }
   ],
   "source": [
    "most_popular = find_most_popular(cleaned_df, hand_selected_top_twenty)"
   ]
  },
  {
   "cell_type": "code",
   "execution_count": 152,
   "metadata": {},
   "outputs": [
    {
     "name": "stdout",
     "output_type": "stream",
     "text": [
      "the-pink-door-seattle-4\n"
     ]
    },
    {
     "data": {
      "text/html": [
       "<img src=\"https://s3-media1.fl.yelpcdn.com/bphoto/c_vzRF4h3ywnyeM116QFuA/o.jpg\" width=\"200\" height=\"200\"/>"
      ],
      "text/plain": [
       "<IPython.core.display.Image object>"
      ]
     },
     "metadata": {},
     "output_type": "display_data"
    },
    {
     "name": "stdout",
     "output_type": "stream",
     "text": [
      "harbor-city-restaurant-seattle\n"
     ]
    },
    {
     "data": {
      "text/html": [
       "<img src=\"https://s3-media4.fl.yelpcdn.com/bphoto/d2UC0JDwac7JpuOobXPdXg/o.jpg\" width=\"200\" height=\"200\"/>"
      ],
      "text/plain": [
       "<IPython.core.display.Image object>"
      ]
     },
     "metadata": {},
     "output_type": "display_data"
    },
    {
     "name": "stdout",
     "output_type": "stream",
     "text": [
      "japonessa-sushi-cocina-seattle\n"
     ]
    },
    {
     "data": {
      "text/html": [
       "<img src=\"https://s3-media3.fl.yelpcdn.com/bphoto/vucCrknnlu1RRvRaKWwovQ/o.jpg\" width=\"200\" height=\"200\"/>"
      ],
      "text/plain": [
       "<IPython.core.display.Image object>"
      ]
     },
     "metadata": {},
     "output_type": "display_data"
    },
    {
     "name": "stdout",
     "output_type": "stream",
     "text": [
      "metropolitan-grill-seattle\n"
     ]
    },
    {
     "data": {
      "text/html": [
       "<img src=\"https://s3-media1.fl.yelpcdn.com/bphoto/2Jk8ycCKf7XaSrHdpWxEdw/o.jpg\" width=\"200\" height=\"200\"/>"
      ],
      "text/plain": [
       "<IPython.core.display.Image object>"
      ]
     },
     "metadata": {},
     "output_type": "display_data"
    },
    {
     "name": "stdout",
     "output_type": "stream",
     "text": [
      "mikes-noodle-house-seattle\n"
     ]
    },
    {
     "data": {
      "text/html": [
       "<img src=\"https://s3-media2.fl.yelpcdn.com/bphoto/RvnKn7j4My0siLCX0r3ORw/o.jpg\" width=\"200\" height=\"200\"/>"
      ],
      "text/plain": [
       "<IPython.core.display.Image object>"
      ]
     },
     "metadata": {},
     "output_type": "display_data"
    },
    {
     "name": "stdout",
     "output_type": "stream",
     "text": [
      "tamarind-tree-seattle\n"
     ]
    },
    {
     "data": {
      "text/html": [
       "<img src=\"https://s3-media1.fl.yelpcdn.com/bphoto/1b10PuHwil788-XO1wAAFA/o.jpg\" width=\"200\" height=\"200\"/>"
      ],
      "text/plain": [
       "<IPython.core.display.Image object>"
      ]
     },
     "metadata": {},
     "output_type": "display_data"
    },
    {
     "name": "stdout",
     "output_type": "stream",
     "text": [
      "chan-seattle-seattle-2\n"
     ]
    },
    {
     "data": {
      "text/html": [
       "<img src=\"https://s3-media3.fl.yelpcdn.com/bphoto/lXUNpkiPMgsLU1GCR5M4Iw/o.jpg\" width=\"200\" height=\"200\"/>"
      ],
      "text/plain": [
       "<IPython.core.display.Image object>"
      ]
     },
     "metadata": {},
     "output_type": "display_data"
    },
    {
     "name": "stdout",
     "output_type": "stream",
     "text": [
      "gopoké-seattle-5\n"
     ]
    },
    {
     "data": {
      "text/html": [
       "<img src=\"https://s3-media1.fl.yelpcdn.com/bphoto/lK3-6tRA0Arvp910kAXE1w/o.jpg\" width=\"200\" height=\"200\"/>"
      ],
      "text/plain": [
       "<IPython.core.display.Image object>"
      ]
     },
     "metadata": {},
     "output_type": "display_data"
    },
    {
     "name": "stdout",
     "output_type": "stream",
     "text": [
      "purple-café-and-wine-bar-seattle-3\n"
     ]
    },
    {
     "data": {
      "text/html": [
       "<img src=\"https://s3-media1.fl.yelpcdn.com/bphoto/sJYGdSEjcvMDPlRaHOEHYA/o.jpg\" width=\"200\" height=\"200\"/>"
      ],
      "text/plain": [
       "<IPython.core.display.Image object>"
      ]
     },
     "metadata": {},
     "output_type": "display_data"
    },
    {
     "name": "stdout",
     "output_type": "stream",
     "text": [
      "zig-zag-cafe-seattle-2\n"
     ]
    },
    {
     "data": {
      "text/html": [
       "<img src=\"https://s3-media1.fl.yelpcdn.com/bphoto/GkTDqQt2b81unM_i2T9zoA/o.jpg\" width=\"200\" height=\"200\"/>"
      ],
      "text/plain": [
       "<IPython.core.display.Image object>"
      ]
     },
     "metadata": {},
     "output_type": "display_data"
    },
    {
     "name": "stdout",
     "output_type": "stream",
     "text": [
      "vons-1000-spirits-seattle-4\n"
     ]
    },
    {
     "data": {
      "text/html": [
       "<img src=\"https://s3-media2.fl.yelpcdn.com/bphoto/ClVy0w7zsSIPkrFAKCxSqA/o.jpg\" width=\"200\" height=\"200\"/>"
      ],
      "text/plain": [
       "<IPython.core.display.Image object>"
      ]
     },
     "metadata": {},
     "output_type": "display_data"
    },
    {
     "name": "stdout",
     "output_type": "stream",
     "text": [
      "daawat-grill-seattle-2\n"
     ]
    },
    {
     "data": {
      "text/html": [
       "<img src=\"https://s3-media3.fl.yelpcdn.com/bphoto/YqH68neO7-7KlzjjgQT_4g/o.jpg\" width=\"200\" height=\"200\"/>"
      ],
      "text/plain": [
       "<IPython.core.display.Image object>"
      ]
     },
     "metadata": {},
     "output_type": "display_data"
    },
    {
     "name": "stdout",
     "output_type": "stream",
     "text": [
      "el-borracho-seattle\n"
     ]
    },
    {
     "data": {
      "text/html": [
       "<img src=\"https://s3-media3.fl.yelpcdn.com/bphoto/LFo_pxrIEmbVhkKSzZ0jiA/o.jpg\" width=\"200\" height=\"200\"/>"
      ],
      "text/plain": [
       "<IPython.core.display.Image object>"
      ]
     },
     "metadata": {},
     "output_type": "display_data"
    },
    {
     "name": "stdout",
     "output_type": "stream",
     "text": [
      "café-campagne-seattle-3\n"
     ]
    },
    {
     "data": {
      "text/html": [
       "<img src=\"https://s3-media2.fl.yelpcdn.com/bphoto/a4MuBioV2xRlPDG7UKCa6Q/o.jpg\" width=\"200\" height=\"200\"/>"
      ],
      "text/plain": [
       "<IPython.core.display.Image object>"
      ]
     },
     "metadata": {},
     "output_type": "display_data"
    },
    {
     "name": "stdout",
     "output_type": "stream",
     "text": [
      "mod-pizza-seattle-7\n"
     ]
    },
    {
     "data": {
      "text/html": [
       "<img src=\"https://s3-media4.fl.yelpcdn.com/bphoto/-TyWNrxvtDu-t0EZBiHgjw/o.jpg\" width=\"200\" height=\"200\"/>"
      ],
      "text/plain": [
       "<IPython.core.display.Image object>"
      ]
     },
     "metadata": {},
     "output_type": "display_data"
    },
    {
     "name": "stdout",
     "output_type": "stream",
     "text": [
      "wild-ginger-seattle\n"
     ]
    },
    {
     "data": {
      "text/html": [
       "<img src=\"https://s3-media1.fl.yelpcdn.com/bphoto/_96Dw17OHQfzuz2phxFzYw/o.jpg\" width=\"200\" height=\"200\"/>"
      ],
      "text/plain": [
       "<IPython.core.display.Image object>"
      ]
     },
     "metadata": {},
     "output_type": "display_data"
    },
    {
     "name": "stdout",
     "output_type": "stream",
     "text": [
      "red-robin-gourmet-burgers-seattle-7\n"
     ]
    },
    {
     "data": {
      "text/html": [
       "<img src=\"https://s3-media2.fl.yelpcdn.com/bphoto/bcN0Jrfkc51RcO7SFpZTMg/o.jpg\" width=\"200\" height=\"200\"/>"
      ],
      "text/plain": [
       "<IPython.core.display.Image object>"
      ]
     },
     "metadata": {},
     "output_type": "display_data"
    },
    {
     "name": "stdout",
     "output_type": "stream",
     "text": [
      "specialtys-café-and-bakery-seattle-34\n"
     ]
    },
    {
     "data": {
      "text/html": [
       "<img src=\"https://s3-media1.fl.yelpcdn.com/bphoto/1gfEEPeeOHo2uGSGaAD6-Q/o.jpg\" width=\"200\" height=\"200\"/>"
      ],
      "text/plain": [
       "<IPython.core.display.Image object>"
      ]
     },
     "metadata": {},
     "output_type": "display_data"
    }
   ],
   "source": [
    "display_pics(most_popular, cleaned_df)"
   ]
  },
  {
   "cell_type": "code",
   "execution_count": 153,
   "metadata": {},
   "outputs": [
    {
     "data": {
      "text/plain": [
       "['purple-café-and-wine-bar-seattle-3',\n",
       " 'metropolitan-grill-seattle',\n",
       " 'mod-pizza-seattle-7',\n",
       " 'mikes-noodle-house-seattle',\n",
       " 'specialtys-café-and-bakery-seattle-34',\n",
       " 'tamarind-tree-seattle',\n",
       " 'japonessa-sushi-cocina-seattle',\n",
       " 'el-borracho-seattle',\n",
       " 'chan-seattle-seattle-2',\n",
       " 'vons-1000-spirits-seattle-4',\n",
       " 'red-robin-gourmet-burgers-seattle-7',\n",
       " 'the-pink-door-seattle-4',\n",
       " 'harbor-city-restaurant-seattle',\n",
       " 'harbor-city-restaurant-seattle',\n",
       " 'chan-seattle-seattle-2',\n",
       " 'wild-ginger-seattle',\n",
       " 'zig-zag-cafe-seattle-2',\n",
       " 'daawat-grill-seattle-2',\n",
       " 'gopoké-seattle-5',\n",
       " 'café-campagne-seattle-3']"
      ]
     },
     "execution_count": 153,
     "metadata": {},
     "output_type": "execute_result"
    }
   ],
   "source": [
    "most_popular"
   ]
  },
  {
   "cell_type": "code",
   "execution_count": 293,
   "metadata": {},
   "outputs": [
    {
     "name": "stdout",
     "output_type": "stream",
     "text": [
      "the-pink-door-seattle-4 https://s3-media1.fl.yelpcdn.com/bphoto/c_vzRF4h3ywnyeM116QFuA/o.jpg\n"
     ]
    },
    {
     "data": {
      "text/html": [
       "<img src=\"https://s3-media1.fl.yelpcdn.com/bphoto/c_vzRF4h3ywnyeM116QFuA/o.jpg\" width=\"200\" height=\"200\"/>"
      ],
      "text/plain": [
       "<IPython.core.display.Image object>"
      ]
     },
     "metadata": {},
     "output_type": "display_data"
    },
    {
     "name": "stdout",
     "output_type": "stream",
     "text": [
      "harbor-city-restaurant-seattle https://s3-media4.fl.yelpcdn.com/bphoto/d2UC0JDwac7JpuOobXPdXg/o.jpg\n"
     ]
    },
    {
     "data": {
      "text/html": [
       "<img src=\"https://s3-media4.fl.yelpcdn.com/bphoto/d2UC0JDwac7JpuOobXPdXg/o.jpg\" width=\"200\" height=\"200\"/>"
      ],
      "text/plain": [
       "<IPython.core.display.Image object>"
      ]
     },
     "metadata": {},
     "output_type": "display_data"
    },
    {
     "name": "stdout",
     "output_type": "stream",
     "text": [
      "japonessa-sushi-cocina-seattle https://s3-media3.fl.yelpcdn.com/bphoto/vucCrknnlu1RRvRaKWwovQ/o.jpg\n"
     ]
    },
    {
     "data": {
      "text/html": [
       "<img src=\"https://s3-media3.fl.yelpcdn.com/bphoto/vucCrknnlu1RRvRaKWwovQ/o.jpg\" width=\"200\" height=\"200\"/>"
      ],
      "text/plain": [
       "<IPython.core.display.Image object>"
      ]
     },
     "metadata": {},
     "output_type": "display_data"
    },
    {
     "name": "stdout",
     "output_type": "stream",
     "text": [
      "metropolitan-grill-seattle https://s3-media1.fl.yelpcdn.com/bphoto/2Jk8ycCKf7XaSrHdpWxEdw/o.jpg\n"
     ]
    },
    {
     "data": {
      "text/html": [
       "<img src=\"https://s3-media1.fl.yelpcdn.com/bphoto/2Jk8ycCKf7XaSrHdpWxEdw/o.jpg\" width=\"200\" height=\"200\"/>"
      ],
      "text/plain": [
       "<IPython.core.display.Image object>"
      ]
     },
     "metadata": {},
     "output_type": "display_data"
    },
    {
     "name": "stdout",
     "output_type": "stream",
     "text": [
      "mikes-noodle-house-seattle https://s3-media2.fl.yelpcdn.com/bphoto/RvnKn7j4My0siLCX0r3ORw/o.jpg\n"
     ]
    },
    {
     "data": {
      "text/html": [
       "<img src=\"https://s3-media2.fl.yelpcdn.com/bphoto/RvnKn7j4My0siLCX0r3ORw/o.jpg\" width=\"200\" height=\"200\"/>"
      ],
      "text/plain": [
       "<IPython.core.display.Image object>"
      ]
     },
     "metadata": {},
     "output_type": "display_data"
    },
    {
     "name": "stdout",
     "output_type": "stream",
     "text": [
      "tamarind-tree-seattle https://s3-media1.fl.yelpcdn.com/bphoto/1b10PuHwil788-XO1wAAFA/o.jpg\n"
     ]
    },
    {
     "data": {
      "text/html": [
       "<img src=\"https://s3-media1.fl.yelpcdn.com/bphoto/1b10PuHwil788-XO1wAAFA/o.jpg\" width=\"200\" height=\"200\"/>"
      ],
      "text/plain": [
       "<IPython.core.display.Image object>"
      ]
     },
     "metadata": {},
     "output_type": "display_data"
    },
    {
     "name": "stdout",
     "output_type": "stream",
     "text": [
      "chan-seattle-seattle-2 https://s3-media3.fl.yelpcdn.com/bphoto/lXUNpkiPMgsLU1GCR5M4Iw/o.jpg\n"
     ]
    },
    {
     "data": {
      "text/html": [
       "<img src=\"https://s3-media3.fl.yelpcdn.com/bphoto/lXUNpkiPMgsLU1GCR5M4Iw/o.jpg\" width=\"200\" height=\"200\"/>"
      ],
      "text/plain": [
       "<IPython.core.display.Image object>"
      ]
     },
     "metadata": {},
     "output_type": "display_data"
    },
    {
     "name": "stdout",
     "output_type": "stream",
     "text": [
      "gopoké-seattle-5 https://s3-media1.fl.yelpcdn.com/bphoto/lK3-6tRA0Arvp910kAXE1w/o.jpg\n"
     ]
    },
    {
     "data": {
      "text/html": [
       "<img src=\"https://s3-media1.fl.yelpcdn.com/bphoto/lK3-6tRA0Arvp910kAXE1w/o.jpg\" width=\"200\" height=\"200\"/>"
      ],
      "text/plain": [
       "<IPython.core.display.Image object>"
      ]
     },
     "metadata": {},
     "output_type": "display_data"
    },
    {
     "name": "stdout",
     "output_type": "stream",
     "text": [
      "purple-café-and-wine-bar-seattle-3 https://s3-media1.fl.yelpcdn.com/bphoto/sJYGdSEjcvMDPlRaHOEHYA/o.jpg\n"
     ]
    },
    {
     "data": {
      "text/html": [
       "<img src=\"https://s3-media1.fl.yelpcdn.com/bphoto/sJYGdSEjcvMDPlRaHOEHYA/o.jpg\" width=\"200\" height=\"200\"/>"
      ],
      "text/plain": [
       "<IPython.core.display.Image object>"
      ]
     },
     "metadata": {},
     "output_type": "display_data"
    },
    {
     "name": "stdout",
     "output_type": "stream",
     "text": [
      "zig-zag-cafe-seattle-2 https://s3-media1.fl.yelpcdn.com/bphoto/GkTDqQt2b81unM_i2T9zoA/o.jpg\n"
     ]
    },
    {
     "data": {
      "text/html": [
       "<img src=\"https://s3-media1.fl.yelpcdn.com/bphoto/GkTDqQt2b81unM_i2T9zoA/o.jpg\" width=\"200\" height=\"200\"/>"
      ],
      "text/plain": [
       "<IPython.core.display.Image object>"
      ]
     },
     "metadata": {},
     "output_type": "display_data"
    },
    {
     "name": "stdout",
     "output_type": "stream",
     "text": [
      "vons-1000-spirits-seattle-4 https://s3-media2.fl.yelpcdn.com/bphoto/ClVy0w7zsSIPkrFAKCxSqA/o.jpg\n"
     ]
    },
    {
     "data": {
      "text/html": [
       "<img src=\"https://s3-media2.fl.yelpcdn.com/bphoto/ClVy0w7zsSIPkrFAKCxSqA/o.jpg\" width=\"200\" height=\"200\"/>"
      ],
      "text/plain": [
       "<IPython.core.display.Image object>"
      ]
     },
     "metadata": {},
     "output_type": "display_data"
    },
    {
     "name": "stdout",
     "output_type": "stream",
     "text": [
      "daawat-grill-seattle-2 https://s3-media3.fl.yelpcdn.com/bphoto/YqH68neO7-7KlzjjgQT_4g/o.jpg\n"
     ]
    },
    {
     "data": {
      "text/html": [
       "<img src=\"https://s3-media3.fl.yelpcdn.com/bphoto/YqH68neO7-7KlzjjgQT_4g/o.jpg\" width=\"200\" height=\"200\"/>"
      ],
      "text/plain": [
       "<IPython.core.display.Image object>"
      ]
     },
     "metadata": {},
     "output_type": "display_data"
    },
    {
     "name": "stdout",
     "output_type": "stream",
     "text": [
      "el-borracho-seattle https://s3-media3.fl.yelpcdn.com/bphoto/LFo_pxrIEmbVhkKSzZ0jiA/o.jpg\n"
     ]
    },
    {
     "data": {
      "text/html": [
       "<img src=\"https://s3-media3.fl.yelpcdn.com/bphoto/LFo_pxrIEmbVhkKSzZ0jiA/o.jpg\" width=\"200\" height=\"200\"/>"
      ],
      "text/plain": [
       "<IPython.core.display.Image object>"
      ]
     },
     "metadata": {},
     "output_type": "display_data"
    },
    {
     "name": "stdout",
     "output_type": "stream",
     "text": [
      "café-campagne-seattle-3 https://s3-media2.fl.yelpcdn.com/bphoto/a4MuBioV2xRlPDG7UKCa6Q/o.jpg\n"
     ]
    },
    {
     "data": {
      "text/html": [
       "<img src=\"https://s3-media2.fl.yelpcdn.com/bphoto/a4MuBioV2xRlPDG7UKCa6Q/o.jpg\" width=\"200\" height=\"200\"/>"
      ],
      "text/plain": [
       "<IPython.core.display.Image object>"
      ]
     },
     "metadata": {},
     "output_type": "display_data"
    },
    {
     "name": "stdout",
     "output_type": "stream",
     "text": [
      "mod-pizza-seattle-7 https://s3-media4.fl.yelpcdn.com/bphoto/-TyWNrxvtDu-t0EZBiHgjw/o.jpg\n"
     ]
    },
    {
     "data": {
      "text/html": [
       "<img src=\"https://s3-media4.fl.yelpcdn.com/bphoto/-TyWNrxvtDu-t0EZBiHgjw/o.jpg\" width=\"200\" height=\"200\"/>"
      ],
      "text/plain": [
       "<IPython.core.display.Image object>"
      ]
     },
     "metadata": {},
     "output_type": "display_data"
    },
    {
     "name": "stdout",
     "output_type": "stream",
     "text": [
      "wild-ginger-seattle https://s3-media1.fl.yelpcdn.com/bphoto/_96Dw17OHQfzuz2phxFzYw/o.jpg\n"
     ]
    },
    {
     "data": {
      "text/html": [
       "<img src=\"https://s3-media1.fl.yelpcdn.com/bphoto/_96Dw17OHQfzuz2phxFzYw/o.jpg\" width=\"200\" height=\"200\"/>"
      ],
      "text/plain": [
       "<IPython.core.display.Image object>"
      ]
     },
     "metadata": {},
     "output_type": "display_data"
    },
    {
     "name": "stdout",
     "output_type": "stream",
     "text": [
      "red-robin-gourmet-burgers-seattle-7 https://s3-media2.fl.yelpcdn.com/bphoto/bcN0Jrfkc51RcO7SFpZTMg/o.jpg\n"
     ]
    },
    {
     "data": {
      "text/html": [
       "<img src=\"https://s3-media2.fl.yelpcdn.com/bphoto/bcN0Jrfkc51RcO7SFpZTMg/o.jpg\" width=\"200\" height=\"200\"/>"
      ],
      "text/plain": [
       "<IPython.core.display.Image object>"
      ]
     },
     "metadata": {},
     "output_type": "display_data"
    },
    {
     "name": "stdout",
     "output_type": "stream",
     "text": [
      "specialtys-café-and-bakery-seattle-34 https://s3-media1.fl.yelpcdn.com/bphoto/1gfEEPeeOHo2uGSGaAD6-Q/o.jpg\n"
     ]
    },
    {
     "data": {
      "text/html": [
       "<img src=\"https://s3-media1.fl.yelpcdn.com/bphoto/1gfEEPeeOHo2uGSGaAD6-Q/o.jpg\" width=\"200\" height=\"200\"/>"
      ],
      "text/plain": [
       "<IPython.core.display.Image object>"
      ]
     },
     "metadata": {},
     "output_type": "display_data"
    },
    {
     "data": {
      "text/plain": [
       "NoneType"
      ]
     },
     "execution_count": 293,
     "metadata": {},
     "output_type": "execute_result"
    }
   ],
   "source": [
    "type(display_pics(most_popular, cleaned_df))"
   ]
  },
  {
   "cell_type": "code",
   "execution_count": 292,
   "metadata": {
    "collapsed": true
   },
   "outputs": [],
   "source": []
  },
  {
   "cell_type": "code",
   "execution_count": 154,
   "metadata": {
    "collapsed": true
   },
   "outputs": [],
   "source": [
    "gabe_picture_ratings = {'purple-café-and-wine-bar-seattle-3': 6,\n",
    " 'metropolitan-grill-seattle': 6,\n",
    " 'mod-pizza-seattle-7': 8,\n",
    " 'mikes-noodle-house-seattle': 4,\n",
    " 'specialtys-café-and-bakery-seattle-34': 7,\n",
    " 'tamarind-tree-seattle': 7,\n",
    " 'japonessa-sushi-cocina-seattle': 9,\n",
    " 'el-borracho-seattle': 8,\n",
    " 'chan-seattle-seattle-2': 8,\n",
    " 'vons-1000-spirits-seattle-4': 4,\n",
    " 'red-robin-gourmet-burgers-seattle-7': 7,\n",
    " 'the-pink-door-seattle-4': 3,\n",
    " 'harbor-city-restaurant-seattle': 8,\n",
    " 'harbor-city-restaurant-seattle': 8,\n",
    " 'chan-seattle-seattle-2': 8,\n",
    " 'wild-ginger-seattle': 8,\n",
    " 'zig-zag-cafe-seattle-2': 4,\n",
    " 'daawat-grill-seattle-2': 8,\n",
    " 'gopoké-seattle-5': 6,\n",
    " 'café-campagne-seattle-3': 7}"
   ]
  },
  {
   "cell_type": "code",
   "execution_count": 159,
   "metadata": {},
   "outputs": [
    {
     "data": {
      "text/plain": [
       "Index(['alias', 'id', 'image_url', 'location', 'rating', 'review_count',\n",
       "       'transactions', 'url', 'dist_from_galvanize', 'cats',\n",
       "       ...\n",
       "       'category_shanghainese', 'category_cafeteria',\n",
       "       'category_seafoodmarkets', 'category_gelato', 'category_panasian',\n",
       "       'popularity', '$', '$$', '$$$', '$$$$'],\n",
       "      dtype='object', length=180)"
      ]
     },
     "execution_count": 159,
     "metadata": {},
     "output_type": "execute_result"
    }
   ],
   "source": [
    "cleaned_df.columns"
   ]
  },
  {
   "cell_type": "code",
   "execution_count": 164,
   "metadata": {
    "collapsed": true
   },
   "outputs": [],
   "source": [
    "V = cleaned_df.drop(columns=['id','image_url', 'location', 'rating', 'review_count',\n",
    "       'transactions', 'url', 'dist_from_galvanize', 'cats', 'popularity'])"
   ]
  },
  {
   "cell_type": "code",
   "execution_count": 169,
   "metadata": {},
   "outputs": [
    {
     "data": {
      "text/html": [
       "<div>\n",
       "<style scoped>\n",
       "    .dataframe tbody tr th:only-of-type {\n",
       "        vertical-align: middle;\n",
       "    }\n",
       "\n",
       "    .dataframe tbody tr th {\n",
       "        vertical-align: top;\n",
       "    }\n",
       "\n",
       "    .dataframe thead th {\n",
       "        text-align: right;\n",
       "    }\n",
       "</style>\n",
       "<table border=\"1\" class=\"dataframe\">\n",
       "  <thead>\n",
       "    <tr style=\"text-align: right;\">\n",
       "      <th></th>\n",
       "      <th>alias</th>\n",
       "      <th>category_hotdogs</th>\n",
       "      <th>category_tradamerican</th>\n",
       "      <th>category_burgers</th>\n",
       "      <th>category_newamerican</th>\n",
       "      <th>category_breakfast_brunch</th>\n",
       "      <th>category_asianfusion</th>\n",
       "      <th>category_cocktailbars</th>\n",
       "      <th>category_chinese</th>\n",
       "      <th>category_malaysian</th>\n",
       "      <th>...</th>\n",
       "      <th>category_egyptian</th>\n",
       "      <th>category_shanghainese</th>\n",
       "      <th>category_cafeteria</th>\n",
       "      <th>category_seafoodmarkets</th>\n",
       "      <th>category_gelato</th>\n",
       "      <th>category_panasian</th>\n",
       "      <th>$</th>\n",
       "      <th>$$</th>\n",
       "      <th>$$$</th>\n",
       "      <th>$$$$</th>\n",
       "    </tr>\n",
       "  </thead>\n",
       "  <tbody>\n",
       "    <tr>\n",
       "      <th>0</th>\n",
       "      <td>amazon-go-seattle-5</td>\n",
       "      <td>0</td>\n",
       "      <td>0</td>\n",
       "      <td>0</td>\n",
       "      <td>0</td>\n",
       "      <td>0</td>\n",
       "      <td>0</td>\n",
       "      <td>0</td>\n",
       "      <td>0</td>\n",
       "      <td>0</td>\n",
       "      <td>...</td>\n",
       "      <td>0</td>\n",
       "      <td>0</td>\n",
       "      <td>0</td>\n",
       "      <td>0</td>\n",
       "      <td>0</td>\n",
       "      <td>0</td>\n",
       "      <td>0</td>\n",
       "      <td>1</td>\n",
       "      <td>0</td>\n",
       "      <td>0</td>\n",
       "    </tr>\n",
       "    <tr>\n",
       "      <th>1</th>\n",
       "      <td>the-pink-door-seattle-4</td>\n",
       "      <td>0</td>\n",
       "      <td>0</td>\n",
       "      <td>0</td>\n",
       "      <td>0</td>\n",
       "      <td>0</td>\n",
       "      <td>0</td>\n",
       "      <td>0</td>\n",
       "      <td>0</td>\n",
       "      <td>0</td>\n",
       "      <td>...</td>\n",
       "      <td>0</td>\n",
       "      <td>0</td>\n",
       "      <td>0</td>\n",
       "      <td>0</td>\n",
       "      <td>0</td>\n",
       "      <td>0</td>\n",
       "      <td>0</td>\n",
       "      <td>1</td>\n",
       "      <td>0</td>\n",
       "      <td>0</td>\n",
       "    </tr>\n",
       "    <tr>\n",
       "      <th>2</th>\n",
       "      <td>nirmals-seattle</td>\n",
       "      <td>0</td>\n",
       "      <td>0</td>\n",
       "      <td>0</td>\n",
       "      <td>0</td>\n",
       "      <td>0</td>\n",
       "      <td>0</td>\n",
       "      <td>0</td>\n",
       "      <td>0</td>\n",
       "      <td>0</td>\n",
       "      <td>...</td>\n",
       "      <td>0</td>\n",
       "      <td>0</td>\n",
       "      <td>0</td>\n",
       "      <td>0</td>\n",
       "      <td>0</td>\n",
       "      <td>0</td>\n",
       "      <td>0</td>\n",
       "      <td>1</td>\n",
       "      <td>0</td>\n",
       "      <td>0</td>\n",
       "    </tr>\n",
       "    <tr>\n",
       "      <th>3</th>\n",
       "      <td>bad-bishop-seattle</td>\n",
       "      <td>0</td>\n",
       "      <td>0</td>\n",
       "      <td>0</td>\n",
       "      <td>0</td>\n",
       "      <td>0</td>\n",
       "      <td>0</td>\n",
       "      <td>1</td>\n",
       "      <td>0</td>\n",
       "      <td>0</td>\n",
       "      <td>...</td>\n",
       "      <td>0</td>\n",
       "      <td>0</td>\n",
       "      <td>0</td>\n",
       "      <td>0</td>\n",
       "      <td>0</td>\n",
       "      <td>0</td>\n",
       "      <td>0</td>\n",
       "      <td>1</td>\n",
       "      <td>0</td>\n",
       "      <td>0</td>\n",
       "    </tr>\n",
       "    <tr>\n",
       "      <th>4</th>\n",
       "      <td>pike-place-chowder-seattle</td>\n",
       "      <td>0</td>\n",
       "      <td>0</td>\n",
       "      <td>0</td>\n",
       "      <td>0</td>\n",
       "      <td>0</td>\n",
       "      <td>0</td>\n",
       "      <td>0</td>\n",
       "      <td>0</td>\n",
       "      <td>0</td>\n",
       "      <td>...</td>\n",
       "      <td>0</td>\n",
       "      <td>0</td>\n",
       "      <td>0</td>\n",
       "      <td>0</td>\n",
       "      <td>0</td>\n",
       "      <td>0</td>\n",
       "      <td>0</td>\n",
       "      <td>1</td>\n",
       "      <td>0</td>\n",
       "      <td>0</td>\n",
       "    </tr>\n",
       "    <tr>\n",
       "      <th>5</th>\n",
       "      <td>biscuit-bitch-seattle-5</td>\n",
       "      <td>0</td>\n",
       "      <td>0</td>\n",
       "      <td>0</td>\n",
       "      <td>0</td>\n",
       "      <td>1</td>\n",
       "      <td>0</td>\n",
       "      <td>0</td>\n",
       "      <td>0</td>\n",
       "      <td>0</td>\n",
       "      <td>...</td>\n",
       "      <td>0</td>\n",
       "      <td>0</td>\n",
       "      <td>0</td>\n",
       "      <td>0</td>\n",
       "      <td>0</td>\n",
       "      <td>0</td>\n",
       "      <td>1</td>\n",
       "      <td>0</td>\n",
       "      <td>0</td>\n",
       "      <td>0</td>\n",
       "    </tr>\n",
       "    <tr>\n",
       "      <th>6</th>\n",
       "      <td>damn-the-weather-seattle</td>\n",
       "      <td>0</td>\n",
       "      <td>0</td>\n",
       "      <td>0</td>\n",
       "      <td>1</td>\n",
       "      <td>0</td>\n",
       "      <td>0</td>\n",
       "      <td>1</td>\n",
       "      <td>0</td>\n",
       "      <td>0</td>\n",
       "      <td>...</td>\n",
       "      <td>0</td>\n",
       "      <td>0</td>\n",
       "      <td>0</td>\n",
       "      <td>0</td>\n",
       "      <td>0</td>\n",
       "      <td>0</td>\n",
       "      <td>0</td>\n",
       "      <td>1</td>\n",
       "      <td>0</td>\n",
       "      <td>0</td>\n",
       "    </tr>\n",
       "    <tr>\n",
       "      <th>7</th>\n",
       "      <td>tsukushinbo-seattle</td>\n",
       "      <td>0</td>\n",
       "      <td>0</td>\n",
       "      <td>0</td>\n",
       "      <td>0</td>\n",
       "      <td>0</td>\n",
       "      <td>0</td>\n",
       "      <td>0</td>\n",
       "      <td>0</td>\n",
       "      <td>0</td>\n",
       "      <td>...</td>\n",
       "      <td>0</td>\n",
       "      <td>0</td>\n",
       "      <td>0</td>\n",
       "      <td>0</td>\n",
       "      <td>0</td>\n",
       "      <td>0</td>\n",
       "      <td>0</td>\n",
       "      <td>1</td>\n",
       "      <td>0</td>\n",
       "      <td>0</td>\n",
       "    </tr>\n",
       "    <tr>\n",
       "      <th>8</th>\n",
       "      <td>taylor-shellfish-oyster-bar-seattle-2</td>\n",
       "      <td>0</td>\n",
       "      <td>0</td>\n",
       "      <td>0</td>\n",
       "      <td>0</td>\n",
       "      <td>0</td>\n",
       "      <td>0</td>\n",
       "      <td>0</td>\n",
       "      <td>0</td>\n",
       "      <td>0</td>\n",
       "      <td>...</td>\n",
       "      <td>0</td>\n",
       "      <td>0</td>\n",
       "      <td>0</td>\n",
       "      <td>0</td>\n",
       "      <td>0</td>\n",
       "      <td>0</td>\n",
       "      <td>0</td>\n",
       "      <td>1</td>\n",
       "      <td>0</td>\n",
       "      <td>0</td>\n",
       "    </tr>\n",
       "    <tr>\n",
       "      <th>9</th>\n",
       "      <td>elliotts-oyster-house-seattle-2</td>\n",
       "      <td>0</td>\n",
       "      <td>0</td>\n",
       "      <td>0</td>\n",
       "      <td>0</td>\n",
       "      <td>0</td>\n",
       "      <td>0</td>\n",
       "      <td>0</td>\n",
       "      <td>0</td>\n",
       "      <td>0</td>\n",
       "      <td>...</td>\n",
       "      <td>0</td>\n",
       "      <td>0</td>\n",
       "      <td>0</td>\n",
       "      <td>0</td>\n",
       "      <td>0</td>\n",
       "      <td>0</td>\n",
       "      <td>0</td>\n",
       "      <td>0</td>\n",
       "      <td>1</td>\n",
       "      <td>0</td>\n",
       "    </tr>\n",
       "    <tr>\n",
       "      <th>10</th>\n",
       "      <td>dough-zone-dumpling-house-seattle-2</td>\n",
       "      <td>0</td>\n",
       "      <td>0</td>\n",
       "      <td>0</td>\n",
       "      <td>0</td>\n",
       "      <td>0</td>\n",
       "      <td>0</td>\n",
       "      <td>0</td>\n",
       "      <td>0</td>\n",
       "      <td>0</td>\n",
       "      <td>...</td>\n",
       "      <td>0</td>\n",
       "      <td>1</td>\n",
       "      <td>0</td>\n",
       "      <td>0</td>\n",
       "      <td>0</td>\n",
       "      <td>0</td>\n",
       "      <td>0</td>\n",
       "      <td>1</td>\n",
       "      <td>0</td>\n",
       "      <td>0</td>\n",
       "    </tr>\n",
       "    <tr>\n",
       "      <th>11</th>\n",
       "      <td>the-london-plane-seattle-3</td>\n",
       "      <td>0</td>\n",
       "      <td>0</td>\n",
       "      <td>0</td>\n",
       "      <td>0</td>\n",
       "      <td>0</td>\n",
       "      <td>0</td>\n",
       "      <td>0</td>\n",
       "      <td>0</td>\n",
       "      <td>0</td>\n",
       "      <td>...</td>\n",
       "      <td>0</td>\n",
       "      <td>0</td>\n",
       "      <td>0</td>\n",
       "      <td>0</td>\n",
       "      <td>0</td>\n",
       "      <td>0</td>\n",
       "      <td>0</td>\n",
       "      <td>1</td>\n",
       "      <td>0</td>\n",
       "      <td>0</td>\n",
       "    </tr>\n",
       "    <tr>\n",
       "      <th>12</th>\n",
       "      <td>a-hong-kong-kitchen-seattle</td>\n",
       "      <td>0</td>\n",
       "      <td>0</td>\n",
       "      <td>0</td>\n",
       "      <td>0</td>\n",
       "      <td>0</td>\n",
       "      <td>0</td>\n",
       "      <td>0</td>\n",
       "      <td>0</td>\n",
       "      <td>0</td>\n",
       "      <td>...</td>\n",
       "      <td>0</td>\n",
       "      <td>0</td>\n",
       "      <td>0</td>\n",
       "      <td>0</td>\n",
       "      <td>0</td>\n",
       "      <td>0</td>\n",
       "      <td>1</td>\n",
       "      <td>0</td>\n",
       "      <td>0</td>\n",
       "      <td>0</td>\n",
       "    </tr>\n",
       "    <tr>\n",
       "      <th>13</th>\n",
       "      <td>radiator-whiskey-seattle</td>\n",
       "      <td>0</td>\n",
       "      <td>0</td>\n",
       "      <td>0</td>\n",
       "      <td>1</td>\n",
       "      <td>0</td>\n",
       "      <td>0</td>\n",
       "      <td>1</td>\n",
       "      <td>0</td>\n",
       "      <td>0</td>\n",
       "      <td>...</td>\n",
       "      <td>0</td>\n",
       "      <td>0</td>\n",
       "      <td>0</td>\n",
       "      <td>0</td>\n",
       "      <td>0</td>\n",
       "      <td>0</td>\n",
       "      <td>0</td>\n",
       "      <td>1</td>\n",
       "      <td>0</td>\n",
       "      <td>0</td>\n",
       "    </tr>\n",
       "    <tr>\n",
       "      <th>14</th>\n",
       "      <td>sizzling-pot-king-seattle-2</td>\n",
       "      <td>0</td>\n",
       "      <td>0</td>\n",
       "      <td>0</td>\n",
       "      <td>0</td>\n",
       "      <td>0</td>\n",
       "      <td>0</td>\n",
       "      <td>0</td>\n",
       "      <td>1</td>\n",
       "      <td>0</td>\n",
       "      <td>...</td>\n",
       "      <td>0</td>\n",
       "      <td>0</td>\n",
       "      <td>0</td>\n",
       "      <td>0</td>\n",
       "      <td>0</td>\n",
       "      <td>0</td>\n",
       "      <td>0</td>\n",
       "      <td>1</td>\n",
       "      <td>0</td>\n",
       "      <td>0</td>\n",
       "    </tr>\n",
       "    <tr>\n",
       "      <th>15</th>\n",
       "      <td>one-pot-seattle-3</td>\n",
       "      <td>0</td>\n",
       "      <td>0</td>\n",
       "      <td>0</td>\n",
       "      <td>0</td>\n",
       "      <td>0</td>\n",
       "      <td>0</td>\n",
       "      <td>0</td>\n",
       "      <td>0</td>\n",
       "      <td>0</td>\n",
       "      <td>...</td>\n",
       "      <td>0</td>\n",
       "      <td>0</td>\n",
       "      <td>0</td>\n",
       "      <td>0</td>\n",
       "      <td>0</td>\n",
       "      <td>0</td>\n",
       "      <td>0</td>\n",
       "      <td>1</td>\n",
       "      <td>0</td>\n",
       "      <td>0</td>\n",
       "    </tr>\n",
       "    <tr>\n",
       "      <th>16</th>\n",
       "      <td>ummas-lunch-box-seattle</td>\n",
       "      <td>0</td>\n",
       "      <td>0</td>\n",
       "      <td>0</td>\n",
       "      <td>0</td>\n",
       "      <td>0</td>\n",
       "      <td>0</td>\n",
       "      <td>0</td>\n",
       "      <td>0</td>\n",
       "      <td>0</td>\n",
       "      <td>...</td>\n",
       "      <td>0</td>\n",
       "      <td>0</td>\n",
       "      <td>0</td>\n",
       "      <td>0</td>\n",
       "      <td>0</td>\n",
       "      <td>0</td>\n",
       "      <td>1</td>\n",
       "      <td>0</td>\n",
       "      <td>0</td>\n",
       "      <td>0</td>\n",
       "    </tr>\n",
       "    <tr>\n",
       "      <th>17</th>\n",
       "      <td>dead-line-seattle</td>\n",
       "      <td>0</td>\n",
       "      <td>0</td>\n",
       "      <td>0</td>\n",
       "      <td>0</td>\n",
       "      <td>0</td>\n",
       "      <td>0</td>\n",
       "      <td>1</td>\n",
       "      <td>0</td>\n",
       "      <td>0</td>\n",
       "      <td>...</td>\n",
       "      <td>0</td>\n",
       "      <td>0</td>\n",
       "      <td>0</td>\n",
       "      <td>0</td>\n",
       "      <td>0</td>\n",
       "      <td>0</td>\n",
       "      <td>0</td>\n",
       "      <td>1</td>\n",
       "      <td>0</td>\n",
       "      <td>0</td>\n",
       "    </tr>\n",
       "    <tr>\n",
       "      <th>18</th>\n",
       "      <td>tats-delicatessen-seattle</td>\n",
       "      <td>0</td>\n",
       "      <td>0</td>\n",
       "      <td>0</td>\n",
       "      <td>0</td>\n",
       "      <td>0</td>\n",
       "      <td>0</td>\n",
       "      <td>0</td>\n",
       "      <td>0</td>\n",
       "      <td>0</td>\n",
       "      <td>...</td>\n",
       "      <td>0</td>\n",
       "      <td>0</td>\n",
       "      <td>0</td>\n",
       "      <td>0</td>\n",
       "      <td>0</td>\n",
       "      <td>0</td>\n",
       "      <td>0</td>\n",
       "      <td>1</td>\n",
       "      <td>0</td>\n",
       "      <td>0</td>\n",
       "    </tr>\n",
       "    <tr>\n",
       "      <th>19</th>\n",
       "      <td>harbor-city-restaurant-seattle</td>\n",
       "      <td>0</td>\n",
       "      <td>0</td>\n",
       "      <td>0</td>\n",
       "      <td>0</td>\n",
       "      <td>0</td>\n",
       "      <td>0</td>\n",
       "      <td>0</td>\n",
       "      <td>0</td>\n",
       "      <td>0</td>\n",
       "      <td>...</td>\n",
       "      <td>0</td>\n",
       "      <td>0</td>\n",
       "      <td>0</td>\n",
       "      <td>0</td>\n",
       "      <td>0</td>\n",
       "      <td>0</td>\n",
       "      <td>0</td>\n",
       "      <td>1</td>\n",
       "      <td>0</td>\n",
       "      <td>0</td>\n",
       "    </tr>\n",
       "    <tr>\n",
       "      <th>20</th>\n",
       "      <td>shawn-o-donnells-american-grill-and-irish-pub-...</td>\n",
       "      <td>0</td>\n",
       "      <td>1</td>\n",
       "      <td>0</td>\n",
       "      <td>0</td>\n",
       "      <td>0</td>\n",
       "      <td>0</td>\n",
       "      <td>0</td>\n",
       "      <td>0</td>\n",
       "      <td>0</td>\n",
       "      <td>...</td>\n",
       "      <td>0</td>\n",
       "      <td>0</td>\n",
       "      <td>0</td>\n",
       "      <td>0</td>\n",
       "      <td>0</td>\n",
       "      <td>0</td>\n",
       "      <td>0</td>\n",
       "      <td>1</td>\n",
       "      <td>0</td>\n",
       "      <td>0</td>\n",
       "    </tr>\n",
       "    <tr>\n",
       "      <th>21</th>\n",
       "      <td>commissary-korean-kitchen-seattle</td>\n",
       "      <td>0</td>\n",
       "      <td>0</td>\n",
       "      <td>0</td>\n",
       "      <td>0</td>\n",
       "      <td>0</td>\n",
       "      <td>0</td>\n",
       "      <td>0</td>\n",
       "      <td>0</td>\n",
       "      <td>0</td>\n",
       "      <td>...</td>\n",
       "      <td>0</td>\n",
       "      <td>0</td>\n",
       "      <td>0</td>\n",
       "      <td>0</td>\n",
       "      <td>0</td>\n",
       "      <td>0</td>\n",
       "      <td>0</td>\n",
       "      <td>1</td>\n",
       "      <td>0</td>\n",
       "      <td>0</td>\n",
       "    </tr>\n",
       "    <tr>\n",
       "      <th>22</th>\n",
       "      <td>king-noodle-seattle</td>\n",
       "      <td>0</td>\n",
       "      <td>0</td>\n",
       "      <td>0</td>\n",
       "      <td>0</td>\n",
       "      <td>0</td>\n",
       "      <td>0</td>\n",
       "      <td>0</td>\n",
       "      <td>1</td>\n",
       "      <td>0</td>\n",
       "      <td>...</td>\n",
       "      <td>0</td>\n",
       "      <td>0</td>\n",
       "      <td>0</td>\n",
       "      <td>0</td>\n",
       "      <td>0</td>\n",
       "      <td>0</td>\n",
       "      <td>1</td>\n",
       "      <td>0</td>\n",
       "      <td>0</td>\n",
       "      <td>0</td>\n",
       "    </tr>\n",
       "    <tr>\n",
       "      <th>23</th>\n",
       "      <td>bibimbap-king-seattle</td>\n",
       "      <td>0</td>\n",
       "      <td>0</td>\n",
       "      <td>0</td>\n",
       "      <td>0</td>\n",
       "      <td>0</td>\n",
       "      <td>0</td>\n",
       "      <td>0</td>\n",
       "      <td>0</td>\n",
       "      <td>0</td>\n",
       "      <td>...</td>\n",
       "      <td>0</td>\n",
       "      <td>0</td>\n",
       "      <td>0</td>\n",
       "      <td>0</td>\n",
       "      <td>0</td>\n",
       "      <td>0</td>\n",
       "      <td>1</td>\n",
       "      <td>0</td>\n",
       "      <td>0</td>\n",
       "      <td>0</td>\n",
       "    </tr>\n",
       "    <tr>\n",
       "      <th>24</th>\n",
       "      <td>good-bar-seattle-3</td>\n",
       "      <td>0</td>\n",
       "      <td>0</td>\n",
       "      <td>0</td>\n",
       "      <td>1</td>\n",
       "      <td>0</td>\n",
       "      <td>0</td>\n",
       "      <td>1</td>\n",
       "      <td>0</td>\n",
       "      <td>0</td>\n",
       "      <td>...</td>\n",
       "      <td>0</td>\n",
       "      <td>0</td>\n",
       "      <td>0</td>\n",
       "      <td>0</td>\n",
       "      <td>0</td>\n",
       "      <td>0</td>\n",
       "      <td>0</td>\n",
       "      <td>1</td>\n",
       "      <td>0</td>\n",
       "      <td>0</td>\n",
       "    </tr>\n",
       "    <tr>\n",
       "      <th>25</th>\n",
       "      <td>casco-antiguo-seattle</td>\n",
       "      <td>0</td>\n",
       "      <td>0</td>\n",
       "      <td>0</td>\n",
       "      <td>0</td>\n",
       "      <td>0</td>\n",
       "      <td>0</td>\n",
       "      <td>0</td>\n",
       "      <td>0</td>\n",
       "      <td>0</td>\n",
       "      <td>...</td>\n",
       "      <td>0</td>\n",
       "      <td>0</td>\n",
       "      <td>0</td>\n",
       "      <td>0</td>\n",
       "      <td>0</td>\n",
       "      <td>0</td>\n",
       "      <td>0</td>\n",
       "      <td>1</td>\n",
       "      <td>0</td>\n",
       "      <td>0</td>\n",
       "    </tr>\n",
       "    <tr>\n",
       "      <th>26</th>\n",
       "      <td>tofully-seattle-2</td>\n",
       "      <td>0</td>\n",
       "      <td>0</td>\n",
       "      <td>0</td>\n",
       "      <td>0</td>\n",
       "      <td>0</td>\n",
       "      <td>0</td>\n",
       "      <td>0</td>\n",
       "      <td>0</td>\n",
       "      <td>0</td>\n",
       "      <td>...</td>\n",
       "      <td>0</td>\n",
       "      <td>0</td>\n",
       "      <td>0</td>\n",
       "      <td>0</td>\n",
       "      <td>0</td>\n",
       "      <td>0</td>\n",
       "      <td>0</td>\n",
       "      <td>1</td>\n",
       "      <td>0</td>\n",
       "      <td>0</td>\n",
       "    </tr>\n",
       "    <tr>\n",
       "      <th>27</th>\n",
       "      <td>brgr-bar-seattle-seattle</td>\n",
       "      <td>0</td>\n",
       "      <td>1</td>\n",
       "      <td>1</td>\n",
       "      <td>0</td>\n",
       "      <td>0</td>\n",
       "      <td>0</td>\n",
       "      <td>0</td>\n",
       "      <td>0</td>\n",
       "      <td>0</td>\n",
       "      <td>...</td>\n",
       "      <td>0</td>\n",
       "      <td>0</td>\n",
       "      <td>0</td>\n",
       "      <td>0</td>\n",
       "      <td>0</td>\n",
       "      <td>0</td>\n",
       "      <td>0</td>\n",
       "      <td>1</td>\n",
       "      <td>0</td>\n",
       "      <td>0</td>\n",
       "    </tr>\n",
       "    <tr>\n",
       "      <th>28</th>\n",
       "      <td>japonessa-sushi-cocina-seattle</td>\n",
       "      <td>0</td>\n",
       "      <td>0</td>\n",
       "      <td>0</td>\n",
       "      <td>0</td>\n",
       "      <td>0</td>\n",
       "      <td>0</td>\n",
       "      <td>0</td>\n",
       "      <td>0</td>\n",
       "      <td>0</td>\n",
       "      <td>...</td>\n",
       "      <td>0</td>\n",
       "      <td>0</td>\n",
       "      <td>0</td>\n",
       "      <td>0</td>\n",
       "      <td>0</td>\n",
       "      <td>0</td>\n",
       "      <td>0</td>\n",
       "      <td>1</td>\n",
       "      <td>0</td>\n",
       "      <td>0</td>\n",
       "    </tr>\n",
       "    <tr>\n",
       "      <th>29</th>\n",
       "      <td>metropolitan-grill-seattle</td>\n",
       "      <td>0</td>\n",
       "      <td>1</td>\n",
       "      <td>0</td>\n",
       "      <td>0</td>\n",
       "      <td>0</td>\n",
       "      <td>0</td>\n",
       "      <td>0</td>\n",
       "      <td>0</td>\n",
       "      <td>0</td>\n",
       "      <td>...</td>\n",
       "      <td>0</td>\n",
       "      <td>0</td>\n",
       "      <td>0</td>\n",
       "      <td>0</td>\n",
       "      <td>0</td>\n",
       "      <td>0</td>\n",
       "      <td>0</td>\n",
       "      <td>0</td>\n",
       "      <td>0</td>\n",
       "      <td>1</td>\n",
       "    </tr>\n",
       "    <tr>\n",
       "      <th>...</th>\n",
       "      <td>...</td>\n",
       "      <td>...</td>\n",
       "      <td>...</td>\n",
       "      <td>...</td>\n",
       "      <td>...</td>\n",
       "      <td>...</td>\n",
       "      <td>...</td>\n",
       "      <td>...</td>\n",
       "      <td>...</td>\n",
       "      <td>...</td>\n",
       "      <td>...</td>\n",
       "      <td>...</td>\n",
       "      <td>...</td>\n",
       "      <td>...</td>\n",
       "      <td>...</td>\n",
       "      <td>...</td>\n",
       "      <td>...</td>\n",
       "      <td>...</td>\n",
       "      <td>...</td>\n",
       "      <td>...</td>\n",
       "      <td>...</td>\n",
       "    </tr>\n",
       "    <tr>\n",
       "      <th>627</th>\n",
       "      <td>grid-iron-grill-seattle</td>\n",
       "      <td>0</td>\n",
       "      <td>0</td>\n",
       "      <td>1</td>\n",
       "      <td>0</td>\n",
       "      <td>0</td>\n",
       "      <td>0</td>\n",
       "      <td>0</td>\n",
       "      <td>0</td>\n",
       "      <td>0</td>\n",
       "      <td>...</td>\n",
       "      <td>0</td>\n",
       "      <td>0</td>\n",
       "      <td>0</td>\n",
       "      <td>0</td>\n",
       "      <td>0</td>\n",
       "      <td>0</td>\n",
       "      <td>0</td>\n",
       "      <td>1</td>\n",
       "      <td>0</td>\n",
       "      <td>0</td>\n",
       "    </tr>\n",
       "    <tr>\n",
       "      <th>628</th>\n",
       "      <td>subway-seattle-91</td>\n",
       "      <td>1</td>\n",
       "      <td>0</td>\n",
       "      <td>0</td>\n",
       "      <td>0</td>\n",
       "      <td>0</td>\n",
       "      <td>0</td>\n",
       "      <td>0</td>\n",
       "      <td>0</td>\n",
       "      <td>0</td>\n",
       "      <td>...</td>\n",
       "      <td>0</td>\n",
       "      <td>0</td>\n",
       "      <td>0</td>\n",
       "      <td>0</td>\n",
       "      <td>0</td>\n",
       "      <td>0</td>\n",
       "      <td>0</td>\n",
       "      <td>1</td>\n",
       "      <td>0</td>\n",
       "      <td>0</td>\n",
       "    </tr>\n",
       "    <tr>\n",
       "      <th>629</th>\n",
       "      <td>jimmy-johns-seattle-12</td>\n",
       "      <td>1</td>\n",
       "      <td>0</td>\n",
       "      <td>0</td>\n",
       "      <td>0</td>\n",
       "      <td>0</td>\n",
       "      <td>0</td>\n",
       "      <td>0</td>\n",
       "      <td>0</td>\n",
       "      <td>0</td>\n",
       "      <td>...</td>\n",
       "      <td>0</td>\n",
       "      <td>0</td>\n",
       "      <td>0</td>\n",
       "      <td>0</td>\n",
       "      <td>0</td>\n",
       "      <td>0</td>\n",
       "      <td>1</td>\n",
       "      <td>0</td>\n",
       "      <td>0</td>\n",
       "      <td>0</td>\n",
       "    </tr>\n",
       "    <tr>\n",
       "      <th>630</th>\n",
       "      <td>subway-seattle-6</td>\n",
       "      <td>1</td>\n",
       "      <td>0</td>\n",
       "      <td>0</td>\n",
       "      <td>0</td>\n",
       "      <td>0</td>\n",
       "      <td>0</td>\n",
       "      <td>0</td>\n",
       "      <td>0</td>\n",
       "      <td>0</td>\n",
       "      <td>...</td>\n",
       "      <td>0</td>\n",
       "      <td>0</td>\n",
       "      <td>0</td>\n",
       "      <td>0</td>\n",
       "      <td>0</td>\n",
       "      <td>0</td>\n",
       "      <td>1</td>\n",
       "      <td>0</td>\n",
       "      <td>0</td>\n",
       "      <td>0</td>\n",
       "    </tr>\n",
       "    <tr>\n",
       "      <th>631</th>\n",
       "      <td>coco-la-ti-da-seattle-2</td>\n",
       "      <td>0</td>\n",
       "      <td>0</td>\n",
       "      <td>0</td>\n",
       "      <td>0</td>\n",
       "      <td>0</td>\n",
       "      <td>0</td>\n",
       "      <td>0</td>\n",
       "      <td>0</td>\n",
       "      <td>0</td>\n",
       "      <td>...</td>\n",
       "      <td>0</td>\n",
       "      <td>0</td>\n",
       "      <td>0</td>\n",
       "      <td>0</td>\n",
       "      <td>0</td>\n",
       "      <td>0</td>\n",
       "      <td>0</td>\n",
       "      <td>1</td>\n",
       "      <td>0</td>\n",
       "      <td>0</td>\n",
       "    </tr>\n",
       "    <tr>\n",
       "      <th>632</th>\n",
       "      <td>market-fresh-seattle</td>\n",
       "      <td>0</td>\n",
       "      <td>0</td>\n",
       "      <td>0</td>\n",
       "      <td>0</td>\n",
       "      <td>1</td>\n",
       "      <td>0</td>\n",
       "      <td>0</td>\n",
       "      <td>0</td>\n",
       "      <td>0</td>\n",
       "      <td>...</td>\n",
       "      <td>0</td>\n",
       "      <td>0</td>\n",
       "      <td>0</td>\n",
       "      <td>0</td>\n",
       "      <td>0</td>\n",
       "      <td>0</td>\n",
       "      <td>1</td>\n",
       "      <td>0</td>\n",
       "      <td>0</td>\n",
       "      <td>0</td>\n",
       "    </tr>\n",
       "    <tr>\n",
       "      <th>633</th>\n",
       "      <td>subway-seattle-37</td>\n",
       "      <td>1</td>\n",
       "      <td>0</td>\n",
       "      <td>0</td>\n",
       "      <td>0</td>\n",
       "      <td>0</td>\n",
       "      <td>0</td>\n",
       "      <td>0</td>\n",
       "      <td>0</td>\n",
       "      <td>0</td>\n",
       "      <td>...</td>\n",
       "      <td>0</td>\n",
       "      <td>0</td>\n",
       "      <td>0</td>\n",
       "      <td>0</td>\n",
       "      <td>0</td>\n",
       "      <td>0</td>\n",
       "      <td>1</td>\n",
       "      <td>0</td>\n",
       "      <td>0</td>\n",
       "      <td>0</td>\n",
       "    </tr>\n",
       "    <tr>\n",
       "      <th>634</th>\n",
       "      <td>blue-water-taco-grill-seattle-2</td>\n",
       "      <td>0</td>\n",
       "      <td>0</td>\n",
       "      <td>0</td>\n",
       "      <td>0</td>\n",
       "      <td>0</td>\n",
       "      <td>0</td>\n",
       "      <td>0</td>\n",
       "      <td>0</td>\n",
       "      <td>0</td>\n",
       "      <td>...</td>\n",
       "      <td>0</td>\n",
       "      <td>0</td>\n",
       "      <td>0</td>\n",
       "      <td>0</td>\n",
       "      <td>0</td>\n",
       "      <td>0</td>\n",
       "      <td>1</td>\n",
       "      <td>0</td>\n",
       "      <td>0</td>\n",
       "      <td>0</td>\n",
       "    </tr>\n",
       "    <tr>\n",
       "      <th>635</th>\n",
       "      <td>kebab-seattle-2</td>\n",
       "      <td>0</td>\n",
       "      <td>0</td>\n",
       "      <td>0</td>\n",
       "      <td>0</td>\n",
       "      <td>0</td>\n",
       "      <td>0</td>\n",
       "      <td>0</td>\n",
       "      <td>0</td>\n",
       "      <td>0</td>\n",
       "      <td>...</td>\n",
       "      <td>0</td>\n",
       "      <td>0</td>\n",
       "      <td>0</td>\n",
       "      <td>0</td>\n",
       "      <td>0</td>\n",
       "      <td>0</td>\n",
       "      <td>0</td>\n",
       "      <td>1</td>\n",
       "      <td>0</td>\n",
       "      <td>0</td>\n",
       "    </tr>\n",
       "    <tr>\n",
       "      <th>636</th>\n",
       "      <td>espresso-caffe-dior-seattle</td>\n",
       "      <td>0</td>\n",
       "      <td>0</td>\n",
       "      <td>0</td>\n",
       "      <td>0</td>\n",
       "      <td>1</td>\n",
       "      <td>0</td>\n",
       "      <td>0</td>\n",
       "      <td>0</td>\n",
       "      <td>0</td>\n",
       "      <td>...</td>\n",
       "      <td>0</td>\n",
       "      <td>0</td>\n",
       "      <td>0</td>\n",
       "      <td>0</td>\n",
       "      <td>0</td>\n",
       "      <td>0</td>\n",
       "      <td>1</td>\n",
       "      <td>0</td>\n",
       "      <td>0</td>\n",
       "      <td>0</td>\n",
       "    </tr>\n",
       "    <tr>\n",
       "      <th>637</th>\n",
       "      <td>1st-floor-cafe-seattle</td>\n",
       "      <td>0</td>\n",
       "      <td>0</td>\n",
       "      <td>0</td>\n",
       "      <td>0</td>\n",
       "      <td>0</td>\n",
       "      <td>0</td>\n",
       "      <td>0</td>\n",
       "      <td>0</td>\n",
       "      <td>0</td>\n",
       "      <td>...</td>\n",
       "      <td>0</td>\n",
       "      <td>0</td>\n",
       "      <td>0</td>\n",
       "      <td>0</td>\n",
       "      <td>0</td>\n",
       "      <td>0</td>\n",
       "      <td>1</td>\n",
       "      <td>0</td>\n",
       "      <td>0</td>\n",
       "      <td>0</td>\n",
       "    </tr>\n",
       "    <tr>\n",
       "      <th>638</th>\n",
       "      <td>nachyo-average-seattle</td>\n",
       "      <td>0</td>\n",
       "      <td>0</td>\n",
       "      <td>0</td>\n",
       "      <td>0</td>\n",
       "      <td>0</td>\n",
       "      <td>0</td>\n",
       "      <td>0</td>\n",
       "      <td>0</td>\n",
       "      <td>0</td>\n",
       "      <td>...</td>\n",
       "      <td>0</td>\n",
       "      <td>0</td>\n",
       "      <td>0</td>\n",
       "      <td>0</td>\n",
       "      <td>0</td>\n",
       "      <td>0</td>\n",
       "      <td>0</td>\n",
       "      <td>1</td>\n",
       "      <td>0</td>\n",
       "      <td>0</td>\n",
       "    </tr>\n",
       "    <tr>\n",
       "      <th>639</th>\n",
       "      <td>la-creperie-by-ethan-stowell-seattle-3</td>\n",
       "      <td>0</td>\n",
       "      <td>0</td>\n",
       "      <td>0</td>\n",
       "      <td>0</td>\n",
       "      <td>0</td>\n",
       "      <td>0</td>\n",
       "      <td>0</td>\n",
       "      <td>0</td>\n",
       "      <td>0</td>\n",
       "      <td>...</td>\n",
       "      <td>0</td>\n",
       "      <td>0</td>\n",
       "      <td>0</td>\n",
       "      <td>0</td>\n",
       "      <td>0</td>\n",
       "      <td>0</td>\n",
       "      <td>0</td>\n",
       "      <td>1</td>\n",
       "      <td>0</td>\n",
       "      <td>0</td>\n",
       "    </tr>\n",
       "    <tr>\n",
       "      <th>640</th>\n",
       "      <td>taco-del-mar-seattle-7</td>\n",
       "      <td>1</td>\n",
       "      <td>0</td>\n",
       "      <td>0</td>\n",
       "      <td>0</td>\n",
       "      <td>0</td>\n",
       "      <td>0</td>\n",
       "      <td>0</td>\n",
       "      <td>0</td>\n",
       "      <td>0</td>\n",
       "      <td>...</td>\n",
       "      <td>0</td>\n",
       "      <td>0</td>\n",
       "      <td>0</td>\n",
       "      <td>0</td>\n",
       "      <td>0</td>\n",
       "      <td>0</td>\n",
       "      <td>1</td>\n",
       "      <td>0</td>\n",
       "      <td>0</td>\n",
       "      <td>0</td>\n",
       "    </tr>\n",
       "    <tr>\n",
       "      <th>641</th>\n",
       "      <td>kidd-valley-seattle-7</td>\n",
       "      <td>0</td>\n",
       "      <td>1</td>\n",
       "      <td>1</td>\n",
       "      <td>0</td>\n",
       "      <td>0</td>\n",
       "      <td>0</td>\n",
       "      <td>0</td>\n",
       "      <td>0</td>\n",
       "      <td>0</td>\n",
       "      <td>...</td>\n",
       "      <td>0</td>\n",
       "      <td>0</td>\n",
       "      <td>0</td>\n",
       "      <td>0</td>\n",
       "      <td>0</td>\n",
       "      <td>0</td>\n",
       "      <td>0</td>\n",
       "      <td>1</td>\n",
       "      <td>0</td>\n",
       "      <td>0</td>\n",
       "    </tr>\n",
       "    <tr>\n",
       "      <th>642</th>\n",
       "      <td>tummy-yummy-thai-seattle</td>\n",
       "      <td>0</td>\n",
       "      <td>0</td>\n",
       "      <td>0</td>\n",
       "      <td>0</td>\n",
       "      <td>0</td>\n",
       "      <td>0</td>\n",
       "      <td>0</td>\n",
       "      <td>0</td>\n",
       "      <td>0</td>\n",
       "      <td>...</td>\n",
       "      <td>0</td>\n",
       "      <td>0</td>\n",
       "      <td>0</td>\n",
       "      <td>0</td>\n",
       "      <td>0</td>\n",
       "      <td>0</td>\n",
       "      <td>1</td>\n",
       "      <td>0</td>\n",
       "      <td>0</td>\n",
       "      <td>0</td>\n",
       "    </tr>\n",
       "    <tr>\n",
       "      <th>643</th>\n",
       "      <td>mediterranean-cuisine-seattle</td>\n",
       "      <td>0</td>\n",
       "      <td>0</td>\n",
       "      <td>0</td>\n",
       "      <td>0</td>\n",
       "      <td>0</td>\n",
       "      <td>0</td>\n",
       "      <td>0</td>\n",
       "      <td>0</td>\n",
       "      <td>0</td>\n",
       "      <td>...</td>\n",
       "      <td>0</td>\n",
       "      <td>0</td>\n",
       "      <td>0</td>\n",
       "      <td>0</td>\n",
       "      <td>0</td>\n",
       "      <td>0</td>\n",
       "      <td>0</td>\n",
       "      <td>1</td>\n",
       "      <td>0</td>\n",
       "      <td>0</td>\n",
       "    </tr>\n",
       "    <tr>\n",
       "      <th>644</th>\n",
       "      <td>cocina-buena-food-truck-seattle</td>\n",
       "      <td>0</td>\n",
       "      <td>0</td>\n",
       "      <td>0</td>\n",
       "      <td>0</td>\n",
       "      <td>0</td>\n",
       "      <td>0</td>\n",
       "      <td>0</td>\n",
       "      <td>0</td>\n",
       "      <td>0</td>\n",
       "      <td>...</td>\n",
       "      <td>0</td>\n",
       "      <td>0</td>\n",
       "      <td>0</td>\n",
       "      <td>0</td>\n",
       "      <td>0</td>\n",
       "      <td>0</td>\n",
       "      <td>0</td>\n",
       "      <td>1</td>\n",
       "      <td>0</td>\n",
       "      <td>0</td>\n",
       "    </tr>\n",
       "    <tr>\n",
       "      <th>645</th>\n",
       "      <td>ricenroll-seattle-2</td>\n",
       "      <td>1</td>\n",
       "      <td>0</td>\n",
       "      <td>0</td>\n",
       "      <td>0</td>\n",
       "      <td>0</td>\n",
       "      <td>0</td>\n",
       "      <td>0</td>\n",
       "      <td>0</td>\n",
       "      <td>0</td>\n",
       "      <td>...</td>\n",
       "      <td>0</td>\n",
       "      <td>0</td>\n",
       "      <td>0</td>\n",
       "      <td>0</td>\n",
       "      <td>0</td>\n",
       "      <td>0</td>\n",
       "      <td>1</td>\n",
       "      <td>0</td>\n",
       "      <td>0</td>\n",
       "      <td>0</td>\n",
       "    </tr>\n",
       "    <tr>\n",
       "      <th>646</th>\n",
       "      <td>subway-seattle-12</td>\n",
       "      <td>1</td>\n",
       "      <td>0</td>\n",
       "      <td>0</td>\n",
       "      <td>0</td>\n",
       "      <td>0</td>\n",
       "      <td>0</td>\n",
       "      <td>0</td>\n",
       "      <td>0</td>\n",
       "      <td>0</td>\n",
       "      <td>...</td>\n",
       "      <td>0</td>\n",
       "      <td>0</td>\n",
       "      <td>0</td>\n",
       "      <td>0</td>\n",
       "      <td>0</td>\n",
       "      <td>0</td>\n",
       "      <td>1</td>\n",
       "      <td>0</td>\n",
       "      <td>0</td>\n",
       "      <td>0</td>\n",
       "    </tr>\n",
       "    <tr>\n",
       "      <th>647</th>\n",
       "      <td>restaurant-specialty-services-seattle</td>\n",
       "      <td>0</td>\n",
       "      <td>0</td>\n",
       "      <td>0</td>\n",
       "      <td>0</td>\n",
       "      <td>0</td>\n",
       "      <td>0</td>\n",
       "      <td>0</td>\n",
       "      <td>0</td>\n",
       "      <td>0</td>\n",
       "      <td>...</td>\n",
       "      <td>0</td>\n",
       "      <td>0</td>\n",
       "      <td>0</td>\n",
       "      <td>0</td>\n",
       "      <td>0</td>\n",
       "      <td>0</td>\n",
       "      <td>0</td>\n",
       "      <td>1</td>\n",
       "      <td>0</td>\n",
       "      <td>0</td>\n",
       "    </tr>\n",
       "    <tr>\n",
       "      <th>648</th>\n",
       "      <td>union-deli-la-puget-sound-plaza-building-seattle</td>\n",
       "      <td>0</td>\n",
       "      <td>0</td>\n",
       "      <td>0</td>\n",
       "      <td>0</td>\n",
       "      <td>0</td>\n",
       "      <td>0</td>\n",
       "      <td>0</td>\n",
       "      <td>0</td>\n",
       "      <td>0</td>\n",
       "      <td>...</td>\n",
       "      <td>0</td>\n",
       "      <td>0</td>\n",
       "      <td>0</td>\n",
       "      <td>0</td>\n",
       "      <td>0</td>\n",
       "      <td>0</td>\n",
       "      <td>1</td>\n",
       "      <td>0</td>\n",
       "      <td>0</td>\n",
       "      <td>0</td>\n",
       "    </tr>\n",
       "    <tr>\n",
       "      <th>649</th>\n",
       "      <td>measure-seattle</td>\n",
       "      <td>0</td>\n",
       "      <td>0</td>\n",
       "      <td>0</td>\n",
       "      <td>1</td>\n",
       "      <td>0</td>\n",
       "      <td>0</td>\n",
       "      <td>0</td>\n",
       "      <td>0</td>\n",
       "      <td>0</td>\n",
       "      <td>...</td>\n",
       "      <td>0</td>\n",
       "      <td>0</td>\n",
       "      <td>0</td>\n",
       "      <td>0</td>\n",
       "      <td>0</td>\n",
       "      <td>0</td>\n",
       "      <td>0</td>\n",
       "      <td>0</td>\n",
       "      <td>1</td>\n",
       "      <td>0</td>\n",
       "    </tr>\n",
       "    <tr>\n",
       "      <th>650</th>\n",
       "      <td>subway-seattle-3</td>\n",
       "      <td>1</td>\n",
       "      <td>0</td>\n",
       "      <td>0</td>\n",
       "      <td>0</td>\n",
       "      <td>0</td>\n",
       "      <td>0</td>\n",
       "      <td>0</td>\n",
       "      <td>0</td>\n",
       "      <td>0</td>\n",
       "      <td>...</td>\n",
       "      <td>0</td>\n",
       "      <td>0</td>\n",
       "      <td>0</td>\n",
       "      <td>0</td>\n",
       "      <td>0</td>\n",
       "      <td>0</td>\n",
       "      <td>1</td>\n",
       "      <td>0</td>\n",
       "      <td>0</td>\n",
       "      <td>0</td>\n",
       "    </tr>\n",
       "    <tr>\n",
       "      <th>651</th>\n",
       "      <td>u-bank-cafe-seattle</td>\n",
       "      <td>0</td>\n",
       "      <td>0</td>\n",
       "      <td>0</td>\n",
       "      <td>0</td>\n",
       "      <td>0</td>\n",
       "      <td>0</td>\n",
       "      <td>0</td>\n",
       "      <td>0</td>\n",
       "      <td>0</td>\n",
       "      <td>...</td>\n",
       "      <td>0</td>\n",
       "      <td>0</td>\n",
       "      <td>0</td>\n",
       "      <td>0</td>\n",
       "      <td>0</td>\n",
       "      <td>0</td>\n",
       "      <td>0</td>\n",
       "      <td>1</td>\n",
       "      <td>0</td>\n",
       "      <td>0</td>\n",
       "    </tr>\n",
       "    <tr>\n",
       "      <th>652</th>\n",
       "      <td>subway-seattle-31</td>\n",
       "      <td>1</td>\n",
       "      <td>0</td>\n",
       "      <td>0</td>\n",
       "      <td>0</td>\n",
       "      <td>0</td>\n",
       "      <td>0</td>\n",
       "      <td>0</td>\n",
       "      <td>0</td>\n",
       "      <td>0</td>\n",
       "      <td>...</td>\n",
       "      <td>0</td>\n",
       "      <td>0</td>\n",
       "      <td>0</td>\n",
       "      <td>0</td>\n",
       "      <td>0</td>\n",
       "      <td>0</td>\n",
       "      <td>0</td>\n",
       "      <td>1</td>\n",
       "      <td>0</td>\n",
       "      <td>0</td>\n",
       "    </tr>\n",
       "    <tr>\n",
       "      <th>653</th>\n",
       "      <td>hamburg-frites-seattle</td>\n",
       "      <td>0</td>\n",
       "      <td>0</td>\n",
       "      <td>1</td>\n",
       "      <td>0</td>\n",
       "      <td>0</td>\n",
       "      <td>0</td>\n",
       "      <td>0</td>\n",
       "      <td>0</td>\n",
       "      <td>0</td>\n",
       "      <td>...</td>\n",
       "      <td>0</td>\n",
       "      <td>0</td>\n",
       "      <td>0</td>\n",
       "      <td>0</td>\n",
       "      <td>0</td>\n",
       "      <td>0</td>\n",
       "      <td>0</td>\n",
       "      <td>1</td>\n",
       "      <td>0</td>\n",
       "      <td>0</td>\n",
       "    </tr>\n",
       "    <tr>\n",
       "      <th>654</th>\n",
       "      <td>subway-seattle-66</td>\n",
       "      <td>1</td>\n",
       "      <td>0</td>\n",
       "      <td>0</td>\n",
       "      <td>0</td>\n",
       "      <td>0</td>\n",
       "      <td>0</td>\n",
       "      <td>0</td>\n",
       "      <td>0</td>\n",
       "      <td>0</td>\n",
       "      <td>...</td>\n",
       "      <td>0</td>\n",
       "      <td>0</td>\n",
       "      <td>0</td>\n",
       "      <td>0</td>\n",
       "      <td>0</td>\n",
       "      <td>0</td>\n",
       "      <td>1</td>\n",
       "      <td>0</td>\n",
       "      <td>0</td>\n",
       "      <td>0</td>\n",
       "    </tr>\n",
       "    <tr>\n",
       "      <th>655</th>\n",
       "      <td>organic-to-go-seattle-4</td>\n",
       "      <td>0</td>\n",
       "      <td>0</td>\n",
       "      <td>0</td>\n",
       "      <td>0</td>\n",
       "      <td>0</td>\n",
       "      <td>0</td>\n",
       "      <td>0</td>\n",
       "      <td>0</td>\n",
       "      <td>0</td>\n",
       "      <td>...</td>\n",
       "      <td>0</td>\n",
       "      <td>0</td>\n",
       "      <td>0</td>\n",
       "      <td>0</td>\n",
       "      <td>0</td>\n",
       "      <td>0</td>\n",
       "      <td>1</td>\n",
       "      <td>0</td>\n",
       "      <td>0</td>\n",
       "      <td>0</td>\n",
       "    </tr>\n",
       "    <tr>\n",
       "      <th>656</th>\n",
       "      <td>chez-dave-seattle-2</td>\n",
       "      <td>0</td>\n",
       "      <td>0</td>\n",
       "      <td>0</td>\n",
       "      <td>0</td>\n",
       "      <td>0</td>\n",
       "      <td>0</td>\n",
       "      <td>0</td>\n",
       "      <td>0</td>\n",
       "      <td>0</td>\n",
       "      <td>...</td>\n",
       "      <td>0</td>\n",
       "      <td>0</td>\n",
       "      <td>0</td>\n",
       "      <td>0</td>\n",
       "      <td>0</td>\n",
       "      <td>0</td>\n",
       "      <td>1</td>\n",
       "      <td>0</td>\n",
       "      <td>0</td>\n",
       "      <td>0</td>\n",
       "    </tr>\n",
       "  </tbody>\n",
       "</table>\n",
       "<p>657 rows × 170 columns</p>\n",
       "</div>"
      ],
      "text/plain": [
       "                                                 alias  category_hotdogs  \\\n",
       "0                                  amazon-go-seattle-5                 0   \n",
       "1                              the-pink-door-seattle-4                 0   \n",
       "2                                      nirmals-seattle                 0   \n",
       "3                                   bad-bishop-seattle                 0   \n",
       "4                           pike-place-chowder-seattle                 0   \n",
       "5                              biscuit-bitch-seattle-5                 0   \n",
       "6                             damn-the-weather-seattle                 0   \n",
       "7                                  tsukushinbo-seattle                 0   \n",
       "8                taylor-shellfish-oyster-bar-seattle-2                 0   \n",
       "9                      elliotts-oyster-house-seattle-2                 0   \n",
       "10                 dough-zone-dumpling-house-seattle-2                 0   \n",
       "11                          the-london-plane-seattle-3                 0   \n",
       "12                         a-hong-kong-kitchen-seattle                 0   \n",
       "13                            radiator-whiskey-seattle                 0   \n",
       "14                         sizzling-pot-king-seattle-2                 0   \n",
       "15                                   one-pot-seattle-3                 0   \n",
       "16                             ummas-lunch-box-seattle                 0   \n",
       "17                                   dead-line-seattle                 0   \n",
       "18                           tats-delicatessen-seattle                 0   \n",
       "19                      harbor-city-restaurant-seattle                 0   \n",
       "20   shawn-o-donnells-american-grill-and-irish-pub-...                 0   \n",
       "21                   commissary-korean-kitchen-seattle                 0   \n",
       "22                                 king-noodle-seattle                 0   \n",
       "23                               bibimbap-king-seattle                 0   \n",
       "24                                  good-bar-seattle-3                 0   \n",
       "25                               casco-antiguo-seattle                 0   \n",
       "26                                   tofully-seattle-2                 0   \n",
       "27                            brgr-bar-seattle-seattle                 0   \n",
       "28                      japonessa-sushi-cocina-seattle                 0   \n",
       "29                          metropolitan-grill-seattle                 0   \n",
       "..                                                 ...               ...   \n",
       "627                            grid-iron-grill-seattle                 0   \n",
       "628                                  subway-seattle-91                 1   \n",
       "629                             jimmy-johns-seattle-12                 1   \n",
       "630                                   subway-seattle-6                 1   \n",
       "631                            coco-la-ti-da-seattle-2                 0   \n",
       "632                               market-fresh-seattle                 0   \n",
       "633                                  subway-seattle-37                 1   \n",
       "634                    blue-water-taco-grill-seattle-2                 0   \n",
       "635                                    kebab-seattle-2                 0   \n",
       "636                        espresso-caffe-dior-seattle                 0   \n",
       "637                             1st-floor-cafe-seattle                 0   \n",
       "638                             nachyo-average-seattle                 0   \n",
       "639             la-creperie-by-ethan-stowell-seattle-3                 0   \n",
       "640                             taco-del-mar-seattle-7                 1   \n",
       "641                              kidd-valley-seattle-7                 0   \n",
       "642                           tummy-yummy-thai-seattle                 0   \n",
       "643                      mediterranean-cuisine-seattle                 0   \n",
       "644                    cocina-buena-food-truck-seattle                 0   \n",
       "645                                ricenroll-seattle-2                 1   \n",
       "646                                  subway-seattle-12                 1   \n",
       "647              restaurant-specialty-services-seattle                 0   \n",
       "648   union-deli-la-puget-sound-plaza-building-seattle                 0   \n",
       "649                                    measure-seattle                 0   \n",
       "650                                   subway-seattle-3                 1   \n",
       "651                                u-bank-cafe-seattle                 0   \n",
       "652                                  subway-seattle-31                 1   \n",
       "653                             hamburg-frites-seattle                 0   \n",
       "654                                  subway-seattle-66                 1   \n",
       "655                            organic-to-go-seattle-4                 0   \n",
       "656                                chez-dave-seattle-2                 0   \n",
       "\n",
       "     category_tradamerican  category_burgers  category_newamerican  \\\n",
       "0                        0                 0                     0   \n",
       "1                        0                 0                     0   \n",
       "2                        0                 0                     0   \n",
       "3                        0                 0                     0   \n",
       "4                        0                 0                     0   \n",
       "5                        0                 0                     0   \n",
       "6                        0                 0                     1   \n",
       "7                        0                 0                     0   \n",
       "8                        0                 0                     0   \n",
       "9                        0                 0                     0   \n",
       "10                       0                 0                     0   \n",
       "11                       0                 0                     0   \n",
       "12                       0                 0                     0   \n",
       "13                       0                 0                     1   \n",
       "14                       0                 0                     0   \n",
       "15                       0                 0                     0   \n",
       "16                       0                 0                     0   \n",
       "17                       0                 0                     0   \n",
       "18                       0                 0                     0   \n",
       "19                       0                 0                     0   \n",
       "20                       1                 0                     0   \n",
       "21                       0                 0                     0   \n",
       "22                       0                 0                     0   \n",
       "23                       0                 0                     0   \n",
       "24                       0                 0                     1   \n",
       "25                       0                 0                     0   \n",
       "26                       0                 0                     0   \n",
       "27                       1                 1                     0   \n",
       "28                       0                 0                     0   \n",
       "29                       1                 0                     0   \n",
       "..                     ...               ...                   ...   \n",
       "627                      0                 1                     0   \n",
       "628                      0                 0                     0   \n",
       "629                      0                 0                     0   \n",
       "630                      0                 0                     0   \n",
       "631                      0                 0                     0   \n",
       "632                      0                 0                     0   \n",
       "633                      0                 0                     0   \n",
       "634                      0                 0                     0   \n",
       "635                      0                 0                     0   \n",
       "636                      0                 0                     0   \n",
       "637                      0                 0                     0   \n",
       "638                      0                 0                     0   \n",
       "639                      0                 0                     0   \n",
       "640                      0                 0                     0   \n",
       "641                      1                 1                     0   \n",
       "642                      0                 0                     0   \n",
       "643                      0                 0                     0   \n",
       "644                      0                 0                     0   \n",
       "645                      0                 0                     0   \n",
       "646                      0                 0                     0   \n",
       "647                      0                 0                     0   \n",
       "648                      0                 0                     0   \n",
       "649                      0                 0                     1   \n",
       "650                      0                 0                     0   \n",
       "651                      0                 0                     0   \n",
       "652                      0                 0                     0   \n",
       "653                      0                 1                     0   \n",
       "654                      0                 0                     0   \n",
       "655                      0                 0                     0   \n",
       "656                      0                 0                     0   \n",
       "\n",
       "     category_breakfast_brunch  category_asianfusion  category_cocktailbars  \\\n",
       "0                            0                     0                      0   \n",
       "1                            0                     0                      0   \n",
       "2                            0                     0                      0   \n",
       "3                            0                     0                      1   \n",
       "4                            0                     0                      0   \n",
       "5                            1                     0                      0   \n",
       "6                            0                     0                      1   \n",
       "7                            0                     0                      0   \n",
       "8                            0                     0                      0   \n",
       "9                            0                     0                      0   \n",
       "10                           0                     0                      0   \n",
       "11                           0                     0                      0   \n",
       "12                           0                     0                      0   \n",
       "13                           0                     0                      1   \n",
       "14                           0                     0                      0   \n",
       "15                           0                     0                      0   \n",
       "16                           0                     0                      0   \n",
       "17                           0                     0                      1   \n",
       "18                           0                     0                      0   \n",
       "19                           0                     0                      0   \n",
       "20                           0                     0                      0   \n",
       "21                           0                     0                      0   \n",
       "22                           0                     0                      0   \n",
       "23                           0                     0                      0   \n",
       "24                           0                     0                      1   \n",
       "25                           0                     0                      0   \n",
       "26                           0                     0                      0   \n",
       "27                           0                     0                      0   \n",
       "28                           0                     0                      0   \n",
       "29                           0                     0                      0   \n",
       "..                         ...                   ...                    ...   \n",
       "627                          0                     0                      0   \n",
       "628                          0                     0                      0   \n",
       "629                          0                     0                      0   \n",
       "630                          0                     0                      0   \n",
       "631                          0                     0                      0   \n",
       "632                          1                     0                      0   \n",
       "633                          0                     0                      0   \n",
       "634                          0                     0                      0   \n",
       "635                          0                     0                      0   \n",
       "636                          1                     0                      0   \n",
       "637                          0                     0                      0   \n",
       "638                          0                     0                      0   \n",
       "639                          0                     0                      0   \n",
       "640                          0                     0                      0   \n",
       "641                          0                     0                      0   \n",
       "642                          0                     0                      0   \n",
       "643                          0                     0                      0   \n",
       "644                          0                     0                      0   \n",
       "645                          0                     0                      0   \n",
       "646                          0                     0                      0   \n",
       "647                          0                     0                      0   \n",
       "648                          0                     0                      0   \n",
       "649                          0                     0                      0   \n",
       "650                          0                     0                      0   \n",
       "651                          0                     0                      0   \n",
       "652                          0                     0                      0   \n",
       "653                          0                     0                      0   \n",
       "654                          0                     0                      0   \n",
       "655                          0                     0                      0   \n",
       "656                          0                     0                      0   \n",
       "\n",
       "     category_chinese  category_malaysian  ...   category_egyptian  \\\n",
       "0                   0                   0  ...                   0   \n",
       "1                   0                   0  ...                   0   \n",
       "2                   0                   0  ...                   0   \n",
       "3                   0                   0  ...                   0   \n",
       "4                   0                   0  ...                   0   \n",
       "5                   0                   0  ...                   0   \n",
       "6                   0                   0  ...                   0   \n",
       "7                   0                   0  ...                   0   \n",
       "8                   0                   0  ...                   0   \n",
       "9                   0                   0  ...                   0   \n",
       "10                  0                   0  ...                   0   \n",
       "11                  0                   0  ...                   0   \n",
       "12                  0                   0  ...                   0   \n",
       "13                  0                   0  ...                   0   \n",
       "14                  1                   0  ...                   0   \n",
       "15                  0                   0  ...                   0   \n",
       "16                  0                   0  ...                   0   \n",
       "17                  0                   0  ...                   0   \n",
       "18                  0                   0  ...                   0   \n",
       "19                  0                   0  ...                   0   \n",
       "20                  0                   0  ...                   0   \n",
       "21                  0                   0  ...                   0   \n",
       "22                  1                   0  ...                   0   \n",
       "23                  0                   0  ...                   0   \n",
       "24                  0                   0  ...                   0   \n",
       "25                  0                   0  ...                   0   \n",
       "26                  0                   0  ...                   0   \n",
       "27                  0                   0  ...                   0   \n",
       "28                  0                   0  ...                   0   \n",
       "29                  0                   0  ...                   0   \n",
       "..                ...                 ...  ...                 ...   \n",
       "627                 0                   0  ...                   0   \n",
       "628                 0                   0  ...                   0   \n",
       "629                 0                   0  ...                   0   \n",
       "630                 0                   0  ...                   0   \n",
       "631                 0                   0  ...                   0   \n",
       "632                 0                   0  ...                   0   \n",
       "633                 0                   0  ...                   0   \n",
       "634                 0                   0  ...                   0   \n",
       "635                 0                   0  ...                   0   \n",
       "636                 0                   0  ...                   0   \n",
       "637                 0                   0  ...                   0   \n",
       "638                 0                   0  ...                   0   \n",
       "639                 0                   0  ...                   0   \n",
       "640                 0                   0  ...                   0   \n",
       "641                 0                   0  ...                   0   \n",
       "642                 0                   0  ...                   0   \n",
       "643                 0                   0  ...                   0   \n",
       "644                 0                   0  ...                   0   \n",
       "645                 0                   0  ...                   0   \n",
       "646                 0                   0  ...                   0   \n",
       "647                 0                   0  ...                   0   \n",
       "648                 0                   0  ...                   0   \n",
       "649                 0                   0  ...                   0   \n",
       "650                 0                   0  ...                   0   \n",
       "651                 0                   0  ...                   0   \n",
       "652                 0                   0  ...                   0   \n",
       "653                 0                   0  ...                   0   \n",
       "654                 0                   0  ...                   0   \n",
       "655                 0                   0  ...                   0   \n",
       "656                 0                   0  ...                   0   \n",
       "\n",
       "     category_shanghainese  category_cafeteria  category_seafoodmarkets  \\\n",
       "0                        0                   0                        0   \n",
       "1                        0                   0                        0   \n",
       "2                        0                   0                        0   \n",
       "3                        0                   0                        0   \n",
       "4                        0                   0                        0   \n",
       "5                        0                   0                        0   \n",
       "6                        0                   0                        0   \n",
       "7                        0                   0                        0   \n",
       "8                        0                   0                        0   \n",
       "9                        0                   0                        0   \n",
       "10                       1                   0                        0   \n",
       "11                       0                   0                        0   \n",
       "12                       0                   0                        0   \n",
       "13                       0                   0                        0   \n",
       "14                       0                   0                        0   \n",
       "15                       0                   0                        0   \n",
       "16                       0                   0                        0   \n",
       "17                       0                   0                        0   \n",
       "18                       0                   0                        0   \n",
       "19                       0                   0                        0   \n",
       "20                       0                   0                        0   \n",
       "21                       0                   0                        0   \n",
       "22                       0                   0                        0   \n",
       "23                       0                   0                        0   \n",
       "24                       0                   0                        0   \n",
       "25                       0                   0                        0   \n",
       "26                       0                   0                        0   \n",
       "27                       0                   0                        0   \n",
       "28                       0                   0                        0   \n",
       "29                       0                   0                        0   \n",
       "..                     ...                 ...                      ...   \n",
       "627                      0                   0                        0   \n",
       "628                      0                   0                        0   \n",
       "629                      0                   0                        0   \n",
       "630                      0                   0                        0   \n",
       "631                      0                   0                        0   \n",
       "632                      0                   0                        0   \n",
       "633                      0                   0                        0   \n",
       "634                      0                   0                        0   \n",
       "635                      0                   0                        0   \n",
       "636                      0                   0                        0   \n",
       "637                      0                   0                        0   \n",
       "638                      0                   0                        0   \n",
       "639                      0                   0                        0   \n",
       "640                      0                   0                        0   \n",
       "641                      0                   0                        0   \n",
       "642                      0                   0                        0   \n",
       "643                      0                   0                        0   \n",
       "644                      0                   0                        0   \n",
       "645                      0                   0                        0   \n",
       "646                      0                   0                        0   \n",
       "647                      0                   0                        0   \n",
       "648                      0                   0                        0   \n",
       "649                      0                   0                        0   \n",
       "650                      0                   0                        0   \n",
       "651                      0                   0                        0   \n",
       "652                      0                   0                        0   \n",
       "653                      0                   0                        0   \n",
       "654                      0                   0                        0   \n",
       "655                      0                   0                        0   \n",
       "656                      0                   0                        0   \n",
       "\n",
       "     category_gelato  category_panasian  $  $$  $$$  $$$$  \n",
       "0                  0                  0  0   1    0     0  \n",
       "1                  0                  0  0   1    0     0  \n",
       "2                  0                  0  0   1    0     0  \n",
       "3                  0                  0  0   1    0     0  \n",
       "4                  0                  0  0   1    0     0  \n",
       "5                  0                  0  1   0    0     0  \n",
       "6                  0                  0  0   1    0     0  \n",
       "7                  0                  0  0   1    0     0  \n",
       "8                  0                  0  0   1    0     0  \n",
       "9                  0                  0  0   0    1     0  \n",
       "10                 0                  0  0   1    0     0  \n",
       "11                 0                  0  0   1    0     0  \n",
       "12                 0                  0  1   0    0     0  \n",
       "13                 0                  0  0   1    0     0  \n",
       "14                 0                  0  0   1    0     0  \n",
       "15                 0                  0  0   1    0     0  \n",
       "16                 0                  0  1   0    0     0  \n",
       "17                 0                  0  0   1    0     0  \n",
       "18                 0                  0  0   1    0     0  \n",
       "19                 0                  0  0   1    0     0  \n",
       "20                 0                  0  0   1    0     0  \n",
       "21                 0                  0  0   1    0     0  \n",
       "22                 0                  0  1   0    0     0  \n",
       "23                 0                  0  1   0    0     0  \n",
       "24                 0                  0  0   1    0     0  \n",
       "25                 0                  0  0   1    0     0  \n",
       "26                 0                  0  0   1    0     0  \n",
       "27                 0                  0  0   1    0     0  \n",
       "28                 0                  0  0   1    0     0  \n",
       "29                 0                  0  0   0    0     1  \n",
       "..               ...                ... ..  ..  ...   ...  \n",
       "627                0                  0  0   1    0     0  \n",
       "628                0                  0  0   1    0     0  \n",
       "629                0                  0  1   0    0     0  \n",
       "630                0                  0  1   0    0     0  \n",
       "631                0                  0  0   1    0     0  \n",
       "632                0                  0  1   0    0     0  \n",
       "633                0                  0  1   0    0     0  \n",
       "634                0                  0  1   0    0     0  \n",
       "635                0                  0  0   1    0     0  \n",
       "636                0                  0  1   0    0     0  \n",
       "637                0                  0  1   0    0     0  \n",
       "638                0                  0  0   1    0     0  \n",
       "639                0                  0  0   1    0     0  \n",
       "640                0                  0  1   0    0     0  \n",
       "641                0                  0  0   1    0     0  \n",
       "642                0                  0  1   0    0     0  \n",
       "643                0                  0  0   1    0     0  \n",
       "644                0                  0  0   1    0     0  \n",
       "645                0                  0  1   0    0     0  \n",
       "646                0                  0  1   0    0     0  \n",
       "647                0                  0  0   1    0     0  \n",
       "648                0                  0  1   0    0     0  \n",
       "649                0                  0  0   0    1     0  \n",
       "650                0                  0  1   0    0     0  \n",
       "651                0                  0  0   1    0     0  \n",
       "652                0                  0  0   1    0     0  \n",
       "653                0                  0  0   1    0     0  \n",
       "654                0                  0  1   0    0     0  \n",
       "655                0                  0  1   0    0     0  \n",
       "656                0                  0  1   0    0     0  \n",
       "\n",
       "[657 rows x 170 columns]"
      ]
     },
     "execution_count": 169,
     "metadata": {},
     "output_type": "execute_result"
    }
   ],
   "source": [
    "V.reset_index(drop=True, inplace=True)\n",
    "V"
   ]
  },
  {
   "cell_type": "code",
   "execution_count": null,
   "metadata": {
    "collapsed": true
   },
   "outputs": [],
   "source": [
    "for key, value in gabe_picture_ratings:\n",
    "    V.apply(lambda x: x*value if x==key)\n",
    "        "
   ]
  },
  {
   "cell_type": "code",
   "execution_count": 257,
   "metadata": {
    "collapsed": true
   },
   "outputs": [],
   "source": [
    "X = pd.DataFrame(data= [[1, 0, 0, 0, 1], [0, 1, 1, 1, 0], [1, 0, 0, 1, 1]], columns=['feature_a', 'feature_b', 'feature_c', 'feature_d', 'feature_e'], index=['panda_express', 'mcdonalds', 'taco_bell'])"
   ]
  },
  {
   "cell_type": "code",
   "execution_count": 258,
   "metadata": {},
   "outputs": [
    {
     "data": {
      "text/html": [
       "<div>\n",
       "<style scoped>\n",
       "    .dataframe tbody tr th:only-of-type {\n",
       "        vertical-align: middle;\n",
       "    }\n",
       "\n",
       "    .dataframe tbody tr th {\n",
       "        vertical-align: top;\n",
       "    }\n",
       "\n",
       "    .dataframe thead th {\n",
       "        text-align: right;\n",
       "    }\n",
       "</style>\n",
       "<table border=\"1\" class=\"dataframe\">\n",
       "  <thead>\n",
       "    <tr style=\"text-align: right;\">\n",
       "      <th></th>\n",
       "      <th>feature_a</th>\n",
       "      <th>feature_b</th>\n",
       "      <th>feature_c</th>\n",
       "      <th>feature_d</th>\n",
       "      <th>feature_e</th>\n",
       "    </tr>\n",
       "  </thead>\n",
       "  <tbody>\n",
       "    <tr>\n",
       "      <th>panda_express</th>\n",
       "      <td>1</td>\n",
       "      <td>0</td>\n",
       "      <td>0</td>\n",
       "      <td>0</td>\n",
       "      <td>1</td>\n",
       "    </tr>\n",
       "    <tr>\n",
       "      <th>mcdonalds</th>\n",
       "      <td>0</td>\n",
       "      <td>1</td>\n",
       "      <td>1</td>\n",
       "      <td>1</td>\n",
       "      <td>0</td>\n",
       "    </tr>\n",
       "    <tr>\n",
       "      <th>taco_bell</th>\n",
       "      <td>1</td>\n",
       "      <td>0</td>\n",
       "      <td>0</td>\n",
       "      <td>1</td>\n",
       "      <td>1</td>\n",
       "    </tr>\n",
       "  </tbody>\n",
       "</table>\n",
       "</div>"
      ],
      "text/plain": [
       "               feature_a  feature_b  feature_c  feature_d  feature_e\n",
       "panda_express          1          0          0          0          1\n",
       "mcdonalds              0          1          1          1          0\n",
       "taco_bell              1          0          0          1          1"
      ]
     },
     "execution_count": 258,
     "metadata": {},
     "output_type": "execute_result"
    }
   ],
   "source": [
    "X"
   ]
  },
  {
   "cell_type": "code",
   "execution_count": 247,
   "metadata": {
    "collapsed": true
   },
   "outputs": [],
   "source": [
    "ratings = {'panda_express': 8,\n",
    "          'mcdonalds': 3,\n",
    "          'taco_bell': 10}"
   ]
  },
  {
   "cell_type": "code",
   "execution_count": 227,
   "metadata": {
    "collapsed": true
   },
   "outputs": [],
   "source": [
    "index = X.index"
   ]
  },
  {
   "cell_type": "code",
   "execution_count": 238,
   "metadata": {
    "collapsed": true
   },
   "outputs": [],
   "source": [
    "for key, value in ratings.items():\n",
    "    X.loc[key] *= value\n"
   ]
  },
  {
   "cell_type": "code",
   "execution_count": 256,
   "metadata": {},
   "outputs": [
    {
     "data": {
      "text/html": [
       "<div>\n",
       "<style scoped>\n",
       "    .dataframe tbody tr th:only-of-type {\n",
       "        vertical-align: middle;\n",
       "    }\n",
       "\n",
       "    .dataframe tbody tr th {\n",
       "        vertical-align: top;\n",
       "    }\n",
       "\n",
       "    .dataframe thead th {\n",
       "        text-align: right;\n",
       "    }\n",
       "</style>\n",
       "<table border=\"1\" class=\"dataframe\">\n",
       "  <thead>\n",
       "    <tr style=\"text-align: right;\">\n",
       "      <th></th>\n",
       "      <th>feature_a</th>\n",
       "      <th>feature_b</th>\n",
       "      <th>feature_c</th>\n",
       "      <th>feature_d</th>\n",
       "      <th>feature_e</th>\n",
       "    </tr>\n",
       "  </thead>\n",
       "  <tbody>\n",
       "    <tr>\n",
       "      <th>panda_express</th>\n",
       "      <td>4096</td>\n",
       "      <td>0</td>\n",
       "      <td>0</td>\n",
       "      <td>0</td>\n",
       "      <td>4096</td>\n",
       "    </tr>\n",
       "    <tr>\n",
       "      <th>mcdonalds</th>\n",
       "      <td>0</td>\n",
       "      <td>81</td>\n",
       "      <td>81</td>\n",
       "      <td>81</td>\n",
       "      <td>0</td>\n",
       "    </tr>\n",
       "    <tr>\n",
       "      <th>taco_bell</th>\n",
       "      <td>10000</td>\n",
       "      <td>0</td>\n",
       "      <td>0</td>\n",
       "      <td>10000</td>\n",
       "      <td>10000</td>\n",
       "    </tr>\n",
       "  </tbody>\n",
       "</table>\n",
       "</div>"
      ],
      "text/plain": [
       "               feature_a  feature_b  feature_c  feature_d  feature_e\n",
       "panda_express       4096          0          0          0       4096\n",
       "mcdonalds              0         81         81         81          0\n",
       "taco_bell          10000          0          0      10000      10000"
      ]
     },
     "execution_count": 256,
     "metadata": {},
     "output_type": "execute_result"
    }
   ],
   "source": [
    "X"
   ]
  },
  {
   "cell_type": "code",
   "execution_count": null,
   "metadata": {
    "collapsed": true
   },
   "outputs": [],
   "source": []
  },
  {
   "cell_type": "code",
   "execution_count": null,
   "metadata": {
    "collapsed": true
   },
   "outputs": [],
   "source": []
  },
  {
   "cell_type": "code",
   "execution_count": 240,
   "metadata": {
    "collapsed": true
   },
   "outputs": [],
   "source": [
    "gabe_feature_ratings = X.mean()"
   ]
  },
  {
   "cell_type": "code",
   "execution_count": 241,
   "metadata": {},
   "outputs": [
    {
     "data": {
      "text/plain": [
       "feature_a    6.000000\n",
       "feature_b    1.000000\n",
       "feature_c    1.000000\n",
       "feature_d    4.333333\n",
       "feature_e    6.000000\n",
       "dtype: float64"
      ]
     },
     "execution_count": 241,
     "metadata": {},
     "output_type": "execute_result"
    }
   ],
   "source": [
    "gabe_feature_ratings"
   ]
  },
  {
   "cell_type": "code",
   "execution_count": 443,
   "metadata": {},
   "outputs": [
    {
     "data": {
      "text/plain": [
       "2.5276251480171834"
      ]
     },
     "execution_count": 443,
     "metadata": {},
     "output_type": "execute_result"
    }
   ],
   "source": [
    "gabe_feature_ratings.std()"
   ]
  },
  {
   "cell_type": "code",
   "execution_count": null,
   "metadata": {
    "collapsed": true
   },
   "outputs": [],
   "source": []
  },
  {
   "cell_type": "code",
   "execution_count": 277,
   "metadata": {
    "collapsed": true
   },
   "outputs": [],
   "source": [
    "def average_user_ratings(restaurant_matrix, user_ratings_dict):\n",
    "    ratings = restaurant_matrix.copy()\n",
    "    for key, value in user_ratings_dict.items():\n",
    "        ratings.loc[key] *= value\n",
    "    return ratings.mean()"
   ]
  },
  {
   "cell_type": "code",
   "execution_count": 278,
   "metadata": {
    "collapsed": true
   },
   "outputs": [],
   "source": [
    "test = update_restaurant_matrix(X, ratings).mean()\n"
   ]
  },
  {
   "cell_type": "code",
   "execution_count": 651,
   "metadata": {
    "collapsed": true
   },
   "outputs": [],
   "source": [
    "test['feature_b'] = 0"
   ]
  },
  {
   "cell_type": "code",
   "execution_count": null,
   "metadata": {
    "collapsed": true
   },
   "outputs": [],
   "source": []
  },
  {
   "cell_type": "code",
   "execution_count": 281,
   "metadata": {
    "collapsed": true
   },
   "outputs": [],
   "source": [
    "U = pd.DataFrame(data= [[0, 0, 0, 0, 0], [0, 0, 0, 0, 0], [0, 0, 0, 0, 0], [0, 0, 0, 0, 0]], columns=['feature_a', 'feature_b', 'feature_c', 'feature_d', 'feature_e'], index=['gabe', 'nicole', 'jordan', 'someone'])"
   ]
  },
  {
   "cell_type": "code",
   "execution_count": 275,
   "metadata": {
    "collapsed": true
   },
   "outputs": [],
   "source": [
    "U.loc['gabe'] = test"
   ]
  },
  {
   "cell_type": "code",
   "execution_count": 282,
   "metadata": {},
   "outputs": [
    {
     "data": {
      "text/html": [
       "<div>\n",
       "<style scoped>\n",
       "    .dataframe tbody tr th:only-of-type {\n",
       "        vertical-align: middle;\n",
       "    }\n",
       "\n",
       "    .dataframe tbody tr th {\n",
       "        vertical-align: top;\n",
       "    }\n",
       "\n",
       "    .dataframe thead th {\n",
       "        text-align: right;\n",
       "    }\n",
       "</style>\n",
       "<table border=\"1\" class=\"dataframe\">\n",
       "  <thead>\n",
       "    <tr style=\"text-align: right;\">\n",
       "      <th></th>\n",
       "      <th>feature_a</th>\n",
       "      <th>feature_b</th>\n",
       "      <th>feature_c</th>\n",
       "      <th>feature_d</th>\n",
       "      <th>feature_e</th>\n",
       "    </tr>\n",
       "  </thead>\n",
       "  <tbody>\n",
       "    <tr>\n",
       "      <th>gabe</th>\n",
       "      <td>0</td>\n",
       "      <td>0</td>\n",
       "      <td>0</td>\n",
       "      <td>0</td>\n",
       "      <td>0</td>\n",
       "    </tr>\n",
       "    <tr>\n",
       "      <th>nicole</th>\n",
       "      <td>0</td>\n",
       "      <td>0</td>\n",
       "      <td>0</td>\n",
       "      <td>0</td>\n",
       "      <td>0</td>\n",
       "    </tr>\n",
       "    <tr>\n",
       "      <th>jordan</th>\n",
       "      <td>0</td>\n",
       "      <td>0</td>\n",
       "      <td>0</td>\n",
       "      <td>0</td>\n",
       "      <td>0</td>\n",
       "    </tr>\n",
       "    <tr>\n",
       "      <th>someone</th>\n",
       "      <td>0</td>\n",
       "      <td>0</td>\n",
       "      <td>0</td>\n",
       "      <td>0</td>\n",
       "      <td>0</td>\n",
       "    </tr>\n",
       "  </tbody>\n",
       "</table>\n",
       "</div>"
      ],
      "text/plain": [
       "         feature_a  feature_b  feature_c  feature_d  feature_e\n",
       "gabe             0          0          0          0          0\n",
       "nicole           0          0          0          0          0\n",
       "jordan           0          0          0          0          0\n",
       "someone          0          0          0          0          0"
      ]
     },
     "execution_count": 282,
     "metadata": {},
     "output_type": "execute_result"
    }
   ],
   "source": [
    "U"
   ]
  },
  {
   "cell_type": "code",
   "execution_count": 280,
   "metadata": {
    "collapsed": true
   },
   "outputs": [],
   "source": [
    "def update_user_ratings(user, user_matrix, average_ratings, ):\n",
    "    user_matrix.loc[user] = average_ratings"
   ]
  },
  {
   "cell_type": "code",
   "execution_count": 649,
   "metadata": {},
   "outputs": [
    {
     "ename": "TypeError",
     "evalue": "update_user_ratings() missing 1 required positional argument: 'user_ratings_dict'",
     "output_type": "error",
     "traceback": [
      "\u001b[0;31m---------------------------------------------------------------------------\u001b[0m",
      "\u001b[0;31mTypeError\u001b[0m                                 Traceback (most recent call last)",
      "\u001b[0;32m<ipython-input-649-483673e210aa>\u001b[0m in \u001b[0;36m<module>\u001b[0;34m()\u001b[0m\n\u001b[0;32m----> 1\u001b[0;31m \u001b[0mupdate_user_ratings\u001b[0m\u001b[0;34m(\u001b[0m\u001b[0;34m'gabe'\u001b[0m\u001b[0;34m,\u001b[0m \u001b[0mU\u001b[0m\u001b[0;34m,\u001b[0m \u001b[0mtest\u001b[0m\u001b[0;34m)\u001b[0m\u001b[0;34m\u001b[0m\u001b[0m\n\u001b[0m",
      "\u001b[0;31mTypeError\u001b[0m: update_user_ratings() missing 1 required positional argument: 'user_ratings_dict'"
     ]
    }
   ],
   "source": [
    "update_user_ratings('gabe', U, test)"
   ]
  },
  {
   "cell_type": "code",
   "execution_count": 285,
   "metadata": {},
   "outputs": [
    {
     "data": {
      "text/html": [
       "<div>\n",
       "<style scoped>\n",
       "    .dataframe tbody tr th:only-of-type {\n",
       "        vertical-align: middle;\n",
       "    }\n",
       "\n",
       "    .dataframe tbody tr th {\n",
       "        vertical-align: top;\n",
       "    }\n",
       "\n",
       "    .dataframe thead th {\n",
       "        text-align: right;\n",
       "    }\n",
       "</style>\n",
       "<table border=\"1\" class=\"dataframe\">\n",
       "  <thead>\n",
       "    <tr style=\"text-align: right;\">\n",
       "      <th></th>\n",
       "      <th>feature_a</th>\n",
       "      <th>feature_b</th>\n",
       "      <th>feature_c</th>\n",
       "      <th>feature_d</th>\n",
       "      <th>feature_e</th>\n",
       "    </tr>\n",
       "  </thead>\n",
       "  <tbody>\n",
       "    <tr>\n",
       "      <th>gabe</th>\n",
       "      <td>6.0</td>\n",
       "      <td>1.0</td>\n",
       "      <td>1.0</td>\n",
       "      <td>4.333333</td>\n",
       "      <td>6.0</td>\n",
       "    </tr>\n",
       "    <tr>\n",
       "      <th>nicole</th>\n",
       "      <td>0.0</td>\n",
       "      <td>0.0</td>\n",
       "      <td>0.0</td>\n",
       "      <td>0.000000</td>\n",
       "      <td>0.0</td>\n",
       "    </tr>\n",
       "    <tr>\n",
       "      <th>jordan</th>\n",
       "      <td>0.0</td>\n",
       "      <td>0.0</td>\n",
       "      <td>0.0</td>\n",
       "      <td>0.000000</td>\n",
       "      <td>0.0</td>\n",
       "    </tr>\n",
       "    <tr>\n",
       "      <th>someone</th>\n",
       "      <td>0.0</td>\n",
       "      <td>0.0</td>\n",
       "      <td>0.0</td>\n",
       "      <td>0.000000</td>\n",
       "      <td>0.0</td>\n",
       "    </tr>\n",
       "  </tbody>\n",
       "</table>\n",
       "</div>"
      ],
      "text/plain": [
       "         feature_a  feature_b  feature_c  feature_d  feature_e\n",
       "gabe           6.0        1.0        1.0   4.333333        6.0\n",
       "nicole         0.0        0.0        0.0   0.000000        0.0\n",
       "jordan         0.0        0.0        0.0   0.000000        0.0\n",
       "someone        0.0        0.0        0.0   0.000000        0.0"
      ]
     },
     "execution_count": 285,
     "metadata": {},
     "output_type": "execute_result"
    }
   ],
   "source": [
    "U"
   ]
  },
  {
   "cell_type": "markdown",
   "metadata": {},
   "source": [
    "### User Data Rough Draft"
   ]
  },
  {
   "cell_type": "code",
   "execution_count": 454,
   "metadata": {
    "collapsed": true
   },
   "outputs": [],
   "source": [
    "from recommender import average_user_ratings, update_user_ratings, standardize_ratings, find_top_recs"
   ]
  },
  {
   "cell_type": "code",
   "execution_count": 455,
   "metadata": {
    "collapsed": true
   },
   "outputs": [],
   "source": [
    "gabe_picture_ratings = {'purple-café-and-wine-bar-seattle-3': 6,\n",
    " 'metropolitan-grill-seattle': 6,\n",
    " 'mod-pizza-seattle-7': 8,\n",
    " 'mikes-noodle-house-seattle': 4,\n",
    " 'specialtys-café-and-bakery-seattle-34': 7,\n",
    " 'tamarind-tree-seattle': 7,\n",
    " 'japonessa-sushi-cocina-seattle': 9,\n",
    " 'el-borracho-seattle': 8,\n",
    " 'chan-seattle-seattle-2': 8,\n",
    " 'vons-1000-spirits-seattle-4': 4,\n",
    " 'red-robin-gourmet-burgers-seattle-7': 7,\n",
    " 'the-pink-door-seattle-4': 3,\n",
    " 'harbor-city-restaurant-seattle': 8,\n",
    " 'harbor-city-restaurant-seattle': 8,\n",
    " 'chan-seattle-seattle-2': 8,\n",
    " 'wild-ginger-seattle': 8,\n",
    " 'zig-zag-cafe-seattle-2': 4,\n",
    " 'daawat-grill-seattle-2': 8,\n",
    " 'gopoké-seattle-5': 6,\n",
    " 'café-campagne-seattle-3': 7}"
   ]
  },
  {
   "cell_type": "code",
   "execution_count": null,
   "metadata": {
    "collapsed": true
   },
   "outputs": [],
   "source": []
  },
  {
   "cell_type": "code",
   "execution_count": 610,
   "metadata": {
    "collapsed": true
   },
   "outputs": [],
   "source": [
    "pics = list(nicole_picture_ratings.keys())"
   ]
  },
  {
   "cell_type": "code",
   "execution_count": 616,
   "metadata": {},
   "outputs": [
    {
     "data": {
      "text/plain": [
       "[['italian,wine_bars,seafood'],\n",
       " ['bbq,dimsum,cantonese'],\n",
       " ['japanese,sushi'],\n",
       " ['tradamerican,steak'],\n",
       " ['mexican'],\n",
       " ['french,breakfast_brunch,cafes'],\n",
       " ['pizza,hotdogs'],\n",
       " ['sandwiches,cafes,salad'],\n",
       " ['newamerican,pizza,venues'],\n",
       " ['vietnamese,noodles']]"
      ]
     },
     "execution_count": 616,
     "metadata": {},
     "output_type": "execute_result"
    }
   ],
   "source": [
    "total_cats = []\n",
    "for item in pics:\n",
    "    total_cats.append([cleaned_df.loc[item]['cats']])\n",
    "\n",
    "total_cats"
   ]
  },
  {
   "cell_type": "code",
   "execution_count": 456,
   "metadata": {
    "collapsed": true
   },
   "outputs": [],
   "source": [
    "nicole_picture_ratings = {'the-pink-door-seattle-4': 6,\n",
    "                          'harbor-city-restaurant-seattle': 9,\n",
    "                          'japonessa-sushi-cocina-seattle': 9,\n",
    "                          'metropolitan-grill-seattle': 5,\n",
    "                          'el-borracho-seattle': 10,\n",
    "                          'café-campagne-seattle-3': 7,\n",
    "                          'mod-pizza-seattle-7': 8,\n",
    "                          'specialtys-café-and-bakery-seattle-34': 9,\n",
    "                          'vons-1000-spirits-seattle-4': 5,\n",
    "                          'tamarind-tree-seattle': 7}"
   ]
  },
  {
   "cell_type": "code",
   "execution_count": 457,
   "metadata": {
    "collapsed": true
   },
   "outputs": [],
   "source": [
    "alex_picture_ratings = {'the-pink-door-seattle-4': 5,\n",
    "                          'harbor-city-restaurant-seattle': 6,\n",
    "                          'japonessa-sushi-cocina-seattle': 5,\n",
    "                          'metropolitan-grill-seattle': 4,\n",
    "                          'el-borracho-seattle': 4,\n",
    "                          'café-campagne-seattle-3': 5,\n",
    "                          'mod-pizza-seattle-7': 5,\n",
    "                          'specialtys-café-and-bakery-seattle-34': 7,\n",
    "                          'vons-1000-spirits-seattle-4': 2,\n",
    "                          'tamarind-tree-seattle': 5}"
   ]
  },
  {
   "cell_type": "code",
   "execution_count": 458,
   "metadata": {
    "collapsed": true
   },
   "outputs": [],
   "source": [
    "jordan_picture_ratings = {'the-pink-door-seattle-4': 4,\n",
    "                          'harbor-city-restaurant-seattle': 8,\n",
    "                          'japonessa-sushi-cocina-seattle': 9,\n",
    "                          'metropolitan-grill-seattle': 8,\n",
    "                          'el-borracho-seattle': 7,\n",
    "                          'café-campagne-seattle-3': 4,\n",
    "                          'mod-pizza-seattle-7': 8,\n",
    "                          'specialtys-café-and-bakery-seattle-34': 5,\n",
    "                          'vons-1000-spirits-seattle-4': 4,\n",
    "                          'tamarind-tree-seattle': 7}"
   ]
  },
  {
   "cell_type": "code",
   "execution_count": 459,
   "metadata": {
    "collapsed": true
   },
   "outputs": [],
   "source": [
    "grant_picture_ratings = {'the-pink-door-seattle-4': 7,\n",
    "                          'harbor-city-restaurant-seattle': 2,\n",
    "                          'japonessa-sushi-cocina-seattle': 9,\n",
    "                          'metropolitan-grill-seattle': 2,\n",
    "                          'el-borracho-seattle': 4,\n",
    "                          'café-campagne-seattle-3': 6,\n",
    "                          'mod-pizza-seattle-7': 8,\n",
    "                          'specialtys-café-and-bakery-seattle-34': 5,\n",
    "                          'vons-1000-spirits-seattle-4': 4,\n",
    "                          'tamarind-tree-seattle': 5}"
   ]
  },
  {
   "cell_type": "code",
   "execution_count": 460,
   "metadata": {
    "collapsed": true
   },
   "outputs": [],
   "source": [
    "jonny_picture_ratings = {'the-pink-door-seattle-4': 5,\n",
    "                          'harbor-city-restaurant-seattle': 8,\n",
    "                          'japonessa-sushi-cocina-seattle': 9,\n",
    "                          'metropolitan-grill-seattle': 6,\n",
    "                          'el-borracho-seattle': 7,\n",
    "                          'café-campagne-seattle-3': 7,\n",
    "                          'mod-pizza-seattle-7': 8,\n",
    "                          'specialtys-café-and-bakery-seattle-34': 8,\n",
    "                          'vons-1000-spirits-seattle-4': 4,\n",
    "                          'tamarind-tree-seattle': 6}"
   ]
  },
  {
   "cell_type": "code",
   "execution_count": 461,
   "metadata": {
    "collapsed": true
   },
   "outputs": [],
   "source": [
    "U = pd.DataFrame(columns=restaurant_matrix.columns, \n",
    "                 index=['gabe', 'nicole', 'jordan', 'alex', 'jonny', 'carlo', 'grant'])"
   ]
  },
  {
   "cell_type": "code",
   "execution_count": 464,
   "metadata": {},
   "outputs": [
    {
     "data": {
      "text/html": [
       "<div>\n",
       "<style scoped>\n",
       "    .dataframe tbody tr th:only-of-type {\n",
       "        vertical-align: middle;\n",
       "    }\n",
       "\n",
       "    .dataframe tbody tr th {\n",
       "        vertical-align: top;\n",
       "    }\n",
       "\n",
       "    .dataframe thead th {\n",
       "        text-align: right;\n",
       "    }\n",
       "</style>\n",
       "<table border=\"1\" class=\"dataframe\">\n",
       "  <thead>\n",
       "    <tr style=\"text-align: right;\">\n",
       "      <th></th>\n",
       "      <th>category_hotdogs</th>\n",
       "      <th>category_tradamerican</th>\n",
       "      <th>category_burgers</th>\n",
       "      <th>category_newamerican</th>\n",
       "      <th>category_breakfast_brunch</th>\n",
       "      <th>category_asianfusion</th>\n",
       "      <th>category_cocktailbars</th>\n",
       "      <th>category_chinese</th>\n",
       "      <th>category_malaysian</th>\n",
       "      <th>category_noodles</th>\n",
       "      <th>...</th>\n",
       "      <th>category_egyptian</th>\n",
       "      <th>category_shanghainese</th>\n",
       "      <th>category_cafeteria</th>\n",
       "      <th>category_seafoodmarkets</th>\n",
       "      <th>category_gelato</th>\n",
       "      <th>category_panasian</th>\n",
       "      <th>$</th>\n",
       "      <th>$$</th>\n",
       "      <th>$$$</th>\n",
       "      <th>$$$$</th>\n",
       "    </tr>\n",
       "  </thead>\n",
       "  <tbody>\n",
       "    <tr>\n",
       "      <th>gabe</th>\n",
       "      <td>NaN</td>\n",
       "      <td>NaN</td>\n",
       "      <td>NaN</td>\n",
       "      <td>NaN</td>\n",
       "      <td>NaN</td>\n",
       "      <td>NaN</td>\n",
       "      <td>NaN</td>\n",
       "      <td>NaN</td>\n",
       "      <td>NaN</td>\n",
       "      <td>NaN</td>\n",
       "      <td>...</td>\n",
       "      <td>NaN</td>\n",
       "      <td>NaN</td>\n",
       "      <td>NaN</td>\n",
       "      <td>NaN</td>\n",
       "      <td>NaN</td>\n",
       "      <td>NaN</td>\n",
       "      <td>NaN</td>\n",
       "      <td>NaN</td>\n",
       "      <td>NaN</td>\n",
       "      <td>NaN</td>\n",
       "    </tr>\n",
       "    <tr>\n",
       "      <th>nicole</th>\n",
       "      <td>NaN</td>\n",
       "      <td>NaN</td>\n",
       "      <td>NaN</td>\n",
       "      <td>NaN</td>\n",
       "      <td>NaN</td>\n",
       "      <td>NaN</td>\n",
       "      <td>NaN</td>\n",
       "      <td>NaN</td>\n",
       "      <td>NaN</td>\n",
       "      <td>NaN</td>\n",
       "      <td>...</td>\n",
       "      <td>NaN</td>\n",
       "      <td>NaN</td>\n",
       "      <td>NaN</td>\n",
       "      <td>NaN</td>\n",
       "      <td>NaN</td>\n",
       "      <td>NaN</td>\n",
       "      <td>NaN</td>\n",
       "      <td>NaN</td>\n",
       "      <td>NaN</td>\n",
       "      <td>NaN</td>\n",
       "    </tr>\n",
       "    <tr>\n",
       "      <th>jordan</th>\n",
       "      <td>NaN</td>\n",
       "      <td>NaN</td>\n",
       "      <td>NaN</td>\n",
       "      <td>NaN</td>\n",
       "      <td>NaN</td>\n",
       "      <td>NaN</td>\n",
       "      <td>NaN</td>\n",
       "      <td>NaN</td>\n",
       "      <td>NaN</td>\n",
       "      <td>NaN</td>\n",
       "      <td>...</td>\n",
       "      <td>NaN</td>\n",
       "      <td>NaN</td>\n",
       "      <td>NaN</td>\n",
       "      <td>NaN</td>\n",
       "      <td>NaN</td>\n",
       "      <td>NaN</td>\n",
       "      <td>NaN</td>\n",
       "      <td>NaN</td>\n",
       "      <td>NaN</td>\n",
       "      <td>NaN</td>\n",
       "    </tr>\n",
       "    <tr>\n",
       "      <th>alex</th>\n",
       "      <td>NaN</td>\n",
       "      <td>NaN</td>\n",
       "      <td>NaN</td>\n",
       "      <td>NaN</td>\n",
       "      <td>NaN</td>\n",
       "      <td>NaN</td>\n",
       "      <td>NaN</td>\n",
       "      <td>NaN</td>\n",
       "      <td>NaN</td>\n",
       "      <td>NaN</td>\n",
       "      <td>...</td>\n",
       "      <td>NaN</td>\n",
       "      <td>NaN</td>\n",
       "      <td>NaN</td>\n",
       "      <td>NaN</td>\n",
       "      <td>NaN</td>\n",
       "      <td>NaN</td>\n",
       "      <td>NaN</td>\n",
       "      <td>NaN</td>\n",
       "      <td>NaN</td>\n",
       "      <td>NaN</td>\n",
       "    </tr>\n",
       "    <tr>\n",
       "      <th>jonny</th>\n",
       "      <td>NaN</td>\n",
       "      <td>NaN</td>\n",
       "      <td>NaN</td>\n",
       "      <td>NaN</td>\n",
       "      <td>NaN</td>\n",
       "      <td>NaN</td>\n",
       "      <td>NaN</td>\n",
       "      <td>NaN</td>\n",
       "      <td>NaN</td>\n",
       "      <td>NaN</td>\n",
       "      <td>...</td>\n",
       "      <td>NaN</td>\n",
       "      <td>NaN</td>\n",
       "      <td>NaN</td>\n",
       "      <td>NaN</td>\n",
       "      <td>NaN</td>\n",
       "      <td>NaN</td>\n",
       "      <td>NaN</td>\n",
       "      <td>NaN</td>\n",
       "      <td>NaN</td>\n",
       "      <td>NaN</td>\n",
       "    </tr>\n",
       "  </tbody>\n",
       "</table>\n",
       "<p>5 rows × 169 columns</p>\n",
       "</div>"
      ],
      "text/plain": [
       "       category_hotdogs category_tradamerican category_burgers  \\\n",
       "gabe                NaN                   NaN              NaN   \n",
       "nicole              NaN                   NaN              NaN   \n",
       "jordan              NaN                   NaN              NaN   \n",
       "alex                NaN                   NaN              NaN   \n",
       "jonny               NaN                   NaN              NaN   \n",
       "\n",
       "       category_newamerican category_breakfast_brunch category_asianfusion  \\\n",
       "gabe                    NaN                       NaN                  NaN   \n",
       "nicole                  NaN                       NaN                  NaN   \n",
       "jordan                  NaN                       NaN                  NaN   \n",
       "alex                    NaN                       NaN                  NaN   \n",
       "jonny                   NaN                       NaN                  NaN   \n",
       "\n",
       "       category_cocktailbars category_chinese category_malaysian  \\\n",
       "gabe                     NaN              NaN                NaN   \n",
       "nicole                   NaN              NaN                NaN   \n",
       "jordan                   NaN              NaN                NaN   \n",
       "alex                     NaN              NaN                NaN   \n",
       "jonny                    NaN              NaN                NaN   \n",
       "\n",
       "       category_noodles ...  category_egyptian category_shanghainese  \\\n",
       "gabe                NaN ...                NaN                   NaN   \n",
       "nicole              NaN ...                NaN                   NaN   \n",
       "jordan              NaN ...                NaN                   NaN   \n",
       "alex                NaN ...                NaN                   NaN   \n",
       "jonny               NaN ...                NaN                   NaN   \n",
       "\n",
       "       category_cafeteria category_seafoodmarkets category_gelato  \\\n",
       "gabe                  NaN                     NaN             NaN   \n",
       "nicole                NaN                     NaN             NaN   \n",
       "jordan                NaN                     NaN             NaN   \n",
       "alex                  NaN                     NaN             NaN   \n",
       "jonny                 NaN                     NaN             NaN   \n",
       "\n",
       "       category_panasian    $   $$  $$$ $$$$  \n",
       "gabe                 NaN  NaN  NaN  NaN  NaN  \n",
       "nicole               NaN  NaN  NaN  NaN  NaN  \n",
       "jordan               NaN  NaN  NaN  NaN  NaN  \n",
       "alex                 NaN  NaN  NaN  NaN  NaN  \n",
       "jonny                NaN  NaN  NaN  NaN  NaN  \n",
       "\n",
       "[5 rows x 169 columns]"
      ]
     },
     "execution_count": 464,
     "metadata": {},
     "output_type": "execute_result"
    }
   ],
   "source": [
    "U.head()"
   ]
  },
  {
   "cell_type": "code",
   "execution_count": 480,
   "metadata": {
    "collapsed": true
   },
   "outputs": [],
   "source": [
    "update_user_ratings(user='gabe', user_matrix=U, restaurant_matrix=V, user_ratings_dict=gabe_picture_ratings)"
   ]
  },
  {
   "cell_type": "code",
   "execution_count": 481,
   "metadata": {
    "collapsed": true
   },
   "outputs": [],
   "source": [
    "#U.loc['gabe'].sort_values(ascending=False)"
   ]
  },
  {
   "cell_type": "code",
   "execution_count": 482,
   "metadata": {
    "collapsed": true
   },
   "outputs": [],
   "source": [
    "update_user_ratings(user='nicole', user_matrix=U, restaurant_matrix=V, user_ratings_dict=nicole_picture_ratings)"
   ]
  },
  {
   "cell_type": "code",
   "execution_count": 483,
   "metadata": {
    "collapsed": true
   },
   "outputs": [],
   "source": [
    "update_user_ratings(user='jordan', user_matrix=U, restaurant_matrix=V, user_ratings_dict=jordan_picture_ratings)"
   ]
  },
  {
   "cell_type": "code",
   "execution_count": 484,
   "metadata": {
    "collapsed": true
   },
   "outputs": [],
   "source": [
    "update_user_ratings(user='alex', user_matrix=U, restaurant_matrix=V, user_ratings_dict=alex_picture_ratings)"
   ]
  },
  {
   "cell_type": "code",
   "execution_count": 485,
   "metadata": {
    "collapsed": true
   },
   "outputs": [],
   "source": [
    "update_user_ratings(user='grant', user_matrix=U, restaurant_matrix=V, user_ratings_dict=grant_picture_ratings)"
   ]
  },
  {
   "cell_type": "code",
   "execution_count": 486,
   "metadata": {
    "collapsed": true
   },
   "outputs": [],
   "source": [
    "update_user_ratings(user='jonny', user_matrix=U, restaurant_matrix=V, user_ratings_dict=jonny_picture_ratings)"
   ]
  },
  {
   "cell_type": "code",
   "execution_count": 487,
   "metadata": {
    "collapsed": true
   },
   "outputs": [],
   "source": [
    "U.drop(index='carlo', inplace=True)"
   ]
  },
  {
   "cell_type": "code",
   "execution_count": 488,
   "metadata": {},
   "outputs": [
    {
     "data": {
      "text/plain": [
       "(6, 169)"
      ]
     },
     "execution_count": 488,
     "metadata": {},
     "output_type": "execute_result"
    }
   ],
   "source": [
    "U.shape"
   ]
  },
  {
   "cell_type": "code",
   "execution_count": 490,
   "metadata": {
    "collapsed": true
   },
   "outputs": [],
   "source": [
    "V.set_index(keys=['alias'], inplace=True)"
   ]
  },
  {
   "cell_type": "code",
   "execution_count": 492,
   "metadata": {},
   "outputs": [
    {
     "data": {
      "text/html": [
       "<div>\n",
       "<style scoped>\n",
       "    .dataframe tbody tr th:only-of-type {\n",
       "        vertical-align: middle;\n",
       "    }\n",
       "\n",
       "    .dataframe tbody tr th {\n",
       "        vertical-align: top;\n",
       "    }\n",
       "\n",
       "    .dataframe thead th {\n",
       "        text-align: right;\n",
       "    }\n",
       "</style>\n",
       "<table border=\"1\" class=\"dataframe\">\n",
       "  <thead>\n",
       "    <tr style=\"text-align: right;\">\n",
       "      <th></th>\n",
       "      <th>category_hotdogs</th>\n",
       "      <th>category_tradamerican</th>\n",
       "      <th>category_burgers</th>\n",
       "      <th>category_newamerican</th>\n",
       "      <th>category_breakfast_brunch</th>\n",
       "      <th>category_asianfusion</th>\n",
       "      <th>category_cocktailbars</th>\n",
       "      <th>category_chinese</th>\n",
       "      <th>category_malaysian</th>\n",
       "      <th>category_noodles</th>\n",
       "      <th>...</th>\n",
       "      <th>category_egyptian</th>\n",
       "      <th>category_shanghainese</th>\n",
       "      <th>category_cafeteria</th>\n",
       "      <th>category_seafoodmarkets</th>\n",
       "      <th>category_gelato</th>\n",
       "      <th>category_panasian</th>\n",
       "      <th>$</th>\n",
       "      <th>$$</th>\n",
       "      <th>$$$</th>\n",
       "      <th>$$$$</th>\n",
       "    </tr>\n",
       "  </thead>\n",
       "  <tbody>\n",
       "    <tr>\n",
       "      <th>gabe</th>\n",
       "      <td>0.91371</td>\n",
       "      <td>1.15095</td>\n",
       "      <td>0.296896</td>\n",
       "      <td>1.36446</td>\n",
       "      <td>1.22212</td>\n",
       "      <td>0.439238</td>\n",
       "      <td>0.32062</td>\n",
       "      <td>0.605303</td>\n",
       "      <td>-0.343641</td>\n",
       "      <td>0.58158</td>\n",
       "      <td>...</td>\n",
       "      <td>-0.343641</td>\n",
       "      <td>-0.272471</td>\n",
       "      <td>-0.296194</td>\n",
       "      <td>-0.319918</td>\n",
       "      <td>-0.319918</td>\n",
       "      <td>-0.130129</td>\n",
       "      <td>6.82089</td>\n",
       "      <td>9.62028</td>\n",
       "      <td>0.32062</td>\n",
       "      <td>-0.177576</td>\n",
       "    </tr>\n",
       "    <tr>\n",
       "      <th>nicole</th>\n",
       "      <td>0.972103</td>\n",
       "      <td>1.04629</td>\n",
       "      <td>0.180724</td>\n",
       "      <td>1.26887</td>\n",
       "      <td>1.2936</td>\n",
       "      <td>0.304377</td>\n",
       "      <td>0.279646</td>\n",
       "      <td>0.576413</td>\n",
       "      <td>-0.338619</td>\n",
       "      <td>0.551683</td>\n",
       "      <td>...</td>\n",
       "      <td>-0.338619</td>\n",
       "      <td>-0.264427</td>\n",
       "      <td>-0.289158</td>\n",
       "      <td>-0.313888</td>\n",
       "      <td>-0.313888</td>\n",
       "      <td>-0.289158</td>\n",
       "      <td>7.10529</td>\n",
       "      <td>9.35578</td>\n",
       "      <td>0.230185</td>\n",
       "      <td>-0.190235</td>\n",
       "    </tr>\n",
       "    <tr>\n",
       "      <th>jordan</th>\n",
       "      <td>1.00033</td>\n",
       "      <td>1.15209</td>\n",
       "      <td>0.190967</td>\n",
       "      <td>1.27855</td>\n",
       "      <td>1.25326</td>\n",
       "      <td>0.31743</td>\n",
       "      <td>0.292137</td>\n",
       "      <td>0.595649</td>\n",
       "      <td>-0.340179</td>\n",
       "      <td>0.570357</td>\n",
       "      <td>...</td>\n",
       "      <td>-0.340179</td>\n",
       "      <td>-0.264301</td>\n",
       "      <td>-0.289593</td>\n",
       "      <td>-0.314886</td>\n",
       "      <td>-0.314886</td>\n",
       "      <td>-0.289593</td>\n",
       "      <td>7.17174</td>\n",
       "      <td>9.32161</td>\n",
       "      <td>0.241552</td>\n",
       "      <td>-0.112545</td>\n",
       "    </tr>\n",
       "    <tr>\n",
       "      <th>alex</th>\n",
       "      <td>0.947975</td>\n",
       "      <td>1.07672</td>\n",
       "      <td>0.201266</td>\n",
       "      <td>1.25696</td>\n",
       "      <td>1.30846</td>\n",
       "      <td>0.330009</td>\n",
       "      <td>0.30426</td>\n",
       "      <td>0.613243</td>\n",
       "      <td>-0.339455</td>\n",
       "      <td>0.535998</td>\n",
       "      <td>...</td>\n",
       "      <td>-0.339455</td>\n",
       "      <td>-0.262209</td>\n",
       "      <td>-0.287958</td>\n",
       "      <td>-0.313706</td>\n",
       "      <td>-0.313706</td>\n",
       "      <td>-0.287958</td>\n",
       "      <td>7.28213</td>\n",
       "      <td>9.21328</td>\n",
       "      <td>0.252763</td>\n",
       "      <td>-0.210712</td>\n",
       "    </tr>\n",
       "    <tr>\n",
       "      <th>jonny</th>\n",
       "      <td>0.987385</td>\n",
       "      <td>1.08753</td>\n",
       "      <td>0.186218</td>\n",
       "      <td>1.26279</td>\n",
       "      <td>1.31286</td>\n",
       "      <td>0.3114</td>\n",
       "      <td>0.286364</td>\n",
       "      <td>0.586801</td>\n",
       "      <td>-0.339548</td>\n",
       "      <td>0.536728</td>\n",
       "      <td>...</td>\n",
       "      <td>-0.339548</td>\n",
       "      <td>-0.264438</td>\n",
       "      <td>-0.289475</td>\n",
       "      <td>-0.314511</td>\n",
       "      <td>-0.314511</td>\n",
       "      <td>-0.289475</td>\n",
       "      <td>7.17139</td>\n",
       "      <td>9.29949</td>\n",
       "      <td>0.236291</td>\n",
       "      <td>-0.164293</td>\n",
       "    </tr>\n",
       "    <tr>\n",
       "      <th>grant</th>\n",
       "      <td>1.0144</td>\n",
       "      <td>1.0144</td>\n",
       "      <td>0.197806</td>\n",
       "      <td>1.2951</td>\n",
       "      <td>1.32062</td>\n",
       "      <td>0.325399</td>\n",
       "      <td>0.29988</td>\n",
       "      <td>0.606102</td>\n",
       "      <td>-0.338082</td>\n",
       "      <td>0.529547</td>\n",
       "      <td>...</td>\n",
       "      <td>-0.338082</td>\n",
       "      <td>-0.261527</td>\n",
       "      <td>-0.287045</td>\n",
       "      <td>-0.312564</td>\n",
       "      <td>-0.312564</td>\n",
       "      <td>-0.287045</td>\n",
       "      <td>7.24091</td>\n",
       "      <td>9.25688</td>\n",
       "      <td>0.248843</td>\n",
       "      <td>-0.261527</td>\n",
       "    </tr>\n",
       "  </tbody>\n",
       "</table>\n",
       "<p>6 rows × 169 columns</p>\n",
       "</div>"
      ],
      "text/plain": [
       "       category_hotdogs category_tradamerican category_burgers  \\\n",
       "gabe            0.91371               1.15095         0.296896   \n",
       "nicole         0.972103               1.04629         0.180724   \n",
       "jordan          1.00033               1.15209         0.190967   \n",
       "alex           0.947975               1.07672         0.201266   \n",
       "jonny          0.987385               1.08753         0.186218   \n",
       "grant            1.0144                1.0144         0.197806   \n",
       "\n",
       "       category_newamerican category_breakfast_brunch category_asianfusion  \\\n",
       "gabe                1.36446                   1.22212             0.439238   \n",
       "nicole              1.26887                    1.2936             0.304377   \n",
       "jordan              1.27855                   1.25326              0.31743   \n",
       "alex                1.25696                   1.30846             0.330009   \n",
       "jonny               1.26279                   1.31286               0.3114   \n",
       "grant                1.2951                   1.32062             0.325399   \n",
       "\n",
       "       category_cocktailbars category_chinese category_malaysian  \\\n",
       "gabe                 0.32062         0.605303          -0.343641   \n",
       "nicole              0.279646         0.576413          -0.338619   \n",
       "jordan              0.292137         0.595649          -0.340179   \n",
       "alex                 0.30426         0.613243          -0.339455   \n",
       "jonny               0.286364         0.586801          -0.339548   \n",
       "grant                0.29988         0.606102          -0.338082   \n",
       "\n",
       "       category_noodles    ...    category_egyptian category_shanghainese  \\\n",
       "gabe            0.58158    ...            -0.343641             -0.272471   \n",
       "nicole         0.551683    ...            -0.338619             -0.264427   \n",
       "jordan         0.570357    ...            -0.340179             -0.264301   \n",
       "alex           0.535998    ...            -0.339455             -0.262209   \n",
       "jonny          0.536728    ...            -0.339548             -0.264438   \n",
       "grant          0.529547    ...            -0.338082             -0.261527   \n",
       "\n",
       "       category_cafeteria category_seafoodmarkets category_gelato  \\\n",
       "gabe            -0.296194               -0.319918       -0.319918   \n",
       "nicole          -0.289158               -0.313888       -0.313888   \n",
       "jordan          -0.289593               -0.314886       -0.314886   \n",
       "alex            -0.287958               -0.313706       -0.313706   \n",
       "jonny           -0.289475               -0.314511       -0.314511   \n",
       "grant           -0.287045               -0.312564       -0.312564   \n",
       "\n",
       "       category_panasian        $       $$       $$$      $$$$  \n",
       "gabe           -0.130129  6.82089  9.62028   0.32062 -0.177576  \n",
       "nicole         -0.289158  7.10529  9.35578  0.230185 -0.190235  \n",
       "jordan         -0.289593  7.17174  9.32161  0.241552 -0.112545  \n",
       "alex           -0.287958  7.28213  9.21328  0.252763 -0.210712  \n",
       "jonny          -0.289475  7.17139  9.29949  0.236291 -0.164293  \n",
       "grant          -0.287045  7.24091  9.25688  0.248843 -0.261527  \n",
       "\n",
       "[6 rows x 169 columns]"
      ]
     },
     "execution_count": 492,
     "metadata": {},
     "output_type": "execute_result"
    }
   ],
   "source": [
    "U"
   ]
  },
  {
   "cell_type": "code",
   "execution_count": 493,
   "metadata": {
    "collapsed": true
   },
   "outputs": [],
   "source": [
    "U_array = np.array(U)"
   ]
  },
  {
   "cell_type": "code",
   "execution_count": 362,
   "metadata": {},
   "outputs": [
    {
     "data": {
      "text/plain": [
       "(6, 169)"
      ]
     },
     "execution_count": 362,
     "metadata": {},
     "output_type": "execute_result"
    }
   ],
   "source": [
    "U_array.shape"
   ]
  },
  {
   "cell_type": "code",
   "execution_count": 494,
   "metadata": {
    "collapsed": true
   },
   "outputs": [],
   "source": [
    "V_array = np.array(V)"
   ]
  },
  {
   "cell_type": "code",
   "execution_count": null,
   "metadata": {
    "collapsed": true
   },
   "outputs": [],
   "source": []
  },
  {
   "cell_type": "code",
   "execution_count": 495,
   "metadata": {
    "collapsed": true
   },
   "outputs": [],
   "source": [
    "R = U.dot(V.T)"
   ]
  },
  {
   "cell_type": "code",
   "execution_count": 496,
   "metadata": {},
   "outputs": [
    {
     "data": {
      "text/html": [
       "<div>\n",
       "<style scoped>\n",
       "    .dataframe tbody tr th:only-of-type {\n",
       "        vertical-align: middle;\n",
       "    }\n",
       "\n",
       "    .dataframe tbody tr th {\n",
       "        vertical-align: top;\n",
       "    }\n",
       "\n",
       "    .dataframe thead th {\n",
       "        text-align: right;\n",
       "    }\n",
       "</style>\n",
       "<table border=\"1\" class=\"dataframe\">\n",
       "  <thead>\n",
       "    <tr style=\"text-align: right;\">\n",
       "      <th>alias</th>\n",
       "      <th>amazon-go-seattle-5</th>\n",
       "      <th>the-pink-door-seattle-4</th>\n",
       "      <th>nirmals-seattle</th>\n",
       "      <th>bad-bishop-seattle</th>\n",
       "      <th>pike-place-chowder-seattle</th>\n",
       "      <th>biscuit-bitch-seattle-5</th>\n",
       "      <th>damn-the-weather-seattle</th>\n",
       "      <th>tsukushinbo-seattle</th>\n",
       "      <th>taylor-shellfish-oyster-bar-seattle-2</th>\n",
       "      <th>elliotts-oyster-house-seattle-2</th>\n",
       "      <th>...</th>\n",
       "      <th>restaurant-specialty-services-seattle</th>\n",
       "      <th>union-deli-la-puget-sound-plaza-building-seattle</th>\n",
       "      <th>measure-seattle</th>\n",
       "      <th>subway-seattle-3</th>\n",
       "      <th>u-bank-cafe-seattle</th>\n",
       "      <th>subway-seattle-31</th>\n",
       "      <th>hamburg-frites-seattle</th>\n",
       "      <th>subway-seattle-66</th>\n",
       "      <th>organic-to-go-seattle-4</th>\n",
       "      <th>chez-dave-seattle-2</th>\n",
       "    </tr>\n",
       "  </thead>\n",
       "  <tbody>\n",
       "    <tr>\n",
       "      <th>gabe</th>\n",
       "      <td>12.3377</td>\n",
       "      <td>11.2227</td>\n",
       "      <td>9.70366</td>\n",
       "      <td>9.66843</td>\n",
       "      <td>10.736</td>\n",
       "      <td>8.11488</td>\n",
       "      <td>11.1989</td>\n",
       "      <td>11.7446</td>\n",
       "      <td>10.5225</td>\n",
       "      <td>1.44784</td>\n",
       "      <td>...</td>\n",
       "      <td>9.62028</td>\n",
       "      <td>6.82089</td>\n",
       "      <td>1.68508</td>\n",
       "      <td>10.048</td>\n",
       "      <td>11.9337</td>\n",
       "      <td>12.8474</td>\n",
       "      <td>12.1716</td>\n",
       "      <td>10.048</td>\n",
       "      <td>9.13429</td>\n",
       "      <td>9.13429</td>\n",
       "    </tr>\n",
       "    <tr>\n",
       "      <th>nicole</th>\n",
       "      <td>12.3463</td>\n",
       "      <td>11.0108</td>\n",
       "      <td>9.2892</td>\n",
       "      <td>9.371</td>\n",
       "      <td>10.6323</td>\n",
       "      <td>8.51304</td>\n",
       "      <td>10.813</td>\n",
       "      <td>11.7033</td>\n",
       "      <td>10.4097</td>\n",
       "      <td>1.49906</td>\n",
       "      <td>...</td>\n",
       "      <td>9.35578</td>\n",
       "      <td>7.10529</td>\n",
       "      <td>1.49906</td>\n",
       "      <td>10.5581</td>\n",
       "      <td>11.8364</td>\n",
       "      <td>12.8086</td>\n",
       "      <td>11.9753</td>\n",
       "      <td>10.5581</td>\n",
       "      <td>9.58596</td>\n",
       "      <td>9.58596</td>\n",
       "    </tr>\n",
       "    <tr>\n",
       "      <th>jordan</th>\n",
       "      <td>12.1961</td>\n",
       "      <td>10.8809</td>\n",
       "      <td>9.25965</td>\n",
       "      <td>9.34945</td>\n",
       "      <td>10.5888</td>\n",
       "      <td>8.554</td>\n",
       "      <td>10.805</td>\n",
       "      <td>11.6903</td>\n",
       "      <td>10.3612</td>\n",
       "      <td>1.49481</td>\n",
       "      <td>...</td>\n",
       "      <td>9.32161</td>\n",
       "      <td>7.17174</td>\n",
       "      <td>1.5201</td>\n",
       "      <td>10.6141</td>\n",
       "      <td>11.7636</td>\n",
       "      <td>12.764</td>\n",
       "      <td>11.9179</td>\n",
       "      <td>10.6141</td>\n",
       "      <td>9.61375</td>\n",
       "      <td>9.61375</td>\n",
       "    </tr>\n",
       "    <tr>\n",
       "      <th>alex</th>\n",
       "      <td>12.2632</td>\n",
       "      <td>10.8985</td>\n",
       "      <td>9.15706</td>\n",
       "      <td>9.25533</td>\n",
       "      <td>10.5428</td>\n",
       "      <td>8.73563</td>\n",
       "      <td>10.6925</td>\n",
       "      <td>11.465</td>\n",
       "      <td>10.311</td>\n",
       "      <td>1.56122</td>\n",
       "      <td>...</td>\n",
       "      <td>9.21328</td>\n",
       "      <td>7.28213</td>\n",
       "      <td>1.50972</td>\n",
       "      <td>10.7745</td>\n",
       "      <td>11.7577</td>\n",
       "      <td>12.7056</td>\n",
       "      <td>11.9285</td>\n",
       "      <td>10.7745</td>\n",
       "      <td>9.82652</td>\n",
       "      <td>9.82652</td>\n",
       "    </tr>\n",
       "    <tr>\n",
       "      <th>jonny</th>\n",
       "      <td>12.2867</td>\n",
       "      <td>10.9097</td>\n",
       "      <td>9.23534</td>\n",
       "      <td>9.32142</td>\n",
       "      <td>10.5732</td>\n",
       "      <td>8.60632</td>\n",
       "      <td>10.7595</td>\n",
       "      <td>11.6608</td>\n",
       "      <td>10.3479</td>\n",
       "      <td>1.49908</td>\n",
       "      <td>...</td>\n",
       "      <td>9.29949</td>\n",
       "      <td>7.17139</td>\n",
       "      <td>1.49908</td>\n",
       "      <td>10.6483</td>\n",
       "      <td>11.7891</td>\n",
       "      <td>12.7764</td>\n",
       "      <td>11.9362</td>\n",
       "      <td>10.6483</td>\n",
       "      <td>9.66096</td>\n",
       "      <td>9.66096</td>\n",
       "    </tr>\n",
       "    <tr>\n",
       "      <th>grant</th>\n",
       "      <td>12.1725</td>\n",
       "      <td>11.0752</td>\n",
       "      <td>9.1995</td>\n",
       "      <td>9.29523</td>\n",
       "      <td>10.6222</td>\n",
       "      <td>8.70196</td>\n",
       "      <td>10.769</td>\n",
       "      <td>11.7387</td>\n",
       "      <td>10.3925</td>\n",
       "      <td>1.59498</td>\n",
       "      <td>...</td>\n",
       "      <td>9.25688</td>\n",
       "      <td>7.24091</td>\n",
       "      <td>1.54395</td>\n",
       "      <td>10.7243</td>\n",
       "      <td>11.7258</td>\n",
       "      <td>12.7402</td>\n",
       "      <td>11.8918</td>\n",
       "      <td>10.7243</td>\n",
       "      <td>9.70987</td>\n",
       "      <td>9.70987</td>\n",
       "    </tr>\n",
       "  </tbody>\n",
       "</table>\n",
       "<p>6 rows × 657 columns</p>\n",
       "</div>"
      ],
      "text/plain": [
       "alias  amazon-go-seattle-5 the-pink-door-seattle-4 nirmals-seattle  \\\n",
       "gabe               12.3377                 11.2227         9.70366   \n",
       "nicole             12.3463                 11.0108          9.2892   \n",
       "jordan             12.1961                 10.8809         9.25965   \n",
       "alex               12.2632                 10.8985         9.15706   \n",
       "jonny              12.2867                 10.9097         9.23534   \n",
       "grant              12.1725                 11.0752          9.1995   \n",
       "\n",
       "alias  bad-bishop-seattle pike-place-chowder-seattle biscuit-bitch-seattle-5  \\\n",
       "gabe              9.66843                     10.736                 8.11488   \n",
       "nicole              9.371                    10.6323                 8.51304   \n",
       "jordan            9.34945                    10.5888                   8.554   \n",
       "alex              9.25533                    10.5428                 8.73563   \n",
       "jonny             9.32142                    10.5732                 8.60632   \n",
       "grant             9.29523                    10.6222                 8.70196   \n",
       "\n",
       "alias  damn-the-weather-seattle tsukushinbo-seattle  \\\n",
       "gabe                    11.1989             11.7446   \n",
       "nicole                   10.813             11.7033   \n",
       "jordan                   10.805             11.6903   \n",
       "alex                    10.6925              11.465   \n",
       "jonny                   10.7595             11.6608   \n",
       "grant                    10.769             11.7387   \n",
       "\n",
       "alias  taylor-shellfish-oyster-bar-seattle-2 elliotts-oyster-house-seattle-2  \\\n",
       "gabe                                 10.5225                         1.44784   \n",
       "nicole                               10.4097                         1.49906   \n",
       "jordan                               10.3612                         1.49481   \n",
       "alex                                  10.311                         1.56122   \n",
       "jonny                                10.3479                         1.49908   \n",
       "grant                                10.3925                         1.59498   \n",
       "\n",
       "alias          ...         restaurant-specialty-services-seattle  \\\n",
       "gabe           ...                                       9.62028   \n",
       "nicole         ...                                       9.35578   \n",
       "jordan         ...                                       9.32161   \n",
       "alex           ...                                       9.21328   \n",
       "jonny          ...                                       9.29949   \n",
       "grant          ...                                       9.25688   \n",
       "\n",
       "alias  union-deli-la-puget-sound-plaza-building-seattle measure-seattle  \\\n",
       "gabe                                            6.82089         1.68508   \n",
       "nicole                                          7.10529         1.49906   \n",
       "jordan                                          7.17174          1.5201   \n",
       "alex                                            7.28213         1.50972   \n",
       "jonny                                           7.17139         1.49908   \n",
       "grant                                           7.24091         1.54395   \n",
       "\n",
       "alias  subway-seattle-3 u-bank-cafe-seattle subway-seattle-31  \\\n",
       "gabe             10.048             11.9337           12.8474   \n",
       "nicole          10.5581             11.8364           12.8086   \n",
       "jordan          10.6141             11.7636            12.764   \n",
       "alex            10.7745             11.7577           12.7056   \n",
       "jonny           10.6483             11.7891           12.7764   \n",
       "grant           10.7243             11.7258           12.7402   \n",
       "\n",
       "alias  hamburg-frites-seattle subway-seattle-66 organic-to-go-seattle-4  \\\n",
       "gabe                  12.1716            10.048                 9.13429   \n",
       "nicole                11.9753           10.5581                 9.58596   \n",
       "jordan                11.9179           10.6141                 9.61375   \n",
       "alex                  11.9285           10.7745                 9.82652   \n",
       "jonny                 11.9362           10.6483                 9.66096   \n",
       "grant                 11.8918           10.7243                 9.70987   \n",
       "\n",
       "alias  chez-dave-seattle-2  \n",
       "gabe               9.13429  \n",
       "nicole             9.58596  \n",
       "jordan             9.61375  \n",
       "alex               9.82652  \n",
       "jonny              9.66096  \n",
       "grant              9.70987  \n",
       "\n",
       "[6 rows x 657 columns]"
      ]
     },
     "execution_count": 496,
     "metadata": {},
     "output_type": "execute_result"
    }
   ],
   "source": [
    "R"
   ]
  },
  {
   "cell_type": "code",
   "execution_count": 500,
   "metadata": {
    "collapsed": true
   },
   "outputs": [],
   "source": [
    "popularity = cleaned_df['popularity']\n"
   ]
  },
  {
   "cell_type": "code",
   "execution_count": 553,
   "metadata": {
    "collapsed": true
   },
   "outputs": [],
   "source": [
    "jordan = find_top_recs('jordan', R, popularity)\n"
   ]
  },
  {
   "cell_type": "code",
   "execution_count": 554,
   "metadata": {
    "collapsed": true
   },
   "outputs": [],
   "source": [
    "gabe = find_top_recs(user='gabe', ratings_matrix=R, popularity_scores=popularity)\n"
   ]
  },
  {
   "cell_type": "code",
   "execution_count": 555,
   "metadata": {
    "collapsed": true
   },
   "outputs": [],
   "source": [
    "alex = find_top_recs('alex', R, popularity)"
   ]
  },
  {
   "cell_type": "code",
   "execution_count": 556,
   "metadata": {
    "collapsed": true
   },
   "outputs": [],
   "source": [
    "nicole = find_top_recs('nicole', R, popularity)"
   ]
  },
  {
   "cell_type": "code",
   "execution_count": 557,
   "metadata": {
    "collapsed": true
   },
   "outputs": [],
   "source": [
    "grant = find_top_recs('grant', R, popularity)"
   ]
  },
  {
   "cell_type": "code",
   "execution_count": 558,
   "metadata": {},
   "outputs": [
    {
     "data": {
      "text/plain": [
       "52.566111201418643"
      ]
     },
     "execution_count": 558,
     "metadata": {},
     "output_type": "execute_result"
    }
   ],
   "source": [
    "grant.mean()"
   ]
  },
  {
   "cell_type": "code",
   "execution_count": null,
   "metadata": {
    "collapsed": true
   },
   "outputs": [],
   "source": []
  },
  {
   "cell_type": "code",
   "execution_count": 635,
   "metadata": {},
   "outputs": [
    {
     "data": {
      "text/plain": [
       "alias\n",
       "pike-place-chowder-seattle                   10.255112\n",
       "piroshky-piroshky-seattle                    10.122241\n",
       "the-pink-door-seattle-4                       9.802921\n",
       "japonessa-sushi-cocina-seattle                9.712872\n",
       "elliotts-oyster-house-seattle-2               9.408289\n",
       "biscuit-bitch-seattle                         9.404343\n",
       "beechers-handmade-cheese-seattle              9.183277\n",
       "le-panier-french-bakery-seattle               9.166179\n",
       "the-crumpet-shop-seattle                      9.152923\n",
       "purple-café-and-wine-bar-seattle-3            9.067509\n",
       "metropolitan-grill-seattle                    8.739536\n",
       "the-crab-pot-seattle-2                        8.694167\n",
       "salumi-artisan-cured-meats-seattle-2          8.676673\n",
       "harbor-city-restaurant-seattle                8.623533\n",
       "wild-ginger-seattle                           8.530208\n",
       "steelhead-diner-seattle                       8.516993\n",
       "tamarind-tree-seattle                         8.512583\n",
       "sweet-iron-waffles-seattle-5                  8.506132\n",
       "radiator-whiskey-seattle                      8.490849\n",
       "tats-delicatessen-seattle                     8.457018\n",
       "lowells-restaurant-seattle                    8.442901\n",
       "jade-garden-seattle                           8.437609\n",
       "pike-brewing-company-seattle                  8.416157\n",
       "il-corvo-pasta-seattle                        8.403016\n",
       "vons-1000-spirits-seattle-4                   8.394121\n",
       "maneki-seattle                                8.374015\n",
       "green-leaf-vietnamese-restaurant-seattle      8.368461\n",
       "zig-zag-cafe-seattle-2                        8.364974\n",
       "ettas-seattle-2                               8.360422\n",
       "daily-dozen-doughnut-seattle                  8.349130\n",
       "                                               ...    \n",
       "the-grubstake-seattle                         1.791759\n",
       "double-up-seattle                             1.791759\n",
       "gusta-sandwiches-seattle                      1.791759\n",
       "sharetea-seattle-5                            1.791759\n",
       "purple-cafe-administrative-office-seattle     1.791759\n",
       "robs-soups-seattle-2                          1.791759\n",
       "daves-dirty-dogs-seattle                      1.791759\n",
       "the-buttermilk-company-seattle                1.791759\n",
       "theundisclosedevents-seattle                  1.791759\n",
       "yard-house-seattle-3                          1.791759\n",
       "u-bank-cafe-seattle                           1.791759\n",
       "dollop-coffee-seattle-2                       1.791759\n",
       "top-pot-doughnuts-seattle-7                   1.704748\n",
       "restaurant-specialty-services-seattle         1.609438\n",
       "1st-floor-cafe-seattle                        1.609438\n",
       "alaska-building-deli-seattle                  1.609438\n",
       "coco-la-ti-da-seattle-2                       1.609438\n",
       "a-la-carte-seattle                            1.609438\n",
       "jimmy-johns-seattle-18                        1.609438\n",
       "smith-tower-provisions-seattle-2              1.609438\n",
       "flame-grilled-hot-dogs-seattle                1.609438\n",
       "lickettys-bbq-seattle                         1.386294\n",
       "mels-market-seattle-2                         1.386294\n",
       "white-knuckle-foods-seattle                   1.386294\n",
       "justus-cafe-seattle                           1.386294\n",
       "la-creperie-by-ethan-stowell-seattle-3        1.098612\n",
       "hamburg-frites-seattle                        1.098612\n",
       "kidd-valley-seattle-7                         0.693147\n",
       "grid-iron-grill-seattle                       0.693147\n",
       "max-s-hairsalon-seattle                       0.693147\n",
       "Name: popularity, Length: 657, dtype: float64"
      ]
     },
     "execution_count": 635,
     "metadata": {},
     "output_type": "execute_result"
    }
   ],
   "source": [
    "temp.sort_values(ascending=False)"
   ]
  },
  {
   "cell_type": "code",
   "execution_count": 642,
   "metadata": {
    "collapsed": true
   },
   "outputs": [],
   "source": [
    "unweighted_prefs = R.loc['gabe']\n",
    "popularity_weight = np.log(popularity + 1) / 10\n",
    "average_rating_weight = cleaned_df['rating']\n",
    "\n",
    "weighted = unweighted_prefs * popularity_weight\n"
   ]
  },
  {
   "cell_type": "code",
   "execution_count": 647,
   "metadata": {
    "collapsed": true
   },
   "outputs": [],
   "source": [
    "def produce_recs(user1, user2, n):\n",
    "\n",
    "    u1 = find_individual_recs(user1, R, popularity)\n",
    "    u2 = find_individual_recs(user2, R, popularity)\n",
    "\n",
    "    recs_df = pd.concat([u1, u2], axis=1)\n",
    "    recs_df['mean'] = recs_df.mean(axis=1)\n",
    "    return recs_df.sort_values(by=['mean'], ascending=False)[:5]"
   ]
  },
  {
   "cell_type": "code",
   "execution_count": 648,
   "metadata": {},
   "outputs": [
    {
     "ename": "NameError",
     "evalue": "name 'find_individual_recs' is not defined",
     "output_type": "error",
     "traceback": [
      "\u001b[0;31m---------------------------------------------------------------------------\u001b[0m",
      "\u001b[0;31mNameError\u001b[0m                                 Traceback (most recent call last)",
      "\u001b[0;32m<ipython-input-648-f5ae5fb1104d>\u001b[0m in \u001b[0;36m<module>\u001b[0;34m()\u001b[0m\n\u001b[0;32m----> 1\u001b[0;31m \u001b[0mproduce_recs\u001b[0m\u001b[0;34m(\u001b[0m\u001b[0;34m'gabe'\u001b[0m\u001b[0;34m,\u001b[0m \u001b[0;34m'nicole'\u001b[0m\u001b[0;34m,\u001b[0m \u001b[0;36m3\u001b[0m\u001b[0;34m)\u001b[0m\u001b[0;34m\u001b[0m\u001b[0m\n\u001b[0m",
      "\u001b[0;32m<ipython-input-647-7cfeb7cd49bb>\u001b[0m in \u001b[0;36mproduce_recs\u001b[0;34m(user1, user2, n)\u001b[0m\n\u001b[1;32m      1\u001b[0m \u001b[0;32mdef\u001b[0m \u001b[0mproduce_recs\u001b[0m\u001b[0;34m(\u001b[0m\u001b[0muser1\u001b[0m\u001b[0;34m,\u001b[0m \u001b[0muser2\u001b[0m\u001b[0;34m,\u001b[0m \u001b[0mn\u001b[0m\u001b[0;34m)\u001b[0m\u001b[0;34m:\u001b[0m\u001b[0;34m\u001b[0m\u001b[0m\n\u001b[1;32m      2\u001b[0m \u001b[0;34m\u001b[0m\u001b[0m\n\u001b[0;32m----> 3\u001b[0;31m     \u001b[0mu1\u001b[0m \u001b[0;34m=\u001b[0m \u001b[0mfind_individual_recs\u001b[0m\u001b[0;34m(\u001b[0m\u001b[0muser1\u001b[0m\u001b[0;34m,\u001b[0m \u001b[0mR\u001b[0m\u001b[0;34m,\u001b[0m \u001b[0mpopularity\u001b[0m\u001b[0;34m)\u001b[0m\u001b[0;34m\u001b[0m\u001b[0m\n\u001b[0m\u001b[1;32m      4\u001b[0m     \u001b[0mu2\u001b[0m \u001b[0;34m=\u001b[0m \u001b[0mfind_individual_recs\u001b[0m\u001b[0;34m(\u001b[0m\u001b[0muser2\u001b[0m\u001b[0;34m,\u001b[0m \u001b[0mR\u001b[0m\u001b[0;34m,\u001b[0m \u001b[0mpopularity\u001b[0m\u001b[0;34m)\u001b[0m\u001b[0;34m\u001b[0m\u001b[0m\n\u001b[1;32m      5\u001b[0m \u001b[0;34m\u001b[0m\u001b[0m\n",
      "\u001b[0;31mNameError\u001b[0m: name 'find_individual_recs' is not defined"
     ]
    }
   ],
   "source": [
    "produce_recs('gabe', 'nicole', 3)"
   ]
  },
  {
   "cell_type": "code",
   "execution_count": null,
   "metadata": {
    "collapsed": true
   },
   "outputs": [],
   "source": []
  },
  {
   "cell_type": "code",
   "execution_count": null,
   "metadata": {
    "collapsed": true
   },
   "outputs": [],
   "source": []
  },
  {
   "cell_type": "code",
   "execution_count": null,
   "metadata": {
    "collapsed": true
   },
   "outputs": [],
   "source": []
  },
  {
   "cell_type": "code",
   "execution_count": 643,
   "metadata": {
    "collapsed": true
   },
   "outputs": [],
   "source": [
    "recs_df = pd.concat([gabe], axis=1, names=['jordan', 'gabe'])"
   ]
  },
  {
   "cell_type": "code",
   "execution_count": 644,
   "metadata": {},
   "outputs": [
    {
     "data": {
      "text/plain": [
       "alias\n",
       "lowells-restaurant-seattle                             110.775607\n",
       "pike-place-chowder-seattle                             110.098767\n",
       "the-pink-door-seattle-4                                110.014983\n",
       "green-leaf-vietnamese-restaurant-seattle               109.798919\n",
       "ivars-acres-of-clams-seattle-7                         105.689883\n",
       "tats-delicatessen-seattle                              104.139386\n",
       "frolik-kitchen-cocktails-seattle-2                     103.562742\n",
       "salumi-artisan-cured-meats-seattle-2                   103.550724\n",
       "the-athenian-seafood-restaurant-and-bar-seattle-2      103.542729\n",
       "shaker-and-spear-seattle-2                             103.450202\n",
       "lecōsho-seattle-2                                      103.360082\n",
       "japonessa-sushi-cocina-seattle                         103.125157\n",
       "biscuit-bitch-seattle                                  100.633566\n",
       "seatown-seabar-seattle                                 100.241533\n",
       "steelhead-diner-seattle                                 99.826565\n",
       "café-campagne-seattle-3                                 99.592183\n",
       "market-grill-seattle                                    99.151220\n",
       "cutters-crabhouse-seattle                               98.738245\n",
       "pike-brewing-company-seattle                            97.646365\n",
       "pike-place-chowder-seattle-4                            97.577043\n",
       "bacco-cafe-and-bistro-seattle-2                         97.074622\n",
       "radiator-whiskey-seattle                                95.992067\n",
       "vons-1000-spirits-seattle-4                             95.598454\n",
       "zig-zag-cafe-seattle-2                                  94.869609\n",
       "jade-garden-seattle                                     94.692528\n",
       "tsukushinbo-seattle                                     94.615730\n",
       "ba-bar-seattle                                          94.118979\n",
       "fonte-café-seattle                                      94.071925\n",
       "bookstore-bar-and-cafe-seattle-6                        92.163099\n",
       "tamarind-tree-seattle                                   91.996836\n",
       "                                                          ...    \n",
       "restaurant-specialty-services-seattle                   15.483238\n",
       "mels-market-seattle-2                                   14.274327\n",
       "matts-in-the-market-seattle                             13.823211\n",
       "lickettys-bbq-seattle                                   13.748121\n",
       "elliotts-oyster-house-seattle-2                         13.621720\n",
       "hamburg-frites-seattle                                  13.371889\n",
       "west-edge-market-seattle                                13.156882\n",
       "the-capital-grille-seattle                              12.832416\n",
       "white-knuckle-foods-seattle                             12.662820\n",
       "the-crab-pot-seattle-2                                  12.587784\n",
       "georgian-restaurant-seattle                             12.181491\n",
       "il-bistro-seattle                                       12.145122\n",
       "1st-floor-cafe-seattle                                  12.066542\n",
       "alaska-building-deli-seattle                            12.066542\n",
       "flame-grilled-hot-dogs-seattle                          11.131656\n",
       "andaluca-seattle-2                                      10.980608\n",
       "scout-seattle                                           10.738106\n",
       "la-creperie-by-ethan-stowell-seattle-3                  10.439410\n",
       "the-brooklyn-seafood-steak-and-oyster-house-seattle      9.671881\n",
       "kidd-valley-seattle-7                                    9.275365\n",
       "metropolitan-grill-seattle                               7.991537\n",
       "max-s-hairsalon-seattle                                  7.416711\n",
       "grid-iron-grill-seattle                                  6.874060\n",
       "sushi-kashiba-seattle                                    6.716107\n",
       "muse-at-benaroya-hall-seattle                            6.257661\n",
       "measure-seattle                                          4.916673\n",
       "il-terrazzo-carmine-seattle                              4.454084\n",
       "cortina-seattle-3                                        3.364680\n",
       "place-pigalle-seattle                                    2.492720\n",
       "hot-pot-king-seattle-3                                   0.953206\n",
       "Name: mean, Length: 657, dtype: float64"
      ]
     },
     "execution_count": 644,
     "metadata": {},
     "output_type": "execute_result"
    }
   ],
   "source": [
    "recs_df['mean'] = recs_df.mean(axis=1)\n",
    "recs_df['mean'].sort_values(ascending=False)"
   ]
  },
  {
   "cell_type": "code",
   "execution_count": 645,
   "metadata": {
    "collapsed": true
   },
   "outputs": [],
   "source": [
    "def produce_recs(user1, user2, n):\n",
    "    \n",
    "    u1 = find_top_recs(user1, R, popularity)\n",
    "    u2 = find_top_recs(user2, R, popularity)\n",
    "    \n",
    "    recs_df = pd.concat([u1, u2], axis=1)\n",
    "    recs_df['mean'] = recs_df.mean(axis=1)\n",
    "    return recs_df.sort_values(by=['mean'], ascending=False)[:5]"
   ]
  },
  {
   "cell_type": "code",
   "execution_count": 655,
   "metadata": {},
   "outputs": [
    {
     "ename": "NameError",
     "evalue": "name 'find_individual_recs' is not defined",
     "output_type": "error",
     "traceback": [
      "\u001b[0;31m---------------------------------------------------------------------------\u001b[0m",
      "\u001b[0;31mNameError\u001b[0m                                 Traceback (most recent call last)",
      "\u001b[0;32m<ipython-input-655-dbe7b4612055>\u001b[0m in \u001b[0;36m<module>\u001b[0;34m()\u001b[0m\n\u001b[0;32m----> 1\u001b[0;31m \u001b[0mproduce_recs\u001b[0m\u001b[0;34m(\u001b[0m\u001b[0;34m'nicole'\u001b[0m\u001b[0;34m,\u001b[0m \u001b[0;34m'jonny'\u001b[0m\u001b[0;34m,\u001b[0m \u001b[0;36m3\u001b[0m\u001b[0;34m)\u001b[0m\u001b[0;34m\u001b[0m\u001b[0m\n\u001b[0m",
      "\u001b[0;32m<ipython-input-647-7cfeb7cd49bb>\u001b[0m in \u001b[0;36mproduce_recs\u001b[0;34m(user1, user2, n)\u001b[0m\n\u001b[1;32m      1\u001b[0m \u001b[0;32mdef\u001b[0m \u001b[0mproduce_recs\u001b[0m\u001b[0;34m(\u001b[0m\u001b[0muser1\u001b[0m\u001b[0;34m,\u001b[0m \u001b[0muser2\u001b[0m\u001b[0;34m,\u001b[0m \u001b[0mn\u001b[0m\u001b[0;34m)\u001b[0m\u001b[0;34m:\u001b[0m\u001b[0;34m\u001b[0m\u001b[0m\n\u001b[1;32m      2\u001b[0m \u001b[0;34m\u001b[0m\u001b[0m\n\u001b[0;32m----> 3\u001b[0;31m     \u001b[0mu1\u001b[0m \u001b[0;34m=\u001b[0m \u001b[0mfind_individual_recs\u001b[0m\u001b[0;34m(\u001b[0m\u001b[0muser1\u001b[0m\u001b[0;34m,\u001b[0m \u001b[0mR\u001b[0m\u001b[0;34m,\u001b[0m \u001b[0mpopularity\u001b[0m\u001b[0;34m)\u001b[0m\u001b[0;34m\u001b[0m\u001b[0m\n\u001b[0m\u001b[1;32m      4\u001b[0m     \u001b[0mu2\u001b[0m \u001b[0;34m=\u001b[0m \u001b[0mfind_individual_recs\u001b[0m\u001b[0;34m(\u001b[0m\u001b[0muser2\u001b[0m\u001b[0;34m,\u001b[0m \u001b[0mR\u001b[0m\u001b[0;34m,\u001b[0m \u001b[0mpopularity\u001b[0m\u001b[0;34m)\u001b[0m\u001b[0;34m\u001b[0m\u001b[0m\n\u001b[1;32m      5\u001b[0m \u001b[0;34m\u001b[0m\u001b[0m\n",
      "\u001b[0;31mNameError\u001b[0m: name 'find_individual_recs' is not defined"
     ]
    }
   ],
   "source": [
    "produce_recs('nicole', 'jonny', 3)"
   ]
  },
  {
   "cell_type": "code",
   "execution_count": 588,
   "metadata": {
    "collapsed": true
   },
   "outputs": [],
   "source": [
    "alex_jordan = pd.concat([alex, jordan], axis=1, sort=True)"
   ]
  },
  {
   "cell_type": "code",
   "execution_count": 590,
   "metadata": {
    "collapsed": true
   },
   "outputs": [],
   "source": [
    "alex_jordan['mean'] = alex_jordan.mean(axis=1)"
   ]
  },
  {
   "cell_type": "code",
   "execution_count": 598,
   "metadata": {},
   "outputs": [
    {
     "data": {
      "text/plain": [
       "['lowells-restaurant-seattle',\n",
       " 'green-leaf-vietnamese-restaurant-seattle',\n",
       " 'pike-place-chowder-seattle']"
      ]
     },
     "execution_count": 598,
     "metadata": {},
     "output_type": "execute_result"
    }
   ],
   "source": [
    "list(alex_jordan.sort_values(by=['mean'], ascending=False).index)[:3]"
   ]
  },
  {
   "cell_type": "markdown",
   "metadata": {},
   "source": [
    "### Start a spark session"
   ]
  },
  {
   "cell_type": "code",
   "execution_count": 348,
   "metadata": {
    "collapsed": true
   },
   "outputs": [],
   "source": [
    "import pyspark\n",
    "from pyspark.sql import SparkSession\n",
    "import pandas as pd\n",
    "from pyspark.ml.recommendation import ALS\n",
    "import matplotlib.pyplot as plt\n",
    "%matplotlib inline"
   ]
  },
  {
   "cell_type": "code",
   "execution_count": 349,
   "metadata": {
    "collapsed": true
   },
   "outputs": [],
   "source": [
    "# Setup a SparkSession\n",
    "spark = SparkSession.builder.getOrCreate()"
   ]
  },
  {
   "cell_type": "code",
   "execution_count": 350,
   "metadata": {
    "collapsed": true
   },
   "outputs": [],
   "source": [
    "# Convert a Pandas DF to a Spark DF\n",
    "spark_U = spark.createDataFrame(U) "
   ]
  },
  {
   "cell_type": "code",
   "execution_count": 351,
   "metadata": {
    "collapsed": true
   },
   "outputs": [],
   "source": [
    "spark_V = spark.createDataFrame(V)"
   ]
  },
  {
   "cell_type": "code",
   "execution_count": 355,
   "metadata": {},
   "outputs": [
    {
     "name": "stdout",
     "output_type": "stream",
     "text": [
      "root\n",
      " |-- category_hotdogs: double (nullable = true)\n",
      " |-- category_tradamerican: double (nullable = true)\n",
      " |-- category_burgers: double (nullable = true)\n",
      " |-- category_newamerican: double (nullable = true)\n",
      " |-- category_breakfast_brunch: double (nullable = true)\n",
      " |-- category_asianfusion: double (nullable = true)\n",
      " |-- category_cocktailbars: double (nullable = true)\n",
      " |-- category_chinese: double (nullable = true)\n",
      " |-- category_malaysian: double (nullable = true)\n",
      " |-- category_noodles: double (nullable = true)\n",
      " |-- category_tapasmallplates: double (nullable = true)\n",
      " |-- category_mexican: double (nullable = true)\n",
      " |-- category_italian: double (nullable = true)\n",
      " |-- category_greek: double (nullable = true)\n",
      " |-- category_mediterranean: double (nullable = true)\n",
      " |-- category_vietnamese: double (nullable = true)\n",
      " |-- category_ramen: double (nullable = true)\n",
      " |-- category_mideastern: double (nullable = true)\n",
      " |-- category_korean: double (nullable = true)\n",
      " |-- category_izakaya: double (nullable = true)\n",
      " |-- category_sushi: double (nullable = true)\n",
      " |-- category_indpak: double (nullable = true)\n",
      " |-- category_pizza: double (nullable = true)\n",
      " |-- category_desserts: double (nullable = true)\n",
      " |-- category_bakeries: double (nullable = true)\n",
      " |-- category_vegan: double (nullable = true)\n",
      " |-- category_coffee: double (nullable = true)\n",
      " |-- category_japanese: double (nullable = true)\n",
      " |-- category_hawaiian: double (nullable = true)\n",
      " |-- category_tacos: double (nullable = true)\n",
      " |-- category_foodstands: double (nullable = true)\n",
      " |-- category_peruvian: double (nullable = true)\n",
      " |-- category_bbq: double (nullable = true)\n",
      " |-- category_chickenshop: double (nullable = true)\n",
      " |-- category_lebanese: double (nullable = true)\n",
      " |-- category_persian: double (nullable = true)\n",
      " |-- category_syrian: double (nullable = true)\n",
      " |-- category_delis: double (nullable = true)\n",
      " |-- category_southern: double (nullable = true)\n",
      " |-- category_seafood: double (nullable = true)\n",
      " |-- category_sandwiches: double (nullable = true)\n",
      " |-- category_poke: double (nullable = true)\n",
      " |-- category_bars: double (nullable = true)\n",
      " |-- category_salad: double (nullable = true)\n",
      " |-- category_raw_food: double (nullable = true)\n",
      " |-- category_steak: double (nullable = true)\n",
      " |-- category_butcher: double (nullable = true)\n",
      " |-- category_musicvenues: double (nullable = true)\n",
      " |-- category_soulfood: double (nullable = true)\n",
      " |-- category_spanish: double (nullable = true)\n",
      " |-- category_tapas: double (nullable = true)\n",
      " |-- category_basque: double (nullable = true)\n",
      " |-- category_taiwanese: double (nullable = true)\n",
      " |-- category_cafes: double (nullable = true)\n",
      " |-- category_pubs: double (nullable = true)\n",
      " |-- category_comfortfood: double (nullable = true)\n",
      " |-- category_falafel: double (nullable = true)\n",
      " |-- category_brazilian: double (nullable = true)\n",
      " |-- category_buffets: double (nullable = true)\n",
      " |-- category_french: double (nullable = true)\n",
      " |-- category_wine_bars: double (nullable = true)\n",
      " |-- category_thai: double (nullable = true)\n",
      " |-- category_vegetarian: double (nullable = true)\n",
      " |-- category_gastropubs: double (nullable = true)\n",
      " |-- category_chicken_wings: double (nullable = true)\n",
      " |-- category_fishnchips: double (nullable = true)\n",
      " |-- category_donuts: double (nullable = true)\n",
      " |-- category_lounges: double (nullable = true)\n",
      " |-- category_hotpot: double (nullable = true)\n",
      " |-- category_bikes: double (nullable = true)\n",
      " |-- category_bike_repair_maintenance: double (nullable = true)\n",
      " |-- category_caribbean: double (nullable = true)\n",
      " |-- category_beerbar: double (nullable = true)\n",
      " |-- category_halal: double (nullable = true)\n",
      " |-- category_streetvendors: double (nullable = true)\n",
      " |-- category_themedcafes: double (nullable = true)\n",
      " |-- category_venues: double (nullable = true)\n",
      " |-- category_meats: double (nullable = true)\n",
      " |-- category_argentine: double (nullable = true)\n",
      " |-- category_breweries: double (nullable = true)\n",
      " |-- category_russian: double (nullable = true)\n",
      " |-- category_german: double (nullable = true)\n",
      " |-- category_beergardens: double (nullable = true)\n",
      " |-- category_himalayan: double (nullable = true)\n",
      " |-- category_soup: double (nullable = true)\n",
      " |-- category_ethiopian: double (nullable = true)\n",
      " |-- category_gluten_free: double (nullable = true)\n",
      " |-- category_cakeshop: double (nullable = true)\n",
      " |-- category_speakeasies: double (nullable = true)\n",
      " |-- category_filipino: double (nullable = true)\n",
      " |-- category_empanadas: double (nullable = true)\n",
      " |-- category_latin: double (nullable = true)\n",
      " |-- category_sicilian: double (nullable = true)\n",
      " |-- category_newmexican: double (nullable = true)\n",
      " |-- category_moroccan: double (nullable = true)\n",
      " |-- category_hotdog: double (nullable = true)\n",
      " |-- category_modern_european: double (nullable = true)\n",
      " |-- category_foodtrucks: double (nullable = true)\n",
      " |-- category_icecream: double (nullable = true)\n",
      " |-- category_divebars: double (nullable = true)\n",
      " |-- category_juicebars: double (nullable = true)\n",
      " |-- category_polish: double (nullable = true)\n",
      " |-- category_culturalcenter: double (nullable = true)\n",
      " |-- category_acaibowls: double (nullable = true)\n",
      " |-- category_convenience: double (nullable = true)\n",
      " |-- category_cideries: double (nullable = true)\n",
      " |-- category_interiordesign: double (nullable = true)\n",
      " |-- category_scottish: double (nullable = true)\n",
      " |-- category_british: double (nullable = true)\n",
      " |-- category_whiskeybars: double (nullable = true)\n",
      " |-- category_diners: double (nullable = true)\n",
      " |-- category_bagels: double (nullable = true)\n",
      " |-- category_gourmet: double (nullable = true)\n",
      " |-- category_cantonese: double (nullable = true)\n",
      " |-- category_coffeeroasteries: double (nullable = true)\n",
      " |-- category_outlet_stores: double (nullable = true)\n",
      " |-- category_catering: double (nullable = true)\n",
      " |-- category_healthtrainers: double (nullable = true)\n",
      " |-- category_szechuan: double (nullable = true)\n",
      " |-- category_sportsbars: double (nullable = true)\n",
      " |-- category_tex-mex: double (nullable = true)\n",
      " |-- category_wraps: double (nullable = true)\n",
      " |-- category_dimsum: double (nullable = true)\n",
      " |-- category_hkcafe: double (nullable = true)\n",
      " |-- category_indonesian: double (nullable = true)\n",
      " |-- category_theater: double (nullable = true)\n",
      " |-- category_gaybars: double (nullable = true)\n",
      " |-- category_waffles: double (nullable = true)\n",
      " |-- category_venezuelan: double (nullable = true)\n",
      " |-- category_kebab: double (nullable = true)\n",
      " |-- category_danceclubs: double (nullable = true)\n",
      " |-- category_jazzandblues: double (nullable = true)\n",
      " |-- category_irish: double (nullable = true)\n",
      " |-- category_movietheaters: double (nullable = true)\n",
      " |-- category_conveyorsushi: double (nullable = true)\n",
      " |-- category_cajun: double (nullable = true)\n",
      " |-- category_popuprestaurants: double (nullable = true)\n",
      " |-- category_brewpubs: double (nullable = true)\n",
      " |-- category_beer_and_wine: double (nullable = true)\n",
      " |-- category_laotian: double (nullable = true)\n",
      " |-- category_pastashops: double (nullable = true)\n",
      " |-- category_cuban: double (nullable = true)\n",
      " |-- category_african: double (nullable = true)\n",
      " |-- category_catalan: double (nullable = true)\n",
      " |-- category_creperies: double (nullable = true)\n",
      " |-- category_southafrican: double (nullable = true)\n",
      " |-- category_turkish: double (nullable = true)\n",
      " |-- category_japacurry: double (nullable = true)\n",
      " |-- category_hair: double (nullable = true)\n",
      " |-- category_food_court: double (nullable = true)\n",
      " |-- category_communitycenters: double (nullable = true)\n",
      " |-- category_bubbletea: double (nullable = true)\n",
      " |-- category_tuscan: double (nullable = true)\n",
      " |-- category_scandinavian: double (nullable = true)\n",
      " |-- category_cheesesteaks: double (nullable = true)\n",
      " |-- category_australian: double (nullable = true)\n",
      " |-- category_trinidadian: double (nullable = true)\n",
      " |-- category_senegalese: double (nullable = true)\n",
      " |-- category_bookstores: double (nullable = true)\n",
      " |-- category_egyptian: double (nullable = true)\n",
      " |-- category_shanghainese: double (nullable = true)\n",
      " |-- category_cafeteria: double (nullable = true)\n",
      " |-- category_seafoodmarkets: double (nullable = true)\n",
      " |-- category_gelato: double (nullable = true)\n",
      " |-- category_panasian: double (nullable = true)\n",
      " |-- $: double (nullable = true)\n",
      " |-- $$: double (nullable = true)\n",
      " |-- $$$: double (nullable = true)\n",
      " |-- $$$$: double (nullable = true)\n",
      "\n"
     ]
    }
   ],
   "source": [
    "spark_U.printSchema()"
   ]
  },
  {
   "cell_type": "code",
   "execution_count": null,
   "metadata": {
    "collapsed": true
   },
   "outputs": [],
   "source": [
    "als_model = ALS(\n",
    "    itemCol='item_id',\n",
    "    userCol='user_id',\n",
    "    ratingCol='rating',\n",
    "    nonnegative=True,    \n",
    "    regParam=0.1,\n",
    "    rank=10) "
   ]
  }
 ],
 "metadata": {
  "kernelspec": {
   "display_name": "Python 3",
   "language": "python",
   "name": "python3"
  },
  "language_info": {
   "codemirror_mode": {
    "name": "ipython",
    "version": 3
   },
   "file_extension": ".py",
   "mimetype": "text/x-python",
   "name": "python",
   "nbconvert_exporter": "python",
   "pygments_lexer": "ipython3",
   "version": "3.6.6"
  }
 },
 "nbformat": 4,
 "nbformat_minor": 2
}
