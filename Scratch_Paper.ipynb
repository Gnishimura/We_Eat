{
 "cells": [
  {
   "cell_type": "code",
   "execution_count": 80,
   "metadata": {},
   "outputs": [],
   "source": [
    "import pandas as pd\n",
    "import numpy as np\n",
    "from we_eat.ALS_recommender import ALSRecommender\n",
    "from survey_results import survey\n",
    "import pickle\n",
    "from pymongo import MongoClient"
   ]
  },
  {
   "cell_type": "code",
   "execution_count": 11,
   "metadata": {
    "collapsed": true
   },
   "outputs": [],
   "source": [
    "we_eat_client = MongoClient()"
   ]
  },
  {
   "cell_type": "code",
   "execution_count": 12,
   "metadata": {
    "collapsed": true
   },
   "outputs": [],
   "source": [
    "we_eat_database = we_eat_client['we_eat']\n",
    "survey_collection = we_eat_database['surveys']"
   ]
  },
  {
   "cell_type": "code",
   "execution_count": 6,
   "metadata": {},
   "outputs": [],
   "source": [
    "item_factors_df = pd.read_pickle('webapp/data/item_factors_df.pkl')"
   ]
  },
  {
   "cell_type": "code",
   "execution_count": 7,
   "metadata": {},
   "outputs": [],
   "source": [
    "with open('webapp/data/inv_alias_dict.pickle', 'rb') as f:\n",
    "    inv_alias_dict = pickle.load(f)"
   ]
  },
  {
   "cell_type": "code",
   "execution_count": 28,
   "metadata": {},
   "outputs": [],
   "source": [
    "user1 = survey_collection.find_one({'user': 'gabe'})"
   ]
  },
  {
   "cell_type": "code",
   "execution_count": 29,
   "metadata": {},
   "outputs": [
    {
     "data": {
      "text/plain": [
       "{'_id': ObjectId('5c0fee7691d56f3b9ac1e345'),\n",
       " 'survey': {'green-leaf-vietnamese-restaurant-seattle': 8,\n",
       "  'il-corvo-pasta-seattle': 9,\n",
       "  'mee-sum-pastry-seattle': 0},\n",
       " 'user': 'gabe'}"
      ]
     },
     "execution_count": 29,
     "metadata": {},
     "output_type": "execute_result"
    }
   ],
   "source": [
    "user1"
   ]
  },
  {
   "cell_type": "code",
   "execution_count": 45,
   "metadata": {
    "collapsed": true
   },
   "outputs": [],
   "source": [
    "user2 = survey_collection.find_one({'user': 'jack'})"
   ]
  },
  {
   "cell_type": "code",
   "execution_count": 50,
   "metadata": {},
   "outputs": [
    {
     "data": {
      "text/html": [
       "<div>\n",
       "<style scoped>\n",
       "    .dataframe tbody tr th:only-of-type {\n",
       "        vertical-align: middle;\n",
       "    }\n",
       "\n",
       "    .dataframe tbody tr th {\n",
       "        vertical-align: top;\n",
       "    }\n",
       "\n",
       "    .dataframe thead th {\n",
       "        text-align: right;\n",
       "    }\n",
       "</style>\n",
       "<table border=\"1\" class=\"dataframe\">\n",
       "  <thead>\n",
       "    <tr style=\"text-align: right;\">\n",
       "      <th></th>\n",
       "      <th>amazon-go-seattle-5</th>\n",
       "      <th>the-pink-door-seattle-4</th>\n",
       "      <th>nirmals-seattle</th>\n",
       "      <th>biscuit-bitch-seattle-5</th>\n",
       "      <th>damn-the-weather-seattle</th>\n",
       "      <th>bad-bishop-seattle</th>\n",
       "      <th>pike-place-chowder-seattle</th>\n",
       "      <th>tsukushinbo-seattle</th>\n",
       "      <th>taylor-shellfish-oyster-bar-seattle-2</th>\n",
       "      <th>elliotts-oyster-house-seattle-2</th>\n",
       "      <th>...</th>\n",
       "      <th>mediterranean-cuisine-seattle</th>\n",
       "      <th>ricenroll-seattle-2</th>\n",
       "      <th>union-deli-la-puget-sound-plaza-building-seattle</th>\n",
       "      <th>measure-seattle</th>\n",
       "      <th>subway-seattle-3</th>\n",
       "      <th>u-bank-cafe-seattle</th>\n",
       "      <th>subway-seattle-31</th>\n",
       "      <th>subway-seattle-66</th>\n",
       "      <th>organic-to-go-seattle-4</th>\n",
       "      <th>chez-dave-seattle-2</th>\n",
       "    </tr>\n",
       "  </thead>\n",
       "  <tbody>\n",
       "    <tr>\n",
       "      <th>jack</th>\n",
       "      <td>3.360238</td>\n",
       "      <td>2.930531</td>\n",
       "      <td>2.953157</td>\n",
       "      <td>3.842759</td>\n",
       "      <td>4.538444</td>\n",
       "      <td>2.334373</td>\n",
       "      <td>1.930434</td>\n",
       "      <td>1.12574</td>\n",
       "      <td>3.879147</td>\n",
       "      <td>2.841792</td>\n",
       "      <td>...</td>\n",
       "      <td>2.179335</td>\n",
       "      <td>1.104366</td>\n",
       "      <td>-0.865688</td>\n",
       "      <td>2.236233</td>\n",
       "      <td>3.464141</td>\n",
       "      <td>1.55824</td>\n",
       "      <td>1.787557</td>\n",
       "      <td>4.806378</td>\n",
       "      <td>2.323651</td>\n",
       "      <td>3.018861</td>\n",
       "    </tr>\n",
       "  </tbody>\n",
       "</table>\n",
       "<p>1 rows × 621 columns</p>\n",
       "</div>"
      ],
      "text/plain": [
       "      amazon-go-seattle-5  the-pink-door-seattle-4  nirmals-seattle  \\\n",
       "jack             3.360238                 2.930531         2.953157   \n",
       "\n",
       "      biscuit-bitch-seattle-5  damn-the-weather-seattle  bad-bishop-seattle  \\\n",
       "jack                 3.842759                  4.538444            2.334373   \n",
       "\n",
       "      pike-place-chowder-seattle  tsukushinbo-seattle  \\\n",
       "jack                    1.930434              1.12574   \n",
       "\n",
       "      taylor-shellfish-oyster-bar-seattle-2  elliotts-oyster-house-seattle-2  \\\n",
       "jack                               3.879147                         2.841792   \n",
       "\n",
       "             ...           mediterranean-cuisine-seattle  ricenroll-seattle-2  \\\n",
       "jack         ...                                2.179335             1.104366   \n",
       "\n",
       "      union-deli-la-puget-sound-plaza-building-seattle  measure-seattle  \\\n",
       "jack                                         -0.865688         2.236233   \n",
       "\n",
       "      subway-seattle-3  u-bank-cafe-seattle  subway-seattle-31  \\\n",
       "jack          3.464141              1.55824           1.787557   \n",
       "\n",
       "      subway-seattle-66  organic-to-go-seattle-4  chez-dave-seattle-2  \n",
       "jack           4.806378                 2.323651             3.018861  \n",
       "\n",
       "[1 rows x 621 columns]"
      ]
     },
     "execution_count": 50,
     "metadata": {},
     "output_type": "execute_result"
    }
   ],
   "source": [
    "user2_df = recommender.user_preds_from_survey(user2)\n",
    "user2_df"
   ]
  },
  {
   "cell_type": "code",
   "execution_count": 81,
   "metadata": {},
   "outputs": [],
   "source": [
    "recommender = ALSRecommender(item_factors_df, inv_alias_dict)"
   ]
  },
  {
   "cell_type": "code",
   "execution_count": 88,
   "metadata": {},
   "outputs": [],
   "source": [
    "gabe = recommender.user_preds_from_survey(user1)"
   ]
  },
  {
   "cell_type": "code",
   "execution_count": 102,
   "metadata": {},
   "outputs": [
    {
     "data": {
      "text/html": [
       "<div>\n",
       "<style scoped>\n",
       "    .dataframe tbody tr th:only-of-type {\n",
       "        vertical-align: middle;\n",
       "    }\n",
       "\n",
       "    .dataframe tbody tr th {\n",
       "        vertical-align: top;\n",
       "    }\n",
       "\n",
       "    .dataframe thead th {\n",
       "        text-align: right;\n",
       "    }\n",
       "</style>\n",
       "<table border=\"1\" class=\"dataframe\">\n",
       "  <thead>\n",
       "    <tr style=\"text-align: right;\">\n",
       "      <th></th>\n",
       "      <th>amazon-go-seattle-5</th>\n",
       "      <th>the-pink-door-seattle-4</th>\n",
       "      <th>nirmals-seattle</th>\n",
       "      <th>biscuit-bitch-seattle-5</th>\n",
       "      <th>damn-the-weather-seattle</th>\n",
       "      <th>bad-bishop-seattle</th>\n",
       "      <th>pike-place-chowder-seattle</th>\n",
       "      <th>tsukushinbo-seattle</th>\n",
       "      <th>taylor-shellfish-oyster-bar-seattle-2</th>\n",
       "      <th>elliotts-oyster-house-seattle-2</th>\n",
       "      <th>...</th>\n",
       "      <th>mediterranean-cuisine-seattle</th>\n",
       "      <th>ricenroll-seattle-2</th>\n",
       "      <th>union-deli-la-puget-sound-plaza-building-seattle</th>\n",
       "      <th>measure-seattle</th>\n",
       "      <th>subway-seattle-3</th>\n",
       "      <th>u-bank-cafe-seattle</th>\n",
       "      <th>subway-seattle-31</th>\n",
       "      <th>subway-seattle-66</th>\n",
       "      <th>organic-to-go-seattle-4</th>\n",
       "      <th>chez-dave-seattle-2</th>\n",
       "    </tr>\n",
       "  </thead>\n",
       "  <tbody>\n",
       "    <tr>\n",
       "      <th>gabe</th>\n",
       "      <td>4.467413</td>\n",
       "      <td>1.929282</td>\n",
       "      <td>2.93576</td>\n",
       "      <td>1.890571</td>\n",
       "      <td>1.690533</td>\n",
       "      <td>2.315328</td>\n",
       "      <td>2.863935</td>\n",
       "      <td>5.852221</td>\n",
       "      <td>2.394073</td>\n",
       "      <td>3.751703</td>\n",
       "      <td>...</td>\n",
       "      <td>NaN</td>\n",
       "      <td>NaN</td>\n",
       "      <td>NaN</td>\n",
       "      <td>NaN</td>\n",
       "      <td>NaN</td>\n",
       "      <td>NaN</td>\n",
       "      <td>NaN</td>\n",
       "      <td>NaN</td>\n",
       "      <td>NaN</td>\n",
       "      <td>NaN</td>\n",
       "    </tr>\n",
       "    <tr>\n",
       "      <th>jack</th>\n",
       "      <td>NaN</td>\n",
       "      <td>NaN</td>\n",
       "      <td>NaN</td>\n",
       "      <td>NaN</td>\n",
       "      <td>NaN</td>\n",
       "      <td>NaN</td>\n",
       "      <td>NaN</td>\n",
       "      <td>NaN</td>\n",
       "      <td>NaN</td>\n",
       "      <td>NaN</td>\n",
       "      <td>...</td>\n",
       "      <td>2.179335</td>\n",
       "      <td>1.104366</td>\n",
       "      <td>-0.865688</td>\n",
       "      <td>2.236233</td>\n",
       "      <td>3.464141</td>\n",
       "      <td>1.55824</td>\n",
       "      <td>1.787557</td>\n",
       "      <td>4.806378</td>\n",
       "      <td>2.323651</td>\n",
       "      <td>3.018861</td>\n",
       "    </tr>\n",
       "  </tbody>\n",
       "</table>\n",
       "<p>2 rows × 1242 columns</p>\n",
       "</div>"
      ],
      "text/plain": [
       "      amazon-go-seattle-5  the-pink-door-seattle-4  nirmals-seattle  \\\n",
       "gabe             4.467413                 1.929282          2.93576   \n",
       "jack                  NaN                      NaN              NaN   \n",
       "\n",
       "      biscuit-bitch-seattle-5  damn-the-weather-seattle  bad-bishop-seattle  \\\n",
       "gabe                 1.890571                  1.690533            2.315328   \n",
       "jack                      NaN                       NaN                 NaN   \n",
       "\n",
       "      pike-place-chowder-seattle  tsukushinbo-seattle  \\\n",
       "gabe                    2.863935             5.852221   \n",
       "jack                         NaN                  NaN   \n",
       "\n",
       "      taylor-shellfish-oyster-bar-seattle-2  elliotts-oyster-house-seattle-2  \\\n",
       "gabe                               2.394073                         3.751703   \n",
       "jack                                    NaN                              NaN   \n",
       "\n",
       "             ...           mediterranean-cuisine-seattle  ricenroll-seattle-2  \\\n",
       "gabe         ...                                     NaN                  NaN   \n",
       "jack         ...                                2.179335             1.104366   \n",
       "\n",
       "      union-deli-la-puget-sound-plaza-building-seattle  measure-seattle  \\\n",
       "gabe                                               NaN              NaN   \n",
       "jack                                         -0.865688         2.236233   \n",
       "\n",
       "      subway-seattle-3  u-bank-cafe-seattle  subway-seattle-31  \\\n",
       "gabe               NaN                  NaN                NaN   \n",
       "jack          3.464141              1.55824           1.787557   \n",
       "\n",
       "      subway-seattle-66  organic-to-go-seattle-4  chez-dave-seattle-2  \n",
       "gabe                NaN                      NaN                  NaN  \n",
       "jack           4.806378                 2.323651             3.018861  \n",
       "\n",
       "[2 rows x 1242 columns]"
      ]
     },
     "execution_count": 102,
     "metadata": {},
     "output_type": "execute_result"
    }
   ],
   "source": [
    "gabejack = pd.concat([gabe, user2_df], axis=1, sort=False)\n",
    "gabejack"
   ]
  },
  {
   "cell_type": "code",
   "execution_count": 110,
   "metadata": {},
   "outputs": [
    {
     "data": {
      "text/plain": [
       "['gabe', 'jack']"
      ]
     },
     "execution_count": 110,
     "metadata": {},
     "output_type": "execute_result"
    }
   ],
   "source": [
    "list(gabejack.index)"
   ]
  },
  {
   "cell_type": "code",
   "execution_count": 84,
   "metadata": {
    "collapsed": true
   },
   "outputs": [],
   "source": [
    "def recommend(user1, user2):\n",
    "    \"\"\"Return a recommendation, given two usernames.\"\"\"\n",
    "    #data = request.get_json()\n",
    "    user1 = survey_collection.find_one({'user': user1})\n",
    "    user2 = survey_collection.find_one({'user': user2})\n",
    "    recommender = ALSRecommender(item_factors_df, inv_alias_dict)\n",
    "    user1_df = recommender.user_preds_from_survey(user1)\n",
    "    user2_df = recommender.user_preds_from_survey(user2)\n",
    "    preds_df = recommender.compile_df(user1_df, user2_df)\n",
    "    top_rec = recommender.top_rec(user1, user2, preds_df)\n",
    "    random_rec = recommender.get_a_rec(user1, user2, preds_df)\n",
    "    return random_rec.index[0], top_rec.index[0]"
   ]
  },
  {
   "cell_type": "code",
   "execution_count": 94,
   "metadata": {},
   "outputs": [
    {
     "ename": "KeyError",
     "evalue": "\"None of [{'_id': ObjectId('5c0fee7691d56f3b9ac1e345'), 'user': 'gabe', 'survey': {'green-leaf-vietnamese-restaurant-seattle': 8, 'il-corvo-pasta-seattle': 9, 'mee-sum-pastry-seattle': 0}}] are in the [index]\"",
     "output_type": "error",
     "traceback": [
      "\u001b[0;31m---------------------------------------------------------------------------\u001b[0m",
      "\u001b[0;31mKeyError\u001b[0m                                  Traceback (most recent call last)",
      "\u001b[0;32m<ipython-input-94-c640f9472159>\u001b[0m in \u001b[0;36m<module>\u001b[0;34m()\u001b[0m\n\u001b[0;32m----> 1\u001b[0;31m \u001b[0mrecommend\u001b[0m\u001b[0;34m(\u001b[0m\u001b[0;34m'gabe'\u001b[0m\u001b[0;34m,\u001b[0m \u001b[0;34m'jack'\u001b[0m\u001b[0;34m)\u001b[0m\u001b[0;34m\u001b[0m\u001b[0m\n\u001b[0m",
      "\u001b[0;32m<ipython-input-84-716fb4800968>\u001b[0m in \u001b[0;36mrecommend\u001b[0;34m(user1, user2)\u001b[0m\n\u001b[1;32m      8\u001b[0m     \u001b[0muser2_df\u001b[0m \u001b[0;34m=\u001b[0m \u001b[0mrecommender\u001b[0m\u001b[0;34m.\u001b[0m\u001b[0muser_preds_from_survey\u001b[0m\u001b[0;34m(\u001b[0m\u001b[0muser2\u001b[0m\u001b[0;34m)\u001b[0m\u001b[0;34m\u001b[0m\u001b[0m\n\u001b[1;32m      9\u001b[0m     \u001b[0mpreds_df\u001b[0m \u001b[0;34m=\u001b[0m \u001b[0mrecommender\u001b[0m\u001b[0;34m.\u001b[0m\u001b[0mcompile_df\u001b[0m\u001b[0;34m(\u001b[0m\u001b[0muser1_df\u001b[0m\u001b[0;34m,\u001b[0m \u001b[0muser2_df\u001b[0m\u001b[0;34m)\u001b[0m\u001b[0;34m\u001b[0m\u001b[0m\n\u001b[0;32m---> 10\u001b[0;31m     \u001b[0mtop_rec\u001b[0m \u001b[0;34m=\u001b[0m \u001b[0mrecommender\u001b[0m\u001b[0;34m.\u001b[0m\u001b[0mtop_rec\u001b[0m\u001b[0;34m(\u001b[0m\u001b[0muser1\u001b[0m\u001b[0;34m,\u001b[0m \u001b[0muser2\u001b[0m\u001b[0;34m,\u001b[0m \u001b[0mpreds_df\u001b[0m\u001b[0;34m)\u001b[0m\u001b[0;34m\u001b[0m\u001b[0m\n\u001b[0m\u001b[1;32m     11\u001b[0m     \u001b[0mrandom_rec\u001b[0m \u001b[0;34m=\u001b[0m \u001b[0mrecommender\u001b[0m\u001b[0;34m.\u001b[0m\u001b[0mget_a_rec\u001b[0m\u001b[0;34m(\u001b[0m\u001b[0muser1\u001b[0m\u001b[0;34m,\u001b[0m \u001b[0muser2\u001b[0m\u001b[0;34m,\u001b[0m \u001b[0mpreds_df\u001b[0m\u001b[0;34m)\u001b[0m\u001b[0;34m\u001b[0m\u001b[0m\n\u001b[1;32m     12\u001b[0m     \u001b[0;32mreturn\u001b[0m \u001b[0mrandom_rec\u001b[0m\u001b[0;34m.\u001b[0m\u001b[0mindex\u001b[0m\u001b[0;34m[\u001b[0m\u001b[0;36m0\u001b[0m\u001b[0;34m]\u001b[0m\u001b[0;34m,\u001b[0m \u001b[0mtop_rec\u001b[0m\u001b[0;34m.\u001b[0m\u001b[0mindex\u001b[0m\u001b[0;34m[\u001b[0m\u001b[0;36m0\u001b[0m\u001b[0;34m]\u001b[0m\u001b[0;34m\u001b[0m\u001b[0m\n",
      "\u001b[0;32m/Users/gnishimura/galvanize/We_Eat/we_eat/ALS_recommender.py\u001b[0m in \u001b[0;36mtop_rec\u001b[0;34m(self, user1, user2, preds_database)\u001b[0m\n\u001b[1;32m     99\u001b[0m \u001b[0;34m\u001b[0m\u001b[0m\n\u001b[1;32m    100\u001b[0m     \u001b[0;32mdef\u001b[0m \u001b[0mtop_rec\u001b[0m\u001b[0;34m(\u001b[0m\u001b[0mself\u001b[0m\u001b[0;34m,\u001b[0m \u001b[0muser1\u001b[0m\u001b[0;34m,\u001b[0m \u001b[0muser2\u001b[0m\u001b[0;34m,\u001b[0m \u001b[0mpreds_database\u001b[0m\u001b[0;34m)\u001b[0m\u001b[0;34m:\u001b[0m\u001b[0;34m\u001b[0m\u001b[0m\n\u001b[0;32m--> 101\u001b[0;31m         \u001b[0;32mreturn\u001b[0m \u001b[0mself\u001b[0m\u001b[0;34m.\u001b[0m\u001b[0msort_recs_for_two\u001b[0m\u001b[0;34m(\u001b[0m\u001b[0muser1\u001b[0m\u001b[0;34m,\u001b[0m \u001b[0muser2\u001b[0m\u001b[0;34m,\u001b[0m \u001b[0mpreds_database\u001b[0m\u001b[0;34m)\u001b[0m\u001b[0;34m.\u001b[0m\u001b[0mhead\u001b[0m\u001b[0;34m(\u001b[0m\u001b[0;36m1\u001b[0m\u001b[0;34m)\u001b[0m\u001b[0;34m\u001b[0m\u001b[0m\n\u001b[0m\u001b[1;32m    102\u001b[0m \u001b[0;34m\u001b[0m\u001b[0m\n\u001b[1;32m    103\u001b[0m \u001b[0;34m\u001b[0m\u001b[0m\n",
      "\u001b[0;32m/Users/gnishimura/galvanize/We_Eat/we_eat/ALS_recommender.py\u001b[0m in \u001b[0;36msort_recs_for_two\u001b[0;34m(self, user1, user2, preds_database)\u001b[0m\n\u001b[1;32m     87\u001b[0m \u001b[0;34m\u001b[0m\u001b[0m\n\u001b[1;32m     88\u001b[0m     \u001b[0;32mdef\u001b[0m \u001b[0msort_recs_for_two\u001b[0m\u001b[0;34m(\u001b[0m\u001b[0mself\u001b[0m\u001b[0;34m,\u001b[0m \u001b[0muser1\u001b[0m\u001b[0;34m,\u001b[0m \u001b[0muser2\u001b[0m\u001b[0;34m,\u001b[0m \u001b[0mpreds_database\u001b[0m\u001b[0;34m)\u001b[0m\u001b[0;34m:\u001b[0m\u001b[0;34m\u001b[0m\u001b[0m\n\u001b[0;32m---> 89\u001b[0;31m         \u001b[0mu1\u001b[0m \u001b[0;34m=\u001b[0m \u001b[0mpreds_database\u001b[0m\u001b[0;34m.\u001b[0m\u001b[0mloc\u001b[0m\u001b[0;34m[\u001b[0m\u001b[0muser1\u001b[0m\u001b[0;34m]\u001b[0m\u001b[0;34m\u001b[0m\u001b[0m\n\u001b[0m\u001b[1;32m     90\u001b[0m         \u001b[0mu2\u001b[0m \u001b[0;34m=\u001b[0m \u001b[0mpreds_database\u001b[0m\u001b[0;34m.\u001b[0m\u001b[0mloc\u001b[0m\u001b[0;34m[\u001b[0m\u001b[0muser2\u001b[0m\u001b[0;34m]\u001b[0m\u001b[0;34m\u001b[0m\u001b[0m\n\u001b[1;32m     91\u001b[0m         \u001b[0mdouble_df\u001b[0m \u001b[0;34m=\u001b[0m \u001b[0mpd\u001b[0m\u001b[0;34m.\u001b[0m\u001b[0mconcat\u001b[0m\u001b[0;34m(\u001b[0m\u001b[0;34m[\u001b[0m\u001b[0mu1\u001b[0m\u001b[0;34m,\u001b[0m \u001b[0mu2\u001b[0m\u001b[0;34m]\u001b[0m\u001b[0;34m,\u001b[0m \u001b[0maxis\u001b[0m\u001b[0;34m=\u001b[0m\u001b[0;36m1\u001b[0m\u001b[0;34m,\u001b[0m \u001b[0msort\u001b[0m\u001b[0;34m=\u001b[0m\u001b[0;32mFalse\u001b[0m\u001b[0;34m)\u001b[0m\u001b[0;34m\u001b[0m\u001b[0m\n",
      "\u001b[0;32m/Users/gnishimura/anaconda/lib/python3.6/site-packages/pandas/core/indexing.py\u001b[0m in \u001b[0;36m__getitem__\u001b[0;34m(self, key)\u001b[0m\n\u001b[1;32m   1476\u001b[0m \u001b[0;34m\u001b[0m\u001b[0m\n\u001b[1;32m   1477\u001b[0m             \u001b[0mmaybe_callable\u001b[0m \u001b[0;34m=\u001b[0m \u001b[0mcom\u001b[0m\u001b[0;34m.\u001b[0m\u001b[0m_apply_if_callable\u001b[0m\u001b[0;34m(\u001b[0m\u001b[0mkey\u001b[0m\u001b[0;34m,\u001b[0m \u001b[0mself\u001b[0m\u001b[0;34m.\u001b[0m\u001b[0mobj\u001b[0m\u001b[0;34m)\u001b[0m\u001b[0;34m\u001b[0m\u001b[0m\n\u001b[0;32m-> 1478\u001b[0;31m             \u001b[0;32mreturn\u001b[0m \u001b[0mself\u001b[0m\u001b[0;34m.\u001b[0m\u001b[0m_getitem_axis\u001b[0m\u001b[0;34m(\u001b[0m\u001b[0mmaybe_callable\u001b[0m\u001b[0;34m,\u001b[0m \u001b[0maxis\u001b[0m\u001b[0;34m=\u001b[0m\u001b[0maxis\u001b[0m\u001b[0;34m)\u001b[0m\u001b[0;34m\u001b[0m\u001b[0m\n\u001b[0m\u001b[1;32m   1479\u001b[0m \u001b[0;34m\u001b[0m\u001b[0m\n\u001b[1;32m   1480\u001b[0m     \u001b[0;32mdef\u001b[0m \u001b[0m_is_scalar_access\u001b[0m\u001b[0;34m(\u001b[0m\u001b[0mself\u001b[0m\u001b[0;34m,\u001b[0m \u001b[0mkey\u001b[0m\u001b[0;34m)\u001b[0m\u001b[0;34m:\u001b[0m\u001b[0;34m\u001b[0m\u001b[0m\n",
      "\u001b[0;32m/Users/gnishimura/anaconda/lib/python3.6/site-packages/pandas/core/indexing.py\u001b[0m in \u001b[0;36m_getitem_axis\u001b[0;34m(self, key, axis)\u001b[0m\n\u001b[1;32m   1899\u001b[0m                     \u001b[0;32mraise\u001b[0m \u001b[0mValueError\u001b[0m\u001b[0;34m(\u001b[0m\u001b[0;34m'Cannot index with multidimensional key'\u001b[0m\u001b[0;34m)\u001b[0m\u001b[0;34m\u001b[0m\u001b[0m\n\u001b[1;32m   1900\u001b[0m \u001b[0;34m\u001b[0m\u001b[0m\n\u001b[0;32m-> 1901\u001b[0;31m                 \u001b[0;32mreturn\u001b[0m \u001b[0mself\u001b[0m\u001b[0;34m.\u001b[0m\u001b[0m_getitem_iterable\u001b[0m\u001b[0;34m(\u001b[0m\u001b[0mkey\u001b[0m\u001b[0;34m,\u001b[0m \u001b[0maxis\u001b[0m\u001b[0;34m=\u001b[0m\u001b[0maxis\u001b[0m\u001b[0;34m)\u001b[0m\u001b[0;34m\u001b[0m\u001b[0m\n\u001b[0m\u001b[1;32m   1902\u001b[0m \u001b[0;34m\u001b[0m\u001b[0m\n\u001b[1;32m   1903\u001b[0m             \u001b[0;31m# nested tuple slicing\u001b[0m\u001b[0;34m\u001b[0m\u001b[0;34m\u001b[0m\u001b[0m\n",
      "\u001b[0;32m/Users/gnishimura/anaconda/lib/python3.6/site-packages/pandas/core/indexing.py\u001b[0m in \u001b[0;36m_getitem_iterable\u001b[0;34m(self, key, axis)\u001b[0m\n\u001b[1;32m   1141\u001b[0m             \u001b[0;32mif\u001b[0m \u001b[0mlabels\u001b[0m\u001b[0;34m.\u001b[0m\u001b[0mis_unique\u001b[0m \u001b[0;32mand\u001b[0m \u001b[0mIndex\u001b[0m\u001b[0;34m(\u001b[0m\u001b[0mkeyarr\u001b[0m\u001b[0;34m)\u001b[0m\u001b[0;34m.\u001b[0m\u001b[0mis_unique\u001b[0m\u001b[0;34m:\u001b[0m\u001b[0;34m\u001b[0m\u001b[0m\n\u001b[1;32m   1142\u001b[0m                 \u001b[0mindexer\u001b[0m \u001b[0;34m=\u001b[0m \u001b[0max\u001b[0m\u001b[0;34m.\u001b[0m\u001b[0mget_indexer_for\u001b[0m\u001b[0;34m(\u001b[0m\u001b[0mkey\u001b[0m\u001b[0;34m)\u001b[0m\u001b[0;34m\u001b[0m\u001b[0m\n\u001b[0;32m-> 1143\u001b[0;31m                 \u001b[0mself\u001b[0m\u001b[0;34m.\u001b[0m\u001b[0m_validate_read_indexer\u001b[0m\u001b[0;34m(\u001b[0m\u001b[0mkey\u001b[0m\u001b[0;34m,\u001b[0m \u001b[0mindexer\u001b[0m\u001b[0;34m,\u001b[0m \u001b[0maxis\u001b[0m\u001b[0;34m)\u001b[0m\u001b[0;34m\u001b[0m\u001b[0m\n\u001b[0m\u001b[1;32m   1144\u001b[0m \u001b[0;34m\u001b[0m\u001b[0m\n\u001b[1;32m   1145\u001b[0m                 \u001b[0md\u001b[0m \u001b[0;34m=\u001b[0m \u001b[0;34m{\u001b[0m\u001b[0maxis\u001b[0m\u001b[0;34m:\u001b[0m \u001b[0;34m[\u001b[0m\u001b[0max\u001b[0m\u001b[0;34m.\u001b[0m\u001b[0mreindex\u001b[0m\u001b[0;34m(\u001b[0m\u001b[0mkeyarr\u001b[0m\u001b[0;34m)\u001b[0m\u001b[0;34m[\u001b[0m\u001b[0;36m0\u001b[0m\u001b[0;34m]\u001b[0m\u001b[0;34m,\u001b[0m \u001b[0mindexer\u001b[0m\u001b[0;34m]\u001b[0m\u001b[0;34m}\u001b[0m\u001b[0;34m\u001b[0m\u001b[0m\n",
      "\u001b[0;32m/Users/gnishimura/anaconda/lib/python3.6/site-packages/pandas/core/indexing.py\u001b[0m in \u001b[0;36m_validate_read_indexer\u001b[0;34m(self, key, indexer, axis)\u001b[0m\n\u001b[1;32m   1204\u001b[0m                 raise KeyError(\n\u001b[1;32m   1205\u001b[0m                     u\"None of [{key}] are in the [{axis}]\".format(\n\u001b[0;32m-> 1206\u001b[0;31m                         key=key, axis=self.obj._get_axis_name(axis)))\n\u001b[0m\u001b[1;32m   1207\u001b[0m \u001b[0;34m\u001b[0m\u001b[0m\n\u001b[1;32m   1208\u001b[0m             \u001b[0;31m# we skip the warning on Categorical/Interval\u001b[0m\u001b[0;34m\u001b[0m\u001b[0;34m\u001b[0m\u001b[0m\n",
      "\u001b[0;31mKeyError\u001b[0m: \"None of [{'_id': ObjectId('5c0fee7691d56f3b9ac1e345'), 'user': 'gabe', 'survey': {'green-leaf-vietnamese-restaurant-seattle': 8, 'il-corvo-pasta-seattle': 9, 'mee-sum-pastry-seattle': 0}}] are in the [index]\""
     ]
    }
   ],
   "source": [
    "recommend('gabe', 'jack')"
   ]
  },
  {
   "cell_type": "code",
   "execution_count": 96,
   "metadata": {},
   "outputs": [
    {
     "ename": "AttributeError",
     "evalue": "'ALSRecommender' object has no attribute 'top_recs'",
     "output_type": "error",
     "traceback": [
      "\u001b[0;31m---------------------------------------------------------------------------\u001b[0m",
      "\u001b[0;31mAttributeError\u001b[0m                            Traceback (most recent call last)",
      "\u001b[0;32m<ipython-input-96-1c492ae3261e>\u001b[0m in \u001b[0;36m<module>\u001b[0;34m()\u001b[0m\n\u001b[0;32m----> 1\u001b[0;31m \u001b[0mrecommender\u001b[0m\u001b[0;34m.\u001b[0m\u001b[0mtop_recs\u001b[0m\u001b[0;34m(\u001b[0m\u001b[0;34m'gabe'\u001b[0m\u001b[0;34m,\u001b[0m \u001b[0;34m'jack'\u001b[0m\u001b[0;34m)\u001b[0m\u001b[0;34m\u001b[0m\u001b[0m\n\u001b[0m",
      "\u001b[0;31mAttributeError\u001b[0m: 'ALSRecommender' object has no attribute 'top_recs'"
     ]
    }
   ],
   "source": [
    "recommender.top_recs('gabe', 'jack')"
   ]
  },
  {
   "cell_type": "code",
   "execution_count": null,
   "metadata": {
    "collapsed": true
   },
   "outputs": [],
   "source": []
  }
 ],
 "metadata": {
  "kernelspec": {
   "display_name": "Python 3",
   "language": "python",
   "name": "python3"
  },
  "language_info": {
   "codemirror_mode": {
    "name": "ipython",
    "version": 3
   },
   "file_extension": ".py",
   "mimetype": "text/x-python",
   "name": "python",
   "nbconvert_exporter": "python",
   "pygments_lexer": "ipython3",
   "version": "3.6.6"
  }
 },
 "nbformat": 4,
 "nbformat_minor": 2
}
