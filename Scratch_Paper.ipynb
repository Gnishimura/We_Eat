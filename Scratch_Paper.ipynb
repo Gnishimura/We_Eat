{
 "cells": [
  {
   "cell_type": "code",
   "execution_count": 42,
   "metadata": {},
   "outputs": [],
   "source": [
    "import pandas as pd\n",
    "import numpy as np\n",
    "from ALS_recommender import ALSRecommender\n",
    "from survey_results import survey\n",
    "import pickle\n",
    "from pymongo import MongoClient"
   ]
  },
  {
   "cell_type": "code",
   "execution_count": 11,
   "metadata": {
    "collapsed": true
   },
   "outputs": [],
   "source": [
    "we_eat_client = MongoClient()"
   ]
  },
  {
   "cell_type": "code",
   "execution_count": 12,
   "metadata": {
    "collapsed": true
   },
   "outputs": [],
   "source": [
    "we_eat_database = we_eat_client['we_eat']\n",
    "survey_collection = we_eat_database['surveys']"
   ]
  },
  {
   "cell_type": "code",
   "execution_count": 6,
   "metadata": {},
   "outputs": [],
   "source": [
    "item_factors_df = pd.read_pickle('webapp/data/item_factors_df.pkl')"
   ]
  },
  {
   "cell_type": "code",
   "execution_count": 7,
   "metadata": {},
   "outputs": [],
   "source": [
    "with open('webapp/data/inv_alias_dict.pickle', 'rb') as f:\n",
    "    inv_alias_dict = pickle.load(f)"
   ]
  },
  {
   "cell_type": "code",
   "execution_count": 28,
   "metadata": {},
   "outputs": [],
   "source": [
    "user1 = survey_collection.find_one({'user': 'gabe'})"
   ]
  },
  {
   "cell_type": "code",
   "execution_count": 29,
   "metadata": {},
   "outputs": [
    {
     "data": {
      "text/plain": [
       "{'_id': ObjectId('5c0fee7691d56f3b9ac1e345'),\n",
       " 'survey': {'green-leaf-vietnamese-restaurant-seattle': 8,\n",
       "  'il-corvo-pasta-seattle': 9,\n",
       "  'mee-sum-pastry-seattle': 0},\n",
       " 'user': 'gabe'}"
      ]
     },
     "execution_count": 29,
     "metadata": {},
     "output_type": "execute_result"
    }
   ],
   "source": [
    "user1"
   ]
  },
  {
   "cell_type": "code",
   "execution_count": 45,
   "metadata": {
    "collapsed": true
   },
   "outputs": [],
   "source": [
    "user2 = survey_collection.find_one({'user': 'jack'})"
   ]
  },
  {
   "cell_type": "code",
   "execution_count": 50,
   "metadata": {},
   "outputs": [
    {
     "data": {
      "text/html": [
       "<div>\n",
       "<style scoped>\n",
       "    .dataframe tbody tr th:only-of-type {\n",
       "        vertical-align: middle;\n",
       "    }\n",
       "\n",
       "    .dataframe tbody tr th {\n",
       "        vertical-align: top;\n",
       "    }\n",
       "\n",
       "    .dataframe thead th {\n",
       "        text-align: right;\n",
       "    }\n",
       "</style>\n",
       "<table border=\"1\" class=\"dataframe\">\n",
       "  <thead>\n",
       "    <tr style=\"text-align: right;\">\n",
       "      <th></th>\n",
       "      <th>amazon-go-seattle-5</th>\n",
       "      <th>the-pink-door-seattle-4</th>\n",
       "      <th>nirmals-seattle</th>\n",
       "      <th>biscuit-bitch-seattle-5</th>\n",
       "      <th>damn-the-weather-seattle</th>\n",
       "      <th>bad-bishop-seattle</th>\n",
       "      <th>pike-place-chowder-seattle</th>\n",
       "      <th>tsukushinbo-seattle</th>\n",
       "      <th>taylor-shellfish-oyster-bar-seattle-2</th>\n",
       "      <th>elliotts-oyster-house-seattle-2</th>\n",
       "      <th>...</th>\n",
       "      <th>mediterranean-cuisine-seattle</th>\n",
       "      <th>ricenroll-seattle-2</th>\n",
       "      <th>union-deli-la-puget-sound-plaza-building-seattle</th>\n",
       "      <th>measure-seattle</th>\n",
       "      <th>subway-seattle-3</th>\n",
       "      <th>u-bank-cafe-seattle</th>\n",
       "      <th>subway-seattle-31</th>\n",
       "      <th>subway-seattle-66</th>\n",
       "      <th>organic-to-go-seattle-4</th>\n",
       "      <th>chez-dave-seattle-2</th>\n",
       "    </tr>\n",
       "  </thead>\n",
       "  <tbody>\n",
       "    <tr>\n",
       "      <th>jack</th>\n",
       "      <td>3.360238</td>\n",
       "      <td>2.930531</td>\n",
       "      <td>2.953157</td>\n",
       "      <td>3.842759</td>\n",
       "      <td>4.538444</td>\n",
       "      <td>2.334373</td>\n",
       "      <td>1.930434</td>\n",
       "      <td>1.12574</td>\n",
       "      <td>3.879147</td>\n",
       "      <td>2.841792</td>\n",
       "      <td>...</td>\n",
       "      <td>2.179335</td>\n",
       "      <td>1.104366</td>\n",
       "      <td>-0.865688</td>\n",
       "      <td>2.236233</td>\n",
       "      <td>3.464141</td>\n",
       "      <td>1.55824</td>\n",
       "      <td>1.787557</td>\n",
       "      <td>4.806378</td>\n",
       "      <td>2.323651</td>\n",
       "      <td>3.018861</td>\n",
       "    </tr>\n",
       "  </tbody>\n",
       "</table>\n",
       "<p>1 rows × 621 columns</p>\n",
       "</div>"
      ],
      "text/plain": [
       "      amazon-go-seattle-5  the-pink-door-seattle-4  nirmals-seattle  \\\n",
       "jack             3.360238                 2.930531         2.953157   \n",
       "\n",
       "      biscuit-bitch-seattle-5  damn-the-weather-seattle  bad-bishop-seattle  \\\n",
       "jack                 3.842759                  4.538444            2.334373   \n",
       "\n",
       "      pike-place-chowder-seattle  tsukushinbo-seattle  \\\n",
       "jack                    1.930434              1.12574   \n",
       "\n",
       "      taylor-shellfish-oyster-bar-seattle-2  elliotts-oyster-house-seattle-2  \\\n",
       "jack                               3.879147                         2.841792   \n",
       "\n",
       "             ...           mediterranean-cuisine-seattle  ricenroll-seattle-2  \\\n",
       "jack         ...                                2.179335             1.104366   \n",
       "\n",
       "      union-deli-la-puget-sound-plaza-building-seattle  measure-seattle  \\\n",
       "jack                                         -0.865688         2.236233   \n",
       "\n",
       "      subway-seattle-3  u-bank-cafe-seattle  subway-seattle-31  \\\n",
       "jack          3.464141              1.55824           1.787557   \n",
       "\n",
       "      subway-seattle-66  organic-to-go-seattle-4  chez-dave-seattle-2  \n",
       "jack           4.806378                 2.323651             3.018861  \n",
       "\n",
       "[1 rows x 621 columns]"
      ]
     },
     "execution_count": 50,
     "metadata": {},
     "output_type": "execute_result"
    }
   ],
   "source": [
    "user2_df = recommender.user_preds_from_survey(user2)\n",
    "user2_df"
   ]
  },
  {
   "cell_type": "code",
   "execution_count": 43,
   "metadata": {},
   "outputs": [],
   "source": [
    "recommender = ALSRecommender(item_factors_df, inv_alias_dict)"
   ]
  },
  {
   "cell_type": "code",
   "execution_count": 44,
   "metadata": {},
   "outputs": [
    {
     "data": {
      "text/html": [
       "<div>\n",
       "<style scoped>\n",
       "    .dataframe tbody tr th:only-of-type {\n",
       "        vertical-align: middle;\n",
       "    }\n",
       "\n",
       "    .dataframe tbody tr th {\n",
       "        vertical-align: top;\n",
       "    }\n",
       "\n",
       "    .dataframe thead th {\n",
       "        text-align: right;\n",
       "    }\n",
       "</style>\n",
       "<table border=\"1\" class=\"dataframe\">\n",
       "  <thead>\n",
       "    <tr style=\"text-align: right;\">\n",
       "      <th></th>\n",
       "      <th>amazon-go-seattle-5</th>\n",
       "      <th>the-pink-door-seattle-4</th>\n",
       "      <th>nirmals-seattle</th>\n",
       "      <th>biscuit-bitch-seattle-5</th>\n",
       "      <th>damn-the-weather-seattle</th>\n",
       "      <th>bad-bishop-seattle</th>\n",
       "      <th>pike-place-chowder-seattle</th>\n",
       "      <th>tsukushinbo-seattle</th>\n",
       "      <th>taylor-shellfish-oyster-bar-seattle-2</th>\n",
       "      <th>elliotts-oyster-house-seattle-2</th>\n",
       "      <th>...</th>\n",
       "      <th>mediterranean-cuisine-seattle</th>\n",
       "      <th>ricenroll-seattle-2</th>\n",
       "      <th>union-deli-la-puget-sound-plaza-building-seattle</th>\n",
       "      <th>measure-seattle</th>\n",
       "      <th>subway-seattle-3</th>\n",
       "      <th>u-bank-cafe-seattle</th>\n",
       "      <th>subway-seattle-31</th>\n",
       "      <th>subway-seattle-66</th>\n",
       "      <th>organic-to-go-seattle-4</th>\n",
       "      <th>chez-dave-seattle-2</th>\n",
       "    </tr>\n",
       "  </thead>\n",
       "  <tbody>\n",
       "    <tr>\n",
       "      <th>gabe</th>\n",
       "      <td>4.467413</td>\n",
       "      <td>1.929282</td>\n",
       "      <td>2.93576</td>\n",
       "      <td>1.890571</td>\n",
       "      <td>1.690533</td>\n",
       "      <td>2.315328</td>\n",
       "      <td>2.863935</td>\n",
       "      <td>5.852221</td>\n",
       "      <td>2.394073</td>\n",
       "      <td>3.751703</td>\n",
       "      <td>...</td>\n",
       "      <td>2.773306</td>\n",
       "      <td>3.938057</td>\n",
       "      <td>6.201645</td>\n",
       "      <td>4.891362</td>\n",
       "      <td>4.191251</td>\n",
       "      <td>0.657362</td>\n",
       "      <td>4.023153</td>\n",
       "      <td>1.958372</td>\n",
       "      <td>1.534925</td>\n",
       "      <td>1.152642</td>\n",
       "    </tr>\n",
       "  </tbody>\n",
       "</table>\n",
       "<p>1 rows × 621 columns</p>\n",
       "</div>"
      ],
      "text/plain": [
       "      amazon-go-seattle-5  the-pink-door-seattle-4  nirmals-seattle  \\\n",
       "gabe             4.467413                 1.929282          2.93576   \n",
       "\n",
       "      biscuit-bitch-seattle-5  damn-the-weather-seattle  bad-bishop-seattle  \\\n",
       "gabe                 1.890571                  1.690533            2.315328   \n",
       "\n",
       "      pike-place-chowder-seattle  tsukushinbo-seattle  \\\n",
       "gabe                    2.863935             5.852221   \n",
       "\n",
       "      taylor-shellfish-oyster-bar-seattle-2  elliotts-oyster-house-seattle-2  \\\n",
       "gabe                               2.394073                         3.751703   \n",
       "\n",
       "             ...           mediterranean-cuisine-seattle  ricenroll-seattle-2  \\\n",
       "gabe         ...                                2.773306             3.938057   \n",
       "\n",
       "      union-deli-la-puget-sound-plaza-building-seattle  measure-seattle  \\\n",
       "gabe                                          6.201645         4.891362   \n",
       "\n",
       "      subway-seattle-3  u-bank-cafe-seattle  subway-seattle-31  \\\n",
       "gabe          4.191251             0.657362           4.023153   \n",
       "\n",
       "      subway-seattle-66  organic-to-go-seattle-4  chez-dave-seattle-2  \n",
       "gabe           1.958372                 1.534925             1.152642  \n",
       "\n",
       "[1 rows x 621 columns]"
      ]
     },
     "execution_count": 44,
     "metadata": {},
     "output_type": "execute_result"
    }
   ],
   "source": [
    "recommender.user_preds_from_survey(user1)"
   ]
  },
  {
   "cell_type": "code",
   "execution_count": 54,
   "metadata": {
    "collapsed": true
   },
   "outputs": [],
   "source": [
    "def recommend(user1, user2):\n",
    "    \"\"\"Return a recommendation, given two usernames.\"\"\"\n",
    "    #data = request.get_json()\n",
    "    user1 = survey_collection.find_one({'user': user1})\n",
    "    user2 = survey_collection.find_one({'user': user2})\n",
    "    recommender = ALSRecommender(item_factors_df, inv_alias_dict)\n",
    "    user1_df = recommender.user_preds_from_survey(user1)\n",
    "    user2_df = recommender.user_preds_from_survey(user2)\n",
    "    preds_df = recommender.compile_df(user1_df, user2_df)\n",
    "    rec = recommender.get_a_rec(user1, user2, preds_df)\n",
    "    return rec"
   ]
  },
  {
   "cell_type": "code",
   "execution_count": 59,
   "metadata": {},
   "outputs": [
    {
     "data": {
      "text/html": [
       "<div>\n",
       "<style scoped>\n",
       "    .dataframe tbody tr th:only-of-type {\n",
       "        vertical-align: middle;\n",
       "    }\n",
       "\n",
       "    .dataframe tbody tr th {\n",
       "        vertical-align: top;\n",
       "    }\n",
       "\n",
       "    .dataframe thead th {\n",
       "        text-align: right;\n",
       "    }\n",
       "</style>\n",
       "<table border=\"1\" class=\"dataframe\">\n",
       "  <thead>\n",
       "    <tr style=\"text-align: right;\">\n",
       "      <th></th>\n",
       "      <th>gabe</th>\n",
       "      <th>jack</th>\n",
       "      <th>mean</th>\n",
       "    </tr>\n",
       "  </thead>\n",
       "  <tbody>\n",
       "    <tr>\n",
       "      <th>thai-place-seattle</th>\n",
       "      <td>4.279612</td>\n",
       "      <td>4.49326</td>\n",
       "      <td>4.386436</td>\n",
       "    </tr>\n",
       "  </tbody>\n",
       "</table>\n",
       "</div>"
      ],
      "text/plain": [
       "                        gabe     jack      mean\n",
       "thai-place-seattle  4.279612  4.49326  4.386436"
      ]
     },
     "execution_count": 59,
     "metadata": {},
     "output_type": "execute_result"
    }
   ],
   "source": [
    "recommend('gabe', 'jack')"
   ]
  },
  {
   "cell_type": "code",
   "execution_count": null,
   "metadata": {
    "collapsed": true
   },
   "outputs": [],
   "source": []
  }
 ],
 "metadata": {
  "kernelspec": {
   "display_name": "Python 3",
   "language": "python",
   "name": "python3"
  },
  "language_info": {
   "codemirror_mode": {
    "name": "ipython",
    "version": 3
   },
   "file_extension": ".py",
   "mimetype": "text/x-python",
   "name": "python",
   "nbconvert_exporter": "python",
   "pygments_lexer": "ipython3",
   "version": "3.6.6"
  }
 },
 "nbformat": 4,
 "nbformat_minor": 2
}
