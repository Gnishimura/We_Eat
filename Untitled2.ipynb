{
 "cells": [
  {
   "cell_type": "code",
   "execution_count": 1,
   "metadata": {
    "collapsed": true
   },
   "outputs": [],
   "source": [
    "from pymongo import MongoClient\n",
    "from bs4 import BeautifulSoup\n",
    "import pandas as pd\n",
    "\n",
    "we_eat_client = MongoClient()\n",
    "we_eat_db = we_eat_client['we_eat']\n",
    "website_collection = we_eat_db['websites']\n",
    "more_business_info_collection = we_eat_db['more_business_info']"
   ]
  },
  {
   "cell_type": "code",
   "execution_count": 3,
   "metadata": {},
   "outputs": [
    {
     "data": {
      "text/plain": [
       "{'Accepts Apple Pay': 'No',\n",
       " 'Accepts Credit Cards': 'Yes',\n",
       " 'Accepts Google Pay': 'No',\n",
       " 'Alcohol': 'Full Bar',\n",
       " 'Ambience': 'Romantic',\n",
       " 'Attire': 'Casual',\n",
       " 'Best Nights': 'Wed, Fri, Sat',\n",
       " 'Bike Parking': 'Yes',\n",
       " 'Caters': 'No',\n",
       " 'Coat Check': 'Yes',\n",
       " 'Delivery': 'No',\n",
       " 'Good For': 'Dinner',\n",
       " 'Good For Dancing': 'No',\n",
       " 'Good for Groups': 'Yes',\n",
       " 'Good for Kids': 'No',\n",
       " 'Has Dairy-free Options': 'Yes',\n",
       " 'Has Gluten-free Options': 'Yes',\n",
       " 'Has TV': 'No',\n",
       " 'Liked by Vegans': 'Yes',\n",
       " 'Liked by Vegetarians': 'Yes',\n",
       " 'Noise Level': 'Average',\n",
       " 'Outdoor Seating': 'Yes',\n",
       " 'Parking': 'Garage, Street',\n",
       " 'Take-out': 'No',\n",
       " 'Takes Reservations': 'Yes',\n",
       " 'Waiter Service': 'Yes',\n",
       " 'Wheelchair Accessible': 'No',\n",
       " 'Wi-Fi': 'Free',\n",
       " '_id': ObjectId('5c0840ff91d56fd48730030b'),\n",
       " 'alias': 'the-pink-door-seattle-4'}"
      ]
     },
     "execution_count": 3,
     "metadata": {},
     "output_type": "execute_result"
    }
   ],
   "source": [
    "more_business_info_collection.find_one({'alias': 'the-pink-door-seattle-4'})"
   ]
  },
  {
   "cell_type": "code",
   "execution_count": null,
   "metadata": {
    "collapsed": true
   },
   "outputs": [],
   "source": []
  }
 ],
 "metadata": {
  "kernelspec": {
   "display_name": "Python 3",
   "language": "python",
   "name": "python3"
  },
  "language_info": {
   "codemirror_mode": {
    "name": "ipython",
    "version": 3
   },
   "file_extension": ".py",
   "mimetype": "text/x-python",
   "name": "python",
   "nbconvert_exporter": "python",
   "pygments_lexer": "ipython3",
   "version": "3.6.6"
  }
 },
 "nbformat": 4,
 "nbformat_minor": 2
}
