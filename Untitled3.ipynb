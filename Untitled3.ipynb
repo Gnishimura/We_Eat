{
 "cells": [
  {
   "cell_type": "code",
   "execution_count": 1,
   "metadata": {
    "collapsed": true
   },
   "outputs": [],
   "source": [
    "import pandas as pd\n",
    "import numpy as np\n",
    "from ALS_recommender import ALSRecommender\n",
    "from survey_results import survey\n",
    "import pickle"
   ]
  },
  {
   "cell_type": "code",
   "execution_count": 2,
   "metadata": {
    "collapsed": true
   },
   "outputs": [],
   "source": [
    "item_factors_df = pd.read_pickle('item_factors_df.pkl')"
   ]
  },
  {
   "cell_type": "code",
   "execution_count": 3,
   "metadata": {},
   "outputs": [],
   "source": [
    "with open('inv_alias_dict.pickle', 'rb') as f:\n",
    "    inv_alias_dict = pickle.load(f)"
   ]
  },
  {
   "cell_type": "code",
   "execution_count": null,
   "metadata": {
    "collapsed": true
   },
   "outputs": [],
   "source": []
  },
  {
   "cell_type": "code",
   "execution_count": null,
   "metadata": {
    "collapsed": true
   },
   "outputs": [],
   "source": []
  },
  {
   "cell_type": "code",
   "execution_count": 26,
   "metadata": {
    "collapsed": true
   },
   "outputs": [],
   "source": [
    "recommender = ALSRecommender(item_factors_df, inv_alias_dict)"
   ]
  },
  {
   "cell_type": "code",
   "execution_count": 31,
   "metadata": {},
   "outputs": [
    {
     "data": {
      "text/html": [
       "<div>\n",
       "<style scoped>\n",
       "    .dataframe tbody tr th:only-of-type {\n",
       "        vertical-align: middle;\n",
       "    }\n",
       "\n",
       "    .dataframe tbody tr th {\n",
       "        vertical-align: top;\n",
       "    }\n",
       "\n",
       "    .dataframe thead th {\n",
       "        text-align: right;\n",
       "    }\n",
       "</style>\n",
       "<table border=\"1\" class=\"dataframe\">\n",
       "  <thead>\n",
       "    <tr style=\"text-align: right;\">\n",
       "      <th></th>\n",
       "      <th>amazon-go-seattle-5</th>\n",
       "      <th>the-pink-door-seattle-4</th>\n",
       "      <th>nirmals-seattle</th>\n",
       "      <th>biscuit-bitch-seattle-5</th>\n",
       "      <th>damn-the-weather-seattle</th>\n",
       "      <th>bad-bishop-seattle</th>\n",
       "      <th>pike-place-chowder-seattle</th>\n",
       "      <th>tsukushinbo-seattle</th>\n",
       "      <th>taylor-shellfish-oyster-bar-seattle-2</th>\n",
       "      <th>elliotts-oyster-house-seattle-2</th>\n",
       "      <th>...</th>\n",
       "      <th>mediterranean-cuisine-seattle</th>\n",
       "      <th>ricenroll-seattle-2</th>\n",
       "      <th>union-deli-la-puget-sound-plaza-building-seattle</th>\n",
       "      <th>measure-seattle</th>\n",
       "      <th>subway-seattle-3</th>\n",
       "      <th>u-bank-cafe-seattle</th>\n",
       "      <th>subway-seattle-31</th>\n",
       "      <th>subway-seattle-66</th>\n",
       "      <th>organic-to-go-seattle-4</th>\n",
       "      <th>chez-dave-seattle-2</th>\n",
       "    </tr>\n",
       "  </thead>\n",
       "  <tbody>\n",
       "    <tr>\n",
       "      <th>gabe</th>\n",
       "      <td>-0.204846</td>\n",
       "      <td>2.369452</td>\n",
       "      <td>-0.278558</td>\n",
       "      <td>1.278298</td>\n",
       "      <td>-0.894885</td>\n",
       "      <td>1.060026</td>\n",
       "      <td>1.726565</td>\n",
       "      <td>2.129003</td>\n",
       "      <td>1.576984</td>\n",
       "      <td>2.789261</td>\n",
       "      <td>...</td>\n",
       "      <td>2.205422</td>\n",
       "      <td>3.259448</td>\n",
       "      <td>0.120804</td>\n",
       "      <td>0.572778</td>\n",
       "      <td>2.354436</td>\n",
       "      <td>-0.095351</td>\n",
       "      <td>1.013983</td>\n",
       "      <td>1.0897</td>\n",
       "      <td>0.746585</td>\n",
       "      <td>-1.937756</td>\n",
       "    </tr>\n",
       "  </tbody>\n",
       "</table>\n",
       "<p>1 rows × 621 columns</p>\n",
       "</div>"
      ],
      "text/plain": [
       "      amazon-go-seattle-5  the-pink-door-seattle-4  nirmals-seattle  \\\n",
       "gabe            -0.204846                 2.369452        -0.278558   \n",
       "\n",
       "      biscuit-bitch-seattle-5  damn-the-weather-seattle  bad-bishop-seattle  \\\n",
       "gabe                 1.278298                 -0.894885            1.060026   \n",
       "\n",
       "      pike-place-chowder-seattle  tsukushinbo-seattle  \\\n",
       "gabe                    1.726565             2.129003   \n",
       "\n",
       "      taylor-shellfish-oyster-bar-seattle-2  elliotts-oyster-house-seattle-2  \\\n",
       "gabe                               1.576984                         2.789261   \n",
       "\n",
       "             ...           mediterranean-cuisine-seattle  ricenroll-seattle-2  \\\n",
       "gabe         ...                                2.205422             3.259448   \n",
       "\n",
       "      union-deli-la-puget-sound-plaza-building-seattle  measure-seattle  \\\n",
       "gabe                                          0.120804         0.572778   \n",
       "\n",
       "      subway-seattle-3  u-bank-cafe-seattle  subway-seattle-31  \\\n",
       "gabe          2.354436            -0.095351           1.013983   \n",
       "\n",
       "      subway-seattle-66  organic-to-go-seattle-4  chez-dave-seattle-2  \n",
       "gabe             1.0897                 0.746585            -1.937756  \n",
       "\n",
       "[1 rows x 621 columns]"
      ]
     },
     "execution_count": 31,
     "metadata": {},
     "output_type": "execute_result"
    }
   ],
   "source": [
    "recommender.get_preds_from_single_survey_results(survey)"
   ]
  },
  {
   "cell_type": "code",
   "execution_count": null,
   "metadata": {
    "collapsed": true
   },
   "outputs": [],
   "source": []
  }
 ],
 "metadata": {
  "kernelspec": {
   "display_name": "Python 3",
   "language": "python",
   "name": "python3"
  },
  "language_info": {
   "codemirror_mode": {
    "name": "ipython",
    "version": 3
   },
   "file_extension": ".py",
   "mimetype": "text/x-python",
   "name": "python",
   "nbconvert_exporter": "python",
   "pygments_lexer": "ipython3",
   "version": "3.6.6"
  }
 },
 "nbformat": 4,
 "nbformat_minor": 2
}
