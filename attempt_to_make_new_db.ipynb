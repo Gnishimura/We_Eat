{
 "cells": [
  {
   "cell_type": "code",
   "execution_count": 1,
   "metadata": {},
   "outputs": [
    {
     "ename": "ModuleNotFoundError",
     "evalue": "No module named 'database_fxn'",
     "output_type": "error",
     "traceback": [
      "\u001b[0;31m---------------------------------------------------------------------------\u001b[0m",
      "\u001b[0;31mModuleNotFoundError\u001b[0m                       Traceback (most recent call last)",
      "\u001b[0;32m<ipython-input-1-ab12debf73c4>\u001b[0m in \u001b[0;36m<module>\u001b[0;34m()\u001b[0m\n\u001b[1;32m      1\u001b[0m \u001b[0;32mimport\u001b[0m \u001b[0mpandas\u001b[0m \u001b[0;32mas\u001b[0m \u001b[0mpd\u001b[0m\u001b[0;34m\u001b[0m\u001b[0m\n\u001b[0;32m----> 2\u001b[0;31m from database_fxn import (default_params, load_api_key, \n\u001b[0m\u001b[1;32m      3\u001b[0m                           \u001b[0mmake_request\u001b[0m\u001b[0;34m,\u001b[0m \u001b[0mbuild_database\u001b[0m\u001b[0;34m\u001b[0m\u001b[0m\n\u001b[1;32m      4\u001b[0m                          )\n\u001b[1;32m      5\u001b[0m \u001b[0;32mfrom\u001b[0m \u001b[0mpymongo\u001b[0m \u001b[0;32mimport\u001b[0m \u001b[0mMongoClient\u001b[0m\u001b[0;34m\u001b[0m\u001b[0m\n",
      "\u001b[0;31mModuleNotFoundError\u001b[0m: No module named 'database_fxn'"
     ]
    }
   ],
   "source": [
    "import pandas as pd\n",
    "from database_fxn import (default_params, load_api_key, \n",
    "                          make_request, build_database\n",
    "                         )\n",
    "from pymongo import MongoClient\n",
    "import time\n",
    "import yaml\n",
    "import requests\n"
   ]
  },
  {
   "cell_type": "code",
   "execution_count": null,
   "metadata": {
    "collapsed": true
   },
   "outputs": [],
   "source": []
  },
  {
   "cell_type": "code",
   "execution_count": 3,
   "metadata": {
    "collapsed": true
   },
   "outputs": [],
   "source": [
    "we_eat_client = MongoClient()"
   ]
  },
  {
   "cell_type": "code",
   "execution_count": 4,
   "metadata": {
    "collapsed": true
   },
   "outputs": [],
   "source": [
    "we_eat_database = we_eat_client['we_eat']\n",
    "restaurant_collection = we_eat_database['restaurants']"
   ]
  },
  {
   "cell_type": "code",
   "execution_count": 5,
   "metadata": {
    "collapsed": true
   },
   "outputs": [],
   "source": [
    "def add_to_database_if_new(row):\n",
    "    if restaurant_collection.count_documents({'id': row['id']}) == 0:\n",
    "        restaurant_collection.insert_one(row)"
   ]
  },
  {
   "cell_type": "code",
   "execution_count": 6,
   "metadata": {
    "collapsed": true
   },
   "outputs": [],
   "source": [
    "def retrieve_database():\n",
    "    \"\"\"Return the contents of MongoDB as a dataframe.\"\"\"\n",
    "    return pd.DataFrame(list(restaurant_collection.find({})))\n"
   ]
  },
  {
   "cell_type": "code",
   "execution_count": 8,
   "metadata": {},
   "outputs": [
    {
     "name": "stdout",
     "output_type": "stream",
     "text": [
      "1\n",
      "51\n",
      "101\n",
      "151\n",
      "201\n",
      "251\n",
      "301\n",
      "351\n",
      "401\n",
      "451\n",
      "501\n",
      "551\n",
      "601\n",
      "651\n",
      "701\n",
      "751\n",
      "801\n",
      "851\n",
      "901\n",
      "951\n",
      "No businesses returned\n"
     ]
    }
   ],
   "source": [
    "build_database()"
   ]
  },
  {
   "cell_type": "code",
   "execution_count": 9,
   "metadata": {
    "collapsed": true
   },
   "outputs": [],
   "source": [
    "mile_from_galvanize = retrieve_database()"
   ]
  },
  {
   "cell_type": "code",
   "execution_count": 11,
   "metadata": {},
   "outputs": [
    {
     "data": {
      "text/plain": [
       "(1389, 17)"
      ]
     },
     "execution_count": 11,
     "metadata": {},
     "output_type": "execute_result"
    }
   ],
   "source": [
    "mile_from_galvanize.shape"
   ]
  },
  {
   "cell_type": "code",
   "execution_count": 12,
   "metadata": {},
   "outputs": [
    {
     "data": {
      "text/html": [
       "<div>\n",
       "<style scoped>\n",
       "    .dataframe tbody tr th:only-of-type {\n",
       "        vertical-align: middle;\n",
       "    }\n",
       "\n",
       "    .dataframe tbody tr th {\n",
       "        vertical-align: top;\n",
       "    }\n",
       "\n",
       "    .dataframe thead th {\n",
       "        text-align: right;\n",
       "    }\n",
       "</style>\n",
       "<table border=\"1\" class=\"dataframe\">\n",
       "  <thead>\n",
       "    <tr style=\"text-align: right;\">\n",
       "      <th></th>\n",
       "      <th>_id</th>\n",
       "      <th>alias</th>\n",
       "      <th>categories</th>\n",
       "      <th>coordinates</th>\n",
       "      <th>display_phone</th>\n",
       "      <th>distance</th>\n",
       "      <th>id</th>\n",
       "      <th>image_url</th>\n",
       "      <th>is_closed</th>\n",
       "      <th>location</th>\n",
       "      <th>name</th>\n",
       "      <th>phone</th>\n",
       "      <th>price</th>\n",
       "      <th>rating</th>\n",
       "      <th>review_count</th>\n",
       "      <th>transactions</th>\n",
       "      <th>url</th>\n",
       "    </tr>\n",
       "  </thead>\n",
       "  <tbody>\n",
       "    <tr>\n",
       "      <th>0</th>\n",
       "      <td>5bf5e06f91d56f59f158cfa4</td>\n",
       "      <td>amazon-go-seattle-5</td>\n",
       "      <td>[{'alias': 'convenience', 'title': 'Convenienc...</td>\n",
       "      <td>{'latitude': 47.60638, 'longitude': -122.33122}</td>\n",
       "      <td></td>\n",
       "      <td>493.410866</td>\n",
       "      <td>XDfmz7Woxx6NkZDGBtAVAQ</td>\n",
       "      <td>https://s3-media1.fl.yelpcdn.com/bphoto/fDQhxw...</td>\n",
       "      <td>False</td>\n",
       "      <td>{'address1': '920 5th Ave', 'address2': None, ...</td>\n",
       "      <td>Amazon Go</td>\n",
       "      <td></td>\n",
       "      <td>NaN</td>\n",
       "      <td>5.0</td>\n",
       "      <td>7</td>\n",
       "      <td>[]</td>\n",
       "      <td>https://www.yelp.com/biz/amazon-go-seattle-5?a...</td>\n",
       "    </tr>\n",
       "    <tr>\n",
       "      <th>1</th>\n",
       "      <td>5bf5e06f91d56f59f158cfa5</td>\n",
       "      <td>the-pink-door-seattle-4</td>\n",
       "      <td>[{'alias': 'italian', 'title': 'Italian'}, {'a...</td>\n",
       "      <td>{'latitude': 47.61028, 'longitude': -122.3425}</td>\n",
       "      <td>(206) 443-3241</td>\n",
       "      <td>1327.897033</td>\n",
       "      <td>VOPdG8llLPaga9iJxXcMuQ</td>\n",
       "      <td>https://s3-media1.fl.yelpcdn.com/bphoto/c_vzRF...</td>\n",
       "      <td>False</td>\n",
       "      <td>{'address1': '1919 Post Alley', 'address2': ''...</td>\n",
       "      <td>The Pink Door</td>\n",
       "      <td>+12064433241</td>\n",
       "      <td>$$</td>\n",
       "      <td>4.5</td>\n",
       "      <td>4019</td>\n",
       "      <td>[]</td>\n",
       "      <td>https://www.yelp.com/biz/the-pink-door-seattle...</td>\n",
       "    </tr>\n",
       "    <tr>\n",
       "      <th>2</th>\n",
       "      <td>5bf5e06f91d56f59f158cfa6</td>\n",
       "      <td>nirmals-seattle</td>\n",
       "      <td>[{'alias': 'indpak', 'title': 'Indian'}]</td>\n",
       "      <td>{'latitude': 47.60147, 'longitude': -122.33262}</td>\n",
       "      <td>(206) 683-9701</td>\n",
       "      <td>228.364627</td>\n",
       "      <td>GXz21OgpWOtnCF0GDXHPhA</td>\n",
       "      <td>https://s3-media3.fl.yelpcdn.com/bphoto/LVSEXb...</td>\n",
       "      <td>False</td>\n",
       "      <td>{'address1': '106 Occidental Ave S', 'address2...</td>\n",
       "      <td>Nirmal's</td>\n",
       "      <td>+12066839701</td>\n",
       "      <td>$$</td>\n",
       "      <td>4.0</td>\n",
       "      <td>424</td>\n",
       "      <td>[restaurant_reservation, pickup]</td>\n",
       "      <td>https://www.yelp.com/biz/nirmals-seattle?adjus...</td>\n",
       "    </tr>\n",
       "    <tr>\n",
       "      <th>3</th>\n",
       "      <td>5bf5e06f91d56f59f158cfa7</td>\n",
       "      <td>bad-bishop-seattle</td>\n",
       "      <td>[{'alias': 'cocktailbars', 'title': 'Cocktail ...</td>\n",
       "      <td>{'latitude': 47.60286, 'longitude': -122.33427}</td>\n",
       "      <td>(206) 623-3440</td>\n",
       "      <td>344.167932</td>\n",
       "      <td>KFMsgY5mV_wCYsa0XX_hEQ</td>\n",
       "      <td>https://s3-media1.fl.yelpcdn.com/bphoto/1GpjX0...</td>\n",
       "      <td>False</td>\n",
       "      <td>{'address1': '704 1st Ave', 'address2': None, ...</td>\n",
       "      <td>Bad Bishop</td>\n",
       "      <td>+12066233440</td>\n",
       "      <td>NaN</td>\n",
       "      <td>4.5</td>\n",
       "      <td>6</td>\n",
       "      <td>[]</td>\n",
       "      <td>https://www.yelp.com/biz/bad-bishop-seattle?ad...</td>\n",
       "    </tr>\n",
       "    <tr>\n",
       "      <th>4</th>\n",
       "      <td>5bf5e06f91d56f59f158cfa8</td>\n",
       "      <td>pike-place-chowder-seattle</td>\n",
       "      <td>[{'alias': 'seafood', 'title': 'Seafood'}, {'a...</td>\n",
       "      <td>{'latitude': 47.60939, 'longitude': -122.34112}</td>\n",
       "      <td>(206) 267-2537</td>\n",
       "      <td>1176.460907</td>\n",
       "      <td>6I28wDuMBR5WLMqfKxaoeg</td>\n",
       "      <td>https://s3-media3.fl.yelpcdn.com/bphoto/ijju-w...</td>\n",
       "      <td>False</td>\n",
       "      <td>{'address1': '1530 Post Aly', 'address2': 'Ste...</td>\n",
       "      <td>Pike Place Chowder</td>\n",
       "      <td>+12062672537</td>\n",
       "      <td>$$</td>\n",
       "      <td>4.5</td>\n",
       "      <td>6317</td>\n",
       "      <td>[pickup]</td>\n",
       "      <td>https://www.yelp.com/biz/pike-place-chowder-se...</td>\n",
       "    </tr>\n",
       "  </tbody>\n",
       "</table>\n",
       "</div>"
      ],
      "text/plain": [
       "                        _id                       alias  \\\n",
       "0  5bf5e06f91d56f59f158cfa4         amazon-go-seattle-5   \n",
       "1  5bf5e06f91d56f59f158cfa5     the-pink-door-seattle-4   \n",
       "2  5bf5e06f91d56f59f158cfa6             nirmals-seattle   \n",
       "3  5bf5e06f91d56f59f158cfa7          bad-bishop-seattle   \n",
       "4  5bf5e06f91d56f59f158cfa8  pike-place-chowder-seattle   \n",
       "\n",
       "                                          categories  \\\n",
       "0  [{'alias': 'convenience', 'title': 'Convenienc...   \n",
       "1  [{'alias': 'italian', 'title': 'Italian'}, {'a...   \n",
       "2           [{'alias': 'indpak', 'title': 'Indian'}]   \n",
       "3  [{'alias': 'cocktailbars', 'title': 'Cocktail ...   \n",
       "4  [{'alias': 'seafood', 'title': 'Seafood'}, {'a...   \n",
       "\n",
       "                                       coordinates   display_phone  \\\n",
       "0  {'latitude': 47.60638, 'longitude': -122.33122}                   \n",
       "1   {'latitude': 47.61028, 'longitude': -122.3425}  (206) 443-3241   \n",
       "2  {'latitude': 47.60147, 'longitude': -122.33262}  (206) 683-9701   \n",
       "3  {'latitude': 47.60286, 'longitude': -122.33427}  (206) 623-3440   \n",
       "4  {'latitude': 47.60939, 'longitude': -122.34112}  (206) 267-2537   \n",
       "\n",
       "      distance                      id  \\\n",
       "0   493.410866  XDfmz7Woxx6NkZDGBtAVAQ   \n",
       "1  1327.897033  VOPdG8llLPaga9iJxXcMuQ   \n",
       "2   228.364627  GXz21OgpWOtnCF0GDXHPhA   \n",
       "3   344.167932  KFMsgY5mV_wCYsa0XX_hEQ   \n",
       "4  1176.460907  6I28wDuMBR5WLMqfKxaoeg   \n",
       "\n",
       "                                           image_url  is_closed  \\\n",
       "0  https://s3-media1.fl.yelpcdn.com/bphoto/fDQhxw...      False   \n",
       "1  https://s3-media1.fl.yelpcdn.com/bphoto/c_vzRF...      False   \n",
       "2  https://s3-media3.fl.yelpcdn.com/bphoto/LVSEXb...      False   \n",
       "3  https://s3-media1.fl.yelpcdn.com/bphoto/1GpjX0...      False   \n",
       "4  https://s3-media3.fl.yelpcdn.com/bphoto/ijju-w...      False   \n",
       "\n",
       "                                            location                name  \\\n",
       "0  {'address1': '920 5th Ave', 'address2': None, ...           Amazon Go   \n",
       "1  {'address1': '1919 Post Alley', 'address2': ''...       The Pink Door   \n",
       "2  {'address1': '106 Occidental Ave S', 'address2...            Nirmal's   \n",
       "3  {'address1': '704 1st Ave', 'address2': None, ...          Bad Bishop   \n",
       "4  {'address1': '1530 Post Aly', 'address2': 'Ste...  Pike Place Chowder   \n",
       "\n",
       "          phone price  rating  review_count                      transactions  \\\n",
       "0                 NaN     5.0             7                                []   \n",
       "1  +12064433241    $$     4.5          4019                                []   \n",
       "2  +12066839701    $$     4.0           424  [restaurant_reservation, pickup]   \n",
       "3  +12066233440   NaN     4.5             6                                []   \n",
       "4  +12062672537    $$     4.5          6317                          [pickup]   \n",
       "\n",
       "                                                 url  \n",
       "0  https://www.yelp.com/biz/amazon-go-seattle-5?a...  \n",
       "1  https://www.yelp.com/biz/the-pink-door-seattle...  \n",
       "2  https://www.yelp.com/biz/nirmals-seattle?adjus...  \n",
       "3  https://www.yelp.com/biz/bad-bishop-seattle?ad...  \n",
       "4  https://www.yelp.com/biz/pike-place-chowder-se...  "
      ]
     },
     "execution_count": 12,
     "metadata": {},
     "output_type": "execute_result"
    }
   ],
   "source": [
    "mile_from_galvanize.head()"
   ]
  },
  {
   "cell_type": "code",
   "execution_count": 21,
   "metadata": {
    "collapsed": true
   },
   "outputs": [],
   "source": [
    "def clean_cats(categories):\n",
    "    \"\"\"Change list of categories into a string.\"\"\"\n",
    "    return ','.join(cat['alias'] for cat in categories)\n"
   ]
  },
  {
   "cell_type": "code",
   "execution_count": 22,
   "metadata": {
    "collapsed": true
   },
   "outputs": [],
   "source": [
    "mile_from_galvanize['cats'] = mile_from_galvanize['categories'].apply(clean_cats)"
   ]
  },
  {
   "cell_type": "code",
   "execution_count": 29,
   "metadata": {
    "collapsed": true
   },
   "outputs": [],
   "source": [
    "cats = mile_from_galvanize['categories']"
   ]
  },
  {
   "cell_type": "code",
   "execution_count": 33,
   "metadata": {},
   "outputs": [
    {
     "ename": "TypeError",
     "evalue": "'numpy.ndarray' object is not callable",
     "output_type": "error",
     "traceback": [
      "\u001b[0;31m---------------------------------------------------------------------------\u001b[0m",
      "\u001b[0;31mTypeError\u001b[0m                                 Traceback (most recent call last)",
      "\u001b[0;32m<ipython-input-33-af3320528a75>\u001b[0m in \u001b[0;36m<module>\u001b[0;34m()\u001b[0m\n\u001b[0;32m----> 1\u001b[0;31m \u001b[0mcats\u001b[0m\u001b[0;34m.\u001b[0m\u001b[0mvalues\u001b[0m\u001b[0;34m(\u001b[0m\u001b[0;34m)\u001b[0m\u001b[0;34m[\u001b[0m\u001b[0;34m'alias'\u001b[0m\u001b[0;34m]\u001b[0m\u001b[0;34m\u001b[0m\u001b[0m\n\u001b[0m",
      "\u001b[0;31mTypeError\u001b[0m: 'numpy.ndarray' object is not callable"
     ]
    }
   ],
   "source": [
    "cats.values()['alias']"
   ]
  },
  {
   "cell_type": "code",
   "execution_count": null,
   "metadata": {
    "collapsed": true
   },
   "outputs": [],
   "source": []
  }
 ],
 "metadata": {
  "kernelspec": {
   "display_name": "Python 3",
   "language": "python",
   "name": "python3"
  },
  "language_info": {
   "codemirror_mode": {
    "name": "ipython",
    "version": 3
   },
   "file_extension": ".py",
   "mimetype": "text/x-python",
   "name": "python",
   "nbconvert_exporter": "python",
   "pygments_lexer": "ipython3",
   "version": "3.6.6"
  }
 },
 "nbformat": 4,
 "nbformat_minor": 2
}
