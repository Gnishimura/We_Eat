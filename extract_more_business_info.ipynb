{
 "cells": [
  {
   "cell_type": "code",
   "execution_count": 1,
   "metadata": {
    "collapsed": true
   },
   "outputs": [],
   "source": [
    "from pymongo import MongoClient\n",
    "from bs4 import BeautifulSoup\n",
    "\n",
    "we_eat_client = MongoClient()\n",
    "we_eat_db = we_eat_client['we_eat']\n",
    "website_collection = we_eat_db['websites']\n",
    "more_business_info_collection = we_eat_db['more_business_info']"
   ]
  },
  {
   "cell_type": "code",
   "execution_count": 2,
   "metadata": {},
   "outputs": [
    {
     "data": {
      "text/plain": [
       "657"
      ]
     },
     "execution_count": 2,
     "metadata": {},
     "output_type": "execute_result"
    }
   ],
   "source": [
    "website_collection.count_documents({})"
   ]
  },
  {
   "cell_type": "code",
   "execution_count": 101,
   "metadata": {},
   "outputs": [],
   "source": [
    "a = website_collection.find()[1:2]"
   ]
  },
  {
   "cell_type": "code",
   "execution_count": 102,
   "metadata": {},
   "outputs": [],
   "source": [
    "g = []\n",
    "for x in a:\n",
    "    html = x['html']\n",
    "    soup = BeautifulSoup(html, 'html.parser')\n",
    "    bizinfo = soup.select('div.short-def-list')\n",
    "    g.append(bizinfo[0].text.strip().partition('\\n')[0])\n",
    "    "
   ]
  },
  {
   "cell_type": "code",
   "execution_count": 103,
   "metadata": {},
   "outputs": [
    {
     "data": {
      "text/plain": [
       "['Has Dairy-free Options']"
      ]
     },
     "execution_count": 103,
     "metadata": {},
     "output_type": "execute_result"
    }
   ],
   "source": [
    "g\n",
    "    "
   ]
  },
  {
   "cell_type": "code",
   "execution_count": 72,
   "metadata": {
    "collapsed": true
   },
   "outputs": [],
   "source": []
  },
  {
   "cell_type": "code",
   "execution_count": 64,
   "metadata": {
    "collapsed": true
   },
   "outputs": [],
   "source": [
    "website = website_collection.find_one()"
   ]
  },
  {
   "cell_type": "code",
   "execution_count": 65,
   "metadata": {},
   "outputs": [],
   "source": [
    "html = website['html']"
   ]
  },
  {
   "cell_type": "code",
   "execution_count": 5,
   "metadata": {
    "collapsed": true
   },
   "outputs": [],
   "source": [
    "soup = BeautifulSoup(html, 'html.parser')"
   ]
  },
  {
   "cell_type": "code",
   "execution_count": 180,
   "metadata": {},
   "outputs": [],
   "source": [
    "bizinfo = soup.select('div.short-def-list dl')"
   ]
  },
  {
   "cell_type": "code",
   "execution_count": 189,
   "metadata": {},
   "outputs": [
    {
     "data": {
      "text/plain": [
       "[<dd>\n",
       "                             Yes\n",
       "                         </dd>]"
      ]
     },
     "execution_count": 189,
     "metadata": {},
     "output_type": "execute_result"
    }
   ],
   "source": [
    "bizinfo[0].find_all('dd')"
   ]
  },
  {
   "cell_type": "code",
   "execution_count": 187,
   "metadata": {},
   "outputs": [
    {
     "data": {
      "text/plain": [
       "28"
      ]
     },
     "execution_count": 187,
     "metadata": {},
     "output_type": "execute_result"
    }
   ],
   "source": [
    "len(bizinfo)"
   ]
  },
  {
   "cell_type": "code",
   "execution_count": 197,
   "metadata": {},
   "outputs": [],
   "source": [
    "def get_biz_info(bizinfo):\n",
    "    b = {}\n",
    "    for i in range(len(bizinfo)):\n",
    "        dt = bizinfo[i].find_all('dt')\n",
    "        cat_name = dt[0].text.strip()\n",
    "        dd = bizinfo[i].find_all('dd')\n",
    "        response = dd[0].text.strip()\n",
    "        b[cat_name] = response\n",
    "    return b"
   ]
  },
  {
   "cell_type": "code",
   "execution_count": 198,
   "metadata": {},
   "outputs": [],
   "source": [
    "b = get_biz_info(bizinfo)"
   ]
  },
  {
   "cell_type": "code",
   "execution_count": 199,
   "metadata": {},
   "outputs": [
    {
     "data": {
      "text/plain": [
       "{'Accepts Apple Pay': 'No',\n",
       " 'Accepts Credit Cards': 'Yes',\n",
       " 'Accepts Google Pay': 'No',\n",
       " 'Alcohol': 'Full Bar',\n",
       " 'Ambience': 'Romantic',\n",
       " 'Attire': 'Casual',\n",
       " 'Best Nights': 'Wed, Fri, Sat',\n",
       " 'Bike Parking': 'Yes',\n",
       " 'Caters': 'No',\n",
       " 'Coat Check': 'Yes',\n",
       " 'Delivery': 'No',\n",
       " 'Good For': 'Dinner',\n",
       " 'Good For Dancing': 'No',\n",
       " 'Good for Groups': 'Yes',\n",
       " 'Good for Kids': 'No',\n",
       " 'Has Dairy-free Options': 'Yes',\n",
       " 'Has Gluten-free Options': 'Yes',\n",
       " 'Has TV': 'No',\n",
       " 'Liked by Vegans': 'Yes',\n",
       " 'Liked by Vegetarians': 'Yes',\n",
       " 'Noise Level': 'Average',\n",
       " 'Outdoor Seating': 'Yes',\n",
       " 'Parking': 'Garage, Street',\n",
       " 'Take-out': 'No',\n",
       " 'Takes Reservations': 'Yes',\n",
       " 'Waiter Service': 'Yes',\n",
       " 'Wheelchair Accessible': 'No',\n",
       " 'Wi-Fi': 'Free'}"
      ]
     },
     "execution_count": 199,
     "metadata": {},
     "output_type": "execute_result"
    }
   ],
   "source": [
    "b"
   ]
  },
  {
   "cell_type": "code",
   "execution_count": 179,
   "metadata": {},
   "outputs": [
    {
     "data": {
      "text/plain": [
       "'Has Dairy-free Options'"
      ]
     },
     "execution_count": 179,
     "metadata": {},
     "output_type": "execute_result"
    }
   ],
   "source": [
    "dt[0].text.strip()"
   ]
  },
  {
   "cell_type": "code",
   "execution_count": null,
   "metadata": {
    "collapsed": true
   },
   "outputs": [],
   "source": []
  },
  {
   "cell_type": "code",
   "execution_count": null,
   "metadata": {
    "collapsed": true
   },
   "outputs": [],
   "source": []
  },
  {
   "cell_type": "code",
   "execution_count": 66,
   "metadata": {
    "collapsed": true
   },
   "outputs": [],
   "source": [
    "def save_bizinfo(bizinfo_data):\n",
    "    more_business_info_collection.delete_many({\n",
    "        'alias': review_data['alias'],\n",
    "        'userid': review_data['userid']\n",
    "    })\n",
    "    more_business_info_collection.insert_one(bizinfo_data)"
   ]
  },
  {
   "cell_type": "code",
   "execution_count": 67,
   "metadata": {},
   "outputs": [],
   "source": [
    "def collect_bizinfo(website_collection):\n",
    "    for website in website_collection.find():\n",
    "        url = website['url']\n",
    "        alias = url.rpartition('/')[2]\n",
    "        html = website['html']\n",
    "        soup = BeautifulSoup(html, 'html.parser')\n",
    "        bizinfo = soup.select('div.short-def-list')\n",
    "        \n",
    "        for bizinfo in bizinfos:\n",
    "            bizinfo_data = parse_bizinfo(review, alias)\n",
    "            save_bizinfo(bizinfo_data)"
   ]
  },
  {
   "cell_type": "code",
   "execution_count": null,
   "metadata": {
    "collapsed": true
   },
   "outputs": [],
   "source": [
    "def parse_biz_info(bizinfo, alias):\n",
    "    b = {}\n",
    "    for i in range(len(bizinfo)):\n",
    "        dt = bizinfo[i].find_all('dt')\n",
    "        cat_name = dt[0].text.strip()\n",
    "        dd = bizinfo[i].find_all('dd')\n",
    "        response = dd[0].text.strip()\n",
    "        b[cat_name] = response\n",
    "    return b"
   ]
  }
 ],
 "metadata": {
  "kernelspec": {
   "display_name": "Python 3",
   "language": "python",
   "name": "python3"
  },
  "language_info": {
   "codemirror_mode": {
    "name": "ipython",
    "version": 3
   },
   "file_extension": ".py",
   "mimetype": "text/x-python",
   "name": "python",
   "nbconvert_exporter": "python",
   "pygments_lexer": "ipython3",
   "version": "3.6.6"
  }
 },
 "nbformat": 4,
 "nbformat_minor": 2
}
