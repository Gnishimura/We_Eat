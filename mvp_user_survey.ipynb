{
 "cells": [
  {
   "cell_type": "code",
   "execution_count": 55,
   "metadata": {},
   "outputs": [],
   "source": [
    "import pandas as pd\n",
    "import numpy as np\n",
    "from build_database import (default_params, load_api_key, \n",
    "                          make_request, build_database,\n",
    "                          add_to_database_if_new, retrieve_database\n",
    "                         )\n",
    "from pymongo import MongoClient\n",
    "import time\n",
    "import yaml\n",
    "import requests\n",
    "\n",
    "from get_pics import PictureSurvey\n",
    "from clean_database import clean_it_all\n",
    "\n"
   ]
  },
  {
   "cell_type": "code",
   "execution_count": 8,
   "metadata": {
    "collapsed": true
   },
   "outputs": [],
   "source": [
    "db = retrieve_database()"
   ]
  },
  {
   "cell_type": "code",
   "execution_count": 9,
   "metadata": {},
   "outputs": [
    {
     "name": "stderr",
     "output_type": "stream",
     "text": [
      "/Users/gnishimura/anaconda/lib/python3.6/site-packages/pandas/core/frame.py:3697: SettingWithCopyWarning: \n",
      "A value is trying to be set on a copy of a slice from a DataFrame\n",
      "\n",
      "See the caveats in the documentation: http://pandas.pydata.org/pandas-docs/stable/indexing.html#indexing-view-versus-copy\n",
      "  errors=errors)\n"
     ]
    }
   ],
   "source": [
    "mile_from_galvanize_db = clean_it_all(db)"
   ]
  },
  {
   "cell_type": "code",
   "execution_count": 51,
   "metadata": {
    "collapsed": true
   },
   "outputs": [],
   "source": [
    "ps = PictureSurvey(mile_from_galvanize_db)"
   ]
  },
  {
   "cell_type": "code",
   "execution_count": null,
   "metadata": {},
   "outputs": [],
   "source": []
  },
  {
   "cell_type": "code",
   "execution_count": 12,
   "metadata": {},
   "outputs": [],
   "source": [
    "top_twenty = ps.top_twenty()"
   ]
  },
  {
   "cell_type": "code",
   "execution_count": 48,
   "metadata": {},
   "outputs": [
    {
     "name": "stdout",
     "output_type": "stream",
     "text": [
      "sandwiches: beechers-handmade-cheese-seattle\n",
      "newamerican: radiator-whiskey-seattle\n",
      "seafood: the-pink-door-seattle-4\n",
      "breakfast_brunch: the-crumpet-shop-seattle\n",
      "tradamerican: steelhead-diner-seattle\n",
      "cafes: bacco-cafe-and-bistro-seattle-2\n",
      "hotdogs: potbelly-sandwich-shop-seattle-8\n",
      "delis: michou-seattle\n",
      "bars: ba-bar-seattle\n",
      "chinese: mee-sum-pastry-seattle\n",
      "salad: potbelly-sandwich-shop-seattle-8\n",
      "vietnamese: green-leaf-vietnamese-restaurant-seattle\n",
      "japanese: maneki-seattle\n",
      "noodles: il-corvo-pasta-seattle\n",
      "coffee: the-crumpet-shop-seattle\n",
      "bakeries: le-panier-french-bakery-seattle\n",
      "mexican: casco-antiguo-seattle\n",
      "asianfusion: dragonfish-asian-cafe-seattle\n",
      "foodtrucks: papa-bois-seattle\n",
      "pizza: italian-family-pizza-seattle\n"
     ]
    }
   ],
   "source": [
    "top_twenty_rests = ps.find_highest_rated(top_twenty)"
   ]
  },
  {
   "cell_type": "code",
   "execution_count": 21,
   "metadata": {
    "collapsed": true
   },
   "outputs": [],
   "source": [
    "temp_df = mile_from_galvanize_db[mile_from_galvanize_db['category_' + 'sandwiches']==1]"
   ]
  },
  {
   "cell_type": "code",
   "execution_count": 46,
   "metadata": {},
   "outputs": [
    {
     "data": {
      "text/plain": [
       "'le-panier-french-bakery-seattle'"
      ]
     },
     "execution_count": 46,
     "metadata": {},
     "output_type": "execute_result"
    }
   ],
   "source": [
    "temp_df['popularity'].nlargest(3).index[2]"
   ]
  },
  {
   "cell_type": "code",
   "execution_count": 74,
   "metadata": {},
   "outputs": [
    {
     "name": "stdout",
     "output_type": "stream",
     "text": [
      "the-pink-door-seattle-4 https://s3-media1.fl.yelpcdn.com/bphoto/c_vzRF4h3ywnyeM116QFuA/o.jpg\n"
     ]
    },
    {
     "data": {
      "text/html": [
       "<img src=\"https://s3-media1.fl.yelpcdn.com/bphoto/c_vzRF4h3ywnyeM116QFuA/o.jpg\" width=\"200\" height=\"200\"/>"
      ],
      "text/plain": [
       "<IPython.core.display.Image object>"
      ]
     },
     "metadata": {},
     "output_type": "display_data"
    },
    {
     "name": "stdout",
     "output_type": "stream",
     "text": [
      "pike-place-chowder-seattle https://s3-media3.fl.yelpcdn.com/bphoto/ijju-wYoRAxWjHPTCxyQGQ/o.jpg\n"
     ]
    },
    {
     "data": {
      "text/html": [
       "<img src=\"https://s3-media3.fl.yelpcdn.com/bphoto/ijju-wYoRAxWjHPTCxyQGQ/o.jpg\" width=\"200\" height=\"200\"/>"
      ],
      "text/plain": [
       "<IPython.core.display.Image object>"
      ]
     },
     "metadata": {},
     "output_type": "display_data"
    },
    {
     "name": "stdout",
     "output_type": "stream",
     "text": [
      "radiator-whiskey-seattle https://s3-media4.fl.yelpcdn.com/bphoto/DgO6qKI0E2yarXN82O4WbQ/o.jpg\n"
     ]
    },
    {
     "data": {
      "text/html": [
       "<img src=\"https://s3-media4.fl.yelpcdn.com/bphoto/DgO6qKI0E2yarXN82O4WbQ/o.jpg\" width=\"200\" height=\"200\"/>"
      ],
      "text/plain": [
       "<IPython.core.display.Image object>"
      ]
     },
     "metadata": {},
     "output_type": "display_data"
    },
    {
     "name": "stdout",
     "output_type": "stream",
     "text": [
      "tats-delicatessen-seattle https://s3-media4.fl.yelpcdn.com/bphoto/lH44FL3TivTFgJCjDNWnJA/o.jpg\n"
     ]
    },
    {
     "data": {
      "text/html": [
       "<img src=\"https://s3-media4.fl.yelpcdn.com/bphoto/lH44FL3TivTFgJCjDNWnJA/o.jpg\" width=\"200\" height=\"200\"/>"
      ],
      "text/plain": [
       "<IPython.core.display.Image object>"
      ]
     },
     "metadata": {},
     "output_type": "display_data"
    },
    {
     "name": "stdout",
     "output_type": "stream",
     "text": [
      "casco-antiguo-seattle https://s3-media2.fl.yelpcdn.com/bphoto/PM6wWhRJdvjrkhvT6M16mQ/o.jpg\n"
     ]
    },
    {
     "data": {
      "text/html": [
       "<img src=\"https://s3-media2.fl.yelpcdn.com/bphoto/PM6wWhRJdvjrkhvT6M16mQ/o.jpg\" width=\"200\" height=\"200\"/>"
      ],
      "text/plain": [
       "<IPython.core.display.Image object>"
      ]
     },
     "metadata": {},
     "output_type": "display_data"
    },
    {
     "name": "stdout",
     "output_type": "stream",
     "text": [
      "japonessa-sushi-cocina-seattle https://s3-media3.fl.yelpcdn.com/bphoto/vucCrknnlu1RRvRaKWwovQ/o.jpg\n"
     ]
    },
    {
     "data": {
      "text/html": [
       "<img src=\"https://s3-media3.fl.yelpcdn.com/bphoto/vucCrknnlu1RRvRaKWwovQ/o.jpg\" width=\"200\" height=\"200\"/>"
      ],
      "text/plain": [
       "<IPython.core.display.Image object>"
      ]
     },
     "metadata": {},
     "output_type": "display_data"
    },
    {
     "name": "stdout",
     "output_type": "stream",
     "text": [
      "metropolitan-grill-seattle https://s3-media1.fl.yelpcdn.com/bphoto/2Jk8ycCKf7XaSrHdpWxEdw/o.jpg\n"
     ]
    },
    {
     "data": {
      "text/html": [
       "<img src=\"https://s3-media1.fl.yelpcdn.com/bphoto/2Jk8ycCKf7XaSrHdpWxEdw/o.jpg\" width=\"200\" height=\"200\"/>"
      ],
      "text/plain": [
       "<IPython.core.display.Image object>"
      ]
     },
     "metadata": {},
     "output_type": "display_data"
    },
    {
     "name": "stdout",
     "output_type": "stream",
     "text": [
      "mikes-noodle-house-seattle https://s3-media2.fl.yelpcdn.com/bphoto/RvnKn7j4My0siLCX0r3ORw/o.jpg\n"
     ]
    },
    {
     "data": {
      "text/html": [
       "<img src=\"https://s3-media2.fl.yelpcdn.com/bphoto/RvnKn7j4My0siLCX0r3ORw/o.jpg\" width=\"200\" height=\"200\"/>"
      ],
      "text/plain": [
       "<IPython.core.display.Image object>"
      ]
     },
     "metadata": {},
     "output_type": "display_data"
    },
    {
     "name": "stdout",
     "output_type": "stream",
     "text": [
      "maneki-seattle https://s3-media3.fl.yelpcdn.com/bphoto/kAdVD_UCfRZdtA4hcKImXQ/o.jpg\n"
     ]
    },
    {
     "data": {
      "text/html": [
       "<img src=\"https://s3-media3.fl.yelpcdn.com/bphoto/kAdVD_UCfRZdtA4hcKImXQ/o.jpg\" width=\"200\" height=\"200\"/>"
      ],
      "text/plain": [
       "<IPython.core.display.Image object>"
      ]
     },
     "metadata": {},
     "output_type": "display_data"
    },
    {
     "name": "stdout",
     "output_type": "stream",
     "text": [
      "tamarind-tree-seattle https://s3-media1.fl.yelpcdn.com/bphoto/1b10PuHwil788-XO1wAAFA/o.jpg\n"
     ]
    },
    {
     "data": {
      "text/html": [
       "<img src=\"https://s3-media1.fl.yelpcdn.com/bphoto/1b10PuHwil788-XO1wAAFA/o.jpg\" width=\"200\" height=\"200\"/>"
      ],
      "text/plain": [
       "<IPython.core.display.Image object>"
      ]
     },
     "metadata": {},
     "output_type": "display_data"
    },
    {
     "name": "stdout",
     "output_type": "stream",
     "text": [
      "biscuit-bitch-seattle https://s3-media3.fl.yelpcdn.com/bphoto/Z2eOoKWZeTyUBGpDLArovg/o.jpg\n"
     ]
    },
    {
     "data": {
      "text/html": [
       "<img src=\"https://s3-media3.fl.yelpcdn.com/bphoto/Z2eOoKWZeTyUBGpDLArovg/o.jpg\" width=\"200\" height=\"200\"/>"
      ],
      "text/plain": [
       "<IPython.core.display.Image object>"
      ]
     },
     "metadata": {},
     "output_type": "display_data"
    },
    {
     "name": "stdout",
     "output_type": "stream",
     "text": [
      "chan-seattle-seattle-2 https://s3-media3.fl.yelpcdn.com/bphoto/lXUNpkiPMgsLU1GCR5M4Iw/o.jpg\n"
     ]
    },
    {
     "data": {
      "text/html": [
       "<img src=\"https://s3-media3.fl.yelpcdn.com/bphoto/lXUNpkiPMgsLU1GCR5M4Iw/o.jpg\" width=\"200\" height=\"200\"/>"
      ],
      "text/plain": [
       "<IPython.core.display.Image object>"
      ]
     },
     "metadata": {},
     "output_type": "display_data"
    },
    {
     "name": "stdout",
     "output_type": "stream",
     "text": [
      "piroshky-piroshky-seattle https://s3-media4.fl.yelpcdn.com/bphoto/aVDkb0xGCnLVoKrmHecz0A/o.jpg\n"
     ]
    },
    {
     "data": {
      "text/html": [
       "<img src=\"https://s3-media4.fl.yelpcdn.com/bphoto/aVDkb0xGCnLVoKrmHecz0A/o.jpg\" width=\"200\" height=\"200\"/>"
      ],
      "text/plain": [
       "<IPython.core.display.Image object>"
      ]
     },
     "metadata": {},
     "output_type": "display_data"
    },
    {
     "name": "stdout",
     "output_type": "stream",
     "text": [
      "green-leaf-vietnamese-restaurant-seattle https://s3-media1.fl.yelpcdn.com/bphoto/xLXF3f8mHiNOWI5iiYAXOA/o.jpg\n"
     ]
    },
    {
     "data": {
      "text/html": [
       "<img src=\"https://s3-media1.fl.yelpcdn.com/bphoto/xLXF3f8mHiNOWI5iiYAXOA/o.jpg\" width=\"200\" height=\"200\"/>"
      ],
      "text/plain": [
       "<IPython.core.display.Image object>"
      ]
     },
     "metadata": {},
     "output_type": "display_data"
    },
    {
     "name": "stdout",
     "output_type": "stream",
     "text": [
      "where-ya-at-matt-seattle https://s3-media2.fl.yelpcdn.com/bphoto/69rT9-QUx9rtZf7UXW2TwA/o.jpg\n"
     ]
    },
    {
     "data": {
      "text/html": [
       "<img src=\"https://s3-media2.fl.yelpcdn.com/bphoto/69rT9-QUx9rtZf7UXW2TwA/o.jpg\" width=\"200\" height=\"200\"/>"
      ],
      "text/plain": [
       "<IPython.core.display.Image object>"
      ]
     },
     "metadata": {},
     "output_type": "display_data"
    },
    {
     "name": "stdout",
     "output_type": "stream",
     "text": [
      "purple-café-and-wine-bar-seattle-3 https://s3-media1.fl.yelpcdn.com/bphoto/sJYGdSEjcvMDPlRaHOEHYA/o.jpg\n"
     ]
    },
    {
     "data": {
      "text/html": [
       "<img src=\"https://s3-media1.fl.yelpcdn.com/bphoto/sJYGdSEjcvMDPlRaHOEHYA/o.jpg\" width=\"200\" height=\"200\"/>"
      ],
      "text/plain": [
       "<IPython.core.display.Image object>"
      ]
     },
     "metadata": {},
     "output_type": "display_data"
    },
    {
     "name": "stdout",
     "output_type": "stream",
     "text": [
      "ivars-acres-of-clams-seattle-7 https://s3-media3.fl.yelpcdn.com/bphoto/UCkjiV2SDxaKTJCh-RMNQQ/o.jpg\n"
     ]
    },
    {
     "data": {
      "text/html": [
       "<img src=\"https://s3-media3.fl.yelpcdn.com/bphoto/UCkjiV2SDxaKTJCh-RMNQQ/o.jpg\" width=\"200\" height=\"200\"/>"
      ],
      "text/plain": [
       "<IPython.core.display.Image object>"
      ]
     },
     "metadata": {},
     "output_type": "display_data"
    },
    {
     "name": "stdout",
     "output_type": "stream",
     "text": [
      "vons-1000-spirits-seattle-4 https://s3-media2.fl.yelpcdn.com/bphoto/ClVy0w7zsSIPkrFAKCxSqA/o.jpg\n"
     ]
    },
    {
     "data": {
      "text/html": [
       "<img src=\"https://s3-media2.fl.yelpcdn.com/bphoto/ClVy0w7zsSIPkrFAKCxSqA/o.jpg\" width=\"200\" height=\"200\"/>"
      ],
      "text/plain": [
       "<IPython.core.display.Image object>"
      ]
     },
     "metadata": {},
     "output_type": "display_data"
    },
    {
     "name": "stdout",
     "output_type": "stream",
     "text": [
      "italian-family-pizza-seattle https://s3-media1.fl.yelpcdn.com/bphoto/-aZrUuV6RAY4u3mgJgB4gA/o.jpg\n"
     ]
    },
    {
     "data": {
      "text/html": [
       "<img src=\"https://s3-media1.fl.yelpcdn.com/bphoto/-aZrUuV6RAY4u3mgJgB4gA/o.jpg\" width=\"200\" height=\"200\"/>"
      ],
      "text/plain": [
       "<IPython.core.display.Image object>"
      ]
     },
     "metadata": {},
     "output_type": "display_data"
    },
    {
     "name": "stdout",
     "output_type": "stream",
     "text": [
      "ba-bar-seattle https://s3-media3.fl.yelpcdn.com/bphoto/3yX6K509q6RDDZMQ69_R5g/o.jpg\n"
     ]
    },
    {
     "data": {
      "text/html": [
       "<img src=\"https://s3-media3.fl.yelpcdn.com/bphoto/3yX6K509q6RDDZMQ69_R5g/o.jpg\" width=\"200\" height=\"200\"/>"
      ],
      "text/plain": [
       "<IPython.core.display.Image object>"
      ]
     },
     "metadata": {},
     "output_type": "display_data"
    },
    {
     "name": "stdout",
     "output_type": "stream",
     "text": [
      "beechers-handmade-cheese-seattle https://s3-media1.fl.yelpcdn.com/bphoto/KRaE7zkhhiCI7WODshYErg/o.jpg\n"
     ]
    },
    {
     "data": {
      "text/html": [
       "<img src=\"https://s3-media1.fl.yelpcdn.com/bphoto/KRaE7zkhhiCI7WODshYErg/o.jpg\" width=\"200\" height=\"200\"/>"
      ],
      "text/plain": [
       "<IPython.core.display.Image object>"
      ]
     },
     "metadata": {},
     "output_type": "display_data"
    },
    {
     "name": "stdout",
     "output_type": "stream",
     "text": [
      "el-borracho-seattle https://s3-media3.fl.yelpcdn.com/bphoto/LFo_pxrIEmbVhkKSzZ0jiA/o.jpg\n"
     ]
    },
    {
     "data": {
      "text/html": [
       "<img src=\"https://s3-media3.fl.yelpcdn.com/bphoto/LFo_pxrIEmbVhkKSzZ0jiA/o.jpg\" width=\"200\" height=\"200\"/>"
      ],
      "text/plain": [
       "<IPython.core.display.Image object>"
      ]
     },
     "metadata": {},
     "output_type": "display_data"
    },
    {
     "name": "stdout",
     "output_type": "stream",
     "text": [
      "the-crumpet-shop-seattle https://s3-media3.fl.yelpcdn.com/bphoto/cDUuF_6_sjSO65Yd1vQcPA/o.jpg\n"
     ]
    },
    {
     "data": {
      "text/html": [
       "<img src=\"https://s3-media3.fl.yelpcdn.com/bphoto/cDUuF_6_sjSO65Yd1vQcPA/o.jpg\" width=\"200\" height=\"200\"/>"
      ],
      "text/plain": [
       "<IPython.core.display.Image object>"
      ]
     },
     "metadata": {},
     "output_type": "display_data"
    },
    {
     "name": "stdout",
     "output_type": "stream",
     "text": [
      "café-campagne-seattle-3 https://s3-media2.fl.yelpcdn.com/bphoto/a4MuBioV2xRlPDG7UKCa6Q/o.jpg\n"
     ]
    },
    {
     "data": {
      "text/html": [
       "<img src=\"https://s3-media2.fl.yelpcdn.com/bphoto/a4MuBioV2xRlPDG7UKCa6Q/o.jpg\" width=\"200\" height=\"200\"/>"
      ],
      "text/plain": [
       "<IPython.core.display.Image object>"
      ]
     },
     "metadata": {},
     "output_type": "display_data"
    },
    {
     "name": "stdout",
     "output_type": "stream",
     "text": [
      "papa-bois-seattle https://s3-media3.fl.yelpcdn.com/bphoto/Xpspe9urjyGlQ3ONs7ZsHg/o.jpg\n"
     ]
    },
    {
     "data": {
      "text/html": [
       "<img src=\"https://s3-media3.fl.yelpcdn.com/bphoto/Xpspe9urjyGlQ3ONs7ZsHg/o.jpg\" width=\"200\" height=\"200\"/>"
      ],
      "text/plain": [
       "<IPython.core.display.Image object>"
      ]
     },
     "metadata": {},
     "output_type": "display_data"
    },
    {
     "name": "stdout",
     "output_type": "stream",
     "text": [
      "le-panier-french-bakery-seattle https://s3-media3.fl.yelpcdn.com/bphoto/H75D6qq8fYigCkxpptAREw/o.jpg\n"
     ]
    },
    {
     "data": {
      "text/html": [
       "<img src=\"https://s3-media3.fl.yelpcdn.com/bphoto/H75D6qq8fYigCkxpptAREw/o.jpg\" width=\"200\" height=\"200\"/>"
      ],
      "text/plain": [
       "<IPython.core.display.Image object>"
      ]
     },
     "metadata": {},
     "output_type": "display_data"
    },
    {
     "name": "stdout",
     "output_type": "stream",
     "text": [
      "michou-seattle https://s3-media3.fl.yelpcdn.com/bphoto/TbAVffwaocAVwimeTwi7JQ/o.jpg\n"
     ]
    },
    {
     "data": {
      "text/html": [
       "<img src=\"https://s3-media3.fl.yelpcdn.com/bphoto/TbAVffwaocAVwimeTwi7JQ/o.jpg\" width=\"200\" height=\"200\"/>"
      ],
      "text/plain": [
       "<IPython.core.display.Image object>"
      ]
     },
     "metadata": {},
     "output_type": "display_data"
    },
    {
     "name": "stdout",
     "output_type": "stream",
     "text": [
      "mod-pizza-seattle-7 https://s3-media4.fl.yelpcdn.com/bphoto/-TyWNrxvtDu-t0EZBiHgjw/o.jpg\n"
     ]
    },
    {
     "data": {
      "text/html": [
       "<img src=\"https://s3-media4.fl.yelpcdn.com/bphoto/-TyWNrxvtDu-t0EZBiHgjw/o.jpg\" width=\"200\" height=\"200\"/>"
      ],
      "text/plain": [
       "<IPython.core.display.Image object>"
      ]
     },
     "metadata": {},
     "output_type": "display_data"
    },
    {
     "name": "stdout",
     "output_type": "stream",
     "text": [
      "steelhead-diner-seattle https://s3-media4.fl.yelpcdn.com/bphoto/2XxCFJG69iJekgaCVIgnCw/o.jpg\n"
     ]
    },
    {
     "data": {
      "text/html": [
       "<img src=\"https://s3-media4.fl.yelpcdn.com/bphoto/2XxCFJG69iJekgaCVIgnCw/o.jpg\" width=\"200\" height=\"200\"/>"
      ],
      "text/plain": [
       "<IPython.core.display.Image object>"
      ]
     },
     "metadata": {},
     "output_type": "display_data"
    },
    {
     "name": "stdout",
     "output_type": "stream",
     "text": [
      "bacco-cafe-and-bistro-seattle-2 https://s3-media4.fl.yelpcdn.com/bphoto/VimB9R-pa3K9a_rz3FU0oQ/o.jpg\n"
     ]
    },
    {
     "data": {
      "text/html": [
       "<img src=\"https://s3-media4.fl.yelpcdn.com/bphoto/VimB9R-pa3K9a_rz3FU0oQ/o.jpg\" width=\"200\" height=\"200\"/>"
      ],
      "text/plain": [
       "<IPython.core.display.Image object>"
      ]
     },
     "metadata": {},
     "output_type": "display_data"
    },
    {
     "name": "stdout",
     "output_type": "stream",
     "text": [
      "mee-sum-pastry-seattle https://s3-media4.fl.yelpcdn.com/bphoto/du7lzcATANXwsKcAJqxTSQ/o.jpg\n"
     ]
    },
    {
     "data": {
      "text/html": [
       "<img src=\"https://s3-media4.fl.yelpcdn.com/bphoto/du7lzcATANXwsKcAJqxTSQ/o.jpg\" width=\"200\" height=\"200\"/>"
      ],
      "text/plain": [
       "<IPython.core.display.Image object>"
      ]
     },
     "metadata": {},
     "output_type": "display_data"
    },
    {
     "name": "stdout",
     "output_type": "stream",
     "text": [
      "potbelly-sandwich-shop-seattle-8 https://s3-media4.fl.yelpcdn.com/bphoto/vUSledP0CUa4ItwXCl-oYA/o.jpg\n"
     ]
    },
    {
     "data": {
      "text/html": [
       "<img src=\"https://s3-media4.fl.yelpcdn.com/bphoto/vUSledP0CUa4ItwXCl-oYA/o.jpg\" width=\"200\" height=\"200\"/>"
      ],
      "text/plain": [
       "<IPython.core.display.Image object>"
      ]
     },
     "metadata": {},
     "output_type": "display_data"
    },
    {
     "name": "stdout",
     "output_type": "stream",
     "text": [
      "specialtys-café-and-bakery-seattle-34 https://s3-media1.fl.yelpcdn.com/bphoto/1gfEEPeeOHo2uGSGaAD6-Q/o.jpg\n"
     ]
    },
    {
     "data": {
      "text/html": [
       "<img src=\"https://s3-media1.fl.yelpcdn.com/bphoto/1gfEEPeeOHo2uGSGaAD6-Q/o.jpg\" width=\"200\" height=\"200\"/>"
      ],
      "text/plain": [
       "<IPython.core.display.Image object>"
      ]
     },
     "metadata": {},
     "output_type": "display_data"
    },
    {
     "name": "stdout",
     "output_type": "stream",
     "text": [
      "dragonfish-asian-cafe-seattle https://s3-media2.fl.yelpcdn.com/bphoto/wVQFDian-sch57_f3JNxNQ/o.jpg\n"
     ]
    },
    {
     "data": {
      "text/html": [
       "<img src=\"https://s3-media2.fl.yelpcdn.com/bphoto/wVQFDian-sch57_f3JNxNQ/o.jpg\" width=\"200\" height=\"200\"/>"
      ],
      "text/plain": [
       "<IPython.core.display.Image object>"
      ]
     },
     "metadata": {},
     "output_type": "display_data"
    },
    {
     "name": "stdout",
     "output_type": "stream",
     "text": [
      "il-corvo-pasta-seattle https://s3-media4.fl.yelpcdn.com/bphoto/hSlULB9cJ9xulzYDulwtYA/o.jpg\n"
     ]
    },
    {
     "data": {
      "text/html": [
       "<img src=\"https://s3-media4.fl.yelpcdn.com/bphoto/hSlULB9cJ9xulzYDulwtYA/o.jpg\" width=\"200\" height=\"200\"/>"
      ],
      "text/plain": [
       "<IPython.core.display.Image object>"
      ]
     },
     "metadata": {},
     "output_type": "display_data"
    }
   ],
   "source": [
    "ps.display_pics(top_twenty_rests)"
   ]
  },
  {
   "cell_type": "code",
   "execution_count": null,
   "metadata": {},
   "outputs": [],
   "source": [
    "\n"
   ]
  },
  {
   "cell_type": "code",
   "execution_count": null,
   "metadata": {},
   "outputs": [],
   "source": []
  },
  {
   "cell_type": "code",
   "execution_count": null,
   "metadata": {},
   "outputs": [],
   "source": []
  },
  {
   "cell_type": "code",
   "execution_count": null,
   "metadata": {
    "collapsed": true
   },
   "outputs": [],
   "source": []
  }
 ],
 "metadata": {
  "kernelspec": {
   "display_name": "Python 3",
   "language": "python",
   "name": "python3"
  },
  "language_info": {
   "codemirror_mode": {
    "name": "ipython",
    "version": 3
   },
   "file_extension": ".py",
   "mimetype": "text/x-python",
   "name": "python",
   "nbconvert_exporter": "python",
   "pygments_lexer": "ipython3",
   "version": "3.6.6"
  }
 },
 "nbformat": 4,
 "nbformat_minor": 2
}
