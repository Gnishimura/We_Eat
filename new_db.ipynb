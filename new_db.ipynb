{
 "cells": [
  {
   "cell_type": "code",
   "execution_count": 32,
   "metadata": {},
   "outputs": [],
   "source": [
    "import pandas as pd\n",
    "from build_database import (default_params, load_api_key, \n",
    "                          make_request, build_database,\n",
    "                          add_to_database_if_new, retrieve_database\n",
    "                         )\n",
    "from pymongo import MongoClient\n",
    "import time\n",
    "import yaml\n",
    "import requests\n"
   ]
  },
  {
   "cell_type": "code",
   "execution_count": 33,
   "metadata": {
    "collapsed": true
   },
   "outputs": [],
   "source": [
    "we_eat_client = MongoClient()"
   ]
  },
  {
   "cell_type": "code",
   "execution_count": 34,
   "metadata": {
    "collapsed": true
   },
   "outputs": [],
   "source": [
    "we_eat_database = we_eat_client['we_eat']\n",
    "restaurant_collection = we_eat_database['restaurants']"
   ]
  },
  {
   "cell_type": "code",
   "execution_count": 38,
   "metadata": {},
   "outputs": [
    {
     "name": "stdout",
     "output_type": "stream",
     "text": [
      "0\n",
      "50\n",
      "100\n",
      "150\n",
      "200\n",
      "250\n",
      "300\n",
      "350\n",
      "400\n",
      "450\n",
      "500\n",
      "550\n",
      "600\n",
      "650\n",
      "700\n",
      "750\n",
      "800\n",
      "850\n",
      "900\n",
      "950\n"
     ]
    }
   ],
   "source": [
    "build_database()"
   ]
  },
  {
   "cell_type": "code",
   "execution_count": 39,
   "metadata": {
    "collapsed": true
   },
   "outputs": [],
   "source": [
    "mile_from_galvanize = retrieve_database()"
   ]
  },
  {
   "cell_type": "code",
   "execution_count": 40,
   "metadata": {},
   "outputs": [
    {
     "data": {
      "text/plain": [
       "(1403, 17)"
      ]
     },
     "execution_count": 40,
     "metadata": {},
     "output_type": "execute_result"
    }
   ],
   "source": [
    "mile_from_galvanize.shape"
   ]
  },
  {
   "cell_type": "code",
   "execution_count": null,
   "metadata": {},
   "outputs": [],
   "source": []
  },
  {
   "cell_type": "code",
   "execution_count": 107,
   "metadata": {},
   "outputs": [],
   "source": [
    "from clean_database import (add_distance_from_galvanize, change_price_nulls,\n",
    "                            clean_cats, add_clean_cats, dummify_price,\n",
    "                            cat_counts, add_lat_longs, separate_coords,\n",
    "                            load_categories, drop_unnecessaries, \n",
    "                            add_popularity, make_cats_csv,\n",
    "                            get_category_dummies\n",
    "                           )\n"
   ]
  },
  {
   "cell_type": "code",
   "execution_count": 42,
   "metadata": {},
   "outputs": [],
   "source": [
    "add_lat_longs(mile_from_galvanize)"
   ]
  },
  {
   "cell_type": "code",
   "execution_count": 43,
   "metadata": {
    "collapsed": true
   },
   "outputs": [],
   "source": [
    "add_distance_from_galvanize(mile_from_galvanize)"
   ]
  },
  {
   "cell_type": "code",
   "execution_count": 94,
   "metadata": {},
   "outputs": [],
   "source": [
    "galvanize_restaurants_df = mile_from_galvanize[mile_from_galvanize['dist_from_galvanize']<1]"
   ]
  },
  {
   "cell_type": "code",
   "execution_count": 95,
   "metadata": {},
   "outputs": [
    {
     "name": "stdout",
     "output_type": "stream",
     "text": [
      "<class 'pandas.core.frame.DataFrame'>\n",
      "Int64Index: 658 entries, 0 to 1400\n",
      "Data columns (total 20 columns):\n",
      "_id                    658 non-null object\n",
      "alias                  658 non-null object\n",
      "categories             658 non-null object\n",
      "coordinates            658 non-null object\n",
      "display_phone          658 non-null object\n",
      "distance               658 non-null float64\n",
      "id                     658 non-null object\n",
      "image_url              658 non-null object\n",
      "is_closed              658 non-null bool\n",
      "location               658 non-null object\n",
      "name                   658 non-null object\n",
      "phone                  658 non-null object\n",
      "price                  597 non-null object\n",
      "rating                 658 non-null float64\n",
      "review_count           658 non-null int64\n",
      "transactions           658 non-null object\n",
      "url                    658 non-null object\n",
      "lats                   658 non-null float64\n",
      "longs                  658 non-null float64\n",
      "dist_from_galvanize    658 non-null float64\n",
      "dtypes: bool(1), float64(5), int64(1), object(13)\n",
      "memory usage: 103.5+ KB\n"
     ]
    }
   ],
   "source": [
    "galvanize_restaurants_df.info()"
   ]
  },
  {
   "cell_type": "code",
   "execution_count": 96,
   "metadata": {},
   "outputs": [
    {
     "name": "stderr",
     "output_type": "stream",
     "text": [
      "/Users/gnishimura/galvanize/We_Eat/clean_database.py:12: SettingWithCopyWarning: \n",
      "A value is trying to be set on a copy of a slice from a DataFrame.\n",
      "Try using .loc[row_indexer,col_indexer] = value instead\n",
      "\n",
      "See the caveats in the documentation: http://pandas.pydata.org/pandas-docs/stable/indexing.html#indexing-view-versus-copy\n",
      "  df['cats'] = df['categories'].apply(clean_cats)\n"
     ]
    }
   ],
   "source": [
    "add_clean_cats(galvanize_restaurants_df)"
   ]
  },
  {
   "cell_type": "code",
   "execution_count": 112,
   "metadata": {},
   "outputs": [
    {
     "data": {
      "text/plain": [
       "[('sandwiches', 106),\n",
       " ('newamerican', 61),\n",
       " ('seafood', 60),\n",
       " ('breakfast_brunch', 60),\n",
       " ('tradamerican', 53),\n",
       " ('cafes', 48),\n",
       " ('hotdogs', 46),\n",
       " ('delis', 43),\n",
       " ('bars', 41),\n",
       " ('chinese', 37),\n",
       " ('salad', 36),\n",
       " ('vietnamese', 34),\n",
       " ('japanese', 30),\n",
       " ('noodles', 30),\n",
       " ('coffee', 29),\n",
       " ('bakeries', 28),\n",
       " ('mexican', 26),\n",
       " ('asianfusion', 26),\n",
       " ('foodtrucks', 26),\n",
       " ('pizza', 26),\n",
       " ('cocktailbars', 25),\n",
       " ('sushi', 25),\n",
       " ('italian', 24),\n",
       " ('burgers', 21),\n",
       " ('foodstands', 21),\n",
       " ('cantonese', 20),\n",
       " ('bbq', 20),\n",
       " ('korean', 19),\n",
       " ('thai', 18),\n",
       " ('dimsum', 15),\n",
       " ('soup', 14),\n",
       " ('sportsbars', 14),\n",
       " ('mediterranean', 13),\n",
       " ('hotdog', 12),\n",
       " ('indpak', 11),\n",
       " ('tapasmallplates', 10),\n",
       " ('pubs', 10),\n",
       " ('poke', 10),\n",
       " ('wine_bars', 9),\n",
       " ('grocery', 9),\n",
       " ('hotpot', 9),\n",
       " ('french', 9),\n",
       " ('buffets', 8),\n",
       " ('juicebars', 8),\n",
       " ('lounges', 8),\n",
       " ('venues', 7),\n",
       " ('steak', 7),\n",
       " ('desserts', 7),\n",
       " ('taiwanese', 7),\n",
       " ('hawaiian', 7),\n",
       " ('diners', 7),\n",
       " ('wraps', 6),\n",
       " ('russian', 6),\n",
       " ('german', 6),\n",
       " ('beer_and_wine', 6),\n",
       " ('restaurants', 6),\n",
       " ('raw_food', 5),\n",
       " ('hkcafe', 5),\n",
       " ('irish_pubs', 5),\n",
       " ('caribbean', 5),\n",
       " ('vegan', 5),\n",
       " ('beerbar', 5),\n",
       " ('food_court', 5),\n",
       " ('mideastern', 5),\n",
       " ('catering', 5),\n",
       " ('convenience', 4),\n",
       " ('latin', 4),\n",
       " ('fishnchips', 4),\n",
       " ('turkish', 4),\n",
       " ('gluten_free', 4),\n",
       " ('szechuan', 4),\n",
       " ('greek', 4),\n",
       " ('halal', 4),\n",
       " ('bagels', 4),\n",
       " ('ethiopian', 4),\n",
       " ('icecream', 4),\n",
       " ('vegetarian', 4),\n",
       " ('comfortfood', 3),\n",
       " ('southern', 3),\n",
       " ('shanghainese', 3),\n",
       " ('gastropubs', 3),\n",
       " ('meats', 3),\n",
       " ('chicken_wings', 3),\n",
       " ('waffles', 3),\n",
       " ('cajun', 3),\n",
       " ('tacos', 3),\n",
       " ('british', 3),\n",
       " ('streetvendors', 3),\n",
       " ('creperies', 3),\n",
       " ('musicvenues', 3),\n",
       " ('cheesesteaks', 2),\n",
       " ('teppanyaki', 2),\n",
       " ('filipino', 2),\n",
       " ('breweries', 2),\n",
       " ('brewpubs', 2),\n",
       " ('spanish', 2),\n",
       " ('izakaya', 2),\n",
       " ('cakeshop', 2),\n",
       " ('panasian', 2),\n",
       " ('pastashops', 2),\n",
       " ('pakistani', 2),\n",
       " ('donuts', 2),\n",
       " ('cafeteria', 2),\n",
       " ('karaoke', 2),\n",
       " ('irish', 2),\n",
       " ('importedfood', 2),\n",
       " ('dinnertheater', 2),\n",
       " ('chickenshop', 2),\n",
       " ('healthmarkets', 2),\n",
       " ('candy', 2),\n",
       " ('florists', 1),\n",
       " ('dominican', 1),\n",
       " ('lebanese', 1),\n",
       " ('soulfood', 1),\n",
       " ('sports_clubs', 1),\n",
       " ('bike_repair_maintenance', 1),\n",
       " ('argentine', 1),\n",
       " ('observatories', 1),\n",
       " ('laotian', 1),\n",
       " ('mongolian', 1),\n",
       " ('cheese', 1),\n",
       " ('cuban', 1),\n",
       " ('ukrainian', 1),\n",
       " ('artmuseums', 1),\n",
       " ('polish', 1),\n",
       " ('portuguese', 1),\n",
       " ('bubbletea', 1),\n",
       " ('australian', 1),\n",
       " ('ramen', 1),\n",
       " ('tea', 1),\n",
       " ('brasseries', 1),\n",
       " ('vinyl_records', 1),\n",
       " ('japacurry', 1),\n",
       " ('seafoodmarkets', 1),\n",
       " ('cabaret', 1),\n",
       " ('smokehouse', 1),\n",
       " ('macarons', 1),\n",
       " ('shopping', 1),\n",
       " ('propertymgmt', 1),\n",
       " ('persian', 1),\n",
       " ('kebab', 1),\n",
       " ('falafel', 1),\n",
       " ('danceclubs', 1),\n",
       " ('winetasteclasses', 1),\n",
       " ('supperclubs', 1),\n",
       " ('galleries', 1),\n",
       " ('popuprestaurants', 1),\n",
       " ('himalayan', 1),\n",
       " ('giftshops', 1),\n",
       " ('trinidadian', 1),\n",
       " ('beergardens', 1),\n",
       " ('gelato', 1),\n",
       " ('comedyclubs', 1),\n",
       " ('theater', 1),\n",
       " ('flowers', 1),\n",
       " ('gourmet', 1)]"
      ]
     },
     "execution_count": 112,
     "metadata": {},
     "output_type": "execute_result"
    }
   ],
   "source": [
    "cat_counts(galvanize_restaurants_df).most_common()"
   ]
  },
  {
   "cell_type": "code",
   "execution_count": null,
   "metadata": {},
   "outputs": [],
   "source": []
  },
  {
   "cell_type": "code",
   "execution_count": 99,
   "metadata": {},
   "outputs": [],
   "source": [
    "make_cats_csv(galvanize_restaurants_df)"
   ]
  },
  {
   "cell_type": "code",
   "execution_count": 100,
   "metadata": {},
   "outputs": [],
   "source": [
    "categories = load_categories()\n"
   ]
  },
  {
   "cell_type": "code",
   "execution_count": 101,
   "metadata": {},
   "outputs": [],
   "source": [
    "dummy_cats_df = get_category_dummies(galvanize_restaurants_df['cats'])"
   ]
  },
  {
   "cell_type": "code",
   "execution_count": 102,
   "metadata": {
    "collapsed": true
   },
   "outputs": [],
   "source": [
    "dummified_restaurant_df = pd.concat([galvanize_restaurants_df, dummy_cats_df], axis=1)"
   ]
  },
  {
   "cell_type": "code",
   "execution_count": 103,
   "metadata": {
    "collapsed": true
   },
   "outputs": [],
   "source": [
    "add_popularity(dummified_restaurant_df)"
   ]
  },
  {
   "cell_type": "code",
   "execution_count": 104,
   "metadata": {
    "collapsed": true
   },
   "outputs": [],
   "source": [
    "change_price_nulls(dummified_restaurant_df)"
   ]
  },
  {
   "cell_type": "code",
   "execution_count": 105,
   "metadata": {
    "collapsed": true
   },
   "outputs": [],
   "source": [
    "dummify_price(dummified_restaurant_df)"
   ]
  },
  {
   "cell_type": "code",
   "execution_count": null,
   "metadata": {},
   "outputs": [],
   "source": []
  },
  {
   "cell_type": "code",
   "execution_count": 110,
   "metadata": {},
   "outputs": [
    {
     "name": "stderr",
     "output_type": "stream",
     "text": [
      "/Users/gnishimura/anaconda/lib/python3.6/site-packages/pandas/core/frame.py:3697: SettingWithCopyWarning: \n",
      "A value is trying to be set on a copy of a slice from a DataFrame\n",
      "\n",
      "See the caveats in the documentation: http://pandas.pydata.org/pandas-docs/stable/indexing.html#indexing-view-versus-copy\n",
      "  errors=errors)\n"
     ]
    }
   ],
   "source": [
    "cleaned_df = drop_unnecessaries(dummified_restaurant_df)"
   ]
  },
  {
   "cell_type": "code",
   "execution_count": 111,
   "metadata": {},
   "outputs": [
    {
     "data": {
      "text/html": [
       "<div>\n",
       "<style scoped>\n",
       "    .dataframe tbody tr th:only-of-type {\n",
       "        vertical-align: middle;\n",
       "    }\n",
       "\n",
       "    .dataframe tbody tr th {\n",
       "        vertical-align: top;\n",
       "    }\n",
       "\n",
       "    .dataframe thead th {\n",
       "        text-align: right;\n",
       "    }\n",
       "</style>\n",
       "<table border=\"1\" class=\"dataframe\">\n",
       "  <thead>\n",
       "    <tr style=\"text-align: right;\">\n",
       "      <th></th>\n",
       "      <th>alias</th>\n",
       "      <th>id</th>\n",
       "      <th>image_url</th>\n",
       "      <th>location</th>\n",
       "      <th>rating</th>\n",
       "      <th>review_count</th>\n",
       "      <th>transactions</th>\n",
       "      <th>url</th>\n",
       "      <th>dist_from_galvanize</th>\n",
       "      <th>cats</th>\n",
       "      <th>...</th>\n",
       "      <th>category_shanghainese</th>\n",
       "      <th>category_cafeteria</th>\n",
       "      <th>category_seafoodmarkets</th>\n",
       "      <th>category_gelato</th>\n",
       "      <th>category_panasian</th>\n",
       "      <th>popularity</th>\n",
       "      <th>$</th>\n",
       "      <th>$$</th>\n",
       "      <th>$$$</th>\n",
       "      <th>$$$$</th>\n",
       "    </tr>\n",
       "  </thead>\n",
       "  <tbody>\n",
       "    <tr>\n",
       "      <th>0</th>\n",
       "      <td>amazon-go-seattle-5</td>\n",
       "      <td>XDfmz7Woxx6NkZDGBtAVAQ</td>\n",
       "      <td>https://s3-media1.fl.yelpcdn.com/bphoto/fDQhxw...</td>\n",
       "      <td>{'address1': '920 5th Ave', 'address2': None, ...</td>\n",
       "      <td>5.0</td>\n",
       "      <td>7</td>\n",
       "      <td>[]</td>\n",
       "      <td>https://www.yelp.com/biz/amazon-go-seattle-5?a...</td>\n",
       "      <td>0.523317</td>\n",
       "      <td>convenience,salad,sandwiches</td>\n",
       "      <td>...</td>\n",
       "      <td>0</td>\n",
       "      <td>0</td>\n",
       "      <td>0</td>\n",
       "      <td>0</td>\n",
       "      <td>0</td>\n",
       "      <td>35.0</td>\n",
       "      <td>0</td>\n",
       "      <td>1</td>\n",
       "      <td>0</td>\n",
       "      <td>0</td>\n",
       "    </tr>\n",
       "    <tr>\n",
       "      <th>1</th>\n",
       "      <td>the-pink-door-seattle-4</td>\n",
       "      <td>VOPdG8llLPaga9iJxXcMuQ</td>\n",
       "      <td>https://s3-media1.fl.yelpcdn.com/bphoto/c_vzRF...</td>\n",
       "      <td>{'address1': '1919 Post Alley', 'address2': ''...</td>\n",
       "      <td>4.5</td>\n",
       "      <td>4019</td>\n",
       "      <td>[]</td>\n",
       "      <td>https://www.yelp.com/biz/the-pink-door-seattle...</td>\n",
       "      <td>0.877225</td>\n",
       "      <td>italian,wine_bars,seafood</td>\n",
       "      <td>...</td>\n",
       "      <td>0</td>\n",
       "      <td>0</td>\n",
       "      <td>0</td>\n",
       "      <td>0</td>\n",
       "      <td>0</td>\n",
       "      <td>18085.5</td>\n",
       "      <td>0</td>\n",
       "      <td>1</td>\n",
       "      <td>0</td>\n",
       "      <td>0</td>\n",
       "    </tr>\n",
       "    <tr>\n",
       "      <th>2</th>\n",
       "      <td>nirmals-seattle</td>\n",
       "      <td>GXz21OgpWOtnCF0GDXHPhA</td>\n",
       "      <td>https://s3-media3.fl.yelpcdn.com/bphoto/LVSEXb...</td>\n",
       "      <td>{'address1': '106 Occidental Ave S', 'address2...</td>\n",
       "      <td>4.0</td>\n",
       "      <td>424</td>\n",
       "      <td>[restaurant_reservation, pickup]</td>\n",
       "      <td>https://www.yelp.com/biz/nirmals-seattle?adjus...</td>\n",
       "      <td>0.178899</td>\n",
       "      <td>indpak</td>\n",
       "      <td>...</td>\n",
       "      <td>0</td>\n",
       "      <td>0</td>\n",
       "      <td>0</td>\n",
       "      <td>0</td>\n",
       "      <td>0</td>\n",
       "      <td>1696.0</td>\n",
       "      <td>0</td>\n",
       "      <td>1</td>\n",
       "      <td>0</td>\n",
       "      <td>0</td>\n",
       "    </tr>\n",
       "    <tr>\n",
       "      <th>3</th>\n",
       "      <td>bad-bishop-seattle</td>\n",
       "      <td>KFMsgY5mV_wCYsa0XX_hEQ</td>\n",
       "      <td>https://s3-media1.fl.yelpcdn.com/bphoto/1GpjX0...</td>\n",
       "      <td>{'address1': '704 1st Ave', 'address2': None, ...</td>\n",
       "      <td>4.5</td>\n",
       "      <td>6</td>\n",
       "      <td>[]</td>\n",
       "      <td>https://www.yelp.com/biz/bad-bishop-seattle?ad...</td>\n",
       "      <td>0.266417</td>\n",
       "      <td>cocktailbars,comfortfood</td>\n",
       "      <td>...</td>\n",
       "      <td>0</td>\n",
       "      <td>0</td>\n",
       "      <td>0</td>\n",
       "      <td>0</td>\n",
       "      <td>0</td>\n",
       "      <td>27.0</td>\n",
       "      <td>0</td>\n",
       "      <td>1</td>\n",
       "      <td>0</td>\n",
       "      <td>0</td>\n",
       "    </tr>\n",
       "    <tr>\n",
       "      <th>4</th>\n",
       "      <td>pike-place-chowder-seattle</td>\n",
       "      <td>6I28wDuMBR5WLMqfKxaoeg</td>\n",
       "      <td>https://s3-media3.fl.yelpcdn.com/bphoto/ijju-w...</td>\n",
       "      <td>{'address1': '1530 Post Aly', 'address2': 'Ste...</td>\n",
       "      <td>4.5</td>\n",
       "      <td>6317</td>\n",
       "      <td>[pickup]</td>\n",
       "      <td>https://www.yelp.com/biz/pike-place-chowder-se...</td>\n",
       "      <td>0.793450</td>\n",
       "      <td>seafood,soup</td>\n",
       "      <td>...</td>\n",
       "      <td>0</td>\n",
       "      <td>0</td>\n",
       "      <td>0</td>\n",
       "      <td>0</td>\n",
       "      <td>0</td>\n",
       "      <td>28426.5</td>\n",
       "      <td>0</td>\n",
       "      <td>1</td>\n",
       "      <td>0</td>\n",
       "      <td>0</td>\n",
       "    </tr>\n",
       "  </tbody>\n",
       "</table>\n",
       "<p>5 rows × 180 columns</p>\n",
       "</div>"
      ],
      "text/plain": [
       "                        alias                      id  \\\n",
       "0         amazon-go-seattle-5  XDfmz7Woxx6NkZDGBtAVAQ   \n",
       "1     the-pink-door-seattle-4  VOPdG8llLPaga9iJxXcMuQ   \n",
       "2             nirmals-seattle  GXz21OgpWOtnCF0GDXHPhA   \n",
       "3          bad-bishop-seattle  KFMsgY5mV_wCYsa0XX_hEQ   \n",
       "4  pike-place-chowder-seattle  6I28wDuMBR5WLMqfKxaoeg   \n",
       "\n",
       "                                           image_url  \\\n",
       "0  https://s3-media1.fl.yelpcdn.com/bphoto/fDQhxw...   \n",
       "1  https://s3-media1.fl.yelpcdn.com/bphoto/c_vzRF...   \n",
       "2  https://s3-media3.fl.yelpcdn.com/bphoto/LVSEXb...   \n",
       "3  https://s3-media1.fl.yelpcdn.com/bphoto/1GpjX0...   \n",
       "4  https://s3-media3.fl.yelpcdn.com/bphoto/ijju-w...   \n",
       "\n",
       "                                            location  rating  review_count  \\\n",
       "0  {'address1': '920 5th Ave', 'address2': None, ...     5.0             7   \n",
       "1  {'address1': '1919 Post Alley', 'address2': ''...     4.5          4019   \n",
       "2  {'address1': '106 Occidental Ave S', 'address2...     4.0           424   \n",
       "3  {'address1': '704 1st Ave', 'address2': None, ...     4.5             6   \n",
       "4  {'address1': '1530 Post Aly', 'address2': 'Ste...     4.5          6317   \n",
       "\n",
       "                       transactions  \\\n",
       "0                                []   \n",
       "1                                []   \n",
       "2  [restaurant_reservation, pickup]   \n",
       "3                                []   \n",
       "4                          [pickup]   \n",
       "\n",
       "                                                 url  dist_from_galvanize  \\\n",
       "0  https://www.yelp.com/biz/amazon-go-seattle-5?a...             0.523317   \n",
       "1  https://www.yelp.com/biz/the-pink-door-seattle...             0.877225   \n",
       "2  https://www.yelp.com/biz/nirmals-seattle?adjus...             0.178899   \n",
       "3  https://www.yelp.com/biz/bad-bishop-seattle?ad...             0.266417   \n",
       "4  https://www.yelp.com/biz/pike-place-chowder-se...             0.793450   \n",
       "\n",
       "                           cats  ...   category_shanghainese  \\\n",
       "0  convenience,salad,sandwiches  ...                       0   \n",
       "1     italian,wine_bars,seafood  ...                       0   \n",
       "2                        indpak  ...                       0   \n",
       "3      cocktailbars,comfortfood  ...                       0   \n",
       "4                  seafood,soup  ...                       0   \n",
       "\n",
       "   category_cafeteria  category_seafoodmarkets  category_gelato  \\\n",
       "0                   0                        0                0   \n",
       "1                   0                        0                0   \n",
       "2                   0                        0                0   \n",
       "3                   0                        0                0   \n",
       "4                   0                        0                0   \n",
       "\n",
       "   category_panasian  popularity  $  $$  $$$  $$$$  \n",
       "0                  0        35.0  0   1    0     0  \n",
       "1                  0     18085.5  0   1    0     0  \n",
       "2                  0      1696.0  0   1    0     0  \n",
       "3                  0        27.0  0   1    0     0  \n",
       "4                  0     28426.5  0   1    0     0  \n",
       "\n",
       "[5 rows x 180 columns]"
      ]
     },
     "execution_count": 111,
     "metadata": {},
     "output_type": "execute_result"
    }
   ],
   "source": [
    "cleaned_df.head()"
   ]
  },
  {
   "cell_type": "markdown",
   "metadata": {},
   "source": [
    "## Pictures!"
   ]
  },
  {
   "cell_type": "code",
   "execution_count": 117,
   "metadata": {
    "collapsed": true
   },
   "outputs": [],
   "source": [
    "from get_pics import get_urls, display_pics, find_most_popular"
   ]
  },
  {
   "cell_type": "code",
   "execution_count": 137,
   "metadata": {
    "collapsed": true
   },
   "outputs": [],
   "source": [
    "def top_twenty_cats(df):\n",
    "    temp_list = cat_counts(df).most_common()[:19]\n",
    "    top_twenty_cats = []\n",
    "    for item in temp_list:\n",
    "        top_twenty_cats.append('category_'+item[0])\n",
    "    return top_twenty_cats"
   ]
  },
  {
   "cell_type": "code",
   "execution_count": 138,
   "metadata": {},
   "outputs": [
    {
     "data": {
      "text/plain": [
       "['category_sandwiches',\n",
       " 'category_newamerican',\n",
       " 'category_seafood',\n",
       " 'category_breakfast_brunch',\n",
       " 'category_tradamerican',\n",
       " 'category_cafes',\n",
       " 'category_hotdogs',\n",
       " 'category_delis',\n",
       " 'category_bars',\n",
       " 'category_chinese',\n",
       " 'category_salad',\n",
       " 'category_vietnamese',\n",
       " 'category_japanese',\n",
       " 'category_noodles',\n",
       " 'category_coffee',\n",
       " 'category_bakeries',\n",
       " 'category_mexican',\n",
       " 'category_asianfusion',\n",
       " 'category_foodtrucks']"
      ]
     },
     "execution_count": 138,
     "metadata": {},
     "output_type": "execute_result"
    }
   ],
   "source": [
    "top_twenty = top_twenty_cats(cleaned_df)\n",
    "top_twenty"
   ]
  },
  {
   "cell_type": "code",
   "execution_count": 139,
   "metadata": {},
   "outputs": [
    {
     "name": "stdout",
     "output_type": "stream",
     "text": [
      "category_sandwiches: biscuit-bitch-seattle\n",
      "category_newamerican: purple-café-and-wine-bar-seattle-3\n",
      "category_seafood: pike-place-chowder-seattle\n",
      "category_breakfast_brunch: biscuit-bitch-seattle\n",
      "category_tradamerican: metropolitan-grill-seattle\n",
      "category_cafes: café-campagne-seattle-3\n",
      "category_hotdogs: mod-pizza-seattle-7\n",
      "category_delis: tats-delicatessen-seattle\n",
      "category_bars: ivars-acres-of-clams-seattle-7\n",
      "category_chinese: mikes-noodle-house-seattle\n",
      "category_salad: specialtys-café-and-bakery-seattle-34\n",
      "category_vietnamese: tamarind-tree-seattle\n",
      "category_japanese: japonessa-sushi-cocina-seattle\n",
      "category_noodles: tamarind-tree-seattle\n",
      "category_coffee: biscuit-bitch-seattle\n",
      "category_bakeries: piroshky-piroshky-seattle\n",
      "category_mexican: el-borracho-seattle\n",
      "category_asianfusion: chan-seattle-seattle-2\n",
      "category_foodtrucks: where-ya-at-matt-seattle\n"
     ]
    }
   ],
   "source": [
    "most_popular = find_most_popular(cleaned_df, top_twenty)"
   ]
  },
  {
   "cell_type": "code",
   "execution_count": 140,
   "metadata": {},
   "outputs": [
    {
     "name": "stdout",
     "output_type": "stream",
     "text": [
      "pike-place-chowder-seattle\n"
     ]
    },
    {
     "data": {
      "text/html": [
       "<img src=\"https://s3-media3.fl.yelpcdn.com/bphoto/ijju-wYoRAxWjHPTCxyQGQ/o.jpg\" width=\"200\" height=\"200\"/>"
      ],
      "text/plain": [
       "<IPython.core.display.Image object>"
      ]
     },
     "metadata": {},
     "output_type": "display_data"
    },
    {
     "name": "stdout",
     "output_type": "stream",
     "text": [
      "tats-delicatessen-seattle\n"
     ]
    },
    {
     "data": {
      "text/html": [
       "<img src=\"https://s3-media4.fl.yelpcdn.com/bphoto/lH44FL3TivTFgJCjDNWnJA/o.jpg\" width=\"200\" height=\"200\"/>"
      ],
      "text/plain": [
       "<IPython.core.display.Image object>"
      ]
     },
     "metadata": {},
     "output_type": "display_data"
    },
    {
     "name": "stdout",
     "output_type": "stream",
     "text": [
      "japonessa-sushi-cocina-seattle\n"
     ]
    },
    {
     "data": {
      "text/html": [
       "<img src=\"https://s3-media3.fl.yelpcdn.com/bphoto/vucCrknnlu1RRvRaKWwovQ/o.jpg\" width=\"200\" height=\"200\"/>"
      ],
      "text/plain": [
       "<IPython.core.display.Image object>"
      ]
     },
     "metadata": {},
     "output_type": "display_data"
    },
    {
     "name": "stdout",
     "output_type": "stream",
     "text": [
      "metropolitan-grill-seattle\n"
     ]
    },
    {
     "data": {
      "text/html": [
       "<img src=\"https://s3-media1.fl.yelpcdn.com/bphoto/2Jk8ycCKf7XaSrHdpWxEdw/o.jpg\" width=\"200\" height=\"200\"/>"
      ],
      "text/plain": [
       "<IPython.core.display.Image object>"
      ]
     },
     "metadata": {},
     "output_type": "display_data"
    },
    {
     "name": "stdout",
     "output_type": "stream",
     "text": [
      "mikes-noodle-house-seattle\n"
     ]
    },
    {
     "data": {
      "text/html": [
       "<img src=\"https://s3-media2.fl.yelpcdn.com/bphoto/RvnKn7j4My0siLCX0r3ORw/o.jpg\" width=\"200\" height=\"200\"/>"
      ],
      "text/plain": [
       "<IPython.core.display.Image object>"
      ]
     },
     "metadata": {},
     "output_type": "display_data"
    },
    {
     "name": "stdout",
     "output_type": "stream",
     "text": [
      "tamarind-tree-seattle\n"
     ]
    },
    {
     "data": {
      "text/html": [
       "<img src=\"https://s3-media1.fl.yelpcdn.com/bphoto/1b10PuHwil788-XO1wAAFA/o.jpg\" width=\"200\" height=\"200\"/>"
      ],
      "text/plain": [
       "<IPython.core.display.Image object>"
      ]
     },
     "metadata": {},
     "output_type": "display_data"
    },
    {
     "name": "stdout",
     "output_type": "stream",
     "text": [
      "biscuit-bitch-seattle\n"
     ]
    },
    {
     "data": {
      "text/html": [
       "<img src=\"https://s3-media3.fl.yelpcdn.com/bphoto/Z2eOoKWZeTyUBGpDLArovg/o.jpg\" width=\"200\" height=\"200\"/>"
      ],
      "text/plain": [
       "<IPython.core.display.Image object>"
      ]
     },
     "metadata": {},
     "output_type": "display_data"
    },
    {
     "name": "stdout",
     "output_type": "stream",
     "text": [
      "chan-seattle-seattle-2\n"
     ]
    },
    {
     "data": {
      "text/html": [
       "<img src=\"https://s3-media3.fl.yelpcdn.com/bphoto/lXUNpkiPMgsLU1GCR5M4Iw/o.jpg\" width=\"200\" height=\"200\"/>"
      ],
      "text/plain": [
       "<IPython.core.display.Image object>"
      ]
     },
     "metadata": {},
     "output_type": "display_data"
    },
    {
     "name": "stdout",
     "output_type": "stream",
     "text": [
      "piroshky-piroshky-seattle\n"
     ]
    },
    {
     "data": {
      "text/html": [
       "<img src=\"https://s3-media4.fl.yelpcdn.com/bphoto/aVDkb0xGCnLVoKrmHecz0A/o.jpg\" width=\"200\" height=\"200\"/>"
      ],
      "text/plain": [
       "<IPython.core.display.Image object>"
      ]
     },
     "metadata": {},
     "output_type": "display_data"
    },
    {
     "name": "stdout",
     "output_type": "stream",
     "text": [
      "where-ya-at-matt-seattle\n"
     ]
    },
    {
     "data": {
      "text/html": [
       "<img src=\"https://s3-media2.fl.yelpcdn.com/bphoto/69rT9-QUx9rtZf7UXW2TwA/o.jpg\" width=\"200\" height=\"200\"/>"
      ],
      "text/plain": [
       "<IPython.core.display.Image object>"
      ]
     },
     "metadata": {},
     "output_type": "display_data"
    },
    {
     "name": "stdout",
     "output_type": "stream",
     "text": [
      "purple-café-and-wine-bar-seattle-3\n"
     ]
    },
    {
     "data": {
      "text/html": [
       "<img src=\"https://s3-media1.fl.yelpcdn.com/bphoto/sJYGdSEjcvMDPlRaHOEHYA/o.jpg\" width=\"200\" height=\"200\"/>"
      ],
      "text/plain": [
       "<IPython.core.display.Image object>"
      ]
     },
     "metadata": {},
     "output_type": "display_data"
    },
    {
     "name": "stdout",
     "output_type": "stream",
     "text": [
      "ivars-acres-of-clams-seattle-7\n"
     ]
    },
    {
     "data": {
      "text/html": [
       "<img src=\"https://s3-media3.fl.yelpcdn.com/bphoto/UCkjiV2SDxaKTJCh-RMNQQ/o.jpg\" width=\"200\" height=\"200\"/>"
      ],
      "text/plain": [
       "<IPython.core.display.Image object>"
      ]
     },
     "metadata": {},
     "output_type": "display_data"
    },
    {
     "name": "stdout",
     "output_type": "stream",
     "text": [
      "el-borracho-seattle\n"
     ]
    },
    {
     "data": {
      "text/html": [
       "<img src=\"https://s3-media3.fl.yelpcdn.com/bphoto/LFo_pxrIEmbVhkKSzZ0jiA/o.jpg\" width=\"200\" height=\"200\"/>"
      ],
      "text/plain": [
       "<IPython.core.display.Image object>"
      ]
     },
     "metadata": {},
     "output_type": "display_data"
    },
    {
     "name": "stdout",
     "output_type": "stream",
     "text": [
      "café-campagne-seattle-3\n"
     ]
    },
    {
     "data": {
      "text/html": [
       "<img src=\"https://s3-media2.fl.yelpcdn.com/bphoto/a4MuBioV2xRlPDG7UKCa6Q/o.jpg\" width=\"200\" height=\"200\"/>"
      ],
      "text/plain": [
       "<IPython.core.display.Image object>"
      ]
     },
     "metadata": {},
     "output_type": "display_data"
    },
    {
     "name": "stdout",
     "output_type": "stream",
     "text": [
      "mod-pizza-seattle-7\n"
     ]
    },
    {
     "data": {
      "text/html": [
       "<img src=\"https://s3-media4.fl.yelpcdn.com/bphoto/-TyWNrxvtDu-t0EZBiHgjw/o.jpg\" width=\"200\" height=\"200\"/>"
      ],
      "text/plain": [
       "<IPython.core.display.Image object>"
      ]
     },
     "metadata": {},
     "output_type": "display_data"
    },
    {
     "name": "stdout",
     "output_type": "stream",
     "text": [
      "specialtys-café-and-bakery-seattle-34\n"
     ]
    },
    {
     "data": {
      "text/html": [
       "<img src=\"https://s3-media1.fl.yelpcdn.com/bphoto/1gfEEPeeOHo2uGSGaAD6-Q/o.jpg\" width=\"200\" height=\"200\"/>"
      ],
      "text/plain": [
       "<IPython.core.display.Image object>"
      ]
     },
     "metadata": {},
     "output_type": "display_data"
    }
   ],
   "source": [
    "display_pics(most_popular, cleaned_df)"
   ]
  },
  {
   "cell_type": "code",
   "execution_count": null,
   "metadata": {
    "collapsed": true
   },
   "outputs": [],
   "source": []
  },
  {
   "cell_type": "code",
   "execution_count": null,
   "metadata": {},
   "outputs": [],
   "source": []
  },
  {
   "cell_type": "code",
   "execution_count": null,
   "metadata": {
    "collapsed": true
   },
   "outputs": [],
   "source": []
  }
 ],
 "metadata": {
  "kernelspec": {
   "display_name": "Python 3",
   "language": "python",
   "name": "python3"
  },
  "language_info": {
   "codemirror_mode": {
    "name": "ipython",
    "version": 3
   },
   "file_extension": ".py",
   "mimetype": "text/x-python",
   "name": "python",
   "nbconvert_exporter": "python",
   "pygments_lexer": "ipython3",
   "version": "3.6.6"
  }
 },
 "nbformat": 4,
 "nbformat_minor": 2
}
