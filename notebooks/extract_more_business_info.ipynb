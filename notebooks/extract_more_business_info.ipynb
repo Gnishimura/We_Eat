{
 "cells": [
  {
   "cell_type": "code",
   "execution_count": 1,
   "metadata": {
    "collapsed": true
   },
   "outputs": [],
   "source": [
    "from pymongo import MongoClient\n",
    "from bs4 import BeautifulSoup\n",
    "import pandas as pd\n",
    "\n",
    "we_eat_client = MongoClient()\n",
    "we_eat_db = we_eat_client['we_eat']\n",
    "website_collection = we_eat_db['websites']\n",
    "more_business_info_collection = we_eat_db['more_business_info']"
   ]
  },
  {
   "cell_type": "code",
   "execution_count": 2,
   "metadata": {},
   "outputs": [
    {
     "data": {
      "text/plain": [
       "657"
      ]
     },
     "execution_count": 2,
     "metadata": {},
     "output_type": "execute_result"
    }
   ],
   "source": [
    "website_collection.count_documents({})"
   ]
  },
  {
   "cell_type": "code",
   "execution_count": 3,
   "metadata": {
    "collapsed": true
   },
   "outputs": [],
   "source": [
    "a = website_collection.find()[:3]"
   ]
  },
  {
   "cell_type": "code",
   "execution_count": 5,
   "metadata": {
    "collapsed": true
   },
   "outputs": [],
   "source": [
    "def parse_bizinfo(bizinfos, alias):\n",
    "    biz = {}\n",
    "    biz['alias'] = alias\n",
    "    for bizinfo in bizinfos:\n",
    "        dt = bizinfo.select_one('dt')\n",
    "        cat_name = dt.text.strip()\n",
    "        dd = bizinfo.select_one('dd')\n",
    "        response = dd.text.strip()\n",
    "        biz[cat_name] = response\n",
    "    return biz"
   ]
  },
  {
   "cell_type": "code",
   "execution_count": 6,
   "metadata": {
    "collapsed": true
   },
   "outputs": [],
   "source": [
    "def save_bizinfo(bizinfo_data):\n",
    "    more_business_info_collection.delete_many({\n",
    "        'alias' : bizinfo_data['alias']\n",
    "    })\n",
    "    more_business_info_collection.insert_one(bizinfo_data)"
   ]
  },
  {
   "cell_type": "code",
   "execution_count": 7,
   "metadata": {
    "collapsed": true
   },
   "outputs": [],
   "source": [
    "def collect_bizinfo(website_collection):\n",
    "    for website in website_collection.find():\n",
    "        url = website['url']\n",
    "        alias = url.rpartition('/')[2]\n",
    "        html = website['html']\n",
    "        soup = BeautifulSoup(html, 'html.parser')\n",
    "        bizinfos = soup.select('div.short-def-list dl')\n",
    "        print(alias)\n",
    "        data = parse_bizinfo(bizinfos, alias)\n",
    "        save_bizinfo(data)"
   ]
  },
  {
   "cell_type": "code",
   "execution_count": 4,
   "metadata": {},
   "outputs": [
    {
     "ename": "NameError",
     "evalue": "name 'get_biz_info' is not defined",
     "output_type": "error",
     "traceback": [
      "\u001b[0;31m---------------------------------------------------------------------------\u001b[0m",
      "\u001b[0;31mNameError\u001b[0m                                 Traceback (most recent call last)",
      "\u001b[0;32m<ipython-input-4-e40084536b51>\u001b[0m in \u001b[0;36m<module>\u001b[0;34m()\u001b[0m\n\u001b[1;32m      3\u001b[0m     \u001b[0msoup\u001b[0m \u001b[0;34m=\u001b[0m \u001b[0mBeautifulSoup\u001b[0m\u001b[0;34m(\u001b[0m\u001b[0mhtml\u001b[0m\u001b[0;34m,\u001b[0m \u001b[0;34m'html.parser'\u001b[0m\u001b[0;34m)\u001b[0m\u001b[0;34m\u001b[0m\u001b[0m\n\u001b[1;32m      4\u001b[0m     \u001b[0mbizinfo\u001b[0m \u001b[0;34m=\u001b[0m \u001b[0msoup\u001b[0m\u001b[0;34m.\u001b[0m\u001b[0mselect\u001b[0m\u001b[0;34m(\u001b[0m\u001b[0;34m'div.short-def-list dl'\u001b[0m\u001b[0;34m)\u001b[0m\u001b[0;34m\u001b[0m\u001b[0m\n\u001b[0;32m----> 5\u001b[0;31m     \u001b[0mdata\u001b[0m \u001b[0;34m=\u001b[0m \u001b[0mget_biz_info\u001b[0m\u001b[0;34m(\u001b[0m\u001b[0mbizinfo\u001b[0m\u001b[0;34m)\u001b[0m\u001b[0;34m\u001b[0m\u001b[0m\n\u001b[0m\u001b[1;32m      6\u001b[0m \u001b[0;34m\u001b[0m\u001b[0m\n",
      "\u001b[0;31mNameError\u001b[0m: name 'get_biz_info' is not defined"
     ]
    }
   ],
   "source": [
    "for website in a:\n",
    "    html = website['html']\n",
    "    soup = BeautifulSoup(html, 'html.parser')\n",
    "    bizinfo = soup.select('div.short-def-list dl')\n",
    "    data = get_biz_info(bizinfo)\n",
    "    "
   ]
  },
  {
   "cell_type": "code",
   "execution_count": null,
   "metadata": {
    "collapsed": true
   },
   "outputs": [],
   "source": []
  },
  {
   "cell_type": "code",
   "execution_count": null,
   "metadata": {
    "collapsed": true
   },
   "outputs": [],
   "source": []
  },
  {
   "cell_type": "code",
   "execution_count": 8,
   "metadata": {
    "collapsed": true
   },
   "outputs": [],
   "source": [
    "website = website_collection.find()[2:3]"
   ]
  },
  {
   "cell_type": "code",
   "execution_count": 9,
   "metadata": {
    "collapsed": true
   },
   "outputs": [],
   "source": [
    "html = website[0]['html']"
   ]
  },
  {
   "cell_type": "code",
   "execution_count": 10,
   "metadata": {
    "collapsed": true
   },
   "outputs": [],
   "source": [
    "soup = BeautifulSoup(html, 'html.parser')"
   ]
  },
  {
   "cell_type": "code",
   "execution_count": 11,
   "metadata": {
    "collapsed": true
   },
   "outputs": [],
   "source": [
    "bizinfo = soup.select('div.short-def-list dl')"
   ]
  },
  {
   "cell_type": "code",
   "execution_count": 12,
   "metadata": {},
   "outputs": [
    {
     "data": {
      "text/plain": [
       "[<dt class=\"attribute-key\">\n",
       "                             Liked by Vegans\n",
       "                         </dt>]"
      ]
     },
     "execution_count": 12,
     "metadata": {},
     "output_type": "execute_result"
    }
   ],
   "source": [
    "bizinfo[0].find_all('dt')"
   ]
  },
  {
   "cell_type": "code",
   "execution_count": 13,
   "metadata": {},
   "outputs": [
    {
     "data": {
      "text/plain": [
       "26"
      ]
     },
     "execution_count": 13,
     "metadata": {},
     "output_type": "execute_result"
    }
   ],
   "source": [
    "len(bizinfo)"
   ]
  },
  {
   "cell_type": "code",
   "execution_count": 14,
   "metadata": {},
   "outputs": [
    {
     "ename": "NameError",
     "evalue": "name 'get_biz_info' is not defined",
     "output_type": "error",
     "traceback": [
      "\u001b[0;31m---------------------------------------------------------------------------\u001b[0m",
      "\u001b[0;31mNameError\u001b[0m                                 Traceback (most recent call last)",
      "\u001b[0;32m<ipython-input-14-09ddb7d12765>\u001b[0m in \u001b[0;36m<module>\u001b[0;34m()\u001b[0m\n\u001b[0;32m----> 1\u001b[0;31m \u001b[0mget_biz_info\u001b[0m\u001b[0;34m(\u001b[0m\u001b[0mbizinfo\u001b[0m\u001b[0;34m)\u001b[0m\u001b[0;34m\u001b[0m\u001b[0m\n\u001b[0m",
      "\u001b[0;31mNameError\u001b[0m: name 'get_biz_info' is not defined"
     ]
    }
   ],
   "source": [
    "get_biz_info(bizinfo)"
   ]
  },
  {
   "cell_type": "code",
   "execution_count": null,
   "metadata": {
    "collapsed": true
   },
   "outputs": [],
   "source": []
  },
  {
   "cell_type": "code",
   "execution_count": null,
   "metadata": {
    "collapsed": true
   },
   "outputs": [],
   "source": [
    "%pdb"
   ]
  },
  {
   "cell_type": "code",
   "execution_count": 17,
   "metadata": {},
   "outputs": [],
   "source": [
    "#collect_bizinfo(website_collection)"
   ]
  },
  {
   "cell_type": "code",
   "execution_count": 16,
   "metadata": {},
   "outputs": [
    {
     "data": {
      "text/plain": [
       "657"
      ]
     },
     "execution_count": 16,
     "metadata": {},
     "output_type": "execute_result"
    }
   ],
   "source": [
    "more_business_info_collection.count_documents({})"
   ]
  },
  {
   "cell_type": "code",
   "execution_count": 18,
   "metadata": {},
   "outputs": [
    {
     "data": {
      "text/plain": [
       "{'Delivery': 'No',\n",
       " 'Good for Kids': 'Yes',\n",
       " 'Take-out': 'Yes',\n",
       " 'Takes Reservations': 'No',\n",
       " '_id': ObjectId('5c0841f291d56fd487300588'),\n",
       " 'alias': 'nachyo-average-seattle'}"
      ]
     },
     "execution_count": 18,
     "metadata": {},
     "output_type": "execute_result"
    }
   ],
   "source": [
    "more_business_info_collection.find_one({'alias' : 'nachyo-average-seattle'})"
   ]
  },
  {
   "cell_type": "code",
   "execution_count": 19,
   "metadata": {},
   "outputs": [
    {
     "data": {
      "text/plain": [
       "<pymongo.results.DeleteResult at 0x10ebc6d88>"
      ]
     },
     "execution_count": 19,
     "metadata": {},
     "output_type": "execute_result"
    }
   ],
   "source": [
    "more_business_info_collection.delete_many({'alias': {'$exists': False}})"
   ]
  },
  {
   "cell_type": "code",
   "execution_count": 20,
   "metadata": {
    "collapsed": true
   },
   "outputs": [],
   "source": [
    "biz_dicts = pd.DataFrame(list(more_business_info_collection.find()))"
   ]
  },
  {
   "cell_type": "code",
   "execution_count": 21,
   "metadata": {
    "collapsed": true
   },
   "outputs": [],
   "source": [
    "cols = list(biz_dicts.columns)"
   ]
  },
  {
   "cell_type": "code",
   "execution_count": 22,
   "metadata": {
    "collapsed": true
   },
   "outputs": [],
   "source": [
    "sorted_cols = cols[-2:] + cols[:-2]"
   ]
  },
  {
   "cell_type": "code",
   "execution_count": 23,
   "metadata": {
    "collapsed": true
   },
   "outputs": [],
   "source": [
    "biz_dicts = biz_dicts[sorted_cols]"
   ]
  },
  {
   "cell_type": "code",
   "execution_count": 24,
   "metadata": {},
   "outputs": [
    {
     "data": {
      "text/plain": [
       "Index(['_id', 'alias', 'Accepts Apple Pay', 'Accepts Bitcoin',\n",
       "       'Accepts Credit Cards', 'Accepts Google Pay', 'Alcohol', 'Ambience',\n",
       "       'Attire', 'Best Nights', 'Bike Parking', 'Cannabis Products', 'Caters',\n",
       "       'Coat Check', 'Delivery', 'Dogs Allowed', 'Drive-Thru',\n",
       "       'Gender Neutral Restrooms', 'Good For', 'Good For Dancing',\n",
       "       'Good for Groups', 'Good for Kids', 'Good for Working', 'Happy Hour',\n",
       "       'Has Dairy-free Options', 'Has Gluten-free Options',\n",
       "       'Has Halal Options', 'Has Kosher Options', 'Has Pool Table',\n",
       "       'Has Soy-free Options', 'Has TV', 'Liked by Vegans',\n",
       "       'Liked by Vegetarians', 'Music', 'Noise Level',\n",
       "       'Offers Military Discount', 'Open to All', 'Outdoor Seating', 'Parking',\n",
       "       'Smoking', 'Take-out', 'Takes Reservations', 'Waiter Service',\n",
       "       'Wheelchair Accessible', 'Wi-Fi'],\n",
       "      dtype='object')"
      ]
     },
     "execution_count": 24,
     "metadata": {},
     "output_type": "execute_result"
    }
   ],
   "source": [
    "biz_dicts.columns"
   ]
  },
  {
   "cell_type": "code",
   "execution_count": 25,
   "metadata": {
    "collapsed": true
   },
   "outputs": [],
   "source": [
    "bizinfo_df = biz_dicts.drop(['_id'], axis=1).set_index('alias')"
   ]
  },
  {
   "cell_type": "code",
   "execution_count": null,
   "metadata": {
    "collapsed": true
   },
   "outputs": [],
   "source": [
    "bizinfo_df.to_pickle('bizinfo_df.pkl')"
   ]
  },
  {
   "cell_type": "code",
   "execution_count": 29,
   "metadata": {},
   "outputs": [
    {
     "data": {
      "text/html": [
       "<div>\n",
       "<style scoped>\n",
       "    .dataframe tbody tr th:only-of-type {\n",
       "        vertical-align: middle;\n",
       "    }\n",
       "\n",
       "    .dataframe tbody tr th {\n",
       "        vertical-align: top;\n",
       "    }\n",
       "\n",
       "    .dataframe thead th {\n",
       "        text-align: right;\n",
       "    }\n",
       "</style>\n",
       "<table border=\"1\" class=\"dataframe\">\n",
       "  <thead>\n",
       "    <tr style=\"text-align: right;\">\n",
       "      <th></th>\n",
       "      <th>Accepts Apple Pay</th>\n",
       "      <th>Accepts Bitcoin</th>\n",
       "      <th>Accepts Credit Cards</th>\n",
       "      <th>Accepts Google Pay</th>\n",
       "      <th>Alcohol</th>\n",
       "      <th>Ambience</th>\n",
       "      <th>Attire</th>\n",
       "      <th>Best Nights</th>\n",
       "      <th>Bike Parking</th>\n",
       "      <th>Cannabis Products</th>\n",
       "      <th>...</th>\n",
       "      <th>Offers Military Discount</th>\n",
       "      <th>Open to All</th>\n",
       "      <th>Outdoor Seating</th>\n",
       "      <th>Parking</th>\n",
       "      <th>Smoking</th>\n",
       "      <th>Take-out</th>\n",
       "      <th>Takes Reservations</th>\n",
       "      <th>Waiter Service</th>\n",
       "      <th>Wheelchair Accessible</th>\n",
       "      <th>Wi-Fi</th>\n",
       "    </tr>\n",
       "    <tr>\n",
       "      <th>alias</th>\n",
       "      <th></th>\n",
       "      <th></th>\n",
       "      <th></th>\n",
       "      <th></th>\n",
       "      <th></th>\n",
       "      <th></th>\n",
       "      <th></th>\n",
       "      <th></th>\n",
       "      <th></th>\n",
       "      <th></th>\n",
       "      <th></th>\n",
       "      <th></th>\n",
       "      <th></th>\n",
       "      <th></th>\n",
       "      <th></th>\n",
       "      <th></th>\n",
       "      <th></th>\n",
       "      <th></th>\n",
       "      <th></th>\n",
       "      <th></th>\n",
       "      <th></th>\n",
       "    </tr>\n",
       "  </thead>\n",
       "  <tbody>\n",
       "    <tr>\n",
       "      <th>red-cedar-and-sage-seattle</th>\n",
       "      <td>Yes</td>\n",
       "      <td>NaN</td>\n",
       "      <td>Yes</td>\n",
       "      <td>No</td>\n",
       "      <td>Full Bar</td>\n",
       "      <td>Casual</td>\n",
       "      <td>Casual</td>\n",
       "      <td>Thu, Fri, Sat</td>\n",
       "      <td>Yes</td>\n",
       "      <td>NaN</td>\n",
       "      <td>...</td>\n",
       "      <td>Yes</td>\n",
       "      <td>NaN</td>\n",
       "      <td>Yes</td>\n",
       "      <td>Street</td>\n",
       "      <td>No</td>\n",
       "      <td>Yes</td>\n",
       "      <td>Yes</td>\n",
       "      <td>Yes</td>\n",
       "      <td>Yes</td>\n",
       "      <td>Free</td>\n",
       "    </tr>\n",
       "    <tr>\n",
       "      <th>noi-thai-cuisine-seattle-3</th>\n",
       "      <td>Yes</td>\n",
       "      <td>NaN</td>\n",
       "      <td>Yes</td>\n",
       "      <td>No</td>\n",
       "      <td>Full Bar</td>\n",
       "      <td>Casual, Romantic, Classy</td>\n",
       "      <td>Casual</td>\n",
       "      <td>NaN</td>\n",
       "      <td>Yes</td>\n",
       "      <td>NaN</td>\n",
       "      <td>...</td>\n",
       "      <td>NaN</td>\n",
       "      <td>NaN</td>\n",
       "      <td>Yes</td>\n",
       "      <td>NaN</td>\n",
       "      <td>NaN</td>\n",
       "      <td>Yes</td>\n",
       "      <td>Yes</td>\n",
       "      <td>Yes</td>\n",
       "      <td>Yes</td>\n",
       "      <td>No</td>\n",
       "    </tr>\n",
       "    <tr>\n",
       "      <th>congeez-seattle</th>\n",
       "      <td>Yes</td>\n",
       "      <td>No</td>\n",
       "      <td>Yes</td>\n",
       "      <td>Yes</td>\n",
       "      <td>No</td>\n",
       "      <td>NaN</td>\n",
       "      <td>Casual</td>\n",
       "      <td>NaN</td>\n",
       "      <td>Yes</td>\n",
       "      <td>NaN</td>\n",
       "      <td>...</td>\n",
       "      <td>NaN</td>\n",
       "      <td>Yes</td>\n",
       "      <td>No</td>\n",
       "      <td>Street, Private Lot</td>\n",
       "      <td>NaN</td>\n",
       "      <td>Yes</td>\n",
       "      <td>No</td>\n",
       "      <td>NaN</td>\n",
       "      <td>Yes</td>\n",
       "      <td>No</td>\n",
       "    </tr>\n",
       "    <tr>\n",
       "      <th>the-crab-pot-seattle-2</th>\n",
       "      <td>Yes</td>\n",
       "      <td>NaN</td>\n",
       "      <td>Yes</td>\n",
       "      <td>Yes</td>\n",
       "      <td>Full Bar</td>\n",
       "      <td>Touristy</td>\n",
       "      <td>Casual</td>\n",
       "      <td>NaN</td>\n",
       "      <td>Yes</td>\n",
       "      <td>NaN</td>\n",
       "      <td>...</td>\n",
       "      <td>NaN</td>\n",
       "      <td>NaN</td>\n",
       "      <td>Yes</td>\n",
       "      <td>Street</td>\n",
       "      <td>NaN</td>\n",
       "      <td>Yes</td>\n",
       "      <td>No</td>\n",
       "      <td>Yes</td>\n",
       "      <td>NaN</td>\n",
       "      <td>Free</td>\n",
       "    </tr>\n",
       "    <tr>\n",
       "      <th>musashis-seattle-3</th>\n",
       "      <td>No</td>\n",
       "      <td>NaN</td>\n",
       "      <td>Yes</td>\n",
       "      <td>NaN</td>\n",
       "      <td>Beer &amp; Wine Only</td>\n",
       "      <td>Casual</td>\n",
       "      <td>Casual</td>\n",
       "      <td>NaN</td>\n",
       "      <td>Yes</td>\n",
       "      <td>NaN</td>\n",
       "      <td>...</td>\n",
       "      <td>NaN</td>\n",
       "      <td>NaN</td>\n",
       "      <td>No</td>\n",
       "      <td>Street</td>\n",
       "      <td>NaN</td>\n",
       "      <td>Yes</td>\n",
       "      <td>No</td>\n",
       "      <td>Yes</td>\n",
       "      <td>NaN</td>\n",
       "      <td>No</td>\n",
       "    </tr>\n",
       "  </tbody>\n",
       "</table>\n",
       "<p>5 rows × 43 columns</p>\n",
       "</div>"
      ],
      "text/plain": [
       "                           Accepts Apple Pay Accepts Bitcoin  \\\n",
       "alias                                                          \n",
       "red-cedar-and-sage-seattle               Yes             NaN   \n",
       "noi-thai-cuisine-seattle-3               Yes             NaN   \n",
       "congeez-seattle                          Yes              No   \n",
       "the-crab-pot-seattle-2                   Yes             NaN   \n",
       "musashis-seattle-3                        No             NaN   \n",
       "\n",
       "                           Accepts Credit Cards Accepts Google Pay  \\\n",
       "alias                                                                \n",
       "red-cedar-and-sage-seattle                  Yes                 No   \n",
       "noi-thai-cuisine-seattle-3                  Yes                 No   \n",
       "congeez-seattle                             Yes                Yes   \n",
       "the-crab-pot-seattle-2                      Yes                Yes   \n",
       "musashis-seattle-3                          Yes                NaN   \n",
       "\n",
       "                                     Alcohol                  Ambience  \\\n",
       "alias                                                                    \n",
       "red-cedar-and-sage-seattle          Full Bar                    Casual   \n",
       "noi-thai-cuisine-seattle-3          Full Bar  Casual, Romantic, Classy   \n",
       "congeez-seattle                           No                       NaN   \n",
       "the-crab-pot-seattle-2              Full Bar                  Touristy   \n",
       "musashis-seattle-3          Beer & Wine Only                    Casual   \n",
       "\n",
       "                            Attire    Best Nights Bike Parking  \\\n",
       "alias                                                            \n",
       "red-cedar-and-sage-seattle  Casual  Thu, Fri, Sat          Yes   \n",
       "noi-thai-cuisine-seattle-3  Casual            NaN          Yes   \n",
       "congeez-seattle             Casual            NaN          Yes   \n",
       "the-crab-pot-seattle-2      Casual            NaN          Yes   \n",
       "musashis-seattle-3          Casual            NaN          Yes   \n",
       "\n",
       "                           Cannabis Products  ...  Offers Military Discount  \\\n",
       "alias                                         ...                             \n",
       "red-cedar-and-sage-seattle               NaN  ...                       Yes   \n",
       "noi-thai-cuisine-seattle-3               NaN  ...                       NaN   \n",
       "congeez-seattle                          NaN  ...                       NaN   \n",
       "the-crab-pot-seattle-2                   NaN  ...                       NaN   \n",
       "musashis-seattle-3                       NaN  ...                       NaN   \n",
       "\n",
       "                           Open to All Outdoor Seating              Parking  \\\n",
       "alias                                                                         \n",
       "red-cedar-and-sage-seattle         NaN             Yes               Street   \n",
       "noi-thai-cuisine-seattle-3         NaN             Yes                  NaN   \n",
       "congeez-seattle                    Yes              No  Street, Private Lot   \n",
       "the-crab-pot-seattle-2             NaN             Yes               Street   \n",
       "musashis-seattle-3                 NaN              No               Street   \n",
       "\n",
       "                           Smoking Take-out Takes Reservations Waiter Service  \\\n",
       "alias                                                                           \n",
       "red-cedar-and-sage-seattle      No      Yes                Yes            Yes   \n",
       "noi-thai-cuisine-seattle-3     NaN      Yes                Yes            Yes   \n",
       "congeez-seattle                NaN      Yes                 No            NaN   \n",
       "the-crab-pot-seattle-2         NaN      Yes                 No            Yes   \n",
       "musashis-seattle-3             NaN      Yes                 No            Yes   \n",
       "\n",
       "                           Wheelchair Accessible Wi-Fi  \n",
       "alias                                                   \n",
       "red-cedar-and-sage-seattle                   Yes  Free  \n",
       "noi-thai-cuisine-seattle-3                   Yes    No  \n",
       "congeez-seattle                              Yes    No  \n",
       "the-crab-pot-seattle-2                       NaN  Free  \n",
       "musashis-seattle-3                           NaN    No  \n",
       "\n",
       "[5 rows x 43 columns]"
      ]
     },
     "execution_count": 29,
     "metadata": {},
     "output_type": "execute_result"
    }
   ],
   "source": [
    "bizinfo_df.head()"
   ]
  },
  {
   "cell_type": "code",
   "execution_count": null,
   "metadata": {
    "collapsed": true
   },
   "outputs": [],
   "source": []
  }
 ],
 "metadata": {
  "kernelspec": {
   "display_name": "Python 3",
   "language": "python",
   "name": "python3"
  },
  "language_info": {
   "codemirror_mode": {
    "name": "ipython",
    "version": 3
   },
   "file_extension": ".py",
   "mimetype": "text/x-python",
   "name": "python",
   "nbconvert_exporter": "python",
   "pygments_lexer": "ipython3",
   "version": "3.6.6"
  }
 },
 "nbformat": 4,
 "nbformat_minor": 2
}
