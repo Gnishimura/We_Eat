{
 "cells": [
  {
   "cell_type": "code",
   "execution_count": 5,
   "metadata": {
    "collapsed": true
   },
   "outputs": [],
   "source": [
    "import pandas as pd\n",
    "import numpy as np\n",
    "import pyspark as ps\n",
    "from pyspark.sql import SparkSession\n",
    "from pyspark.sql.types import (\n",
    "    IntegerType, StringType, IntegerType, FloatType, \n",
    "    StructField, StructType, DoubleType\n",
    ")\n",
    "from pyspark.ml.recommendation import ALS\n",
    "from pyspark.ml.evaluation import RegressionEvaluator\n",
    "import matplotlib.pyplot as plt\n",
    "import pickle\n",
    "\n",
    "from ALS import ALSRecommender"
   ]
  },
  {
   "cell_type": "markdown",
   "metadata": {},
   "source": [
    "### Import the main restaurant dataframe"
   ]
  },
  {
   "cell_type": "code",
   "execution_count": 51,
   "metadata": {},
   "outputs": [
    {
     "data": {
      "text/plain": [
       "(5216, 4)"
      ]
     },
     "execution_count": 51,
     "metadata": {},
     "output_type": "execute_result"
    }
   ],
   "source": [
    "als_df = pd.read_pickle('als_df.pkl')\n",
    "als_df.shape"
   ]
  },
  {
   "cell_type": "markdown",
   "metadata": {},
   "source": [
    "# Get user_factor and item_factor databases\n",
    "### SparkSession\n"
   ]
  },
  {
   "cell_type": "code",
   "execution_count": 44,
   "metadata": {},
   "outputs": [
    {
     "name": "stdout",
     "output_type": "stream",
     "text": [
      "+-------+-------+------+\n",
      "|user_id|item_id|rating|\n",
      "+-------+-------+------+\n",
      "|   1520|    596|   3.0|\n",
      "|   1520|    592|   4.0|\n",
      "|   1369|    480|   4.0|\n",
      "|   1369|    601|   5.0|\n",
      "|   1369|    488|   5.0|\n",
      "|   1470|    544|   4.0|\n",
      "|   1499|    615|   3.0|\n",
      "|    293|    530|   4.0|\n",
      "|   1369|    370|   5.0|\n",
      "|    293|    479|   2.0|\n",
      "|   1523|    613|   3.0|\n",
      "|   1499|    538|   1.0|\n",
      "|   1048|    202|   5.0|\n",
      "|   1523|    620|   3.0|\n",
      "|   1470|    601|   3.0|\n",
      "|   1048|    584|   3.0|\n",
      "|   1048|    483|   4.0|\n",
      "|   1469|    486|   4.0|\n",
      "|   1501|    544|   3.0|\n",
      "|   1465|    525|   4.0|\n",
      "+-------+-------+------+\n",
      "only showing top 20 rows\n",
      "\n"
     ]
    }
   ],
   "source": [
    "spark = SparkSession.builder.getOrCreate()\n",
    "spark_als_df = spark.createDataFrame(als_df) \n",
    "pandas_als_df = spark_als_df.toPandas()\n",
    "spark_als_df['user_id', 'item_id', 'rating'].show()"
   ]
  },
  {
   "cell_type": "code",
   "execution_count": 53,
   "metadata": {},
   "outputs": [],
   "source": [
    "pandas_als_df = pandas_als_df[['user_id', 'item_id', 'rating']]"
   ]
  },
  {
   "cell_type": "markdown",
   "metadata": {},
   "source": [
    "### Train an ALS Model"
   ]
  },
  {
   "cell_type": "code",
   "execution_count": 9,
   "metadata": {
    "collapsed": true
   },
   "outputs": [],
   "source": [
    "als_model = ALS(\n",
    "    itemCol='item_id',\n",
    "    userCol='user_id',\n",
    "    ratingCol='rating',\n",
    "    nonnegative=True,    \n",
    "    regParam=0.1,\n",
    "    rank=10,\n",
    "    coldStartStrategy = 'drop')"
   ]
  },
  {
   "cell_type": "code",
   "execution_count": 10,
   "metadata": {
    "collapsed": true
   },
   "outputs": [],
   "source": [
    "recommender = als_model.fit(spark_als_df)"
   ]
  },
  {
   "cell_type": "code",
   "execution_count": 40,
   "metadata": {},
   "outputs": [],
   "source": [
    "user_factors = recommender.userFactors.collect()\n",
    "item_factors = recommender.itemFactors.collect()"
   ]
  },
  {
   "cell_type": "code",
   "execution_count": 92,
   "metadata": {},
   "outputs": [],
   "source": [
    "#Create user factor and item factor databases\n",
    "uf_df = recommender.userFactors.toPandas()\n",
    "if_df = recommender.itemFactors.toPandas()\n",
    "if_df.to_pickle('item_factors_df.pkl')"
   ]
  },
  {
   "cell_type": "code",
   "execution_count": 54,
   "metadata": {
    "collapsed": true
   },
   "outputs": [],
   "source": [
    "#Need to create the inverse_alias_dictionary to translate rest_ids to rest_names\n",
    "more_than_one_review = pd.read_pickle('more_than_one_review_df.pkl')\n",
    "aliases = more_than_one_review['alias'].unique()\n",
    "alias_ids = zip(aliases, range(len(aliases)))\n",
    "alias_dict = dict(alias_ids)\n",
    "inv_alias_dict = {v: k for k, v in alias_dict.items()}"
   ]
  },
  {
   "cell_type": "code",
   "execution_count": 93,
   "metadata": {
    "collapsed": true
   },
   "outputs": [],
   "source": [
    "with open('inv_alias_dict.pickle', 'wb') as handle:\n",
    "    pickle.dump(inv_alias_dict, handle, protocol=pickle.HIGHEST_PROTOCOL)"
   ]
  },
  {
   "cell_type": "code",
   "execution_count": 48,
   "metadata": {},
   "outputs": [],
   "source": [
    "#Import survey results\n",
    "from survey_results import survey"
   ]
  },
  {
   "cell_type": "markdown",
   "metadata": {},
   "source": [
    "### Run recommender to get recs"
   ]
  },
  {
   "cell_type": "code",
   "execution_count": 15,
   "metadata": {
    "collapsed": true
   },
   "outputs": [],
   "source": [
    "a_recommender = ALSRecommender(uf_df, if_df, inv_alias_dict)"
   ]
  },
  {
   "cell_type": "code",
   "execution_count": 55,
   "metadata": {},
   "outputs": [
    {
     "data": {
      "text/html": [
       "<div>\n",
       "<style scoped>\n",
       "    .dataframe tbody tr th:only-of-type {\n",
       "        vertical-align: middle;\n",
       "    }\n",
       "\n",
       "    .dataframe tbody tr th {\n",
       "        vertical-align: top;\n",
       "    }\n",
       "\n",
       "    .dataframe thead th {\n",
       "        text-align: right;\n",
       "    }\n",
       "</style>\n",
       "<table border=\"1\" class=\"dataframe\">\n",
       "  <thead>\n",
       "    <tr style=\"text-align: right;\">\n",
       "      <th></th>\n",
       "      <th>amazon-go-seattle-5</th>\n",
       "      <th>the-pink-door-seattle-4</th>\n",
       "      <th>nirmals-seattle</th>\n",
       "      <th>biscuit-bitch-seattle-5</th>\n",
       "      <th>damn-the-weather-seattle</th>\n",
       "      <th>bad-bishop-seattle</th>\n",
       "      <th>pike-place-chowder-seattle</th>\n",
       "      <th>tsukushinbo-seattle</th>\n",
       "      <th>taylor-shellfish-oyster-bar-seattle-2</th>\n",
       "      <th>elliotts-oyster-house-seattle-2</th>\n",
       "      <th>...</th>\n",
       "      <th>mediterranean-cuisine-seattle</th>\n",
       "      <th>ricenroll-seattle-2</th>\n",
       "      <th>union-deli-la-puget-sound-plaza-building-seattle</th>\n",
       "      <th>measure-seattle</th>\n",
       "      <th>subway-seattle-3</th>\n",
       "      <th>u-bank-cafe-seattle</th>\n",
       "      <th>subway-seattle-31</th>\n",
       "      <th>subway-seattle-66</th>\n",
       "      <th>organic-to-go-seattle-4</th>\n",
       "      <th>chez-dave-seattle-2</th>\n",
       "    </tr>\n",
       "  </thead>\n",
       "  <tbody>\n",
       "    <tr>\n",
       "      <th>gabe</th>\n",
       "      <td>-0.204846</td>\n",
       "      <td>2.369452</td>\n",
       "      <td>-0.278558</td>\n",
       "      <td>1.278298</td>\n",
       "      <td>-0.894885</td>\n",
       "      <td>1.060026</td>\n",
       "      <td>1.726565</td>\n",
       "      <td>2.129003</td>\n",
       "      <td>1.576984</td>\n",
       "      <td>2.789261</td>\n",
       "      <td>...</td>\n",
       "      <td>2.205422</td>\n",
       "      <td>3.259448</td>\n",
       "      <td>0.120804</td>\n",
       "      <td>0.572778</td>\n",
       "      <td>2.354436</td>\n",
       "      <td>-0.095351</td>\n",
       "      <td>1.013983</td>\n",
       "      <td>1.089700</td>\n",
       "      <td>0.746585</td>\n",
       "      <td>-1.937756</td>\n",
       "    </tr>\n",
       "    <tr>\n",
       "      <th>nicole</th>\n",
       "      <td>9.093305</td>\n",
       "      <td>6.580937</td>\n",
       "      <td>-4.190717</td>\n",
       "      <td>-5.896802</td>\n",
       "      <td>-5.976097</td>\n",
       "      <td>-0.266371</td>\n",
       "      <td>-6.415530</td>\n",
       "      <td>5.934456</td>\n",
       "      <td>-0.968214</td>\n",
       "      <td>3.428758</td>\n",
       "      <td>...</td>\n",
       "      <td>4.747425</td>\n",
       "      <td>5.530440</td>\n",
       "      <td>-1.404166</td>\n",
       "      <td>-0.036775</td>\n",
       "      <td>-2.406282</td>\n",
       "      <td>0.885326</td>\n",
       "      <td>-1.920965</td>\n",
       "      <td>-8.701260</td>\n",
       "      <td>1.774460</td>\n",
       "      <td>-8.446063</td>\n",
       "    </tr>\n",
       "    <tr>\n",
       "      <th>jordan</th>\n",
       "      <td>10.363048</td>\n",
       "      <td>9.807997</td>\n",
       "      <td>6.880987</td>\n",
       "      <td>0.911852</td>\n",
       "      <td>3.639931</td>\n",
       "      <td>7.735248</td>\n",
       "      <td>-1.040732</td>\n",
       "      <td>3.549685</td>\n",
       "      <td>4.529747</td>\n",
       "      <td>4.787540</td>\n",
       "      <td>...</td>\n",
       "      <td>2.928741</td>\n",
       "      <td>3.561614</td>\n",
       "      <td>5.326628</td>\n",
       "      <td>4.137985</td>\n",
       "      <td>3.913624</td>\n",
       "      <td>2.524035</td>\n",
       "      <td>-0.579715</td>\n",
       "      <td>0.990840</td>\n",
       "      <td>2.999946</td>\n",
       "      <td>0.368330</td>\n",
       "    </tr>\n",
       "    <tr>\n",
       "      <th>jonny</th>\n",
       "      <td>6.366547</td>\n",
       "      <td>5.833867</td>\n",
       "      <td>7.154695</td>\n",
       "      <td>5.221021</td>\n",
       "      <td>6.295663</td>\n",
       "      <td>4.557650</td>\n",
       "      <td>3.629668</td>\n",
       "      <td>3.194500</td>\n",
       "      <td>5.641347</td>\n",
       "      <td>3.918737</td>\n",
       "      <td>...</td>\n",
       "      <td>2.407974</td>\n",
       "      <td>3.203024</td>\n",
       "      <td>4.831695</td>\n",
       "      <td>5.653180</td>\n",
       "      <td>5.896283</td>\n",
       "      <td>1.960920</td>\n",
       "      <td>3.021735</td>\n",
       "      <td>5.422743</td>\n",
       "      <td>3.269316</td>\n",
       "      <td>5.055296</td>\n",
       "    </tr>\n",
       "    <tr>\n",
       "      <th>alex</th>\n",
       "      <td>7.487336</td>\n",
       "      <td>5.196887</td>\n",
       "      <td>1.918431</td>\n",
       "      <td>0.673735</td>\n",
       "      <td>2.070410</td>\n",
       "      <td>0.582364</td>\n",
       "      <td>-1.481194</td>\n",
       "      <td>4.339519</td>\n",
       "      <td>2.132065</td>\n",
       "      <td>2.473254</td>\n",
       "      <td>...</td>\n",
       "      <td>2.609621</td>\n",
       "      <td>3.211571</td>\n",
       "      <td>2.079912</td>\n",
       "      <td>3.531593</td>\n",
       "      <td>1.144817</td>\n",
       "      <td>1.395010</td>\n",
       "      <td>1.902854</td>\n",
       "      <td>-0.513489</td>\n",
       "      <td>3.034323</td>\n",
       "      <td>0.764786</td>\n",
       "    </tr>\n",
       "    <tr>\n",
       "      <th>grant</th>\n",
       "      <td>-3.421549</td>\n",
       "      <td>-0.195937</td>\n",
       "      <td>11.307910</td>\n",
       "      <td>16.026771</td>\n",
       "      <td>12.325163</td>\n",
       "      <td>3.462374</td>\n",
       "      <td>11.613417</td>\n",
       "      <td>1.713476</td>\n",
       "      <td>9.546372</td>\n",
       "      <td>0.837611</td>\n",
       "      <td>...</td>\n",
       "      <td>1.345313</td>\n",
       "      <td>0.034766</td>\n",
       "      <td>8.277325</td>\n",
       "      <td>8.699176</td>\n",
       "      <td>9.531417</td>\n",
       "      <td>0.522600</td>\n",
       "      <td>7.940840</td>\n",
       "      <td>16.847457</td>\n",
       "      <td>4.508735</td>\n",
       "      <td>15.828395</td>\n",
       "    </tr>\n",
       "    <tr>\n",
       "      <th>lea</th>\n",
       "      <td>8.993033</td>\n",
       "      <td>8.312597</td>\n",
       "      <td>-2.233648</td>\n",
       "      <td>-6.408272</td>\n",
       "      <td>-5.509439</td>\n",
       "      <td>-0.240913</td>\n",
       "      <td>-5.822183</td>\n",
       "      <td>4.414948</td>\n",
       "      <td>0.276907</td>\n",
       "      <td>2.907891</td>\n",
       "      <td>...</td>\n",
       "      <td>2.074596</td>\n",
       "      <td>3.019662</td>\n",
       "      <td>2.768264</td>\n",
       "      <td>0.597823</td>\n",
       "      <td>-2.919805</td>\n",
       "      <td>1.152469</td>\n",
       "      <td>-2.944867</td>\n",
       "      <td>-7.641419</td>\n",
       "      <td>1.538949</td>\n",
       "      <td>-9.027822</td>\n",
       "    </tr>\n",
       "  </tbody>\n",
       "</table>\n",
       "<p>7 rows × 621 columns</p>\n",
       "</div>"
      ],
      "text/plain": [
       "        amazon-go-seattle-5  the-pink-door-seattle-4  nirmals-seattle  \\\n",
       "gabe              -0.204846                 2.369452        -0.278558   \n",
       "nicole             9.093305                 6.580937        -4.190717   \n",
       "jordan            10.363048                 9.807997         6.880987   \n",
       "jonny              6.366547                 5.833867         7.154695   \n",
       "alex               7.487336                 5.196887         1.918431   \n",
       "grant             -3.421549                -0.195937        11.307910   \n",
       "lea                8.993033                 8.312597        -2.233648   \n",
       "\n",
       "        biscuit-bitch-seattle-5  damn-the-weather-seattle  bad-bishop-seattle  \\\n",
       "gabe                   1.278298                 -0.894885            1.060026   \n",
       "nicole                -5.896802                 -5.976097           -0.266371   \n",
       "jordan                 0.911852                  3.639931            7.735248   \n",
       "jonny                  5.221021                  6.295663            4.557650   \n",
       "alex                   0.673735                  2.070410            0.582364   \n",
       "grant                 16.026771                 12.325163            3.462374   \n",
       "lea                   -6.408272                 -5.509439           -0.240913   \n",
       "\n",
       "        pike-place-chowder-seattle  tsukushinbo-seattle  \\\n",
       "gabe                      1.726565             2.129003   \n",
       "nicole                   -6.415530             5.934456   \n",
       "jordan                   -1.040732             3.549685   \n",
       "jonny                     3.629668             3.194500   \n",
       "alex                     -1.481194             4.339519   \n",
       "grant                    11.613417             1.713476   \n",
       "lea                      -5.822183             4.414948   \n",
       "\n",
       "        taylor-shellfish-oyster-bar-seattle-2  \\\n",
       "gabe                                 1.576984   \n",
       "nicole                              -0.968214   \n",
       "jordan                               4.529747   \n",
       "jonny                                5.641347   \n",
       "alex                                 2.132065   \n",
       "grant                                9.546372   \n",
       "lea                                  0.276907   \n",
       "\n",
       "        elliotts-oyster-house-seattle-2         ...           \\\n",
       "gabe                           2.789261         ...            \n",
       "nicole                         3.428758         ...            \n",
       "jordan                         4.787540         ...            \n",
       "jonny                          3.918737         ...            \n",
       "alex                           2.473254         ...            \n",
       "grant                          0.837611         ...            \n",
       "lea                            2.907891         ...            \n",
       "\n",
       "        mediterranean-cuisine-seattle  ricenroll-seattle-2  \\\n",
       "gabe                         2.205422             3.259448   \n",
       "nicole                       4.747425             5.530440   \n",
       "jordan                       2.928741             3.561614   \n",
       "jonny                        2.407974             3.203024   \n",
       "alex                         2.609621             3.211571   \n",
       "grant                        1.345313             0.034766   \n",
       "lea                          2.074596             3.019662   \n",
       "\n",
       "        union-deli-la-puget-sound-plaza-building-seattle  measure-seattle  \\\n",
       "gabe                                            0.120804         0.572778   \n",
       "nicole                                         -1.404166        -0.036775   \n",
       "jordan                                          5.326628         4.137985   \n",
       "jonny                                           4.831695         5.653180   \n",
       "alex                                            2.079912         3.531593   \n",
       "grant                                           8.277325         8.699176   \n",
       "lea                                             2.768264         0.597823   \n",
       "\n",
       "        subway-seattle-3  u-bank-cafe-seattle  subway-seattle-31  \\\n",
       "gabe            2.354436            -0.095351           1.013983   \n",
       "nicole         -2.406282             0.885326          -1.920965   \n",
       "jordan          3.913624             2.524035          -0.579715   \n",
       "jonny           5.896283             1.960920           3.021735   \n",
       "alex            1.144817             1.395010           1.902854   \n",
       "grant           9.531417             0.522600           7.940840   \n",
       "lea            -2.919805             1.152469          -2.944867   \n",
       "\n",
       "        subway-seattle-66  organic-to-go-seattle-4  chez-dave-seattle-2  \n",
       "gabe             1.089700                 0.746585            -1.937756  \n",
       "nicole          -8.701260                 1.774460            -8.446063  \n",
       "jordan           0.990840                 2.999946             0.368330  \n",
       "jonny            5.422743                 3.269316             5.055296  \n",
       "alex            -0.513489                 3.034323             0.764786  \n",
       "grant           16.847457                 4.508735            15.828395  \n",
       "lea             -7.641419                 1.538949            -9.027822  \n",
       "\n",
       "[7 rows x 621 columns]"
      ]
     },
     "execution_count": 55,
     "metadata": {},
     "output_type": "execute_result"
    }
   ],
   "source": [
    "recs_database = a_recommender.compile_preds_database(survey)\n",
    "recs_database"
   ]
  },
  {
   "cell_type": "code",
   "execution_count": 17,
   "metadata": {
    "collapsed": true
   },
   "outputs": [],
   "source": [
    "def sort_recs_for_two(user1, user2, recs_database):    \n",
    "    u1 = recs_database.loc[user1]\n",
    "    u2 = recs_database.loc[user2]\n",
    "    double_df = pd.concat([u1, u2], axis=1, sort=False)\n",
    "    double_df['mean'] = double_df.mean(axis=1)\n",
    "    return double_df.sort_values(by=['mean'], ascending=False)"
   ]
  },
  {
   "cell_type": "code",
   "execution_count": 91,
   "metadata": {},
   "outputs": [
    {
     "data": {
      "text/html": [
       "<div>\n",
       "<style scoped>\n",
       "    .dataframe tbody tr th:only-of-type {\n",
       "        vertical-align: middle;\n",
       "    }\n",
       "\n",
       "    .dataframe tbody tr th {\n",
       "        vertical-align: top;\n",
       "    }\n",
       "\n",
       "    .dataframe thead th {\n",
       "        text-align: right;\n",
       "    }\n",
       "</style>\n",
       "<table border=\"1\" class=\"dataframe\">\n",
       "  <thead>\n",
       "    <tr style=\"text-align: right;\">\n",
       "      <th></th>\n",
       "      <th>gabe</th>\n",
       "      <th>lea</th>\n",
       "      <th>mean</th>\n",
       "    </tr>\n",
       "  </thead>\n",
       "  <tbody>\n",
       "    <tr>\n",
       "      <th>daawat-grill-seattle-2</th>\n",
       "      <td>6.120159</td>\n",
       "      <td>15.170543</td>\n",
       "      <td>10.645351</td>\n",
       "    </tr>\n",
       "    <tr>\n",
       "      <th>sushi-kudasai-seattle-3</th>\n",
       "      <td>3.039460</td>\n",
       "      <td>13.826014</td>\n",
       "      <td>8.432737</td>\n",
       "    </tr>\n",
       "    <tr>\n",
       "      <th>chan-seattle-seattle-2</th>\n",
       "      <td>4.773890</td>\n",
       "      <td>10.906977</td>\n",
       "      <td>7.840434</td>\n",
       "    </tr>\n",
       "    <tr>\n",
       "      <th>subway-seattle-34</th>\n",
       "      <td>2.535910</td>\n",
       "      <td>12.815684</td>\n",
       "      <td>7.675797</td>\n",
       "    </tr>\n",
       "    <tr>\n",
       "      <th>mangia-me-seattle-2</th>\n",
       "      <td>2.397617</td>\n",
       "      <td>12.936123</td>\n",
       "      <td>7.666870</td>\n",
       "    </tr>\n",
       "    <tr>\n",
       "      <th>georges-sausage-and-delicatessen-seattle</th>\n",
       "      <td>5.267859</td>\n",
       "      <td>10.040895</td>\n",
       "      <td>7.654377</td>\n",
       "    </tr>\n",
       "    <tr>\n",
       "      <th>café-frieda-seattle-3</th>\n",
       "      <td>5.433702</td>\n",
       "      <td>9.689345</td>\n",
       "      <td>7.561523</td>\n",
       "    </tr>\n",
       "    <tr>\n",
       "      <th>café-paloma-seattle-2</th>\n",
       "      <td>3.351841</td>\n",
       "      <td>11.645865</td>\n",
       "      <td>7.498853</td>\n",
       "    </tr>\n",
       "    <tr>\n",
       "      <th>main-street-gyros-seattle-2</th>\n",
       "      <td>2.145768</td>\n",
       "      <td>12.356760</td>\n",
       "      <td>7.251264</td>\n",
       "    </tr>\n",
       "    <tr>\n",
       "      <th>huong-binh-seattle</th>\n",
       "      <td>3.126656</td>\n",
       "      <td>11.369953</td>\n",
       "      <td>7.248304</td>\n",
       "    </tr>\n",
       "    <tr>\n",
       "      <th>fuji-sushi-seattle</th>\n",
       "      <td>0.983997</td>\n",
       "      <td>13.464260</td>\n",
       "      <td>7.224129</td>\n",
       "    </tr>\n",
       "    <tr>\n",
       "      <th>purple-café-and-wine-bar-seattle-3</th>\n",
       "      <td>1.019710</td>\n",
       "      <td>13.311581</td>\n",
       "      <td>7.165646</td>\n",
       "    </tr>\n",
       "    <tr>\n",
       "      <th>humble-pie-seattle</th>\n",
       "      <td>4.261985</td>\n",
       "      <td>9.760336</td>\n",
       "      <td>7.011160</td>\n",
       "    </tr>\n",
       "    <tr>\n",
       "      <th>apizza-seattle-3</th>\n",
       "      <td>2.126906</td>\n",
       "      <td>11.372635</td>\n",
       "      <td>6.749771</td>\n",
       "    </tr>\n",
       "    <tr>\n",
       "      <th>hue-ky-mi-gia-seattle</th>\n",
       "      <td>3.336108</td>\n",
       "      <td>10.013394</td>\n",
       "      <td>6.674751</td>\n",
       "    </tr>\n",
       "    <tr>\n",
       "      <th>cherry-street-coffee-house-seattle</th>\n",
       "      <td>3.803740</td>\n",
       "      <td>9.488009</td>\n",
       "      <td>6.645874</td>\n",
       "    </tr>\n",
       "    <tr>\n",
       "      <th>twice-burger-seattle-3</th>\n",
       "      <td>3.733813</td>\n",
       "      <td>8.983957</td>\n",
       "      <td>6.358885</td>\n",
       "    </tr>\n",
       "    <tr>\n",
       "      <th>turkish-delight-seattle</th>\n",
       "      <td>3.024518</td>\n",
       "      <td>9.504617</td>\n",
       "      <td>6.264567</td>\n",
       "    </tr>\n",
       "    <tr>\n",
       "      <th>kidd-valley-seattle-6</th>\n",
       "      <td>5.157261</td>\n",
       "      <td>7.259819</td>\n",
       "      <td>6.208540</td>\n",
       "    </tr>\n",
       "    <tr>\n",
       "      <th>wild-rye-cafe-bakery-seattle</th>\n",
       "      <td>6.284186</td>\n",
       "      <td>5.736180</td>\n",
       "      <td>6.010183</td>\n",
       "    </tr>\n",
       "  </tbody>\n",
       "</table>\n",
       "</div>"
      ],
      "text/plain": [
       "                                              gabe        lea       mean\n",
       "daawat-grill-seattle-2                    6.120159  15.170543  10.645351\n",
       "sushi-kudasai-seattle-3                   3.039460  13.826014   8.432737\n",
       "chan-seattle-seattle-2                    4.773890  10.906977   7.840434\n",
       "subway-seattle-34                         2.535910  12.815684   7.675797\n",
       "mangia-me-seattle-2                       2.397617  12.936123   7.666870\n",
       "georges-sausage-and-delicatessen-seattle  5.267859  10.040895   7.654377\n",
       "café-frieda-seattle-3                     5.433702   9.689345   7.561523\n",
       "café-paloma-seattle-2                     3.351841  11.645865   7.498853\n",
       "main-street-gyros-seattle-2               2.145768  12.356760   7.251264\n",
       "huong-binh-seattle                        3.126656  11.369953   7.248304\n",
       "fuji-sushi-seattle                        0.983997  13.464260   7.224129\n",
       "purple-café-and-wine-bar-seattle-3        1.019710  13.311581   7.165646\n",
       "humble-pie-seattle                        4.261985   9.760336   7.011160\n",
       "apizza-seattle-3                          2.126906  11.372635   6.749771\n",
       "hue-ky-mi-gia-seattle                     3.336108  10.013394   6.674751\n",
       "cherry-street-coffee-house-seattle        3.803740   9.488009   6.645874\n",
       "twice-burger-seattle-3                    3.733813   8.983957   6.358885\n",
       "turkish-delight-seattle                   3.024518   9.504617   6.264567\n",
       "kidd-valley-seattle-6                     5.157261   7.259819   6.208540\n",
       "wild-rye-cafe-bakery-seattle              6.284186   5.736180   6.010183"
      ]
     },
     "execution_count": 91,
     "metadata": {},
     "output_type": "execute_result"
    }
   ],
   "source": [
    "sort_recs_for_two('gabe', 'lea', recs_database).head(20)"
   ]
  },
  {
   "cell_type": "code",
   "execution_count": 20,
   "metadata": {},
   "outputs": [
    {
     "data": {
      "text/html": [
       "<div>\n",
       "<style scoped>\n",
       "    .dataframe tbody tr th:only-of-type {\n",
       "        vertical-align: middle;\n",
       "    }\n",
       "\n",
       "    .dataframe tbody tr th {\n",
       "        vertical-align: top;\n",
       "    }\n",
       "\n",
       "    .dataframe thead th {\n",
       "        text-align: right;\n",
       "    }\n",
       "</style>\n",
       "<table border=\"1\" class=\"dataframe\">\n",
       "  <thead>\n",
       "    <tr style=\"text-align: right;\">\n",
       "      <th></th>\n",
       "      <th>gabe</th>\n",
       "      <th>grant</th>\n",
       "      <th>mean</th>\n",
       "    </tr>\n",
       "  </thead>\n",
       "  <tbody>\n",
       "    <tr>\n",
       "      <th>intermezzo-carmine-seattle-2</th>\n",
       "      <td>0.327712</td>\n",
       "      <td>25.385533</td>\n",
       "      <td>12.856622</td>\n",
       "    </tr>\n",
       "    <tr>\n",
       "      <th>le-pichet-seattle</th>\n",
       "      <td>-0.496189</td>\n",
       "      <td>24.716886</td>\n",
       "      <td>12.110349</td>\n",
       "    </tr>\n",
       "    <tr>\n",
       "      <th>din-tai-fung-seattle-17</th>\n",
       "      <td>1.881809</td>\n",
       "      <td>21.739707</td>\n",
       "      <td>11.810758</td>\n",
       "    </tr>\n",
       "    <tr>\n",
       "      <th>aloha-plates-seattle</th>\n",
       "      <td>0.387957</td>\n",
       "      <td>22.257418</td>\n",
       "      <td>11.322688</td>\n",
       "    </tr>\n",
       "    <tr>\n",
       "      <th>rolls-n-sushi-seattle</th>\n",
       "      <td>1.932768</td>\n",
       "      <td>20.250382</td>\n",
       "      <td>11.091575</td>\n",
       "    </tr>\n",
       "  </tbody>\n",
       "</table>\n",
       "</div>"
      ],
      "text/plain": [
       "                                  gabe      grant       mean\n",
       "intermezzo-carmine-seattle-2  0.327712  25.385533  12.856622\n",
       "le-pichet-seattle            -0.496189  24.716886  12.110349\n",
       "din-tai-fung-seattle-17       1.881809  21.739707  11.810758\n",
       "aloha-plates-seattle          0.387957  22.257418  11.322688\n",
       "rolls-n-sushi-seattle         1.932768  20.250382  11.091575"
      ]
     },
     "execution_count": 20,
     "metadata": {},
     "output_type": "execute_result"
    }
   ],
   "source": [
    "sort_recs_for_two('gabe', 'grant', recs_database).head()"
   ]
  },
  {
   "cell_type": "code",
   "execution_count": 21,
   "metadata": {},
   "outputs": [
    {
     "data": {
      "text/html": [
       "<div>\n",
       "<style scoped>\n",
       "    .dataframe tbody tr th:only-of-type {\n",
       "        vertical-align: middle;\n",
       "    }\n",
       "\n",
       "    .dataframe tbody tr th {\n",
       "        vertical-align: top;\n",
       "    }\n",
       "\n",
       "    .dataframe thead th {\n",
       "        text-align: right;\n",
       "    }\n",
       "</style>\n",
       "<table border=\"1\" class=\"dataframe\">\n",
       "  <thead>\n",
       "    <tr style=\"text-align: right;\">\n",
       "      <th></th>\n",
       "      <th>gabe</th>\n",
       "      <th>alex</th>\n",
       "      <th>mean</th>\n",
       "    </tr>\n",
       "  </thead>\n",
       "  <tbody>\n",
       "    <tr>\n",
       "      <th>daawat-grill-seattle-2</th>\n",
       "      <td>6.120159</td>\n",
       "      <td>4.986050</td>\n",
       "      <td>5.553104</td>\n",
       "    </tr>\n",
       "    <tr>\n",
       "      <th>georges-sausage-and-delicatessen-seattle</th>\n",
       "      <td>5.267859</td>\n",
       "      <td>4.643186</td>\n",
       "      <td>4.955522</td>\n",
       "    </tr>\n",
       "    <tr>\n",
       "      <th>main-street-gyros-seattle-2</th>\n",
       "      <td>2.145768</td>\n",
       "      <td>7.646054</td>\n",
       "      <td>4.895911</td>\n",
       "    </tr>\n",
       "    <tr>\n",
       "      <th>chan-seattle-seattle-2</th>\n",
       "      <td>4.773890</td>\n",
       "      <td>4.888661</td>\n",
       "      <td>4.831276</td>\n",
       "    </tr>\n",
       "    <tr>\n",
       "      <th>cocoa-banana-seattle</th>\n",
       "      <td>4.508626</td>\n",
       "      <td>4.931584</td>\n",
       "      <td>4.720105</td>\n",
       "    </tr>\n",
       "  </tbody>\n",
       "</table>\n",
       "</div>"
      ],
      "text/plain": [
       "                                              gabe      alex      mean\n",
       "daawat-grill-seattle-2                    6.120159  4.986050  5.553104\n",
       "georges-sausage-and-delicatessen-seattle  5.267859  4.643186  4.955522\n",
       "main-street-gyros-seattle-2               2.145768  7.646054  4.895911\n",
       "chan-seattle-seattle-2                    4.773890  4.888661  4.831276\n",
       "cocoa-banana-seattle                      4.508626  4.931584  4.720105"
      ]
     },
     "execution_count": 21,
     "metadata": {},
     "output_type": "execute_result"
    }
   ],
   "source": [
    "sort_recs_for_two('gabe', 'alex', recs_database).head()"
   ]
  },
  {
   "cell_type": "code",
   "execution_count": 22,
   "metadata": {},
   "outputs": [
    {
     "data": {
      "text/html": [
       "<div>\n",
       "<style scoped>\n",
       "    .dataframe tbody tr th:only-of-type {\n",
       "        vertical-align: middle;\n",
       "    }\n",
       "\n",
       "    .dataframe tbody tr th {\n",
       "        vertical-align: top;\n",
       "    }\n",
       "\n",
       "    .dataframe thead th {\n",
       "        text-align: right;\n",
       "    }\n",
       "</style>\n",
       "<table border=\"1\" class=\"dataframe\">\n",
       "  <thead>\n",
       "    <tr style=\"text-align: right;\">\n",
       "      <th></th>\n",
       "      <th>gabe</th>\n",
       "      <th>jonny</th>\n",
       "      <th>mean</th>\n",
       "    </tr>\n",
       "  </thead>\n",
       "  <tbody>\n",
       "    <tr>\n",
       "      <th>happy-garden-seattle-3</th>\n",
       "      <td>3.497640</td>\n",
       "      <td>6.477037</td>\n",
       "      <td>4.987338</td>\n",
       "    </tr>\n",
       "    <tr>\n",
       "      <th>mae-phim-thai-seattle-4</th>\n",
       "      <td>4.386894</td>\n",
       "      <td>5.273234</td>\n",
       "      <td>4.830064</td>\n",
       "    </tr>\n",
       "    <tr>\n",
       "      <th>kidd-valley-seattle-6</th>\n",
       "      <td>5.157261</td>\n",
       "      <td>4.395158</td>\n",
       "      <td>4.776210</td>\n",
       "    </tr>\n",
       "    <tr>\n",
       "      <th>poke-lover-seattle-10</th>\n",
       "      <td>4.832974</td>\n",
       "      <td>4.500000</td>\n",
       "      <td>4.666487</td>\n",
       "    </tr>\n",
       "    <tr>\n",
       "      <th>delicatus-seattle-3</th>\n",
       "      <td>2.650775</td>\n",
       "      <td>6.618532</td>\n",
       "      <td>4.634654</td>\n",
       "    </tr>\n",
       "  </tbody>\n",
       "</table>\n",
       "</div>"
      ],
      "text/plain": [
       "                             gabe     jonny      mean\n",
       "happy-garden-seattle-3   3.497640  6.477037  4.987338\n",
       "mae-phim-thai-seattle-4  4.386894  5.273234  4.830064\n",
       "kidd-valley-seattle-6    5.157261  4.395158  4.776210\n",
       "poke-lover-seattle-10    4.832974  4.500000  4.666487\n",
       "delicatus-seattle-3      2.650775  6.618532  4.634654"
      ]
     },
     "execution_count": 22,
     "metadata": {},
     "output_type": "execute_result"
    }
   ],
   "source": [
    "sort_recs_for_two('gabe', 'jonny', recs_database).head()"
   ]
  },
  {
   "cell_type": "markdown",
   "metadata": {},
   "source": [
    "## Just give me a rec"
   ]
  },
  {
   "cell_type": "code",
   "execution_count": 24,
   "metadata": {},
   "outputs": [],
   "source": [
    "nicole_and_gabe = sort_recs_for_two('nicole', 'gabe', recs_database).head(50)"
   ]
  },
  {
   "cell_type": "code",
   "execution_count": 84,
   "metadata": {},
   "outputs": [],
   "source": [
    "def get_a_rec(user1, user2, recs_database):\n",
    "    sorted_recs = sort_recs_for_two(user1, user2, recs_database).head(50)\n",
    "    normalized_weights = sorted_recs['mean'] / sorted_recs['mean'].sum()\n",
    "    return sorted_recs.sample(1, weights=(sorted_recs['mean'] / normalized_weights))"
   ]
  },
  {
   "cell_type": "code",
   "execution_count": 85,
   "metadata": {},
   "outputs": [
    {
     "data": {
      "text/html": [
       "<div>\n",
       "<style scoped>\n",
       "    .dataframe tbody tr th:only-of-type {\n",
       "        vertical-align: middle;\n",
       "    }\n",
       "\n",
       "    .dataframe tbody tr th {\n",
       "        vertical-align: top;\n",
       "    }\n",
       "\n",
       "    .dataframe thead th {\n",
       "        text-align: right;\n",
       "    }\n",
       "</style>\n",
       "<table border=\"1\" class=\"dataframe\">\n",
       "  <thead>\n",
       "    <tr style=\"text-align: right;\">\n",
       "      <th></th>\n",
       "      <th>nicole</th>\n",
       "      <th>gabe</th>\n",
       "      <th>mean</th>\n",
       "    </tr>\n",
       "  </thead>\n",
       "  <tbody>\n",
       "    <tr>\n",
       "      <th>georges-sausage-and-delicatessen-seattle</th>\n",
       "      <td>12.769926</td>\n",
       "      <td>5.267859</td>\n",
       "      <td>9.018893</td>\n",
       "    </tr>\n",
       "  </tbody>\n",
       "</table>\n",
       "</div>"
      ],
      "text/plain": [
       "                                             nicole      gabe      mean\n",
       "georges-sausage-and-delicatessen-seattle  12.769926  5.267859  9.018893"
      ]
     },
     "execution_count": 85,
     "metadata": {},
     "output_type": "execute_result"
    }
   ],
   "source": [
    "get_a_rec('nicole', 'gabe', recs_database)"
   ]
  },
  {
   "cell_type": "code",
   "execution_count": 90,
   "metadata": {},
   "outputs": [
    {
     "data": {
      "text/html": [
       "<div>\n",
       "<style scoped>\n",
       "    .dataframe tbody tr th:only-of-type {\n",
       "        vertical-align: middle;\n",
       "    }\n",
       "\n",
       "    .dataframe tbody tr th {\n",
       "        vertical-align: top;\n",
       "    }\n",
       "\n",
       "    .dataframe thead th {\n",
       "        text-align: right;\n",
       "    }\n",
       "</style>\n",
       "<table border=\"1\" class=\"dataframe\">\n",
       "  <thead>\n",
       "    <tr style=\"text-align: right;\">\n",
       "      <th></th>\n",
       "      <th>gabe</th>\n",
       "      <th>lea</th>\n",
       "      <th>mean</th>\n",
       "    </tr>\n",
       "  </thead>\n",
       "  <tbody>\n",
       "    <tr>\n",
       "      <th>mangia-me-seattle-2</th>\n",
       "      <td>2.397617</td>\n",
       "      <td>12.936123</td>\n",
       "      <td>7.66687</td>\n",
       "    </tr>\n",
       "  </tbody>\n",
       "</table>\n",
       "</div>"
      ],
      "text/plain": [
       "                         gabe        lea     mean\n",
       "mangia-me-seattle-2  2.397617  12.936123  7.66687"
      ]
     },
     "execution_count": 90,
     "metadata": {},
     "output_type": "execute_result"
    }
   ],
   "source": [
    "get_a_rec('gabe', 'lea', recs_database)"
   ]
  },
  {
   "cell_type": "markdown",
   "metadata": {
    "collapsed": true
   },
   "source": [
    "# HAVING SOME ISSUES / NEXT STEPS"
   ]
  },
  {
   "cell_type": "markdown",
   "metadata": {},
   "source": [
    "### Issue 1: Why are some users' ranges are so different?  \n",
    "##### At worst, I have a problem in the code.  At best, I just need to standardize.\n",
    "\n",
    "\n",
    "### Issue 2: Are these good recs!??  How would I improve them?\n",
    "##### I have all this other information - the categories of food, the categories of ambience types, could I use these?  \n",
    "\n",
    "### Issue 3: I need a working website, bad."
   ]
  },
  {
   "cell_type": "markdown",
   "metadata": {},
   "source": [
    "### Stretch Goal 1: Create filters \n",
    "\n",
    "### Stretch Goal 2: Figure out how to update my database with REAL reviews (after users go to my recommended restaurants)\n",
    "\n",
    "### Stretch Goal 3: Expand to all of Seattle"
   ]
  },
  {
   "cell_type": "code",
   "execution_count": 72,
   "metadata": {},
   "outputs": [
    {
     "data": {
      "text/plain": [
       "(-17.281448243764615, 17.74951800702868)"
      ]
     },
     "execution_count": 72,
     "metadata": {},
     "output_type": "execute_result"
    }
   ],
   "source": [
    "recs_database.loc['nicole'].min(), recs_database.loc['nicole'].max()"
   ]
  },
  {
   "cell_type": "code",
   "execution_count": 73,
   "metadata": {},
   "outputs": [
    {
     "data": {
      "text/plain": [
       "(-5.0691192390433688, 7.047557579467906)"
      ]
     },
     "execution_count": 73,
     "metadata": {},
     "output_type": "execute_result"
    }
   ],
   "source": [
    "recs_database.loc['gabe'].min(), recs_database.loc['gabe'].max()"
   ]
  },
  {
   "cell_type": "code",
   "execution_count": 74,
   "metadata": {},
   "outputs": [
    {
     "data": {
      "text/plain": [
       "(-18.742116822604082, 25.385532821259282)"
      ]
     },
     "execution_count": 74,
     "metadata": {},
     "output_type": "execute_result"
    }
   ],
   "source": [
    "recs_database.loc['grant'].min(), recs_database.loc['grant'].max()"
   ]
  },
  {
   "cell_type": "code",
   "execution_count": null,
   "metadata": {
    "collapsed": true
   },
   "outputs": [],
   "source": []
  },
  {
   "cell_type": "code",
   "execution_count": null,
   "metadata": {
    "collapsed": true
   },
   "outputs": [],
   "source": []
  },
  {
   "cell_type": "code",
   "execution_count": null,
   "metadata": {
    "collapsed": true
   },
   "outputs": [],
   "source": []
  },
  {
   "cell_type": "markdown",
   "metadata": {},
   "source": [
    "- What is interesting, if anything, about your feature engineering?\n",
    "- Avoid mentioning machine learning or probability when talking about the solution you're developing.  Just say what data you're collecting and what service you're providing.\n"
   ]
  }
 ],
 "metadata": {
  "kernelspec": {
   "display_name": "Python 3",
   "language": "python",
   "name": "python3"
  },
  "language_info": {
   "codemirror_mode": {
    "name": "ipython",
    "version": 3
   },
   "file_extension": ".py",
   "mimetype": "text/x-python",
   "name": "python",
   "nbconvert_exporter": "python",
   "pygments_lexer": "ipython3",
   "version": "3.6.6"
  }
 },
 "nbformat": 4,
 "nbformat_minor": 2
}
